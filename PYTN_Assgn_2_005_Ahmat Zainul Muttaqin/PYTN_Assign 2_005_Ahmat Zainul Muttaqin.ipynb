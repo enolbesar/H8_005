{
 "cells": [
  {
   "cell_type": "markdown",
   "id": "b7362e4e",
   "metadata": {},
   "source": [
    "<img src = \"https://global-uploads.webflow.com/5f0d53c042a9ed6288de7f8d/5f6337ae2cfaa10946ceeb06_Hacktiv8%20logo%20horizontal%2001%20black-p-500.png\" width = 400>"
   ]
  },
  {
   "cell_type": "markdown",
   "id": "067acc07",
   "metadata": {},
   "source": [
    "# Assignment 2"
   ]
  },
  {
   "cell_type": "markdown",
   "id": "d39d208d",
   "metadata": {},
   "source": [
    "by Ahmat Zainul Muttaqin\n",
    "\n",
    "PYTN-KS019\n",
    "\n",
    "Studi Independen - Kampus Merdeka"
   ]
  },
  {
   "cell_type": "markdown",
   "id": "d26d8517",
   "metadata": {},
   "source": [
    "## Project Overview"
   ]
  },
  {
   "cell_type": "markdown",
   "id": "56416c55",
   "metadata": {},
   "source": [
    "Using what you’ve learned; download the NYC Property Sales Dataset from Kaggle. This dataset is a record of every building or building unit (apartment, etc.) sold in the New York City property market over a 12-month period.\n",
    "\n",
    "This dataset contains the location, address, type, sale price, and sale date of building units sold. A reference on the trickier fields:\n",
    "\n",
    "- BOROUGH: A digit code for the borough the property is located in; in order these are Manhattan (1), Bronx (2), Brooklyn (3), Queens (4), and Staten Island (5).\n",
    "- BLOCK; LOT: The combination of borough, block, and lot forms a unique key for property in New York City. Commonly called a BBL.\n",
    "- BUILDING CLASS AT PRESENT and BUILDING CLASS AT TIME OF SALE: The type of building at various points in time.\n",
    "\n",
    "Note that because this is a financial transaction dataset, there are some points that need to be kept in mind:\n",
    "\n",
    "- Many sales occur with a nonsensically small dollar amount: $0 most commonly. These sales are actually transfers of deeds between parties: for example, parents transferring ownership to their home to a child after moving out for retirement.\n",
    "- This dataset uses the financial definition of a building/building unit, for tax purposes. In case a single entity owns the building in question, a sale covers the value of the entire building. In case a building is owned piecemeal by its residents (a condominium), a sale refers to a single apartment (or group of apartments) owned by some individual.\n",
    "\n",
    "Formulate a question and derive a statistical hypothesis test to answer the question. You have to demonstrate that you’re able to make decisions using data in a scientific manner. Examples of questions can be:\n",
    "\n",
    "- Is there a difference in unit sold between property built in 1900-2000 and 2001 so on?\n",
    "- Is there a difference in unit sold based on building category?\n",
    "- What can you discover about New York City real estate by looking at a year's worth of raw transaction records? Can you spot trends in the market?"
   ]
  },
  {
   "cell_type": "markdown",
   "id": "5e927d61",
   "metadata": {},
   "source": [
    "## Data Preparation"
   ]
  },
  {
   "cell_type": "markdown",
   "id": "9a24240c",
   "metadata": {},
   "source": [
    "Before we start, we have to import the libraries that we going to use."
   ]
  },
  {
   "cell_type": "code",
   "execution_count": 3,
   "id": "f56b6142",
   "metadata": {},
   "outputs": [
    {
     "name": "stdout",
     "output_type": "stream",
     "text": [
      "Library sucessfully imported!\n"
     ]
    }
   ],
   "source": [
    "import numpy as np\n",
    "import pandas as pd\n",
    "\n",
    "#---------- For Descriptive Statistics #----------\n",
    "import math\n",
    "import statistics\n",
    "import scipy.stats\n",
    "import matplotlib as mpl\n",
    "import matplotlib.pyplot as plt\n",
    "import seaborn as sns\n",
    "import statsmodels.api as sm\n",
    "\n",
    "print(\"Library sucessfully imported!\")"
   ]
  },
  {
   "cell_type": "markdown",
   "id": "19cf69d5",
   "metadata": {},
   "source": [
    "Dataset is about NYC Property Sales, [Download Here](https://www.kaggle.com/new-york-city/nyc-property-sales)\n",
    "\n",
    "Dataset file must in the same folder with this file to run this code for importing datasets using Pandas."
   ]
  },
  {
   "cell_type": "code",
   "execution_count": 4,
   "id": "7d1662c7",
   "metadata": {},
   "outputs": [
    {
     "name": "stdout",
     "output_type": "stream",
     "text": [
      "Dataset is ready!\n"
     ]
    }
   ],
   "source": [
    "df = pd.read_csv('nyc-rolling-sales.csv')\n",
    "\n",
    "print('Dataset is ready!')"
   ]
  },
  {
   "cell_type": "markdown",
   "id": "2a2f94be",
   "metadata": {},
   "source": [
    "View the top 5 rows of dataset"
   ]
  },
  {
   "cell_type": "code",
   "execution_count": 6,
   "id": "9c6e9687",
   "metadata": {
    "scrolled": true
   },
   "outputs": [
    {
     "data": {
      "text/html": [
       "<div>\n",
       "<style scoped>\n",
       "    .dataframe tbody tr th:only-of-type {\n",
       "        vertical-align: middle;\n",
       "    }\n",
       "\n",
       "    .dataframe tbody tr th {\n",
       "        vertical-align: top;\n",
       "    }\n",
       "\n",
       "    .dataframe thead th {\n",
       "        text-align: right;\n",
       "    }\n",
       "</style>\n",
       "<table border=\"1\" class=\"dataframe\">\n",
       "  <thead>\n",
       "    <tr style=\"text-align: right;\">\n",
       "      <th></th>\n",
       "      <th>Unnamed: 0</th>\n",
       "      <th>BOROUGH</th>\n",
       "      <th>NEIGHBORHOOD</th>\n",
       "      <th>BUILDING CLASS CATEGORY</th>\n",
       "      <th>TAX CLASS AT PRESENT</th>\n",
       "      <th>BLOCK</th>\n",
       "      <th>LOT</th>\n",
       "      <th>EASE-MENT</th>\n",
       "      <th>BUILDING CLASS AT PRESENT</th>\n",
       "      <th>ADDRESS</th>\n",
       "      <th>...</th>\n",
       "      <th>RESIDENTIAL UNITS</th>\n",
       "      <th>COMMERCIAL UNITS</th>\n",
       "      <th>TOTAL UNITS</th>\n",
       "      <th>LAND SQUARE FEET</th>\n",
       "      <th>GROSS SQUARE FEET</th>\n",
       "      <th>YEAR BUILT</th>\n",
       "      <th>TAX CLASS AT TIME OF SALE</th>\n",
       "      <th>BUILDING CLASS AT TIME OF SALE</th>\n",
       "      <th>SALE PRICE</th>\n",
       "      <th>SALE DATE</th>\n",
       "    </tr>\n",
       "  </thead>\n",
       "  <tbody>\n",
       "    <tr>\n",
       "      <th>0</th>\n",
       "      <td>4</td>\n",
       "      <td>1</td>\n",
       "      <td>ALPHABET CITY</td>\n",
       "      <td>07 RENTALS - WALKUP APARTMENTS</td>\n",
       "      <td>2A</td>\n",
       "      <td>392</td>\n",
       "      <td>6</td>\n",
       "      <td></td>\n",
       "      <td>C2</td>\n",
       "      <td>153 AVENUE B</td>\n",
       "      <td>...</td>\n",
       "      <td>5</td>\n",
       "      <td>0</td>\n",
       "      <td>5</td>\n",
       "      <td>1633</td>\n",
       "      <td>6440</td>\n",
       "      <td>1900</td>\n",
       "      <td>2</td>\n",
       "      <td>C2</td>\n",
       "      <td>6625000</td>\n",
       "      <td>2017-07-19 00:00:00</td>\n",
       "    </tr>\n",
       "    <tr>\n",
       "      <th>1</th>\n",
       "      <td>5</td>\n",
       "      <td>1</td>\n",
       "      <td>ALPHABET CITY</td>\n",
       "      <td>07 RENTALS - WALKUP APARTMENTS</td>\n",
       "      <td>2</td>\n",
       "      <td>399</td>\n",
       "      <td>26</td>\n",
       "      <td></td>\n",
       "      <td>C7</td>\n",
       "      <td>234 EAST 4TH   STREET</td>\n",
       "      <td>...</td>\n",
       "      <td>28</td>\n",
       "      <td>3</td>\n",
       "      <td>31</td>\n",
       "      <td>4616</td>\n",
       "      <td>18690</td>\n",
       "      <td>1900</td>\n",
       "      <td>2</td>\n",
       "      <td>C7</td>\n",
       "      <td>-</td>\n",
       "      <td>2016-12-14 00:00:00</td>\n",
       "    </tr>\n",
       "    <tr>\n",
       "      <th>2</th>\n",
       "      <td>6</td>\n",
       "      <td>1</td>\n",
       "      <td>ALPHABET CITY</td>\n",
       "      <td>07 RENTALS - WALKUP APARTMENTS</td>\n",
       "      <td>2</td>\n",
       "      <td>399</td>\n",
       "      <td>39</td>\n",
       "      <td></td>\n",
       "      <td>C7</td>\n",
       "      <td>197 EAST 3RD   STREET</td>\n",
       "      <td>...</td>\n",
       "      <td>16</td>\n",
       "      <td>1</td>\n",
       "      <td>17</td>\n",
       "      <td>2212</td>\n",
       "      <td>7803</td>\n",
       "      <td>1900</td>\n",
       "      <td>2</td>\n",
       "      <td>C7</td>\n",
       "      <td>-</td>\n",
       "      <td>2016-12-09 00:00:00</td>\n",
       "    </tr>\n",
       "    <tr>\n",
       "      <th>3</th>\n",
       "      <td>7</td>\n",
       "      <td>1</td>\n",
       "      <td>ALPHABET CITY</td>\n",
       "      <td>07 RENTALS - WALKUP APARTMENTS</td>\n",
       "      <td>2B</td>\n",
       "      <td>402</td>\n",
       "      <td>21</td>\n",
       "      <td></td>\n",
       "      <td>C4</td>\n",
       "      <td>154 EAST 7TH STREET</td>\n",
       "      <td>...</td>\n",
       "      <td>10</td>\n",
       "      <td>0</td>\n",
       "      <td>10</td>\n",
       "      <td>2272</td>\n",
       "      <td>6794</td>\n",
       "      <td>1913</td>\n",
       "      <td>2</td>\n",
       "      <td>C4</td>\n",
       "      <td>3936272</td>\n",
       "      <td>2016-09-23 00:00:00</td>\n",
       "    </tr>\n",
       "    <tr>\n",
       "      <th>4</th>\n",
       "      <td>8</td>\n",
       "      <td>1</td>\n",
       "      <td>ALPHABET CITY</td>\n",
       "      <td>07 RENTALS - WALKUP APARTMENTS</td>\n",
       "      <td>2A</td>\n",
       "      <td>404</td>\n",
       "      <td>55</td>\n",
       "      <td></td>\n",
       "      <td>C2</td>\n",
       "      <td>301 EAST 10TH   STREET</td>\n",
       "      <td>...</td>\n",
       "      <td>6</td>\n",
       "      <td>0</td>\n",
       "      <td>6</td>\n",
       "      <td>2369</td>\n",
       "      <td>4615</td>\n",
       "      <td>1900</td>\n",
       "      <td>2</td>\n",
       "      <td>C2</td>\n",
       "      <td>8000000</td>\n",
       "      <td>2016-11-17 00:00:00</td>\n",
       "    </tr>\n",
       "  </tbody>\n",
       "</table>\n",
       "<p>5 rows × 22 columns</p>\n",
       "</div>"
      ],
      "text/plain": [
       "   Unnamed: 0  BOROUGH   NEIGHBORHOOD  \\\n",
       "0           4        1  ALPHABET CITY   \n",
       "1           5        1  ALPHABET CITY   \n",
       "2           6        1  ALPHABET CITY   \n",
       "3           7        1  ALPHABET CITY   \n",
       "4           8        1  ALPHABET CITY   \n",
       "\n",
       "                       BUILDING CLASS CATEGORY TAX CLASS AT PRESENT  BLOCK  \\\n",
       "0  07 RENTALS - WALKUP APARTMENTS                                2A    392   \n",
       "1  07 RENTALS - WALKUP APARTMENTS                                 2    399   \n",
       "2  07 RENTALS - WALKUP APARTMENTS                                 2    399   \n",
       "3  07 RENTALS - WALKUP APARTMENTS                                2B    402   \n",
       "4  07 RENTALS - WALKUP APARTMENTS                                2A    404   \n",
       "\n",
       "   LOT EASE-MENT BUILDING CLASS AT PRESENT                 ADDRESS  ...  \\\n",
       "0    6                                  C2            153 AVENUE B  ...   \n",
       "1   26                                  C7   234 EAST 4TH   STREET  ...   \n",
       "2   39                                  C7   197 EAST 3RD   STREET  ...   \n",
       "3   21                                  C4     154 EAST 7TH STREET  ...   \n",
       "4   55                                  C2  301 EAST 10TH   STREET  ...   \n",
       "\n",
       "  RESIDENTIAL UNITS  COMMERCIAL UNITS  TOTAL UNITS  LAND SQUARE FEET  \\\n",
       "0                 5                 0            5              1633   \n",
       "1                28                 3           31              4616   \n",
       "2                16                 1           17              2212   \n",
       "3                10                 0           10              2272   \n",
       "4                 6                 0            6              2369   \n",
       "\n",
       "   GROSS SQUARE FEET YEAR BUILT TAX CLASS AT TIME OF SALE  \\\n",
       "0               6440       1900                         2   \n",
       "1              18690       1900                         2   \n",
       "2               7803       1900                         2   \n",
       "3               6794       1913                         2   \n",
       "4               4615       1900                         2   \n",
       "\n",
       "   BUILDING CLASS AT TIME OF SALE  SALE PRICE            SALE DATE  \n",
       "0                              C2     6625000  2017-07-19 00:00:00  \n",
       "1                              C7         -    2016-12-14 00:00:00  \n",
       "2                              C7         -    2016-12-09 00:00:00  \n",
       "3                              C4     3936272  2016-09-23 00:00:00  \n",
       "4                              C2     8000000  2016-11-17 00:00:00  \n",
       "\n",
       "[5 rows x 22 columns]"
      ]
     },
     "execution_count": 6,
     "metadata": {},
     "output_type": "execute_result"
    }
   ],
   "source": [
    "df.head()"
   ]
  },
  {
   "cell_type": "markdown",
   "id": "7b2f47a4",
   "metadata": {},
   "source": [
    "View the bottom 5 rows of dataset"
   ]
  },
  {
   "cell_type": "code",
   "execution_count": 7,
   "id": "c492ee88",
   "metadata": {
    "scrolled": true
   },
   "outputs": [
    {
     "data": {
      "text/html": [
       "<div>\n",
       "<style scoped>\n",
       "    .dataframe tbody tr th:only-of-type {\n",
       "        vertical-align: middle;\n",
       "    }\n",
       "\n",
       "    .dataframe tbody tr th {\n",
       "        vertical-align: top;\n",
       "    }\n",
       "\n",
       "    .dataframe thead th {\n",
       "        text-align: right;\n",
       "    }\n",
       "</style>\n",
       "<table border=\"1\" class=\"dataframe\">\n",
       "  <thead>\n",
       "    <tr style=\"text-align: right;\">\n",
       "      <th></th>\n",
       "      <th>Unnamed: 0</th>\n",
       "      <th>BOROUGH</th>\n",
       "      <th>NEIGHBORHOOD</th>\n",
       "      <th>BUILDING CLASS CATEGORY</th>\n",
       "      <th>TAX CLASS AT PRESENT</th>\n",
       "      <th>BLOCK</th>\n",
       "      <th>LOT</th>\n",
       "      <th>EASE-MENT</th>\n",
       "      <th>BUILDING CLASS AT PRESENT</th>\n",
       "      <th>ADDRESS</th>\n",
       "      <th>...</th>\n",
       "      <th>RESIDENTIAL UNITS</th>\n",
       "      <th>COMMERCIAL UNITS</th>\n",
       "      <th>TOTAL UNITS</th>\n",
       "      <th>LAND SQUARE FEET</th>\n",
       "      <th>GROSS SQUARE FEET</th>\n",
       "      <th>YEAR BUILT</th>\n",
       "      <th>TAX CLASS AT TIME OF SALE</th>\n",
       "      <th>BUILDING CLASS AT TIME OF SALE</th>\n",
       "      <th>SALE PRICE</th>\n",
       "      <th>SALE DATE</th>\n",
       "    </tr>\n",
       "  </thead>\n",
       "  <tbody>\n",
       "    <tr>\n",
       "      <th>84543</th>\n",
       "      <td>8409</td>\n",
       "      <td>5</td>\n",
       "      <td>WOODROW</td>\n",
       "      <td>02 TWO FAMILY DWELLINGS</td>\n",
       "      <td>1</td>\n",
       "      <td>7349</td>\n",
       "      <td>34</td>\n",
       "      <td></td>\n",
       "      <td>B9</td>\n",
       "      <td>37 QUAIL LANE</td>\n",
       "      <td>...</td>\n",
       "      <td>2</td>\n",
       "      <td>0</td>\n",
       "      <td>2</td>\n",
       "      <td>2400</td>\n",
       "      <td>2575</td>\n",
       "      <td>1998</td>\n",
       "      <td>1</td>\n",
       "      <td>B9</td>\n",
       "      <td>450000</td>\n",
       "      <td>2016-11-28 00:00:00</td>\n",
       "    </tr>\n",
       "    <tr>\n",
       "      <th>84544</th>\n",
       "      <td>8410</td>\n",
       "      <td>5</td>\n",
       "      <td>WOODROW</td>\n",
       "      <td>02 TWO FAMILY DWELLINGS</td>\n",
       "      <td>1</td>\n",
       "      <td>7349</td>\n",
       "      <td>78</td>\n",
       "      <td></td>\n",
       "      <td>B9</td>\n",
       "      <td>32 PHEASANT LANE</td>\n",
       "      <td>...</td>\n",
       "      <td>2</td>\n",
       "      <td>0</td>\n",
       "      <td>2</td>\n",
       "      <td>2498</td>\n",
       "      <td>2377</td>\n",
       "      <td>1998</td>\n",
       "      <td>1</td>\n",
       "      <td>B9</td>\n",
       "      <td>550000</td>\n",
       "      <td>2017-04-21 00:00:00</td>\n",
       "    </tr>\n",
       "    <tr>\n",
       "      <th>84545</th>\n",
       "      <td>8411</td>\n",
       "      <td>5</td>\n",
       "      <td>WOODROW</td>\n",
       "      <td>02 TWO FAMILY DWELLINGS</td>\n",
       "      <td>1</td>\n",
       "      <td>7351</td>\n",
       "      <td>60</td>\n",
       "      <td></td>\n",
       "      <td>B2</td>\n",
       "      <td>49 PITNEY AVENUE</td>\n",
       "      <td>...</td>\n",
       "      <td>2</td>\n",
       "      <td>0</td>\n",
       "      <td>2</td>\n",
       "      <td>4000</td>\n",
       "      <td>1496</td>\n",
       "      <td>1925</td>\n",
       "      <td>1</td>\n",
       "      <td>B2</td>\n",
       "      <td>460000</td>\n",
       "      <td>2017-07-05 00:00:00</td>\n",
       "    </tr>\n",
       "    <tr>\n",
       "      <th>84546</th>\n",
       "      <td>8412</td>\n",
       "      <td>5</td>\n",
       "      <td>WOODROW</td>\n",
       "      <td>22 STORE BUILDINGS</td>\n",
       "      <td>4</td>\n",
       "      <td>7100</td>\n",
       "      <td>28</td>\n",
       "      <td></td>\n",
       "      <td>K6</td>\n",
       "      <td>2730 ARTHUR KILL ROAD</td>\n",
       "      <td>...</td>\n",
       "      <td>0</td>\n",
       "      <td>7</td>\n",
       "      <td>7</td>\n",
       "      <td>208033</td>\n",
       "      <td>64117</td>\n",
       "      <td>2001</td>\n",
       "      <td>4</td>\n",
       "      <td>K6</td>\n",
       "      <td>11693337</td>\n",
       "      <td>2016-12-21 00:00:00</td>\n",
       "    </tr>\n",
       "    <tr>\n",
       "      <th>84547</th>\n",
       "      <td>8413</td>\n",
       "      <td>5</td>\n",
       "      <td>WOODROW</td>\n",
       "      <td>35 INDOOR PUBLIC AND CULTURAL FACILITIES</td>\n",
       "      <td>4</td>\n",
       "      <td>7105</td>\n",
       "      <td>679</td>\n",
       "      <td></td>\n",
       "      <td>P9</td>\n",
       "      <td>155 CLAY PIT ROAD</td>\n",
       "      <td>...</td>\n",
       "      <td>0</td>\n",
       "      <td>1</td>\n",
       "      <td>1</td>\n",
       "      <td>10796</td>\n",
       "      <td>2400</td>\n",
       "      <td>2006</td>\n",
       "      <td>4</td>\n",
       "      <td>P9</td>\n",
       "      <td>69300</td>\n",
       "      <td>2016-10-27 00:00:00</td>\n",
       "    </tr>\n",
       "  </tbody>\n",
       "</table>\n",
       "<p>5 rows × 22 columns</p>\n",
       "</div>"
      ],
      "text/plain": [
       "       Unnamed: 0  BOROUGH NEIGHBORHOOD  \\\n",
       "84543        8409        5      WOODROW   \n",
       "84544        8410        5      WOODROW   \n",
       "84545        8411        5      WOODROW   \n",
       "84546        8412        5      WOODROW   \n",
       "84547        8413        5      WOODROW   \n",
       "\n",
       "                           BUILDING CLASS CATEGORY TAX CLASS AT PRESENT  \\\n",
       "84543  02 TWO FAMILY DWELLINGS                                        1   \n",
       "84544  02 TWO FAMILY DWELLINGS                                        1   \n",
       "84545  02 TWO FAMILY DWELLINGS                                        1   \n",
       "84546  22 STORE BUILDINGS                                             4   \n",
       "84547  35 INDOOR PUBLIC AND CULTURAL FACILITIES                       4   \n",
       "\n",
       "       BLOCK  LOT EASE-MENT BUILDING CLASS AT PRESENT                ADDRESS  \\\n",
       "84543   7349   34                                  B9          37 QUAIL LANE   \n",
       "84544   7349   78                                  B9       32 PHEASANT LANE   \n",
       "84545   7351   60                                  B2       49 PITNEY AVENUE   \n",
       "84546   7100   28                                  K6  2730 ARTHUR KILL ROAD   \n",
       "84547   7105  679                                  P9      155 CLAY PIT ROAD   \n",
       "\n",
       "       ... RESIDENTIAL UNITS  COMMERCIAL UNITS  TOTAL UNITS  LAND SQUARE FEET  \\\n",
       "84543  ...                 2                 0            2              2400   \n",
       "84544  ...                 2                 0            2              2498   \n",
       "84545  ...                 2                 0            2              4000   \n",
       "84546  ...                 0                 7            7            208033   \n",
       "84547  ...                 0                 1            1             10796   \n",
       "\n",
       "       GROSS SQUARE FEET YEAR BUILT TAX CLASS AT TIME OF SALE  \\\n",
       "84543               2575       1998                         1   \n",
       "84544               2377       1998                         1   \n",
       "84545               1496       1925                         1   \n",
       "84546              64117       2001                         4   \n",
       "84547               2400       2006                         4   \n",
       "\n",
       "       BUILDING CLASS AT TIME OF SALE  SALE PRICE            SALE DATE  \n",
       "84543                              B9      450000  2016-11-28 00:00:00  \n",
       "84544                              B9      550000  2017-04-21 00:00:00  \n",
       "84545                              B2      460000  2017-07-05 00:00:00  \n",
       "84546                              K6    11693337  2016-12-21 00:00:00  \n",
       "84547                              P9       69300  2016-10-27 00:00:00  \n",
       "\n",
       "[5 rows x 22 columns]"
      ]
     },
     "execution_count": 7,
     "metadata": {},
     "output_type": "execute_result"
    }
   ],
   "source": [
    "df.tail()"
   ]
  },
  {
   "cell_type": "markdown",
   "id": "51b3f85d",
   "metadata": {},
   "source": [
    "View all columns and data type"
   ]
  },
  {
   "cell_type": "code",
   "execution_count": 3,
   "id": "46fbbc0b",
   "metadata": {
    "scrolled": true
   },
   "outputs": [
    {
     "name": "stdout",
     "output_type": "stream",
     "text": [
      "<class 'pandas.core.frame.DataFrame'>\n",
      "RangeIndex: 84548 entries, 0 to 84547\n",
      "Data columns (total 22 columns):\n",
      " #   Column                          Non-Null Count  Dtype \n",
      "---  ------                          --------------  ----- \n",
      " 0   Unnamed: 0                      84548 non-null  int64 \n",
      " 1   BOROUGH                         84548 non-null  int64 \n",
      " 2   NEIGHBORHOOD                    84548 non-null  object\n",
      " 3   BUILDING CLASS CATEGORY         84548 non-null  object\n",
      " 4   TAX CLASS AT PRESENT            84548 non-null  object\n",
      " 5   BLOCK                           84548 non-null  int64 \n",
      " 6   LOT                             84548 non-null  int64 \n",
      " 7   EASE-MENT                       84548 non-null  object\n",
      " 8   BUILDING CLASS AT PRESENT       84548 non-null  object\n",
      " 9   ADDRESS                         84548 non-null  object\n",
      " 10  APARTMENT NUMBER                84548 non-null  object\n",
      " 11  ZIP CODE                        84548 non-null  int64 \n",
      " 12  RESIDENTIAL UNITS               84548 non-null  int64 \n",
      " 13  COMMERCIAL UNITS                84548 non-null  int64 \n",
      " 14  TOTAL UNITS                     84548 non-null  int64 \n",
      " 15  LAND SQUARE FEET                84548 non-null  object\n",
      " 16  GROSS SQUARE FEET               84548 non-null  object\n",
      " 17  YEAR BUILT                      84548 non-null  int64 \n",
      " 18  TAX CLASS AT TIME OF SALE       84548 non-null  int64 \n",
      " 19  BUILDING CLASS AT TIME OF SALE  84548 non-null  object\n",
      " 20  SALE PRICE                      84548 non-null  object\n",
      " 21  SALE DATE                       84548 non-null  object\n",
      "dtypes: int64(10), object(12)\n",
      "memory usage: 14.2+ MB\n"
     ]
    }
   ],
   "source": [
    "df.info()"
   ]
  },
  {
   "cell_type": "code",
   "execution_count": 4,
   "id": "727c61f2",
   "metadata": {},
   "outputs": [
    {
     "data": {
      "text/plain": [
       "(84548, 22)"
      ]
     },
     "execution_count": 4,
     "metadata": {},
     "output_type": "execute_result"
    }
   ],
   "source": [
    "df.shape"
   ]
  },
  {
   "cell_type": "markdown",
   "id": "cd877600",
   "metadata": {},
   "source": [
    "View header list"
   ]
  },
  {
   "cell_type": "code",
   "execution_count": 8,
   "id": "5d838ae6",
   "metadata": {
    "scrolled": true
   },
   "outputs": [
    {
     "data": {
      "text/plain": [
       "array(['Unnamed: 0', 'BOROUGH', 'NEIGHBORHOOD', 'BUILDING CLASS CATEGORY',\n",
       "       'TAX CLASS AT PRESENT', 'BLOCK', 'LOT', 'EASE-MENT',\n",
       "       'BUILDING CLASS AT PRESENT', 'ADDRESS', 'APARTMENT NUMBER',\n",
       "       'ZIP CODE', 'RESIDENTIAL UNITS', 'COMMERCIAL UNITS', 'TOTAL UNITS',\n",
       "       'LAND SQUARE FEET', 'GROSS SQUARE FEET', 'YEAR BUILT',\n",
       "       'TAX CLASS AT TIME OF SALE', 'BUILDING CLASS AT TIME OF SALE',\n",
       "       'SALE PRICE', 'SALE DATE'], dtype=object)"
      ]
     },
     "execution_count": 8,
     "metadata": {},
     "output_type": "execute_result"
    }
   ],
   "source": [
    "df.columns.values"
   ]
  },
  {
   "cell_type": "markdown",
   "id": "400b5fa2",
   "metadata": {},
   "source": [
    "## Pre-Processing"
   ]
  },
  {
   "cell_type": "markdown",
   "id": "a1f08d34",
   "metadata": {},
   "source": [
    "Next, remove the EASE-MENT and Unnamed: 0 columns because this data is not required and there are no values within those columns. By removing these two columns from the original table, we can obtain accurate results."
   ]
  },
  {
   "cell_type": "code",
   "execution_count": 9,
   "id": "42ac0f65",
   "metadata": {
    "scrolled": true
   },
   "outputs": [
    {
     "data": {
      "text/html": [
       "<div>\n",
       "<style scoped>\n",
       "    .dataframe tbody tr th:only-of-type {\n",
       "        vertical-align: middle;\n",
       "    }\n",
       "\n",
       "    .dataframe tbody tr th {\n",
       "        vertical-align: top;\n",
       "    }\n",
       "\n",
       "    .dataframe thead th {\n",
       "        text-align: right;\n",
       "    }\n",
       "</style>\n",
       "<table border=\"1\" class=\"dataframe\">\n",
       "  <thead>\n",
       "    <tr style=\"text-align: right;\">\n",
       "      <th></th>\n",
       "      <th>BOROUGH</th>\n",
       "      <th>NEIGHBORHOOD</th>\n",
       "      <th>BUILDING CLASS CATEGORY</th>\n",
       "      <th>TAX CLASS AT PRESENT</th>\n",
       "      <th>BLOCK</th>\n",
       "      <th>LOT</th>\n",
       "      <th>BUILDING CLASS AT PRESENT</th>\n",
       "      <th>ADDRESS</th>\n",
       "      <th>APARTMENT NUMBER</th>\n",
       "      <th>ZIP CODE</th>\n",
       "      <th>RESIDENTIAL UNITS</th>\n",
       "      <th>COMMERCIAL UNITS</th>\n",
       "      <th>TOTAL UNITS</th>\n",
       "      <th>LAND SQUARE FEET</th>\n",
       "      <th>GROSS SQUARE FEET</th>\n",
       "      <th>YEAR BUILT</th>\n",
       "      <th>TAX CLASS AT TIME OF SALE</th>\n",
       "      <th>BUILDING CLASS AT TIME OF SALE</th>\n",
       "      <th>SALE PRICE</th>\n",
       "      <th>SALE DATE</th>\n",
       "    </tr>\n",
       "  </thead>\n",
       "  <tbody>\n",
       "    <tr>\n",
       "      <th>0</th>\n",
       "      <td>1</td>\n",
       "      <td>ALPHABET CITY</td>\n",
       "      <td>07 RENTALS - WALKUP APARTMENTS</td>\n",
       "      <td>2A</td>\n",
       "      <td>392</td>\n",
       "      <td>6</td>\n",
       "      <td>C2</td>\n",
       "      <td>153 AVENUE B</td>\n",
       "      <td></td>\n",
       "      <td>10009</td>\n",
       "      <td>5</td>\n",
       "      <td>0</td>\n",
       "      <td>5</td>\n",
       "      <td>1633</td>\n",
       "      <td>6440</td>\n",
       "      <td>1900</td>\n",
       "      <td>2</td>\n",
       "      <td>C2</td>\n",
       "      <td>6625000</td>\n",
       "      <td>2017-07-19 00:00:00</td>\n",
       "    </tr>\n",
       "    <tr>\n",
       "      <th>1</th>\n",
       "      <td>1</td>\n",
       "      <td>ALPHABET CITY</td>\n",
       "      <td>07 RENTALS - WALKUP APARTMENTS</td>\n",
       "      <td>2</td>\n",
       "      <td>399</td>\n",
       "      <td>26</td>\n",
       "      <td>C7</td>\n",
       "      <td>234 EAST 4TH   STREET</td>\n",
       "      <td></td>\n",
       "      <td>10009</td>\n",
       "      <td>28</td>\n",
       "      <td>3</td>\n",
       "      <td>31</td>\n",
       "      <td>4616</td>\n",
       "      <td>18690</td>\n",
       "      <td>1900</td>\n",
       "      <td>2</td>\n",
       "      <td>C7</td>\n",
       "      <td>-</td>\n",
       "      <td>2016-12-14 00:00:00</td>\n",
       "    </tr>\n",
       "    <tr>\n",
       "      <th>2</th>\n",
       "      <td>1</td>\n",
       "      <td>ALPHABET CITY</td>\n",
       "      <td>07 RENTALS - WALKUP APARTMENTS</td>\n",
       "      <td>2</td>\n",
       "      <td>399</td>\n",
       "      <td>39</td>\n",
       "      <td>C7</td>\n",
       "      <td>197 EAST 3RD   STREET</td>\n",
       "      <td></td>\n",
       "      <td>10009</td>\n",
       "      <td>16</td>\n",
       "      <td>1</td>\n",
       "      <td>17</td>\n",
       "      <td>2212</td>\n",
       "      <td>7803</td>\n",
       "      <td>1900</td>\n",
       "      <td>2</td>\n",
       "      <td>C7</td>\n",
       "      <td>-</td>\n",
       "      <td>2016-12-09 00:00:00</td>\n",
       "    </tr>\n",
       "    <tr>\n",
       "      <th>3</th>\n",
       "      <td>1</td>\n",
       "      <td>ALPHABET CITY</td>\n",
       "      <td>07 RENTALS - WALKUP APARTMENTS</td>\n",
       "      <td>2B</td>\n",
       "      <td>402</td>\n",
       "      <td>21</td>\n",
       "      <td>C4</td>\n",
       "      <td>154 EAST 7TH STREET</td>\n",
       "      <td></td>\n",
       "      <td>10009</td>\n",
       "      <td>10</td>\n",
       "      <td>0</td>\n",
       "      <td>10</td>\n",
       "      <td>2272</td>\n",
       "      <td>6794</td>\n",
       "      <td>1913</td>\n",
       "      <td>2</td>\n",
       "      <td>C4</td>\n",
       "      <td>3936272</td>\n",
       "      <td>2016-09-23 00:00:00</td>\n",
       "    </tr>\n",
       "    <tr>\n",
       "      <th>4</th>\n",
       "      <td>1</td>\n",
       "      <td>ALPHABET CITY</td>\n",
       "      <td>07 RENTALS - WALKUP APARTMENTS</td>\n",
       "      <td>2A</td>\n",
       "      <td>404</td>\n",
       "      <td>55</td>\n",
       "      <td>C2</td>\n",
       "      <td>301 EAST 10TH   STREET</td>\n",
       "      <td></td>\n",
       "      <td>10009</td>\n",
       "      <td>6</td>\n",
       "      <td>0</td>\n",
       "      <td>6</td>\n",
       "      <td>2369</td>\n",
       "      <td>4615</td>\n",
       "      <td>1900</td>\n",
       "      <td>2</td>\n",
       "      <td>C2</td>\n",
       "      <td>8000000</td>\n",
       "      <td>2016-11-17 00:00:00</td>\n",
       "    </tr>\n",
       "  </tbody>\n",
       "</table>\n",
       "</div>"
      ],
      "text/plain": [
       "   BOROUGH   NEIGHBORHOOD                      BUILDING CLASS CATEGORY  \\\n",
       "0        1  ALPHABET CITY  07 RENTALS - WALKUP APARTMENTS                \n",
       "1        1  ALPHABET CITY  07 RENTALS - WALKUP APARTMENTS                \n",
       "2        1  ALPHABET CITY  07 RENTALS - WALKUP APARTMENTS                \n",
       "3        1  ALPHABET CITY  07 RENTALS - WALKUP APARTMENTS                \n",
       "4        1  ALPHABET CITY  07 RENTALS - WALKUP APARTMENTS                \n",
       "\n",
       "  TAX CLASS AT PRESENT  BLOCK  LOT BUILDING CLASS AT PRESENT  \\\n",
       "0                   2A    392    6                        C2   \n",
       "1                    2    399   26                        C7   \n",
       "2                    2    399   39                        C7   \n",
       "3                   2B    402   21                        C4   \n",
       "4                   2A    404   55                        C2   \n",
       "\n",
       "                  ADDRESS APARTMENT NUMBER  ZIP CODE  RESIDENTIAL UNITS  \\\n",
       "0            153 AVENUE B                      10009                  5   \n",
       "1   234 EAST 4TH   STREET                      10009                 28   \n",
       "2   197 EAST 3RD   STREET                      10009                 16   \n",
       "3     154 EAST 7TH STREET                      10009                 10   \n",
       "4  301 EAST 10TH   STREET                      10009                  6   \n",
       "\n",
       "   COMMERCIAL UNITS  TOTAL UNITS LAND SQUARE FEET GROSS SQUARE FEET  \\\n",
       "0                 0            5             1633              6440   \n",
       "1                 3           31             4616             18690   \n",
       "2                 1           17             2212              7803   \n",
       "3                 0           10             2272              6794   \n",
       "4                 0            6             2369              4615   \n",
       "\n",
       "   YEAR BUILT  TAX CLASS AT TIME OF SALE BUILDING CLASS AT TIME OF SALE  \\\n",
       "0        1900                          2                             C2   \n",
       "1        1900                          2                             C7   \n",
       "2        1900                          2                             C7   \n",
       "3        1913                          2                             C4   \n",
       "4        1900                          2                             C2   \n",
       "\n",
       "  SALE PRICE            SALE DATE  \n",
       "0    6625000  2017-07-19 00:00:00  \n",
       "1        -    2016-12-14 00:00:00  \n",
       "2        -    2016-12-09 00:00:00  \n",
       "3    3936272  2016-09-23 00:00:00  \n",
       "4    8000000  2016-11-17 00:00:00  "
      ]
     },
     "execution_count": 9,
     "metadata": {},
     "output_type": "execute_result"
    }
   ],
   "source": [
    "# Remove the EASE-MENT and Unnamed: 0 columns as they are not very necessary\n",
    "df_no_east = df.drop([\"Unnamed: 0\", \"EASE-MENT\"], axis=1)\n",
    "\n",
    "# Check the Data\n",
    "df_no_east.head(5)"
   ]
  },
  {
   "cell_type": "markdown",
   "id": "f31f7d9a",
   "metadata": {},
   "source": [
    "Viewing information about the data in the DataFrame."
   ]
  },
  {
   "cell_type": "code",
   "execution_count": 6,
   "id": "bd2906ff",
   "metadata": {},
   "outputs": [
    {
     "name": "stdout",
     "output_type": "stream",
     "text": [
      "<class 'pandas.core.frame.DataFrame'>\n",
      "RangeIndex: 84548 entries, 0 to 84547\n",
      "Data columns (total 20 columns):\n",
      " #   Column                          Non-Null Count  Dtype \n",
      "---  ------                          --------------  ----- \n",
      " 0   BOROUGH                         84548 non-null  int64 \n",
      " 1   NEIGHBORHOOD                    84548 non-null  object\n",
      " 2   BUILDING CLASS CATEGORY         84548 non-null  object\n",
      " 3   TAX CLASS AT PRESENT            84548 non-null  object\n",
      " 4   BLOCK                           84548 non-null  int64 \n",
      " 5   LOT                             84548 non-null  int64 \n",
      " 6   BUILDING CLASS AT PRESENT       84548 non-null  object\n",
      " 7   ADDRESS                         84548 non-null  object\n",
      " 8   APARTMENT NUMBER                84548 non-null  object\n",
      " 9   ZIP CODE                        84548 non-null  int64 \n",
      " 10  RESIDENTIAL UNITS               84548 non-null  int64 \n",
      " 11  COMMERCIAL UNITS                84548 non-null  int64 \n",
      " 12  TOTAL UNITS                     84548 non-null  int64 \n",
      " 13  LAND SQUARE FEET                84548 non-null  object\n",
      " 14  GROSS SQUARE FEET               84548 non-null  object\n",
      " 15  YEAR BUILT                      84548 non-null  int64 \n",
      " 16  TAX CLASS AT TIME OF SALE       84548 non-null  int64 \n",
      " 17  BUILDING CLASS AT TIME OF SALE  84548 non-null  object\n",
      " 18  SALE PRICE                      84548 non-null  object\n",
      " 19  SALE DATE                       84548 non-null  object\n",
      "dtypes: int64(9), object(11)\n",
      "memory usage: 12.9+ MB\n"
     ]
    }
   ],
   "source": [
    "df_no_east.info()"
   ]
  },
  {
   "cell_type": "markdown",
   "id": "d4be7c55",
   "metadata": {},
   "source": [
    "Checking the data type of each column to facilitate grouping columns with the same data type, which aims to simplify the data processing."
   ]
  },
  {
   "cell_type": "code",
   "execution_count": 10,
   "id": "6ba14dec",
   "metadata": {},
   "outputs": [],
   "source": [
    "# Mengelompokan data dengan type data object\n",
    "data_cat_obj = [\n",
    "    \"NEIGHBORHOOD\", \n",
    "    \"BUILDING CLASS CATEGORY\", \n",
    "    \"TAX CLASS AT PRESENT\",\n",
    "    \"BLOCK\",\n",
    "    \"LOT\",\n",
    "    \"BUILDING CLASS AT PRESENT\",\n",
    "    \"ADDRESS\",\n",
    "    \"APARTMENT NUMBER\",\n",
    "    \"BUILDING CLASS AT TIME OF SALE\",\n",
    "    \"SALE DATE\"\n",
    "]\n",
    "for data_group in data_cat_obj:\n",
    "    df_no_east[data_group] = df_no_east[data_group].astype('category')\n",
    "\n",
    "# Mengelompokan data dengan type data integer dan mengubahnya ke numeric\n",
    "data_cat_int = [\n",
    "    \"BOROUGH\",\n",
    "    \"SALE PRICE\",\n",
    "    \"LAND SQUARE FEET\",\n",
    "    \"GROSS SQUARE FEET\",\n",
    "    \n",
    "]\n",
    "for data_group in data_cat_int:\n",
    "    df_no_east[data_group] = pd.to_numeric(df_no_east[data_group], errors='coerce')\n",
    "\n",
    "# Mengubah type data SALE DATE dari Object menjadi Date\n",
    "df_no_east[\"SALE DATE\"] = pd.to_datetime(df_no_east[\"SALE DATE\"])"
   ]
  },
  {
   "cell_type": "markdown",
   "id": "35d48d7d",
   "metadata": {},
   "source": [
    "<b>Note</b>\n",
    "\n",
    "To avoid errors that may occur in the \"SALE PRICE\" column, especially when it contains the value \"(-),\" you can handle it by adding the parameter \"errors='coerce'.\" With this parameter, any invalid values will be converted to NaN (Not a Number).\n",
    "\n",
    "<b>More Information</b>\n",
    "\n",
    "Parameters:\n",
    "- <b>arg:</b> scalar, list, tuple, 1-d array, or Series\n",
    "  - Argument to be converted.\n",
    "\n",
    "- <b>errors:</b> {'ignore', 'raise', 'coerce'}, default 'raise'\n",
    "  - If 'raise,' invalid parsing will raise an exception.\n",
    "  - If 'coerce,' invalid parsing will be set as NaN.\n",
    "  - If 'ignore,' invalid parsing will return the input."
   ]
  },
  {
   "cell_type": "markdown",
   "id": "051ae312",
   "metadata": {},
   "source": [
    "Next, let's check the number of data entries that have null (missing) values."
   ]
  },
  {
   "cell_type": "code",
   "execution_count": 11,
   "id": "49ff8de3",
   "metadata": {},
   "outputs": [
    {
     "data": {
      "text/plain": [
       "BOROUGH                               0\n",
       "NEIGHBORHOOD                          0\n",
       "BUILDING CLASS CATEGORY               0\n",
       "TAX CLASS AT PRESENT                  0\n",
       "BLOCK                                 0\n",
       "LOT                                   0\n",
       "BUILDING CLASS AT PRESENT             0\n",
       "ADDRESS                               0\n",
       "APARTMENT NUMBER                      0\n",
       "ZIP CODE                              0\n",
       "RESIDENTIAL UNITS                     0\n",
       "COMMERCIAL UNITS                      0\n",
       "TOTAL UNITS                           0\n",
       "LAND SQUARE FEET                  26252\n",
       "GROSS SQUARE FEET                 27612\n",
       "YEAR BUILT                            0\n",
       "TAX CLASS AT TIME OF SALE             0\n",
       "BUILDING CLASS AT TIME OF SALE        0\n",
       "SALE PRICE                        14561\n",
       "SALE DATE                             0\n",
       "dtype: int64"
      ]
     },
     "execution_count": 11,
     "metadata": {},
     "output_type": "execute_result"
    }
   ],
   "source": [
    "df_no_east.isnull().sum()"
   ]
  },
  {
   "cell_type": "markdown",
   "id": "02cf2f7d",
   "metadata": {},
   "source": [
    "From the check, we found null values in the \"LAND SQUARE FEET\" column, with 26,252 missing values, the \"GROSS SQUARE FEET\" column with 27,612 missing values, and the \"SALE PRICE\" column with 14,561 missing values.\n",
    "\n",
    "With this many missing values, we can replace the null values with the mean (average) value of each respective column to ensure the accuracy of the resulting data."
   ]
  },
  {
   "cell_type": "code",
   "execution_count": 13,
   "id": "fd26fc04",
   "metadata": {},
   "outputs": [],
   "source": [
    "df_no_east['LAND SQUARE FEET'].fillna(df_no_east['LAND SQUARE FEET'].mean(), inplace=True)\n",
    "df_no_east['GROSS SQUARE FEET'].fillna(df_no_east['GROSS SQUARE FEET'].mean(), inplace=True)\n",
    "df_no_east['SALE PRICE'].fillna(df_no_east['SALE PRICE'].mean(), inplace=True)"
   ]
  },
  {
   "cell_type": "markdown",
   "id": "6b26e159",
   "metadata": {},
   "source": [
    "We are counting the number of null values in the columns 'LAND SQUARE FEET', 'GROSS SQUARE FEET', and 'SALE PRICE' to see how many missing values are in each column."
   ]
  },
  {
   "cell_type": "code",
   "execution_count": 14,
   "id": "85ba8d63",
   "metadata": {},
   "outputs": [
    {
     "data": {
      "text/plain": [
       "LAND SQUARE FEET     0\n",
       "GROSS SQUARE FEET    0\n",
       "SALE PRICE           0\n",
       "dtype: int64"
      ]
     },
     "execution_count": 14,
     "metadata": {},
     "output_type": "execute_result"
    }
   ],
   "source": [
    "df_no_east[['LAND SQUARE FEET', 'GROSS SQUARE FEET', 'SALE PRICE']].isnull().sum()"
   ]
  },
  {
   "cell_type": "markdown",
   "id": "90b17c07",
   "metadata": {},
   "source": [
    "<b>Explanation<b>\n",
    "    \n",
    "By filling in the null values with the mean of each column, we have successfully replaced the missing values in the columns 'LAND SQUARE FEET', 'GROSS SQUARE FEET', and 'SALE PRICE'. As a result, there are now 0 null values in these columns."
   ]
  },
  {
   "cell_type": "markdown",
   "id": "eb6d1b0c",
   "metadata": {},
   "source": [
    "Displaying the First 5 Rows"
   ]
  },
  {
   "cell_type": "code",
   "execution_count": 15,
   "id": "a5ddd1ac",
   "metadata": {
    "scrolled": true
   },
   "outputs": [
    {
     "data": {
      "text/html": [
       "<div>\n",
       "<style scoped>\n",
       "    .dataframe tbody tr th:only-of-type {\n",
       "        vertical-align: middle;\n",
       "    }\n",
       "\n",
       "    .dataframe tbody tr th {\n",
       "        vertical-align: top;\n",
       "    }\n",
       "\n",
       "    .dataframe thead th {\n",
       "        text-align: right;\n",
       "    }\n",
       "</style>\n",
       "<table border=\"1\" class=\"dataframe\">\n",
       "  <thead>\n",
       "    <tr style=\"text-align: right;\">\n",
       "      <th></th>\n",
       "      <th>BOROUGH</th>\n",
       "      <th>NEIGHBORHOOD</th>\n",
       "      <th>BUILDING CLASS CATEGORY</th>\n",
       "      <th>TAX CLASS AT PRESENT</th>\n",
       "      <th>BLOCK</th>\n",
       "      <th>LOT</th>\n",
       "      <th>BUILDING CLASS AT PRESENT</th>\n",
       "      <th>ADDRESS</th>\n",
       "      <th>APARTMENT NUMBER</th>\n",
       "      <th>ZIP CODE</th>\n",
       "      <th>RESIDENTIAL UNITS</th>\n",
       "      <th>COMMERCIAL UNITS</th>\n",
       "      <th>TOTAL UNITS</th>\n",
       "      <th>LAND SQUARE FEET</th>\n",
       "      <th>GROSS SQUARE FEET</th>\n",
       "      <th>YEAR BUILT</th>\n",
       "      <th>TAX CLASS AT TIME OF SALE</th>\n",
       "      <th>BUILDING CLASS AT TIME OF SALE</th>\n",
       "      <th>SALE PRICE</th>\n",
       "      <th>SALE DATE</th>\n",
       "    </tr>\n",
       "  </thead>\n",
       "  <tbody>\n",
       "    <tr>\n",
       "      <th>0</th>\n",
       "      <td>1</td>\n",
       "      <td>ALPHABET CITY</td>\n",
       "      <td>07 RENTALS - WALKUP APARTMENTS</td>\n",
       "      <td>2A</td>\n",
       "      <td>392</td>\n",
       "      <td>6</td>\n",
       "      <td>C2</td>\n",
       "      <td>153 AVENUE B</td>\n",
       "      <td></td>\n",
       "      <td>10009</td>\n",
       "      <td>5</td>\n",
       "      <td>0</td>\n",
       "      <td>5</td>\n",
       "      <td>1633.0</td>\n",
       "      <td>6440.0</td>\n",
       "      <td>1900</td>\n",
       "      <td>2</td>\n",
       "      <td>C2</td>\n",
       "      <td>6.625000e+06</td>\n",
       "      <td>2017-07-19</td>\n",
       "    </tr>\n",
       "    <tr>\n",
       "      <th>1</th>\n",
       "      <td>1</td>\n",
       "      <td>ALPHABET CITY</td>\n",
       "      <td>07 RENTALS - WALKUP APARTMENTS</td>\n",
       "      <td>2</td>\n",
       "      <td>399</td>\n",
       "      <td>26</td>\n",
       "      <td>C7</td>\n",
       "      <td>234 EAST 4TH   STREET</td>\n",
       "      <td></td>\n",
       "      <td>10009</td>\n",
       "      <td>28</td>\n",
       "      <td>3</td>\n",
       "      <td>31</td>\n",
       "      <td>4616.0</td>\n",
       "      <td>18690.0</td>\n",
       "      <td>1900</td>\n",
       "      <td>2</td>\n",
       "      <td>C7</td>\n",
       "      <td>1.276456e+06</td>\n",
       "      <td>2016-12-14</td>\n",
       "    </tr>\n",
       "    <tr>\n",
       "      <th>2</th>\n",
       "      <td>1</td>\n",
       "      <td>ALPHABET CITY</td>\n",
       "      <td>07 RENTALS - WALKUP APARTMENTS</td>\n",
       "      <td>2</td>\n",
       "      <td>399</td>\n",
       "      <td>39</td>\n",
       "      <td>C7</td>\n",
       "      <td>197 EAST 3RD   STREET</td>\n",
       "      <td></td>\n",
       "      <td>10009</td>\n",
       "      <td>16</td>\n",
       "      <td>1</td>\n",
       "      <td>17</td>\n",
       "      <td>2212.0</td>\n",
       "      <td>7803.0</td>\n",
       "      <td>1900</td>\n",
       "      <td>2</td>\n",
       "      <td>C7</td>\n",
       "      <td>1.276456e+06</td>\n",
       "      <td>2016-12-09</td>\n",
       "    </tr>\n",
       "    <tr>\n",
       "      <th>3</th>\n",
       "      <td>1</td>\n",
       "      <td>ALPHABET CITY</td>\n",
       "      <td>07 RENTALS - WALKUP APARTMENTS</td>\n",
       "      <td>2B</td>\n",
       "      <td>402</td>\n",
       "      <td>21</td>\n",
       "      <td>C4</td>\n",
       "      <td>154 EAST 7TH STREET</td>\n",
       "      <td></td>\n",
       "      <td>10009</td>\n",
       "      <td>10</td>\n",
       "      <td>0</td>\n",
       "      <td>10</td>\n",
       "      <td>2272.0</td>\n",
       "      <td>6794.0</td>\n",
       "      <td>1913</td>\n",
       "      <td>2</td>\n",
       "      <td>C4</td>\n",
       "      <td>3.936272e+06</td>\n",
       "      <td>2016-09-23</td>\n",
       "    </tr>\n",
       "    <tr>\n",
       "      <th>4</th>\n",
       "      <td>1</td>\n",
       "      <td>ALPHABET CITY</td>\n",
       "      <td>07 RENTALS - WALKUP APARTMENTS</td>\n",
       "      <td>2A</td>\n",
       "      <td>404</td>\n",
       "      <td>55</td>\n",
       "      <td>C2</td>\n",
       "      <td>301 EAST 10TH   STREET</td>\n",
       "      <td></td>\n",
       "      <td>10009</td>\n",
       "      <td>6</td>\n",
       "      <td>0</td>\n",
       "      <td>6</td>\n",
       "      <td>2369.0</td>\n",
       "      <td>4615.0</td>\n",
       "      <td>1900</td>\n",
       "      <td>2</td>\n",
       "      <td>C2</td>\n",
       "      <td>8.000000e+06</td>\n",
       "      <td>2016-11-17</td>\n",
       "    </tr>\n",
       "  </tbody>\n",
       "</table>\n",
       "</div>"
      ],
      "text/plain": [
       "   BOROUGH   NEIGHBORHOOD                      BUILDING CLASS CATEGORY  \\\n",
       "0        1  ALPHABET CITY  07 RENTALS - WALKUP APARTMENTS                \n",
       "1        1  ALPHABET CITY  07 RENTALS - WALKUP APARTMENTS                \n",
       "2        1  ALPHABET CITY  07 RENTALS - WALKUP APARTMENTS                \n",
       "3        1  ALPHABET CITY  07 RENTALS - WALKUP APARTMENTS                \n",
       "4        1  ALPHABET CITY  07 RENTALS - WALKUP APARTMENTS                \n",
       "\n",
       "  TAX CLASS AT PRESENT BLOCK LOT BUILDING CLASS AT PRESENT  \\\n",
       "0                   2A   392   6                        C2   \n",
       "1                    2   399  26                        C7   \n",
       "2                    2   399  39                        C7   \n",
       "3                   2B   402  21                        C4   \n",
       "4                   2A   404  55                        C2   \n",
       "\n",
       "                  ADDRESS APARTMENT NUMBER  ZIP CODE  RESIDENTIAL UNITS  \\\n",
       "0            153 AVENUE B                      10009                  5   \n",
       "1   234 EAST 4TH   STREET                      10009                 28   \n",
       "2   197 EAST 3RD   STREET                      10009                 16   \n",
       "3     154 EAST 7TH STREET                      10009                 10   \n",
       "4  301 EAST 10TH   STREET                      10009                  6   \n",
       "\n",
       "   COMMERCIAL UNITS  TOTAL UNITS  LAND SQUARE FEET  GROSS SQUARE FEET  \\\n",
       "0                 0            5            1633.0             6440.0   \n",
       "1                 3           31            4616.0            18690.0   \n",
       "2                 1           17            2212.0             7803.0   \n",
       "3                 0           10            2272.0             6794.0   \n",
       "4                 0            6            2369.0             4615.0   \n",
       "\n",
       "   YEAR BUILT  TAX CLASS AT TIME OF SALE BUILDING CLASS AT TIME OF SALE  \\\n",
       "0        1900                          2                             C2   \n",
       "1        1900                          2                             C7   \n",
       "2        1900                          2                             C7   \n",
       "3        1913                          2                             C4   \n",
       "4        1900                          2                             C2   \n",
       "\n",
       "     SALE PRICE  SALE DATE  \n",
       "0  6.625000e+06 2017-07-19  \n",
       "1  1.276456e+06 2016-12-14  \n",
       "2  1.276456e+06 2016-12-09  \n",
       "3  3.936272e+06 2016-09-23  \n",
       "4  8.000000e+06 2016-11-17  "
      ]
     },
     "execution_count": 15,
     "metadata": {},
     "output_type": "execute_result"
    }
   ],
   "source": [
    "df_no_east.head()"
   ]
  },
  {
   "cell_type": "markdown",
   "id": "c1b73417",
   "metadata": {},
   "source": [
    "Count of Residential Units"
   ]
  },
  {
   "cell_type": "code",
   "execution_count": 13,
   "id": "534216b1",
   "metadata": {},
   "outputs": [
    {
     "data": {
      "text/plain": [
       "RESIDENTIAL UNITS\n",
       "1      34722\n",
       "0      24783\n",
       "2      16049\n",
       "3       4608\n",
       "4       1346\n",
       "       ...  \n",
       "179        1\n",
       "75         1\n",
       "193        1\n",
       "153        1\n",
       "128        1\n",
       "Name: count, Length: 176, dtype: int64"
      ]
     },
     "execution_count": 13,
     "metadata": {},
     "output_type": "execute_result"
    }
   ],
   "source": [
    "df_no_east['RESIDENTIAL UNITS'].value_counts()"
   ]
  },
  {
   "cell_type": "markdown",
   "id": "fd0c412d",
   "metadata": {},
   "source": [
    "Data exploration"
   ]
  },
  {
   "cell_type": "code",
   "execution_count": 16,
   "id": "3d337f50",
   "metadata": {
    "scrolled": true
   },
   "outputs": [
    {
     "data": {
      "text/html": [
       "<div>\n",
       "<style scoped>\n",
       "    .dataframe tbody tr th:only-of-type {\n",
       "        vertical-align: middle;\n",
       "    }\n",
       "\n",
       "    .dataframe tbody tr th {\n",
       "        vertical-align: top;\n",
       "    }\n",
       "\n",
       "    .dataframe thead th {\n",
       "        text-align: right;\n",
       "    }\n",
       "</style>\n",
       "<table border=\"1\" class=\"dataframe\">\n",
       "  <thead>\n",
       "    <tr style=\"text-align: right;\">\n",
       "      <th></th>\n",
       "      <th>BOROUGH</th>\n",
       "      <th>ZIP CODE</th>\n",
       "      <th>RESIDENTIAL UNITS</th>\n",
       "      <th>COMMERCIAL UNITS</th>\n",
       "      <th>TOTAL UNITS</th>\n",
       "      <th>LAND SQUARE FEET</th>\n",
       "      <th>GROSS SQUARE FEET</th>\n",
       "      <th>YEAR BUILT</th>\n",
       "      <th>TAX CLASS AT TIME OF SALE</th>\n",
       "      <th>SALE PRICE</th>\n",
       "    </tr>\n",
       "  </thead>\n",
       "  <tbody>\n",
       "    <tr>\n",
       "      <th>count</th>\n",
       "      <td>79429.000000</td>\n",
       "      <td>79429.000000</td>\n",
       "      <td>79429.000000</td>\n",
       "      <td>79429.0</td>\n",
       "      <td>79429.000000</td>\n",
       "      <td>7.942900e+04</td>\n",
       "      <td>7.942900e+04</td>\n",
       "      <td>79429.000000</td>\n",
       "      <td>79429.000000</td>\n",
       "      <td>7.942900e+04</td>\n",
       "    </tr>\n",
       "    <tr>\n",
       "      <th>mean</th>\n",
       "      <td>3.004797</td>\n",
       "      <td>10721.690503</td>\n",
       "      <td>1.717257</td>\n",
       "      <td>0.0</td>\n",
       "      <td>1.750217</td>\n",
       "      <td>3.423023e+03</td>\n",
       "      <td>2.964567e+03</td>\n",
       "      <td>1780.395787</td>\n",
       "      <td>1.584258</td>\n",
       "      <td>1.040170e+06</td>\n",
       "    </tr>\n",
       "    <tr>\n",
       "      <th>std</th>\n",
       "      <td>1.299437</td>\n",
       "      <td>1320.121756</td>\n",
       "      <td>10.146362</td>\n",
       "      <td>0.0</td>\n",
       "      <td>10.142353</td>\n",
       "      <td>2.394616e+04</td>\n",
       "      <td>9.865621e+03</td>\n",
       "      <td>551.999810</td>\n",
       "      <td>0.720488</td>\n",
       "      <td>3.028813e+06</td>\n",
       "    </tr>\n",
       "    <tr>\n",
       "      <th>min</th>\n",
       "      <td>1.000000</td>\n",
       "      <td>0.000000</td>\n",
       "      <td>0.000000</td>\n",
       "      <td>0.0</td>\n",
       "      <td>0.000000</td>\n",
       "      <td>0.000000e+00</td>\n",
       "      <td>0.000000e+00</td>\n",
       "      <td>0.000000</td>\n",
       "      <td>1.000000</td>\n",
       "      <td>0.000000e+00</td>\n",
       "    </tr>\n",
       "    <tr>\n",
       "      <th>25%</th>\n",
       "      <td>2.000000</td>\n",
       "      <td>10304.000000</td>\n",
       "      <td>0.000000</td>\n",
       "      <td>0.0</td>\n",
       "      <td>1.000000</td>\n",
       "      <td>2.000000e+03</td>\n",
       "      <td>1.312000e+03</td>\n",
       "      <td>1920.000000</td>\n",
       "      <td>1.000000</td>\n",
       "      <td>3.000000e+05</td>\n",
       "    </tr>\n",
       "    <tr>\n",
       "      <th>50%</th>\n",
       "      <td>3.000000</td>\n",
       "      <td>11209.000000</td>\n",
       "      <td>1.000000</td>\n",
       "      <td>0.0</td>\n",
       "      <td>1.000000</td>\n",
       "      <td>3.263000e+03</td>\n",
       "      <td>2.400000e+03</td>\n",
       "      <td>1940.000000</td>\n",
       "      <td>1.000000</td>\n",
       "      <td>6.550000e+05</td>\n",
       "    </tr>\n",
       "    <tr>\n",
       "      <th>75%</th>\n",
       "      <td>4.000000</td>\n",
       "      <td>11357.000000</td>\n",
       "      <td>2.000000</td>\n",
       "      <td>0.0</td>\n",
       "      <td>2.000000</td>\n",
       "      <td>3.941676e+03</td>\n",
       "      <td>4.045707e+03</td>\n",
       "      <td>1967.000000</td>\n",
       "      <td>2.000000</td>\n",
       "      <td>1.276456e+06</td>\n",
       "    </tr>\n",
       "    <tr>\n",
       "      <th>max</th>\n",
       "      <td>5.000000</td>\n",
       "      <td>11694.000000</td>\n",
       "      <td>889.000000</td>\n",
       "      <td>0.0</td>\n",
       "      <td>889.000000</td>\n",
       "      <td>4.252327e+06</td>\n",
       "      <td>1.378125e+06</td>\n",
       "      <td>2017.000000</td>\n",
       "      <td>4.000000</td>\n",
       "      <td>3.450000e+08</td>\n",
       "    </tr>\n",
       "  </tbody>\n",
       "</table>\n",
       "</div>"
      ],
      "text/plain": [
       "            BOROUGH      ZIP CODE  RESIDENTIAL UNITS  COMMERCIAL UNITS  \\\n",
       "count  79429.000000  79429.000000       79429.000000           79429.0   \n",
       "mean       3.004797  10721.690503           1.717257               0.0   \n",
       "std        1.299437   1320.121756          10.146362               0.0   \n",
       "min        1.000000      0.000000           0.000000               0.0   \n",
       "25%        2.000000  10304.000000           0.000000               0.0   \n",
       "50%        3.000000  11209.000000           1.000000               0.0   \n",
       "75%        4.000000  11357.000000           2.000000               0.0   \n",
       "max        5.000000  11694.000000         889.000000               0.0   \n",
       "\n",
       "        TOTAL UNITS  LAND SQUARE FEET  GROSS SQUARE FEET    YEAR BUILT  \\\n",
       "count  79429.000000      7.942900e+04       7.942900e+04  79429.000000   \n",
       "mean       1.750217      3.423023e+03       2.964567e+03   1780.395787   \n",
       "std       10.142353      2.394616e+04       9.865621e+03    551.999810   \n",
       "min        0.000000      0.000000e+00       0.000000e+00      0.000000   \n",
       "25%        1.000000      2.000000e+03       1.312000e+03   1920.000000   \n",
       "50%        1.000000      3.263000e+03       2.400000e+03   1940.000000   \n",
       "75%        2.000000      3.941676e+03       4.045707e+03   1967.000000   \n",
       "max      889.000000      4.252327e+06       1.378125e+06   2017.000000   \n",
       "\n",
       "       TAX CLASS AT TIME OF SALE    SALE PRICE  \n",
       "count               79429.000000  7.942900e+04  \n",
       "mean                    1.584258  1.040170e+06  \n",
       "std                     0.720488  3.028813e+06  \n",
       "min                     1.000000  0.000000e+00  \n",
       "25%                     1.000000  3.000000e+05  \n",
       "50%                     1.000000  6.550000e+05  \n",
       "75%                     2.000000  1.276456e+06  \n",
       "max                     4.000000  3.450000e+08  "
      ]
     },
     "execution_count": 16,
     "metadata": {},
     "output_type": "execute_result"
    }
   ],
   "source": [
    "df_no_east[df_no_east['COMMERCIAL UNITS']==0].describe()"
   ]
  },
  {
   "cell_type": "markdown",
   "id": "473de132",
   "metadata": {},
   "source": [
    "Data Exploration for Residential Units Equal to 0"
   ]
  },
  {
   "cell_type": "code",
   "execution_count": 17,
   "id": "cb9732dc",
   "metadata": {
    "scrolled": true
   },
   "outputs": [
    {
     "data": {
      "text/html": [
       "<div>\n",
       "<style scoped>\n",
       "    .dataframe tbody tr th:only-of-type {\n",
       "        vertical-align: middle;\n",
       "    }\n",
       "\n",
       "    .dataframe tbody tr th {\n",
       "        vertical-align: top;\n",
       "    }\n",
       "\n",
       "    .dataframe thead th {\n",
       "        text-align: right;\n",
       "    }\n",
       "</style>\n",
       "<table border=\"1\" class=\"dataframe\">\n",
       "  <thead>\n",
       "    <tr style=\"text-align: right;\">\n",
       "      <th></th>\n",
       "      <th>BOROUGH</th>\n",
       "      <th>ZIP CODE</th>\n",
       "      <th>RESIDENTIAL UNITS</th>\n",
       "      <th>COMMERCIAL UNITS</th>\n",
       "      <th>TOTAL UNITS</th>\n",
       "      <th>LAND SQUARE FEET</th>\n",
       "      <th>GROSS SQUARE FEET</th>\n",
       "      <th>YEAR BUILT</th>\n",
       "      <th>TAX CLASS AT TIME OF SALE</th>\n",
       "      <th>SALE PRICE</th>\n",
       "    </tr>\n",
       "  </thead>\n",
       "  <tbody>\n",
       "    <tr>\n",
       "      <th>count</th>\n",
       "      <td>24783.000000</td>\n",
       "      <td>24783.000000</td>\n",
       "      <td>24783.0</td>\n",
       "      <td>24783.000000</td>\n",
       "      <td>24783.000000</td>\n",
       "      <td>2.478300e+04</td>\n",
       "      <td>2.478300e+04</td>\n",
       "      <td>24783.000000</td>\n",
       "      <td>24783.000000</td>\n",
       "      <td>2.478300e+04</td>\n",
       "    </tr>\n",
       "    <tr>\n",
       "      <th>mean</th>\n",
       "      <td>2.537869</td>\n",
       "      <td>10318.242182</td>\n",
       "      <td>0.0</td>\n",
       "      <td>0.492515</td>\n",
       "      <td>0.598152</td>\n",
       "      <td>5.465813e+03</td>\n",
       "      <td>5.431326e+03</td>\n",
       "      <td>1674.012145</td>\n",
       "      <td>2.423879</td>\n",
       "      <td>1.575554e+06</td>\n",
       "    </tr>\n",
       "    <tr>\n",
       "      <th>std</th>\n",
       "      <td>1.335198</td>\n",
       "      <td>2136.962746</td>\n",
       "      <td>0.0</td>\n",
       "      <td>16.073953</td>\n",
       "      <td>16.073655</td>\n",
       "      <td>5.098233e+04</td>\n",
       "      <td>3.262132e+04</td>\n",
       "      <td>680.924383</td>\n",
       "      <td>0.913323</td>\n",
       "      <td>1.807579e+07</td>\n",
       "    </tr>\n",
       "    <tr>\n",
       "      <th>min</th>\n",
       "      <td>1.000000</td>\n",
       "      <td>0.000000</td>\n",
       "      <td>0.0</td>\n",
       "      <td>0.000000</td>\n",
       "      <td>0.000000</td>\n",
       "      <td>0.000000e+00</td>\n",
       "      <td>0.000000e+00</td>\n",
       "      <td>0.000000</td>\n",
       "      <td>1.000000</td>\n",
       "      <td>0.000000e+00</td>\n",
       "    </tr>\n",
       "    <tr>\n",
       "      <th>25%</th>\n",
       "      <td>1.000000</td>\n",
       "      <td>10023.000000</td>\n",
       "      <td>0.0</td>\n",
       "      <td>0.000000</td>\n",
       "      <td>0.000000</td>\n",
       "      <td>2.047000e+03</td>\n",
       "      <td>2.775000e+02</td>\n",
       "      <td>1921.000000</td>\n",
       "      <td>2.000000</td>\n",
       "      <td>2.150000e+05</td>\n",
       "    </tr>\n",
       "    <tr>\n",
       "      <th>50%</th>\n",
       "      <td>3.000000</td>\n",
       "      <td>11004.000000</td>\n",
       "      <td>0.0</td>\n",
       "      <td>0.000000</td>\n",
       "      <td>0.000000</td>\n",
       "      <td>3.941676e+03</td>\n",
       "      <td>4.045707e+03</td>\n",
       "      <td>1950.000000</td>\n",
       "      <td>2.000000</td>\n",
       "      <td>5.200000e+05</td>\n",
       "    </tr>\n",
       "    <tr>\n",
       "      <th>75%</th>\n",
       "      <td>4.000000</td>\n",
       "      <td>11354.000000</td>\n",
       "      <td>0.0</td>\n",
       "      <td>0.000000</td>\n",
       "      <td>0.000000</td>\n",
       "      <td>3.941676e+03</td>\n",
       "      <td>4.045707e+03</td>\n",
       "      <td>1962.000000</td>\n",
       "      <td>2.000000</td>\n",
       "      <td>1.276456e+06</td>\n",
       "    </tr>\n",
       "    <tr>\n",
       "      <th>max</th>\n",
       "      <td>5.000000</td>\n",
       "      <td>11694.000000</td>\n",
       "      <td>0.0</td>\n",
       "      <td>2261.000000</td>\n",
       "      <td>2261.000000</td>\n",
       "      <td>4.252327e+06</td>\n",
       "      <td>1.617206e+06</td>\n",
       "      <td>2017.000000</td>\n",
       "      <td>4.000000</td>\n",
       "      <td>2.210000e+09</td>\n",
       "    </tr>\n",
       "  </tbody>\n",
       "</table>\n",
       "</div>"
      ],
      "text/plain": [
       "            BOROUGH      ZIP CODE  RESIDENTIAL UNITS  COMMERCIAL UNITS  \\\n",
       "count  24783.000000  24783.000000            24783.0      24783.000000   \n",
       "mean       2.537869  10318.242182                0.0          0.492515   \n",
       "std        1.335198   2136.962746                0.0         16.073953   \n",
       "min        1.000000      0.000000                0.0          0.000000   \n",
       "25%        1.000000  10023.000000                0.0          0.000000   \n",
       "50%        3.000000  11004.000000                0.0          0.000000   \n",
       "75%        4.000000  11354.000000                0.0          0.000000   \n",
       "max        5.000000  11694.000000                0.0       2261.000000   \n",
       "\n",
       "        TOTAL UNITS  LAND SQUARE FEET  GROSS SQUARE FEET    YEAR BUILT  \\\n",
       "count  24783.000000      2.478300e+04       2.478300e+04  24783.000000   \n",
       "mean       0.598152      5.465813e+03       5.431326e+03   1674.012145   \n",
       "std       16.073655      5.098233e+04       3.262132e+04    680.924383   \n",
       "min        0.000000      0.000000e+00       0.000000e+00      0.000000   \n",
       "25%        0.000000      2.047000e+03       2.775000e+02   1921.000000   \n",
       "50%        0.000000      3.941676e+03       4.045707e+03   1950.000000   \n",
       "75%        0.000000      3.941676e+03       4.045707e+03   1962.000000   \n",
       "max     2261.000000      4.252327e+06       1.617206e+06   2017.000000   \n",
       "\n",
       "       TAX CLASS AT TIME OF SALE    SALE PRICE  \n",
       "count               24783.000000  2.478300e+04  \n",
       "mean                    2.423879  1.575554e+06  \n",
       "std                     0.913323  1.807579e+07  \n",
       "min                     1.000000  0.000000e+00  \n",
       "25%                     2.000000  2.150000e+05  \n",
       "50%                     2.000000  5.200000e+05  \n",
       "75%                     2.000000  1.276456e+06  \n",
       "max                     4.000000  2.210000e+09  "
      ]
     },
     "execution_count": 17,
     "metadata": {},
     "output_type": "execute_result"
    }
   ],
   "source": [
    "df_no_east[df_no_east['RESIDENTIAL UNITS']==0].describe()"
   ]
  },
  {
   "cell_type": "markdown",
   "id": "d861f0a9",
   "metadata": {},
   "source": [
    "Count the occurrences of each unique value in the \"BOROUGH\" column"
   ]
  },
  {
   "cell_type": "code",
   "execution_count": 22,
   "id": "b213b8fb",
   "metadata": {
    "scrolled": true
   },
   "outputs": [
    {
     "data": {
      "text/plain": [
       "BOROUGH\n",
       "4    26736\n",
       "3    24047\n",
       "1    18306\n",
       "5     8410\n",
       "2     7049\n",
       "Name: count, dtype: int64"
      ]
     },
     "execution_count": 22,
     "metadata": {},
     "output_type": "execute_result"
    }
   ],
   "source": [
    "df_no_east['BOROUGH'].value_counts()"
   ]
  },
  {
   "cell_type": "markdown",
   "id": "19e03f9d",
   "metadata": {},
   "source": [
    "Group the DataFrame by the \"BOROUGH\" column and calculate the mean of \"SALE PRICE\" for each borough"
   ]
  },
  {
   "cell_type": "code",
   "execution_count": 20,
   "id": "d74a7b50",
   "metadata": {
    "scrolled": true
   },
   "outputs": [
    {
     "data": {
      "text/plain": [
       "BOROUGH\n",
       "1    2.902477e+06\n",
       "2    5.901936e+05\n",
       "3    8.344884e+05\n",
       "4    9.063757e+05\n",
       "5    7.525600e+05\n",
       "Name: SALE PRICE, dtype: float64"
      ]
     },
     "execution_count": 20,
     "metadata": {},
     "output_type": "execute_result"
    }
   ],
   "source": [
    "result = df_no_east.groupby('BOROUGH')['SALE PRICE'].mean()\n",
    "result"
   ]
  },
  {
   "cell_type": "markdown",
   "id": "29356e6a",
   "metadata": {},
   "source": [
    "Group the DataFrame by the \"BOROUGH\" column and find the mode (most frequent values) for each group.Then reset the index and drop the previous index to get a DataFrame with the modes for each borough"
   ]
  },
  {
   "cell_type": "code",
   "execution_count": 24,
   "id": "1f99b938",
   "metadata": {
    "scrolled": true
   },
   "outputs": [
    {
     "data": {
      "text/html": [
       "<div>\n",
       "<style scoped>\n",
       "    .dataframe tbody tr th:only-of-type {\n",
       "        vertical-align: middle;\n",
       "    }\n",
       "\n",
       "    .dataframe tbody tr th {\n",
       "        vertical-align: top;\n",
       "    }\n",
       "\n",
       "    .dataframe thead th {\n",
       "        text-align: right;\n",
       "    }\n",
       "</style>\n",
       "<table border=\"1\" class=\"dataframe\">\n",
       "  <thead>\n",
       "    <tr style=\"text-align: right;\">\n",
       "      <th></th>\n",
       "      <th>BOROUGH</th>\n",
       "      <th>NEIGHBORHOOD</th>\n",
       "      <th>BUILDING CLASS CATEGORY</th>\n",
       "      <th>TAX CLASS AT PRESENT</th>\n",
       "      <th>BLOCK</th>\n",
       "      <th>LOT</th>\n",
       "      <th>BUILDING CLASS AT PRESENT</th>\n",
       "      <th>ADDRESS</th>\n",
       "      <th>APARTMENT NUMBER</th>\n",
       "      <th>ZIP CODE</th>\n",
       "      <th>RESIDENTIAL UNITS</th>\n",
       "      <th>COMMERCIAL UNITS</th>\n",
       "      <th>TOTAL UNITS</th>\n",
       "      <th>LAND SQUARE FEET</th>\n",
       "      <th>GROSS SQUARE FEET</th>\n",
       "      <th>YEAR BUILT</th>\n",
       "      <th>TAX CLASS AT TIME OF SALE</th>\n",
       "      <th>BUILDING CLASS AT TIME OF SALE</th>\n",
       "      <th>SALE PRICE</th>\n",
       "      <th>SALE DATE</th>\n",
       "    </tr>\n",
       "  </thead>\n",
       "  <tbody>\n",
       "    <tr>\n",
       "      <th>0</th>\n",
       "      <td>1</td>\n",
       "      <td>UPPER EAST SIDE (59-79)</td>\n",
       "      <td>13 CONDOS - ELEVATOR APARTMENTS</td>\n",
       "      <td>2</td>\n",
       "      <td>16</td>\n",
       "      <td>1</td>\n",
       "      <td>R4</td>\n",
       "      <td>169 WEST 95TH   STREET</td>\n",
       "      <td></td>\n",
       "      <td>10023</td>\n",
       "      <td>0</td>\n",
       "      <td>0</td>\n",
       "      <td>1</td>\n",
       "      <td>3941.675775</td>\n",
       "      <td>4045.707479</td>\n",
       "      <td>0</td>\n",
       "      <td>2</td>\n",
       "      <td>R4</td>\n",
       "      <td>1.276456e+06</td>\n",
       "      <td>2017-08-07</td>\n",
       "    </tr>\n",
       "    <tr>\n",
       "      <th>1</th>\n",
       "      <td>2</td>\n",
       "      <td>RIVERDALE</td>\n",
       "      <td>02 TWO FAMILY DWELLINGS</td>\n",
       "      <td>1</td>\n",
       "      <td>3944</td>\n",
       "      <td>1</td>\n",
       "      <td>D4</td>\n",
       "      <td>2287 JOHNSON AVENUE</td>\n",
       "      <td></td>\n",
       "      <td>10462</td>\n",
       "      <td>1</td>\n",
       "      <td>0</td>\n",
       "      <td>1</td>\n",
       "      <td>0.000000</td>\n",
       "      <td>0.000000</td>\n",
       "      <td>0</td>\n",
       "      <td>1</td>\n",
       "      <td>D4</td>\n",
       "      <td>0.000000e+00</td>\n",
       "      <td>2017-01-18</td>\n",
       "    </tr>\n",
       "    <tr>\n",
       "      <th>2</th>\n",
       "      <td>3</td>\n",
       "      <td>BEDFORD STUYVESANT</td>\n",
       "      <td>02 TWO FAMILY DWELLINGS</td>\n",
       "      <td>1</td>\n",
       "      <td>2135</td>\n",
       "      <td>1</td>\n",
       "      <td>R4</td>\n",
       "      <td>429 KENT AVENUE</td>\n",
       "      <td></td>\n",
       "      <td>11201</td>\n",
       "      <td>1</td>\n",
       "      <td>0</td>\n",
       "      <td>1</td>\n",
       "      <td>0.000000</td>\n",
       "      <td>0.000000</td>\n",
       "      <td>0</td>\n",
       "      <td>1</td>\n",
       "      <td>R4</td>\n",
       "      <td>0.000000e+00</td>\n",
       "      <td>2016-10-06</td>\n",
       "    </tr>\n",
       "    <tr>\n",
       "      <th>3</th>\n",
       "      <td>4</td>\n",
       "      <td>FLUSHING-NORTH</td>\n",
       "      <td>01 ONE FAMILY DWELLINGS</td>\n",
       "      <td>1</td>\n",
       "      <td>5066</td>\n",
       "      <td>1</td>\n",
       "      <td>A1</td>\n",
       "      <td>131-05 40TH   ROAD</td>\n",
       "      <td></td>\n",
       "      <td>11354</td>\n",
       "      <td>1</td>\n",
       "      <td>0</td>\n",
       "      <td>1</td>\n",
       "      <td>3941.675775</td>\n",
       "      <td>4045.707479</td>\n",
       "      <td>1920</td>\n",
       "      <td>1</td>\n",
       "      <td>A1</td>\n",
       "      <td>1.276456e+06</td>\n",
       "      <td>2016-11-10</td>\n",
       "    </tr>\n",
       "    <tr>\n",
       "      <th>4</th>\n",
       "      <td>5</td>\n",
       "      <td>GREAT KILLS</td>\n",
       "      <td>01 ONE FAMILY DWELLINGS</td>\n",
       "      <td>1</td>\n",
       "      <td>2450</td>\n",
       "      <td>1</td>\n",
       "      <td>A5</td>\n",
       "      <td>1235 FOREST HILL ROAD</td>\n",
       "      <td></td>\n",
       "      <td>10314</td>\n",
       "      <td>1</td>\n",
       "      <td>0</td>\n",
       "      <td>1</td>\n",
       "      <td>3941.675775</td>\n",
       "      <td>4045.707479</td>\n",
       "      <td>1970</td>\n",
       "      <td>1</td>\n",
       "      <td>A5</td>\n",
       "      <td>1.276456e+06</td>\n",
       "      <td>2017-06-15</td>\n",
       "    </tr>\n",
       "  </tbody>\n",
       "</table>\n",
       "</div>"
      ],
      "text/plain": [
       "   BOROUGH             NEIGHBORHOOD  \\\n",
       "0        1  UPPER EAST SIDE (59-79)   \n",
       "1        2                RIVERDALE   \n",
       "2        3       BEDFORD STUYVESANT   \n",
       "3        4           FLUSHING-NORTH   \n",
       "4        5              GREAT KILLS   \n",
       "\n",
       "                       BUILDING CLASS CATEGORY TAX CLASS AT PRESENT BLOCK LOT  \\\n",
       "0  13 CONDOS - ELEVATOR APARTMENTS                                2    16   1   \n",
       "1  02 TWO FAMILY DWELLINGS                                        1  3944   1   \n",
       "2  02 TWO FAMILY DWELLINGS                                        1  2135   1   \n",
       "3  01 ONE FAMILY DWELLINGS                                        1  5066   1   \n",
       "4  01 ONE FAMILY DWELLINGS                                        1  2450   1   \n",
       "\n",
       "  BUILDING CLASS AT PRESENT                 ADDRESS APARTMENT NUMBER  \\\n",
       "0                        R4  169 WEST 95TH   STREET                    \n",
       "1                        D4     2287 JOHNSON AVENUE                    \n",
       "2                        R4         429 KENT AVENUE                    \n",
       "3                        A1      131-05 40TH   ROAD                    \n",
       "4                        A5   1235 FOREST HILL ROAD                    \n",
       "\n",
       "   ZIP CODE  RESIDENTIAL UNITS  COMMERCIAL UNITS  TOTAL UNITS  \\\n",
       "0     10023                  0                 0            1   \n",
       "1     10462                  1                 0            1   \n",
       "2     11201                  1                 0            1   \n",
       "3     11354                  1                 0            1   \n",
       "4     10314                  1                 0            1   \n",
       "\n",
       "   LAND SQUARE FEET  GROSS SQUARE FEET  YEAR BUILT  TAX CLASS AT TIME OF SALE  \\\n",
       "0       3941.675775        4045.707479           0                          2   \n",
       "1          0.000000           0.000000           0                          1   \n",
       "2          0.000000           0.000000           0                          1   \n",
       "3       3941.675775        4045.707479        1920                          1   \n",
       "4       3941.675775        4045.707479        1970                          1   \n",
       "\n",
       "  BUILDING CLASS AT TIME OF SALE    SALE PRICE  SALE DATE  \n",
       "0                             R4  1.276456e+06 2017-08-07  \n",
       "1                             D4  0.000000e+00 2017-01-18  \n",
       "2                             R4  0.000000e+00 2016-10-06  \n",
       "3                             A1  1.276456e+06 2016-11-10  \n",
       "4                             A5  1.276456e+06 2017-06-15  "
      ]
     },
     "execution_count": 24,
     "metadata": {},
     "output_type": "execute_result"
    }
   ],
   "source": [
    "df_no_east.groupby('BOROUGH').apply(pd.DataFrame.mode).reset_index(drop=True)"
   ]
  },
  {
   "cell_type": "markdown",
   "id": "42d2b8b6",
   "metadata": {},
   "source": [
    "Group the DataFrame by the \"BOROUGH\" column and calculate the variance of \"SALE PRICE\" for each group"
   ]
  },
  {
   "cell_type": "code",
   "execution_count": 27,
   "id": "0fc95bf8",
   "metadata": {
    "scrolled": true
   },
   "outputs": [
    {
     "data": {
      "text/plain": [
       "BOROUGH\n",
       "1    4.587355e+14\n",
       "2    7.745411e+12\n",
       "3    1.549063e+13\n",
       "4    7.274834e+12\n",
       "5    2.694457e+12\n",
       "Name: SALE PRICE, dtype: float64"
      ]
     },
     "execution_count": 27,
     "metadata": {},
     "output_type": "execute_result"
    }
   ],
   "source": [
    "result = df_no_east.groupby('BOROUGH')['SALE PRICE'].var()\n",
    "result"
   ]
  },
  {
   "cell_type": "markdown",
   "id": "3d0fb13e",
   "metadata": {},
   "source": [
    "Group the DataFrame by the \"BOROUGH\" column and calculate the standard deviation of \"SALE PRICE\" for each group"
   ]
  },
  {
   "cell_type": "code",
   "execution_count": 25,
   "id": "1f4381a4",
   "metadata": {
    "scrolled": false
   },
   "outputs": [
    {
     "data": {
      "text/plain": [
       "BOROUGH\n",
       "1    2.141811e+07\n",
       "2    2.783058e+06\n",
       "3    3.935813e+06\n",
       "4    2.697190e+06\n",
       "5    1.641480e+06\n",
       "Name: SALE PRICE, dtype: float64"
      ]
     },
     "execution_count": 25,
     "metadata": {},
     "output_type": "execute_result"
    }
   ],
   "source": [
    "df_no_east.groupby('BOROUGH')['SALE PRICE'].std()"
   ]
  },
  {
   "cell_type": "markdown",
   "id": "76912049",
   "metadata": {},
   "source": [
    "Group the DataFrame by the \"BOROUGH\" column and perform aggregation on \"SALE PRICE\" for each group. Aggregation includes calculating mean, standard deviation, and the count of data points (size) for each borough\n"
   ]
  },
  {
   "cell_type": "code",
   "execution_count": 26,
   "id": "c7f6786c",
   "metadata": {},
   "outputs": [
    {
     "data": {
      "text/html": [
       "<div>\n",
       "<style scoped>\n",
       "    .dataframe tbody tr th:only-of-type {\n",
       "        vertical-align: middle;\n",
       "    }\n",
       "\n",
       "    .dataframe tbody tr th {\n",
       "        vertical-align: top;\n",
       "    }\n",
       "\n",
       "    .dataframe thead tr th {\n",
       "        text-align: left;\n",
       "    }\n",
       "\n",
       "    .dataframe thead tr:last-of-type th {\n",
       "        text-align: right;\n",
       "    }\n",
       "</style>\n",
       "<table border=\"1\" class=\"dataframe\">\n",
       "  <thead>\n",
       "    <tr>\n",
       "      <th></th>\n",
       "      <th colspan=\"3\" halign=\"left\">SALE PRICE</th>\n",
       "    </tr>\n",
       "    <tr>\n",
       "      <th></th>\n",
       "      <th>mean</th>\n",
       "      <th>std</th>\n",
       "      <th>size</th>\n",
       "    </tr>\n",
       "    <tr>\n",
       "      <th>BOROUGH</th>\n",
       "      <th></th>\n",
       "      <th></th>\n",
       "      <th></th>\n",
       "    </tr>\n",
       "  </thead>\n",
       "  <tbody>\n",
       "    <tr>\n",
       "      <th>1</th>\n",
       "      <td>2.902477e+06</td>\n",
       "      <td>2.141811e+07</td>\n",
       "      <td>18306</td>\n",
       "    </tr>\n",
       "    <tr>\n",
       "      <th>2</th>\n",
       "      <td>5.901936e+05</td>\n",
       "      <td>2.783058e+06</td>\n",
       "      <td>7049</td>\n",
       "    </tr>\n",
       "    <tr>\n",
       "      <th>3</th>\n",
       "      <td>8.344884e+05</td>\n",
       "      <td>3.935813e+06</td>\n",
       "      <td>24047</td>\n",
       "    </tr>\n",
       "    <tr>\n",
       "      <th>4</th>\n",
       "      <td>9.063757e+05</td>\n",
       "      <td>2.697190e+06</td>\n",
       "      <td>26736</td>\n",
       "    </tr>\n",
       "    <tr>\n",
       "      <th>5</th>\n",
       "      <td>7.525600e+05</td>\n",
       "      <td>1.641480e+06</td>\n",
       "      <td>8410</td>\n",
       "    </tr>\n",
       "  </tbody>\n",
       "</table>\n",
       "</div>"
      ],
      "text/plain": [
       "           SALE PRICE                     \n",
       "                 mean           std   size\n",
       "BOROUGH                                   \n",
       "1        2.902477e+06  2.141811e+07  18306\n",
       "2        5.901936e+05  2.783058e+06   7049\n",
       "3        8.344884e+05  3.935813e+06  24047\n",
       "4        9.063757e+05  2.697190e+06  26736\n",
       "5        7.525600e+05  1.641480e+06   8410"
      ]
     },
     "execution_count": 26,
     "metadata": {},
     "output_type": "execute_result"
    }
   ],
   "source": [
    "df_no_east.groupby('BOROUGH').agg({'SALE PRICE': [np.mean, np.std, np.size]})"
   ]
  },
  {
   "cell_type": "code",
   "execution_count": 28,
   "id": "c0a4f527",
   "metadata": {},
   "outputs": [],
   "source": [
    "mean_borough = 2.902477e+06\n",
    "sd_borough = 2.141811e+07\n",
    "n_borough = 18306\n",
    "z = 1.96 # z-score untuk confidence level 95%"
   ]
  },
  {
   "cell_type": "markdown",
   "id": "45a2b305",
   "metadata": {},
   "source": [
    "<b>The standard error (se) is calculated using the formula:</b>\n",
    "\n",
    "se = sd / np.sqrt(jumlah keseluruhan data)\n",
    "\n",
    "Where:\n",
    "* se is the standard error.\n",
    "* sd is the standard deviation."
   ]
  },
  {
   "cell_type": "markdown",
   "id": "ce78591d",
   "metadata": {},
   "source": [
    "Calculate with the standard error formula"
   ]
  },
  {
   "cell_type": "code",
   "execution_count": 30,
   "id": "569b8c4f",
   "metadata": {},
   "outputs": [
    {
     "name": "stdout",
     "output_type": "stream",
     "text": [
      "The result of the standard error is: 158301.276054372\n"
     ]
    }
   ],
   "source": [
    "se = sd_borough / np.sqrt(n_borough)\n",
    "\n",
    "print(\"The result of the standard error is:\", se)"
   ]
  },
  {
   "cell_type": "markdown",
   "id": "92f3fa87",
   "metadata": {},
   "source": [
    "<b>Performing Confidence Interval Construction</b>\n",
    "\n",
    "Formula:\n",
    "\n",
    "lcb = mean_object - z * se  --> for the lower limit of the Confidence Interval (CI)\n",
    "\n",
    "ucb = mean_object + z * se  --> for the upper limit of the Confidence Interval (CI)\n",
    "\n",
    "<b>Explanation:</b>\n",
    "- lcb: Lower limit of the Confidence Interval\n",
    "- ucb: Upper limit of the Confidence Interval\n",
    "- mean_object: Mean of the object (population or sample)\n",
    "- z: Z-score for the desired confidence level\n",
    "- se: Standard Error"
   ]
  },
  {
   "cell_type": "markdown",
   "id": "2281e855",
   "metadata": {},
   "source": [
    "Calculate the lower limit (lcb) and upper limit (ucb) for a confidence interval (CI)."
   ]
  },
  {
   "cell_type": "code",
   "execution_count": 31,
   "id": "c8699693",
   "metadata": {
    "scrolled": true
   },
   "outputs": [
    {
     "name": "stdout",
     "output_type": "stream",
     "text": [
      "Lower limit result: 2592206.4989334308\n",
      "-------------------------\n",
      "Upper limit result: 3212747.5010665692\n"
     ]
    }
   ],
   "source": [
    "lcb = mean_borough - z * se\n",
    "ucb = mean_borough + z * se\n",
    "\n",
    "print(\"Lower limit result:\", lcb)\n",
    "print(\"-------------------------\")\n",
    "print(\"Upper limit result:\", ucb)"
   ]
  },
  {
   "cell_type": "markdown",
   "id": "854d984a",
   "metadata": {},
   "source": [
    "Grading Data"
   ]
  },
  {
   "cell_type": "code",
   "execution_count": 42,
   "id": "ced631fd",
   "metadata": {},
   "outputs": [],
   "source": [
    "# Data 1\n",
    "grade_borough_1 = df_no_east[df_no_east[\"BOROUGH\"] == 1]\n",
    "\n",
    "# Data 2\n",
    "grade_borough_2 = df_no_east[df_no_east[\"BOROUGH\"] == 3]"
   ]
  },
  {
   "cell_type": "markdown",
   "id": "a152bd60",
   "metadata": {},
   "source": [
    "Calculating the number of data points"
   ]
  },
  {
   "cell_type": "code",
   "execution_count": 36,
   "id": "fa31f94b",
   "metadata": {},
   "outputs": [],
   "source": [
    "num_grade_borough_1 = len(grade_borough_1)\n",
    "num_grade_borough_2 = len(grade_borough_2)"
   ]
  },
  {
   "cell_type": "markdown",
   "id": "49273ef2",
   "metadata": {},
   "source": [
    "Calculating Mean"
   ]
  },
  {
   "cell_type": "code",
   "execution_count": 37,
   "id": "69b60d77",
   "metadata": {},
   "outputs": [],
   "source": [
    "mean_grade_borough_1 = grade_borough_1[\"SALE PRICE\"].mean()\n",
    "mean_grade_borough_2 = grade_borough_2[\"SALE PRICE\"].mean()"
   ]
  },
  {
   "cell_type": "markdown",
   "id": "83262cdc",
   "metadata": {},
   "source": [
    "Calculating Standard Deviation"
   ]
  },
  {
   "cell_type": "code",
   "execution_count": 38,
   "id": "cf1c3fb9",
   "metadata": {},
   "outputs": [],
   "source": [
    "std_grade_borough_1 = grade_borough_1[\"SALE PRICE\"].std()\n",
    "std_grade_borough_2 = grade_borough_2[\"SALE PRICE\"].std()"
   ]
  },
  {
   "cell_type": "markdown",
   "id": "bfba3482",
   "metadata": {},
   "source": [
    "Display the results of calculations"
   ]
  },
  {
   "cell_type": "code",
   "execution_count": 39,
   "id": "fe3ec635",
   "metadata": {
    "scrolled": true
   },
   "outputs": [
    {
     "name": "stdout",
     "output_type": "stream",
     "text": [
      "Results for Data 1: 18306 2902476.5473534847 21418111.93479176\n",
      "\n",
      "Results for Data 2: 24047 834488.3717719465 3935813.428569773\n"
     ]
    }
   ],
   "source": [
    "print(\"Results for Data 1:\", num_grade_borough_1, mean_grade_borough_1, std_grade_borough_1)\n",
    "print(\"\")\n",
    "print(\"Results for Data 2:\", num_grade_borough_2, mean_grade_borough_2, std_grade_borough_2)"
   ]
  },
  {
   "cell_type": "markdown",
   "id": "d2ac886c",
   "metadata": {},
   "source": [
    "Summary"
   ]
  },
  {
   "cell_type": "code",
   "execution_count": 43,
   "id": "e564772b",
   "metadata": {},
   "outputs": [
    {
     "data": {
      "text/plain": [
       "(14.651229205435005, 1.323003784566643e-48)"
      ]
     },
     "execution_count": 43,
     "metadata": {},
     "output_type": "execute_result"
    }
   ],
   "source": [
    "\n",
    "sm.stats.ztest(grade_borough_1[\"SALE PRICE\"].dropna(), grade_borough_2[\"SALE PRICE\"].dropna(), alternative=\"two-sided\")"
   ]
  },
  {
   "cell_type": "markdown",
   "id": "0d216d2d",
   "metadata": {},
   "source": [
    "---"
   ]
  },
  {
   "cell_type": "markdown",
   "id": "7cbad1a0",
   "metadata": {},
   "source": [
    "Overall Analysis:\n",
    "\n",
    "From the analysis that has been done, information is obtained that the NYC property sales data has a lot of bad data so it is necessary to pre-process the data, the data tends to have a large distribution, and most of them show not normally distributed "
   ]
  }
 ],
 "metadata": {
  "kernelspec": {
   "display_name": "Python 3 (ipykernel)",
   "language": "python",
   "name": "python3"
  },
  "language_info": {
   "codemirror_mode": {
    "name": "ipython",
    "version": 3
   },
   "file_extension": ".py",
   "mimetype": "text/x-python",
   "name": "python",
   "nbconvert_exporter": "python",
   "pygments_lexer": "ipython3",
   "version": "3.11.5"
  },
  "toc": {
   "base_numbering": 1,
   "nav_menu": {},
   "number_sections": true,
   "sideBar": true,
   "skip_h1_title": false,
   "title_cell": "Table of Contents",
   "title_sidebar": "Contents",
   "toc_cell": false,
   "toc_position": {},
   "toc_section_display": true,
   "toc_window_display": false
  }
 },
 "nbformat": 4,
 "nbformat_minor": 5
}
