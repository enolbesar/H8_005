{
 "cells": [
  {
   "cell_type": "markdown",
   "metadata": {
    "id": "klyP5t8sfZ2A"
   },
   "source": [
    "<img src = \"https://global-uploads.webflow.com/5f0d53c042a9ed6288de7f8d/5f6337ae2cfaa10946ceeb06_Hacktiv8%20logo%20horizontal%2001%20black-p-500.png\" width = 400>"
   ]
  },
  {
   "cell_type": "markdown",
   "metadata": {
    "id": "E-WUXW95fZ2H"
   },
   "source": [
    "---"
   ]
  },
  {
   "cell_type": "markdown",
   "metadata": {
    "id": "R1_p2kHNfZ2H"
   },
   "source": [
    "# Assignment 3"
   ]
  },
  {
   "cell_type": "markdown",
   "metadata": {
    "id": "VFIt8NxHfZ2I"
   },
   "source": [
    "by Ahmat Zainul Muttaqin\n",
    "\n",
    "PYTN-KS019\n",
    "\n",
    "Studi Independen - Kampus Merdeka"
   ]
  },
  {
   "cell_type": "markdown",
   "metadata": {
    "heading_collapsed": true,
    "id": "LLUM_1aZfZ2J"
   },
   "source": [
    "## Project Overview"
   ]
  },
  {
   "cell_type": "markdown",
   "metadata": {
    "hidden": true,
    "id": "qkvEenvSfZ2J"
   },
   "source": [
    "The data is related with direct marketing campaigns of a Portuguese banking institution. The marketing campaigns were based on phone calls. Often, more than one contact to the same client was required, in order to access if the product (bank term deposit) would be ('yes') or not ('no') subscribed.\n",
    "\n",
    "\n",
    "There are four datasets:\n",
    "\n",
    "bank-additional-full.csv with all examples (41188) and 20 inputs, ordered by date (from May 2008 to November 2010), very close to the data analyzed in [Moro et al., 2014]\n",
    "bank-additional.csv with 10% of the examples (4119), randomly selected from 1), and 20 inputs.\n",
    "bank-full.csv with all examples and 17 inputs, ordered by date (older version of this dataset with less inputs).\n",
    "bank.csv with 10% of the examples and 17 inputs, randomly selected from 3 (older version of this dataset with less inputs).\n",
    "The smallest datasets are provided to test more computationally demanding machine learning algorithms (e.g., SVM).\n",
    "\n",
    "The classification goal is to predict if the client will subscribe (yes/no) a term deposit (variable y).\n",
    "\n",
    "\n",
    "This dataset contains:\n",
    "\n",
    "Input variables:\n",
    "\n",
    "\n",
    "BANK CLIENT DATA:\n",
    "\n",
    "1 - age (numeric)\n",
    "\n",
    "2 - job : type of job (categorical: 'admin.','blue-collar','entrepreneur','housemaid','management','retired','self-employed','services','student','technician','unemployed','unknown')\n",
    "\n",
    "3 - marital : marital status (categorical: 'divorced','married','single','unknown'; note: 'divorced' means divorced or widowed)\n",
    "\n",
    "4 - education (categorical: 'basic.4y','basic.6y','basic.9y','high.school','illiterate','professional.course','university.degree','unknown')\n",
    "\n",
    "5 - default: has credit in default? (categorical: 'no', 'yes', 'unknown')\n",
    "\n",
    "6 - housing: has housing loan? (categorical: 'no', 'yes', 'unknown')\n",
    "\n",
    "7 - loan: has personal loan? (categorical: 'no', 'yes', 'unknown')\n",
    "\n",
    "\n",
    "RELATE WITH THE LAST CONTACT OF THE CURRENT CAMPAIGN:\n",
    "\n",
    "8 - contact: contact communication type (categorical: 'cellular', 'telephone')\n",
    "\n",
    "9 - month: last contact month of year (categorical: 'jan', 'feb', 'mar', ..., 'nov', 'dec')\n",
    "\n",
    "10 - day_of_week: last contact day of the week (categorical: 'mon', 'tue', 'wed', 'thu', 'fri')\n",
    "\n",
    "11 - duration: last contact duration, in seconds (numeric). Important note: this attribute highly affects the output target (e.g., if duration=0 then y='no'). Yet, the duration is not known before a call is performed. Also, after the end of the call y is obviously known. Thus, this input should only be included for benchmark purposes and should be discarded if the intention is to have a realistic predictive model.\n",
    "\n",
    "\n",
    "OTHER ATTRIBUTES:\n",
    "\n",
    "12 - campaign: number of contacts performed during this campaign and for this client (numeric, includes last contact)\n",
    "\n",
    "13 - pdays: number of days that passed by after the client was last contacted from a previous campaign (numeric; 999 means client was not previously contacted)\n",
    "\n",
    "14 - previous: number of contacts performed before this campaign and for this client (numeric)\n",
    "\n",
    "15 - poutcome: outcome of the previous marketing campaign (categorical: 'failure', 'nonexistent', 'success')\n",
    "\n",
    "\n",
    "SOCIAL AND ECONOMIC CONTEXT ATTRIBUTES:\n",
    "\n",
    "16 - emp.var.rate: employment variation rate - quarterly indicator (numeric)\n",
    "\n",
    "17 - cons.price.idx: consumer price index - monthly indicator (numeric)\n",
    "\n",
    "18 - cons.conf.idx: consumer confidence index - monthly indicator (numeric)\n",
    "\n",
    "19 - euribor3m: euribor 3 month rate - daily indicator (numeric)\n",
    "\n",
    "20 - nr.employed: number of employees - quarterly indicator (numeric)\n",
    "\n",
    "\n",
    "OUTPUT VARIABLE (DESIRED TARGET):\n",
    "\n",
    "21 - y - has the client subscribed a term deposit? (binary: 'yes', 'no')"
   ]
  },
  {
   "cell_type": "markdown",
   "metadata": {
    "id": "Frak3VidfZ2L"
   },
   "source": [
    "## Data Preparation"
   ]
  },
  {
   "cell_type": "markdown",
   "metadata": {
    "id": "4g1SVYgQfZ2M"
   },
   "source": [
    "Before we start, we have to import import the necessary libraries."
   ]
  },
  {
   "cell_type": "code",
   "execution_count": 1,
   "metadata": {
    "ExecuteTime": {
     "end_time": "2021-11-03T15:49:44.968441Z",
     "start_time": "2021-11-03T15:49:41.346590Z"
    },
    "executionInfo": {
     "elapsed": 858,
     "status": "ok",
     "timestamp": 1636046837115,
     "user": {
      "displayName": "Nindya Eka Apsari",
      "photoUrl": "https://lh3.googleusercontent.com/a-/AOh14GjuWqccb-wbgbvNTWLwBFx-N8yPPAwd9pHrwtbRrug=s64",
      "userId": "12206336341097363251"
     },
     "user_tz": -420
    },
    "id": "P167wpWofZ2N"
   },
   "outputs": [
    {
     "name": "stdout",
     "output_type": "stream",
     "text": [
      "Libraries have been imported successfully!\n"
     ]
    }
   ],
   "source": [
    "import numpy as np\n",
    "import pandas as pd\n",
    "import random\n",
    "import warnings\n",
    "from sklearn.preprocessing import LabelEncoder\n",
    "from sklearn.preprocessing import StandardScaler\n",
    "import seaborn as sns\n",
    "import matplotlib.pyplot as plt\n",
    "from sklearn.model_selection import GridSearchCV\n",
    "\n",
    "# Ensure that plots are displayed within the notebook\n",
    "%matplotlib inline\n",
    "\n",
    "# Display a message indicating successful library import\n",
    "print(\"Libraries have been imported successfully!\")"
   ]
  },
  {
   "cell_type": "markdown",
   "metadata": {
    "id": "fkmGopGwfZ2P"
   },
   "source": [
    "Dataset is about Bank Marketing, [Download Here](https://archive.ics.uci.edu/ml/datasets/Bank+Marketing)\n",
    "\n",
    "Load the dataset from a CSV file in the same folder. Ensure the dataset file is named \"bank-additional-full.csv\". The data is separated by semicolons (';')"
   ]
  },
  {
   "cell_type": "code",
   "execution_count": 5,
   "metadata": {
    "ExecuteTime": {
     "end_time": "2021-11-03T15:49:46.859396Z",
     "start_time": "2021-11-03T15:49:46.637294Z"
    },
    "colab": {
     "base_uri": "https://localhost:8080/"
    },
    "executionInfo": {
     "elapsed": 15,
     "status": "ok",
     "timestamp": 1636046837512,
     "user": {
      "displayName": "Nindya Eka Apsari",
      "photoUrl": "https://lh3.googleusercontent.com/a-/AOh14GjuWqccb-wbgbvNTWLwBFx-N8yPPAwd9pHrwtbRrug=s64",
      "userId": "12206336341097363251"
     },
     "user_tz": -420
    },
    "id": "EJem18HRfZ2Q",
    "outputId": "190b71dc-54b8-454b-df7b-87e1016e373d"
   },
   "outputs": [
    {
     "name": "stdout",
     "output_type": "stream",
     "text": [
      "Dataset is ready!\n"
     ]
    }
   ],
   "source": [
    "df=pd.read_csv(\"bank-additional-full.csv\",sep=';')\n",
    "\n",
    "print('Dataset is ready!')"
   ]
  },
  {
   "cell_type": "markdown",
   "metadata": {
    "id": "8Djn2LU1fZ2S"
   },
   "source": [
    "Display the top 5 rows of the dataset"
   ]
  },
  {
   "cell_type": "code",
   "execution_count": 3,
   "metadata": {
    "ExecuteTime": {
     "end_time": "2021-11-03T15:49:48.002270Z",
     "start_time": "2021-11-03T15:49:47.942274Z"
    },
    "colab": {
     "base_uri": "https://localhost:8080/",
     "height": 223
    },
    "executionInfo": {
     "elapsed": 10,
     "status": "ok",
     "timestamp": 1636046837513,
     "user": {
      "displayName": "Nindya Eka Apsari",
      "photoUrl": "https://lh3.googleusercontent.com/a-/AOh14GjuWqccb-wbgbvNTWLwBFx-N8yPPAwd9pHrwtbRrug=s64",
      "userId": "12206336341097363251"
     },
     "user_tz": -420
    },
    "id": "TMEy0gdtfZ2T",
    "outputId": "b70e50e6-db9a-434e-f1cf-2dc13f63f827",
    "scrolled": true
   },
   "outputs": [
    {
     "data": {
      "text/html": [
       "<div>\n",
       "<style scoped>\n",
       "    .dataframe tbody tr th:only-of-type {\n",
       "        vertical-align: middle;\n",
       "    }\n",
       "\n",
       "    .dataframe tbody tr th {\n",
       "        vertical-align: top;\n",
       "    }\n",
       "\n",
       "    .dataframe thead th {\n",
       "        text-align: right;\n",
       "    }\n",
       "</style>\n",
       "<table border=\"1\" class=\"dataframe\">\n",
       "  <thead>\n",
       "    <tr style=\"text-align: right;\">\n",
       "      <th></th>\n",
       "      <th>age</th>\n",
       "      <th>job</th>\n",
       "      <th>marital</th>\n",
       "      <th>education</th>\n",
       "      <th>default</th>\n",
       "      <th>housing</th>\n",
       "      <th>loan</th>\n",
       "      <th>contact</th>\n",
       "      <th>month</th>\n",
       "      <th>day_of_week</th>\n",
       "      <th>...</th>\n",
       "      <th>campaign</th>\n",
       "      <th>pdays</th>\n",
       "      <th>previous</th>\n",
       "      <th>poutcome</th>\n",
       "      <th>emp.var.rate</th>\n",
       "      <th>cons.price.idx</th>\n",
       "      <th>cons.conf.idx</th>\n",
       "      <th>euribor3m</th>\n",
       "      <th>nr.employed</th>\n",
       "      <th>y</th>\n",
       "    </tr>\n",
       "  </thead>\n",
       "  <tbody>\n",
       "    <tr>\n",
       "      <th>0</th>\n",
       "      <td>56</td>\n",
       "      <td>housemaid</td>\n",
       "      <td>married</td>\n",
       "      <td>basic.4y</td>\n",
       "      <td>no</td>\n",
       "      <td>no</td>\n",
       "      <td>no</td>\n",
       "      <td>telephone</td>\n",
       "      <td>may</td>\n",
       "      <td>mon</td>\n",
       "      <td>...</td>\n",
       "      <td>1</td>\n",
       "      <td>999</td>\n",
       "      <td>0</td>\n",
       "      <td>nonexistent</td>\n",
       "      <td>1.1</td>\n",
       "      <td>93.994</td>\n",
       "      <td>-36.4</td>\n",
       "      <td>4.857</td>\n",
       "      <td>5191.0</td>\n",
       "      <td>no</td>\n",
       "    </tr>\n",
       "    <tr>\n",
       "      <th>1</th>\n",
       "      <td>57</td>\n",
       "      <td>services</td>\n",
       "      <td>married</td>\n",
       "      <td>high.school</td>\n",
       "      <td>unknown</td>\n",
       "      <td>no</td>\n",
       "      <td>no</td>\n",
       "      <td>telephone</td>\n",
       "      <td>may</td>\n",
       "      <td>mon</td>\n",
       "      <td>...</td>\n",
       "      <td>1</td>\n",
       "      <td>999</td>\n",
       "      <td>0</td>\n",
       "      <td>nonexistent</td>\n",
       "      <td>1.1</td>\n",
       "      <td>93.994</td>\n",
       "      <td>-36.4</td>\n",
       "      <td>4.857</td>\n",
       "      <td>5191.0</td>\n",
       "      <td>no</td>\n",
       "    </tr>\n",
       "    <tr>\n",
       "      <th>2</th>\n",
       "      <td>37</td>\n",
       "      <td>services</td>\n",
       "      <td>married</td>\n",
       "      <td>high.school</td>\n",
       "      <td>no</td>\n",
       "      <td>yes</td>\n",
       "      <td>no</td>\n",
       "      <td>telephone</td>\n",
       "      <td>may</td>\n",
       "      <td>mon</td>\n",
       "      <td>...</td>\n",
       "      <td>1</td>\n",
       "      <td>999</td>\n",
       "      <td>0</td>\n",
       "      <td>nonexistent</td>\n",
       "      <td>1.1</td>\n",
       "      <td>93.994</td>\n",
       "      <td>-36.4</td>\n",
       "      <td>4.857</td>\n",
       "      <td>5191.0</td>\n",
       "      <td>no</td>\n",
       "    </tr>\n",
       "    <tr>\n",
       "      <th>3</th>\n",
       "      <td>40</td>\n",
       "      <td>admin.</td>\n",
       "      <td>married</td>\n",
       "      <td>basic.6y</td>\n",
       "      <td>no</td>\n",
       "      <td>no</td>\n",
       "      <td>no</td>\n",
       "      <td>telephone</td>\n",
       "      <td>may</td>\n",
       "      <td>mon</td>\n",
       "      <td>...</td>\n",
       "      <td>1</td>\n",
       "      <td>999</td>\n",
       "      <td>0</td>\n",
       "      <td>nonexistent</td>\n",
       "      <td>1.1</td>\n",
       "      <td>93.994</td>\n",
       "      <td>-36.4</td>\n",
       "      <td>4.857</td>\n",
       "      <td>5191.0</td>\n",
       "      <td>no</td>\n",
       "    </tr>\n",
       "    <tr>\n",
       "      <th>4</th>\n",
       "      <td>56</td>\n",
       "      <td>services</td>\n",
       "      <td>married</td>\n",
       "      <td>high.school</td>\n",
       "      <td>no</td>\n",
       "      <td>no</td>\n",
       "      <td>yes</td>\n",
       "      <td>telephone</td>\n",
       "      <td>may</td>\n",
       "      <td>mon</td>\n",
       "      <td>...</td>\n",
       "      <td>1</td>\n",
       "      <td>999</td>\n",
       "      <td>0</td>\n",
       "      <td>nonexistent</td>\n",
       "      <td>1.1</td>\n",
       "      <td>93.994</td>\n",
       "      <td>-36.4</td>\n",
       "      <td>4.857</td>\n",
       "      <td>5191.0</td>\n",
       "      <td>no</td>\n",
       "    </tr>\n",
       "  </tbody>\n",
       "</table>\n",
       "<p>5 rows × 21 columns</p>\n",
       "</div>"
      ],
      "text/plain": [
       "   age        job  marital    education  default housing loan    contact  \\\n",
       "0   56  housemaid  married     basic.4y       no      no   no  telephone   \n",
       "1   57   services  married  high.school  unknown      no   no  telephone   \n",
       "2   37   services  married  high.school       no     yes   no  telephone   \n",
       "3   40     admin.  married     basic.6y       no      no   no  telephone   \n",
       "4   56   services  married  high.school       no      no  yes  telephone   \n",
       "\n",
       "  month day_of_week  ...  campaign  pdays  previous     poutcome emp.var.rate  \\\n",
       "0   may         mon  ...         1    999         0  nonexistent          1.1   \n",
       "1   may         mon  ...         1    999         0  nonexistent          1.1   \n",
       "2   may         mon  ...         1    999         0  nonexistent          1.1   \n",
       "3   may         mon  ...         1    999         0  nonexistent          1.1   \n",
       "4   may         mon  ...         1    999         0  nonexistent          1.1   \n",
       "\n",
       "   cons.price.idx  cons.conf.idx  euribor3m  nr.employed   y  \n",
       "0          93.994          -36.4      4.857       5191.0  no  \n",
       "1          93.994          -36.4      4.857       5191.0  no  \n",
       "2          93.994          -36.4      4.857       5191.0  no  \n",
       "3          93.994          -36.4      4.857       5191.0  no  \n",
       "4          93.994          -36.4      4.857       5191.0  no  \n",
       "\n",
       "[5 rows x 21 columns]"
      ]
     },
     "execution_count": 3,
     "metadata": {},
     "output_type": "execute_result"
    }
   ],
   "source": [
    "df.head()"
   ]
  },
  {
   "cell_type": "markdown",
   "metadata": {
    "id": "ZVyODyE9fZ2T"
   },
   "source": [
    "Display the bottom 5 rows of the dataset"
   ]
  },
  {
   "cell_type": "code",
   "execution_count": 6,
   "metadata": {
    "ExecuteTime": {
     "end_time": "2021-11-03T15:49:49.314292Z",
     "start_time": "2021-11-03T15:49:49.264644Z"
    },
    "colab": {
     "base_uri": "https://localhost:8080/",
     "height": 240
    },
    "executionInfo": {
     "elapsed": 463,
     "status": "ok",
     "timestamp": 1636046837967,
     "user": {
      "displayName": "Nindya Eka Apsari",
      "photoUrl": "https://lh3.googleusercontent.com/a-/AOh14GjuWqccb-wbgbvNTWLwBFx-N8yPPAwd9pHrwtbRrug=s64",
      "userId": "12206336341097363251"
     },
     "user_tz": -420
    },
    "id": "Xj6RrU8wfZ2U",
    "outputId": "fd0c4862-5389-4df8-d230-8d6b398b755b"
   },
   "outputs": [
    {
     "data": {
      "text/html": [
       "<div>\n",
       "<style scoped>\n",
       "    .dataframe tbody tr th:only-of-type {\n",
       "        vertical-align: middle;\n",
       "    }\n",
       "\n",
       "    .dataframe tbody tr th {\n",
       "        vertical-align: top;\n",
       "    }\n",
       "\n",
       "    .dataframe thead th {\n",
       "        text-align: right;\n",
       "    }\n",
       "</style>\n",
       "<table border=\"1\" class=\"dataframe\">\n",
       "  <thead>\n",
       "    <tr style=\"text-align: right;\">\n",
       "      <th></th>\n",
       "      <th>age</th>\n",
       "      <th>job</th>\n",
       "      <th>marital</th>\n",
       "      <th>education</th>\n",
       "      <th>default</th>\n",
       "      <th>housing</th>\n",
       "      <th>loan</th>\n",
       "      <th>contact</th>\n",
       "      <th>month</th>\n",
       "      <th>day_of_week</th>\n",
       "      <th>...</th>\n",
       "      <th>campaign</th>\n",
       "      <th>pdays</th>\n",
       "      <th>previous</th>\n",
       "      <th>poutcome</th>\n",
       "      <th>emp.var.rate</th>\n",
       "      <th>cons.price.idx</th>\n",
       "      <th>cons.conf.idx</th>\n",
       "      <th>euribor3m</th>\n",
       "      <th>nr.employed</th>\n",
       "      <th>y</th>\n",
       "    </tr>\n",
       "  </thead>\n",
       "  <tbody>\n",
       "    <tr>\n",
       "      <th>41183</th>\n",
       "      <td>73</td>\n",
       "      <td>retired</td>\n",
       "      <td>married</td>\n",
       "      <td>professional.course</td>\n",
       "      <td>no</td>\n",
       "      <td>yes</td>\n",
       "      <td>no</td>\n",
       "      <td>cellular</td>\n",
       "      <td>nov</td>\n",
       "      <td>fri</td>\n",
       "      <td>...</td>\n",
       "      <td>1</td>\n",
       "      <td>999</td>\n",
       "      <td>0</td>\n",
       "      <td>nonexistent</td>\n",
       "      <td>-1.1</td>\n",
       "      <td>94.767</td>\n",
       "      <td>-50.8</td>\n",
       "      <td>1.028</td>\n",
       "      <td>4963.6</td>\n",
       "      <td>yes</td>\n",
       "    </tr>\n",
       "    <tr>\n",
       "      <th>41184</th>\n",
       "      <td>46</td>\n",
       "      <td>blue-collar</td>\n",
       "      <td>married</td>\n",
       "      <td>professional.course</td>\n",
       "      <td>no</td>\n",
       "      <td>no</td>\n",
       "      <td>no</td>\n",
       "      <td>cellular</td>\n",
       "      <td>nov</td>\n",
       "      <td>fri</td>\n",
       "      <td>...</td>\n",
       "      <td>1</td>\n",
       "      <td>999</td>\n",
       "      <td>0</td>\n",
       "      <td>nonexistent</td>\n",
       "      <td>-1.1</td>\n",
       "      <td>94.767</td>\n",
       "      <td>-50.8</td>\n",
       "      <td>1.028</td>\n",
       "      <td>4963.6</td>\n",
       "      <td>no</td>\n",
       "    </tr>\n",
       "    <tr>\n",
       "      <th>41185</th>\n",
       "      <td>56</td>\n",
       "      <td>retired</td>\n",
       "      <td>married</td>\n",
       "      <td>university.degree</td>\n",
       "      <td>no</td>\n",
       "      <td>yes</td>\n",
       "      <td>no</td>\n",
       "      <td>cellular</td>\n",
       "      <td>nov</td>\n",
       "      <td>fri</td>\n",
       "      <td>...</td>\n",
       "      <td>2</td>\n",
       "      <td>999</td>\n",
       "      <td>0</td>\n",
       "      <td>nonexistent</td>\n",
       "      <td>-1.1</td>\n",
       "      <td>94.767</td>\n",
       "      <td>-50.8</td>\n",
       "      <td>1.028</td>\n",
       "      <td>4963.6</td>\n",
       "      <td>no</td>\n",
       "    </tr>\n",
       "    <tr>\n",
       "      <th>41186</th>\n",
       "      <td>44</td>\n",
       "      <td>technician</td>\n",
       "      <td>married</td>\n",
       "      <td>professional.course</td>\n",
       "      <td>no</td>\n",
       "      <td>no</td>\n",
       "      <td>no</td>\n",
       "      <td>cellular</td>\n",
       "      <td>nov</td>\n",
       "      <td>fri</td>\n",
       "      <td>...</td>\n",
       "      <td>1</td>\n",
       "      <td>999</td>\n",
       "      <td>0</td>\n",
       "      <td>nonexistent</td>\n",
       "      <td>-1.1</td>\n",
       "      <td>94.767</td>\n",
       "      <td>-50.8</td>\n",
       "      <td>1.028</td>\n",
       "      <td>4963.6</td>\n",
       "      <td>yes</td>\n",
       "    </tr>\n",
       "    <tr>\n",
       "      <th>41187</th>\n",
       "      <td>74</td>\n",
       "      <td>retired</td>\n",
       "      <td>married</td>\n",
       "      <td>professional.course</td>\n",
       "      <td>no</td>\n",
       "      <td>yes</td>\n",
       "      <td>no</td>\n",
       "      <td>cellular</td>\n",
       "      <td>nov</td>\n",
       "      <td>fri</td>\n",
       "      <td>...</td>\n",
       "      <td>3</td>\n",
       "      <td>999</td>\n",
       "      <td>1</td>\n",
       "      <td>failure</td>\n",
       "      <td>-1.1</td>\n",
       "      <td>94.767</td>\n",
       "      <td>-50.8</td>\n",
       "      <td>1.028</td>\n",
       "      <td>4963.6</td>\n",
       "      <td>no</td>\n",
       "    </tr>\n",
       "  </tbody>\n",
       "</table>\n",
       "<p>5 rows × 21 columns</p>\n",
       "</div>"
      ],
      "text/plain": [
       "       age          job  marital            education default housing loan  \\\n",
       "41183   73      retired  married  professional.course      no     yes   no   \n",
       "41184   46  blue-collar  married  professional.course      no      no   no   \n",
       "41185   56      retired  married    university.degree      no     yes   no   \n",
       "41186   44   technician  married  professional.course      no      no   no   \n",
       "41187   74      retired  married  professional.course      no     yes   no   \n",
       "\n",
       "        contact month day_of_week  ...  campaign  pdays  previous  \\\n",
       "41183  cellular   nov         fri  ...         1    999         0   \n",
       "41184  cellular   nov         fri  ...         1    999         0   \n",
       "41185  cellular   nov         fri  ...         2    999         0   \n",
       "41186  cellular   nov         fri  ...         1    999         0   \n",
       "41187  cellular   nov         fri  ...         3    999         1   \n",
       "\n",
       "          poutcome emp.var.rate  cons.price.idx  cons.conf.idx  euribor3m  \\\n",
       "41183  nonexistent         -1.1          94.767          -50.8      1.028   \n",
       "41184  nonexistent         -1.1          94.767          -50.8      1.028   \n",
       "41185  nonexistent         -1.1          94.767          -50.8      1.028   \n",
       "41186  nonexistent         -1.1          94.767          -50.8      1.028   \n",
       "41187      failure         -1.1          94.767          -50.8      1.028   \n",
       "\n",
       "       nr.employed    y  \n",
       "41183       4963.6  yes  \n",
       "41184       4963.6   no  \n",
       "41185       4963.6   no  \n",
       "41186       4963.6  yes  \n",
       "41187       4963.6   no  \n",
       "\n",
       "[5 rows x 21 columns]"
      ]
     },
     "execution_count": 6,
     "metadata": {},
     "output_type": "execute_result"
    }
   ],
   "source": [
    "df.tail()"
   ]
  },
  {
   "cell_type": "markdown",
   "metadata": {
    "id": "4f6AvUvmfZ2U"
   },
   "source": [
    "Display information about the dataset, including all columns and data types"
   ]
  },
  {
   "cell_type": "code",
   "execution_count": 7,
   "metadata": {
    "ExecuteTime": {
     "end_time": "2021-11-03T15:49:51.246065Z",
     "start_time": "2021-11-03T15:49:51.177641Z"
    },
    "colab": {
     "base_uri": "https://localhost:8080/"
    },
    "executionInfo": {
     "elapsed": 16,
     "status": "ok",
     "timestamp": 1636046837968,
     "user": {
      "displayName": "Nindya Eka Apsari",
      "photoUrl": "https://lh3.googleusercontent.com/a-/AOh14GjuWqccb-wbgbvNTWLwBFx-N8yPPAwd9pHrwtbRrug=s64",
      "userId": "12206336341097363251"
     },
     "user_tz": -420
    },
    "id": "k5oQbupmfZ2V",
    "outputId": "57c61525-618e-4f40-a113-c001fcaef62b"
   },
   "outputs": [
    {
     "name": "stdout",
     "output_type": "stream",
     "text": [
      "<class 'pandas.core.frame.DataFrame'>\n",
      "RangeIndex: 41188 entries, 0 to 41187\n",
      "Data columns (total 21 columns):\n",
      " #   Column          Non-Null Count  Dtype  \n",
      "---  ------          --------------  -----  \n",
      " 0   age             41188 non-null  int64  \n",
      " 1   job             41188 non-null  object \n",
      " 2   marital         41188 non-null  object \n",
      " 3   education       41188 non-null  object \n",
      " 4   default         41188 non-null  object \n",
      " 5   housing         41188 non-null  object \n",
      " 6   loan            41188 non-null  object \n",
      " 7   contact         41188 non-null  object \n",
      " 8   month           41188 non-null  object \n",
      " 9   day_of_week     41188 non-null  object \n",
      " 10  duration        41188 non-null  int64  \n",
      " 11  campaign        41188 non-null  int64  \n",
      " 12  pdays           41188 non-null  int64  \n",
      " 13  previous        41188 non-null  int64  \n",
      " 14  poutcome        41188 non-null  object \n",
      " 15  emp.var.rate    41188 non-null  float64\n",
      " 16  cons.price.idx  41188 non-null  float64\n",
      " 17  cons.conf.idx   41188 non-null  float64\n",
      " 18  euribor3m       41188 non-null  float64\n",
      " 19  nr.employed     41188 non-null  float64\n",
      " 20  y               41188 non-null  object \n",
      "dtypes: float64(5), int64(5), object(11)\n",
      "memory usage: 6.6+ MB\n"
     ]
    }
   ],
   "source": [
    "df.info()"
   ]
  },
  {
   "cell_type": "markdown",
   "metadata": {
    "id": "ELpR4d9RfZ2V"
   },
   "source": [
    "Display the shape of the dataset"
   ]
  },
  {
   "cell_type": "code",
   "execution_count": 8,
   "metadata": {
    "ExecuteTime": {
     "end_time": "2021-11-03T15:49:52.736465Z",
     "start_time": "2021-11-03T15:49:52.720824Z"
    },
    "colab": {
     "base_uri": "https://localhost:8080/"
    },
    "executionInfo": {
     "elapsed": 13,
     "status": "ok",
     "timestamp": 1636046837969,
     "user": {
      "displayName": "Nindya Eka Apsari",
      "photoUrl": "https://lh3.googleusercontent.com/a-/AOh14GjuWqccb-wbgbvNTWLwBFx-N8yPPAwd9pHrwtbRrug=s64",
      "userId": "12206336341097363251"
     },
     "user_tz": -420
    },
    "id": "UKi20EA5fZ2V",
    "outputId": "e88b8f25-bade-42aa-ae2b-b301dde3a1af"
   },
   "outputs": [
    {
     "data": {
      "text/plain": [
       "(41188, 21)"
      ]
     },
     "execution_count": 8,
     "metadata": {},
     "output_type": "execute_result"
    }
   ],
   "source": [
    "df.shape"
   ]
  },
  {
   "cell_type": "markdown",
   "metadata": {
    "id": "AqgH6VkpfZ2W"
   },
   "source": [
    "Display the list of column headers"
   ]
  },
  {
   "cell_type": "code",
   "execution_count": 8,
   "metadata": {
    "ExecuteTime": {
     "end_time": "2021-11-03T15:49:53.940741Z",
     "start_time": "2021-11-03T15:49:53.923961Z"
    },
    "colab": {
     "base_uri": "https://localhost:8080/"
    },
    "executionInfo": {
     "elapsed": 10,
     "status": "ok",
     "timestamp": 1636046837969,
     "user": {
      "displayName": "Nindya Eka Apsari",
      "photoUrl": "https://lh3.googleusercontent.com/a-/AOh14GjuWqccb-wbgbvNTWLwBFx-N8yPPAwd9pHrwtbRrug=s64",
      "userId": "12206336341097363251"
     },
     "user_tz": -420
    },
    "id": "0GmVuWeafZ2W",
    "outputId": "2c5750be-4267-45e6-aa31-97540740a523"
   },
   "outputs": [
    {
     "data": {
      "text/plain": [
       "array(['age', 'job', 'marital', 'education', 'default', 'housing', 'loan',\n",
       "       'contact', 'month', 'day_of_week', 'duration', 'campaign', 'pdays',\n",
       "       'previous', 'poutcome', 'emp.var.rate', 'cons.price.idx',\n",
       "       'cons.conf.idx', 'euribor3m', 'nr.employed', 'y'], dtype=object)"
      ]
     },
     "execution_count": 8,
     "metadata": {},
     "output_type": "execute_result"
    }
   ],
   "source": [
    "df.columns.values"
   ]
  },
  {
   "cell_type": "markdown",
   "metadata": {
    "id": "82436260fZ2W"
   },
   "source": [
    "## EDA and Pre-Processing"
   ]
  },
  {
   "cell_type": "markdown",
   "metadata": {
    "id": "UrYlHBtUfZ2X"
   },
   "source": [
    "Make barplot for categorical variables"
   ]
  },
  {
   "cell_type": "code",
   "execution_count": 11,
   "metadata": {
    "ExecuteTime": {
     "end_time": "2021-11-03T15:49:57.387331Z",
     "start_time": "2021-11-03T15:49:54.934856Z"
    },
    "colab": {
     "base_uri": "https://localhost:8080/",
     "height": 1000
    },
    "executionInfo": {
     "elapsed": 2556,
     "status": "ok",
     "timestamp": 1636046840519,
     "user": {
      "displayName": "Nindya Eka Apsari",
      "photoUrl": "https://lh3.googleusercontent.com/a-/AOh14GjuWqccb-wbgbvNTWLwBFx-N8yPPAwd9pHrwtbRrug=s64",
      "userId": "12206336341097363251"
     },
     "user_tz": -420
    },
    "id": "8wNyC3LOfZ2X",
    "outputId": "71a2ad11-2d0e-4f7f-860c-02141240a8d4",
    "scrolled": false
   },
   "outputs": [
    {
     "data": {
      "image/png": "[encoded data removed]",
      "text/plain": [
       "<Figure size 1000x400 with 1 Axes>"
      ]
     },
     "metadata": {},
     "output_type": "display_data"
    },
    {
     "data": {
      "image/png": "[encoded data removed]",
      "text/plain": [
       "<Figure size 1000x400 with 1 Axes>"
      ]
     },
     "metadata": {},
     "output_type": "display_data"
    },
    {
     "data": {
      "image/png": "[encoded data removed]",
      "text/plain": [
       "<Figure size 1000x400 with 1 Axes>"
      ]
     },
     "metadata": {},
     "output_type": "display_data"
    },
    {
     "data": {
      "image/png": "[encoded data removed]",
      "text/plain": [
       "<Figure size 1000x400 with 1 Axes>"
      ]
     },
     "metadata": {},
     "output_type": "display_data"
    },
    {
     "data": {
      "image/png": "[encoded data removed]",
      "text/plain": [
       "<Figure size 1000x400 with 1 Axes>"
      ]
     },
     "metadata": {},
     "output_type": "display_data"
    },
    {
     "data": {
      "image/png": "[encoded data removed]",
      "text/plain": [
       "<Figure size 1000x400 with 1 Axes>"
      ]
     },
     "metadata": {},
     "output_type": "display_data"
    },
    {
     "data": {
      "image/png": "[encoded data removed]",
      "text/plain": [
       "<Figure size 1000x400 with 1 Axes>"
      ]
     },
     "metadata": {},
     "output_type": "display_data"
    },
    {
     "data": {
      "image/png": "[encoded data removed]",
      "text/plain": [
       "<Figure size 1000x400 with 1 Axes>"
      ]
     },
     "metadata": {},
     "output_type": "display_data"
    },
    {
     "data": {
      "image/png": "[encoded data removed]",
      "text/plain": [
       "<Figure size 1000x400 with 1 Axes>"
      ]
     },
     "metadata": {},
     "output_type": "display_data"
    },
    {
     "data": {
      "image/png": "[encoded data removed]",
      "text/plain": [
       "<Figure size 1000x400 with 1 Axes>"
      ]
     },
     "metadata": {},
     "output_type": "display_data"
    }
   ],
   "source": [
    "# List of categorical variables\n",
    "categorical_variables = ['job', 'marital', 'education', 'default', 'loan', 'contact', 'month', 'day_of_week', 'poutcome', 'y']\n",
    "\n",
    "# Loop through each categorical variable and create a barplot\n",
    "for col in categorical_variables:\n",
    "    plt.figure(figsize=(10, 4))\n",
    "    sns.barplot(x=df[col].value_counts().index, y=df[col].value_counts().values)\n",
    "    plt.title(col)\n",
    "    plt.xticks(rotation=45)  # Rotate x-axis labels for better readability\n",
    "    plt.tight_layout()\n",
    "\n",
    "plt.show()\n"
   ]
  },
  {
   "cell_type": "markdown",
   "metadata": {
    "id": "JKCvF92HfZ2Y"
   },
   "source": [
    "Create bar plots for each category that are generated to examine their relative frequency and normalized relative frequency."
   ]
  },
  {
   "cell_type": "code",
   "execution_count": 15,
   "metadata": {
    "ExecuteTime": {
     "end_time": "2021-11-03T15:50:02.550881Z",
     "start_time": "2021-11-03T15:50:00.332124Z"
    },
    "colab": {
     "base_uri": "https://localhost:8080/",
     "height": 1000
    },
    "executionInfo": {
     "elapsed": 3528,
     "status": "ok",
     "timestamp": 1636046844039,
     "user": {
      "displayName": "Nindya Eka Apsari",
      "photoUrl": "https://lh3.googleusercontent.com/a-/AOh14GjuWqccb-wbgbvNTWLwBFx-N8yPPAwd9pHrwtbRrug=s64",
      "userId": "12206336341097363251"
     },
     "user_tz": -420
    },
    "id": "erVW-RhGfZ2Y",
    "outputId": "06ce3a18-639f-4d5e-8db5-33410837082f",
    "scrolled": true
   },
   "outputs": [
    {
     "data": {
      "image/png": "[encoded data removed]",
      "text/plain": [
       "<Figure size 1000x400 with 1 Axes>"
      ]
     },
     "metadata": {},
     "output_type": "display_data"
    },
    {
     "data": {
      "image/png": "[encoded data removed]",
      "text/plain": [
       "<Figure size 1000x400 with 1 Axes>"
      ]
     },
     "metadata": {},
     "output_type": "display_data"
    },
    {
     "data": {
      "image/png": "[encoded data removed]",
      "text/plain": [
       "<Figure size 1000x400 with 1 Axes>"
      ]
     },
     "metadata": {},
     "output_type": "display_data"
    },
    {
     "data": {
      "image/png": "[encoded data removed]",
      "text/plain": [
       "<Figure size 1000x400 with 1 Axes>"
      ]
     },
     "metadata": {},
     "output_type": "display_data"
    },
    {
     "data": {
      "image/png": "[encoded data removed]",
      "text/plain": [
       "<Figure size 1000x400 with 1 Axes>"
      ]
     },
     "metadata": {},
     "output_type": "display_data"
    },
    {
     "data": {
      "image/png": "[encoded data removed]",
      "text/plain": [
       "<Figure size 1000x400 with 1 Axes>"
      ]
     },
     "metadata": {},
     "output_type": "display_data"
    },
    {
     "data": {
      "image/png": "[encoded data removed]",
      "text/plain": [
       "<Figure size 1000x400 with 1 Axes>"
      ]
     },
     "metadata": {},
     "output_type": "display_data"
    },
    {
     "data": {
      "image/png": "[encoded data removed]",
      "text/plain": [
       "<Figure size 1000x400 with 1 Axes>"
      ]
     },
     "metadata": {},
     "output_type": "display_data"
    },
    {
     "data": {
      "image/png": "[encoded data removed]",
      "text/plain": [
       "<Figure size 1000x400 with 1 Axes>"
      ]
     },
     "metadata": {},
     "output_type": "display_data"
    },
    {
     "data": {
      "image/png": "[encoded data removed]",
      "text/plain": [
       "<Figure size 1000x400 with 1 Axes>"
      ]
     },
     "metadata": {},
     "output_type": "display_data"
    }
   ],
   "source": [
    "categorical_variables = ['job', 'marital', 'education', 'default', 'loan', 'contact', 'month', 'day_of_week', 'poutcome', 'y']\n",
    "\n",
    "for col in categorical_variables:\n",
    "    plt.figure(figsize=(10, 4))\n",
    "    pos_counts = df.loc[df.y.values == 'yes', col].value_counts()\n",
    "    neg_counts = df.loc[df.y.values == 'no', col].value_counts()\n",
    "    \n",
    "    all_counts = list(set(list(pos_counts.index) + list(neg_counts.index)))\n",
    "    \n",
    "    freq_pos = (df.y.values == 'yes').sum()\n",
    "    freq_neg = (df.y.values == 'no').sum()\n",
    "    \n",
    "    pos_counts = pos_counts.to_dict()\n",
    "    neg_counts = neg_counts.to_dict()\n",
    "    \n",
    "    all_index = list(all_counts)\n",
    "    all_counts = [pos_counts.get(k, 0) / freq_pos - neg_counts.get(k, 0) / freq_neg for k in all_counts]\n",
    "\n",
    "    sns.barplot(x=all_counts, y=all_index)\n",
    "    plt.title(col)\n",
    "    plt.tight_layout()\n",
    "\n",
    "plt.show()\n"
   ]
  },
  {
   "cell_type": "markdown",
   "metadata": {
    "id": "nPHS-NUMfZ2Z"
   },
   "source": [
    "Create a pie chart for the target variable."
   ]
  },
  {
   "cell_type": "code",
   "execution_count": 16,
   "metadata": {
    "ExecuteTime": {
     "end_time": "2021-11-03T15:50:09.927421Z",
     "start_time": "2021-11-03T15:50:08.563686Z"
    },
    "colab": {
     "base_uri": "https://localhost:8080/",
     "height": 591
    },
    "executionInfo": {
     "elapsed": 42,
     "status": "ok",
     "timestamp": 1636046844040,
     "user": {
      "displayName": "Nindya Eka Apsari",
      "photoUrl": "https://lh3.googleusercontent.com/a-/AOh14GjuWqccb-wbgbvNTWLwBFx-N8yPPAwd9pHrwtbRrug=s64",
      "userId": "12206336341097363251"
     },
     "user_tz": -420
    },
    "id": "LIXPUd6PfZ2Z",
    "outputId": "6fb8d3bb-a38e-4f65-93a1-7961e8c7b603"
   },
   "outputs": [
    {
     "data": {
      "image/png": "[encoded data removed]",
      "text/plain": [
       "<Figure size 1000x1000 with 1 Axes>"
      ]
     },
     "metadata": {},
     "output_type": "display_data"
    }
   ],
   "source": [
    "plt.figure(figsize=(10,10))\n",
    "df['y'].value_counts().plot.pie(shadow=True,autopct='%1.2f%%')\n",
    "plt.title(\"Percentage of Subcription\")\n",
    "plt.legend()\n",
    "plt.show()"
   ]
  },
  {
   "cell_type": "markdown",
   "metadata": {
    "id": "wOnPSrZUfZ2Z"
   },
   "source": [
    "Develop a cross-tabulation function for Exploratory Data Analysis (EDA)."
   ]
  },
  {
   "cell_type": "code",
   "execution_count": 22,
   "metadata": {
    "ExecuteTime": {
     "end_time": "2021-11-03T15:50:11.816728Z",
     "start_time": "2021-11-03T15:50:11.801031Z"
    },
    "executionInfo": {
     "elapsed": 40,
     "status": "ok",
     "timestamp": 1636046844041,
     "user": {
      "displayName": "Nindya Eka Apsari",
      "photoUrl": "https://lh3.googleusercontent.com/a-/AOh14GjuWqccb-wbgbvNTWLwBFx-N8yPPAwd9pHrwtbRrug=s64",
      "userId": "12206336341097363251"
     },
     "user_tz": -420
    },
    "id": "K5CycyeTfZ2a"
   },
   "outputs": [],
   "source": [
    "def cross_tab(df,f1,f2):\n",
    "    jobs=list(df[f1].unique())\n",
    "    edu=list(df[f2].unique())\n",
    "    dataframes=[]\n",
    "    for e in edu:\n",
    "        dfe=df[df[f2]==e]\n",
    "        dfejob=dfe.groupby(f1).count()[f2]\n",
    "        dataframes.append(dfejob)\n",
    "    xx=pd.concat(dataframes,axis=1)\n",
    "    xx.columns=edu\n",
    "    xx=xx.fillna(0)\n",
    "    return xx"
   ]
  },
  {
   "cell_type": "markdown",
   "metadata": {
    "id": "Tvte0WvOfZ2a"
   },
   "source": [
    "Generate a cross-tabulation for the 'job' and 'education' variables."
   ]
  },
  {
   "cell_type": "code",
   "execution_count": 24,
   "metadata": {
    "ExecuteTime": {
     "end_time": "2021-11-03T15:50:13.350284Z",
     "start_time": "2021-11-03T15:50:13.191109Z"
    },
    "colab": {
     "base_uri": "https://localhost:8080/",
     "height": 418
    },
    "executionInfo": {
     "elapsed": 41,
     "status": "ok",
     "timestamp": 1636046844043,
     "user": {
      "displayName": "Nindya Eka Apsari",
      "photoUrl": "https://lh3.googleusercontent.com/a-/AOh14GjuWqccb-wbgbvNTWLwBFx-N8yPPAwd9pHrwtbRrug=s64",
      "userId": "12206336341097363251"
     },
     "user_tz": -420
    },
    "id": "fdbUzoIzfZ2a",
    "outputId": "3e0f8cde-26bb-41da-b1df-8d177c6ece16"
   },
   "outputs": [
    {
     "data": {
      "text/html": [
       "<div>\n",
       "<style scoped>\n",
       "    .dataframe tbody tr th:only-of-type {\n",
       "        vertical-align: middle;\n",
       "    }\n",
       "\n",
       "    .dataframe tbody tr th {\n",
       "        vertical-align: top;\n",
       "    }\n",
       "\n",
       "    .dataframe thead th {\n",
       "        text-align: right;\n",
       "    }\n",
       "</style>\n",
       "<table border=\"1\" class=\"dataframe\">\n",
       "  <thead>\n",
       "    <tr style=\"text-align: right;\">\n",
       "      <th></th>\n",
       "      <th>basic.4y</th>\n",
       "      <th>high.school</th>\n",
       "      <th>basic.6y</th>\n",
       "      <th>basic.9y</th>\n",
       "      <th>professional.course</th>\n",
       "      <th>unknown</th>\n",
       "      <th>university.degree</th>\n",
       "      <th>illiterate</th>\n",
       "    </tr>\n",
       "    <tr>\n",
       "      <th>job</th>\n",
       "      <th></th>\n",
       "      <th></th>\n",
       "      <th></th>\n",
       "      <th></th>\n",
       "      <th></th>\n",
       "      <th></th>\n",
       "      <th></th>\n",
       "      <th></th>\n",
       "    </tr>\n",
       "  </thead>\n",
       "  <tbody>\n",
       "    <tr>\n",
       "      <th>admin.</th>\n",
       "      <td>77</td>\n",
       "      <td>3329</td>\n",
       "      <td>151</td>\n",
       "      <td>499</td>\n",
       "      <td>363</td>\n",
       "      <td>249</td>\n",
       "      <td>5753</td>\n",
       "      <td>1.0</td>\n",
       "    </tr>\n",
       "    <tr>\n",
       "      <th>blue-collar</th>\n",
       "      <td>2318</td>\n",
       "      <td>878</td>\n",
       "      <td>1426</td>\n",
       "      <td>3623</td>\n",
       "      <td>453</td>\n",
       "      <td>454</td>\n",
       "      <td>94</td>\n",
       "      <td>8.0</td>\n",
       "    </tr>\n",
       "    <tr>\n",
       "      <th>entrepreneur</th>\n",
       "      <td>137</td>\n",
       "      <td>234</td>\n",
       "      <td>71</td>\n",
       "      <td>210</td>\n",
       "      <td>135</td>\n",
       "      <td>57</td>\n",
       "      <td>610</td>\n",
       "      <td>2.0</td>\n",
       "    </tr>\n",
       "    <tr>\n",
       "      <th>housemaid</th>\n",
       "      <td>474</td>\n",
       "      <td>174</td>\n",
       "      <td>77</td>\n",
       "      <td>94</td>\n",
       "      <td>59</td>\n",
       "      <td>42</td>\n",
       "      <td>139</td>\n",
       "      <td>1.0</td>\n",
       "    </tr>\n",
       "    <tr>\n",
       "      <th>management</th>\n",
       "      <td>100</td>\n",
       "      <td>298</td>\n",
       "      <td>85</td>\n",
       "      <td>166</td>\n",
       "      <td>89</td>\n",
       "      <td>123</td>\n",
       "      <td>2063</td>\n",
       "      <td>0.0</td>\n",
       "    </tr>\n",
       "    <tr>\n",
       "      <th>retired</th>\n",
       "      <td>597</td>\n",
       "      <td>276</td>\n",
       "      <td>75</td>\n",
       "      <td>145</td>\n",
       "      <td>241</td>\n",
       "      <td>98</td>\n",
       "      <td>285</td>\n",
       "      <td>3.0</td>\n",
       "    </tr>\n",
       "    <tr>\n",
       "      <th>self-employed</th>\n",
       "      <td>93</td>\n",
       "      <td>118</td>\n",
       "      <td>25</td>\n",
       "      <td>220</td>\n",
       "      <td>168</td>\n",
       "      <td>29</td>\n",
       "      <td>765</td>\n",
       "      <td>3.0</td>\n",
       "    </tr>\n",
       "    <tr>\n",
       "      <th>services</th>\n",
       "      <td>132</td>\n",
       "      <td>2682</td>\n",
       "      <td>226</td>\n",
       "      <td>388</td>\n",
       "      <td>218</td>\n",
       "      <td>150</td>\n",
       "      <td>173</td>\n",
       "      <td>0.0</td>\n",
       "    </tr>\n",
       "    <tr>\n",
       "      <th>student</th>\n",
       "      <td>26</td>\n",
       "      <td>357</td>\n",
       "      <td>13</td>\n",
       "      <td>99</td>\n",
       "      <td>43</td>\n",
       "      <td>167</td>\n",
       "      <td>170</td>\n",
       "      <td>0.0</td>\n",
       "    </tr>\n",
       "    <tr>\n",
       "      <th>technician</th>\n",
       "      <td>58</td>\n",
       "      <td>873</td>\n",
       "      <td>87</td>\n",
       "      <td>384</td>\n",
       "      <td>3320</td>\n",
       "      <td>212</td>\n",
       "      <td>1809</td>\n",
       "      <td>0.0</td>\n",
       "    </tr>\n",
       "    <tr>\n",
       "      <th>unemployed</th>\n",
       "      <td>112</td>\n",
       "      <td>259</td>\n",
       "      <td>34</td>\n",
       "      <td>186</td>\n",
       "      <td>142</td>\n",
       "      <td>19</td>\n",
       "      <td>262</td>\n",
       "      <td>0.0</td>\n",
       "    </tr>\n",
       "    <tr>\n",
       "      <th>unknown</th>\n",
       "      <td>52</td>\n",
       "      <td>37</td>\n",
       "      <td>22</td>\n",
       "      <td>31</td>\n",
       "      <td>12</td>\n",
       "      <td>131</td>\n",
       "      <td>45</td>\n",
       "      <td>0.0</td>\n",
       "    </tr>\n",
       "  </tbody>\n",
       "</table>\n",
       "</div>"
      ],
      "text/plain": [
       "               basic.4y  high.school  basic.6y  basic.9y  professional.course  \\\n",
       "job                                                                             \n",
       "admin.               77         3329       151       499                  363   \n",
       "blue-collar        2318          878      1426      3623                  453   \n",
       "entrepreneur        137          234        71       210                  135   \n",
       "housemaid           474          174        77        94                   59   \n",
       "management          100          298        85       166                   89   \n",
       "retired             597          276        75       145                  241   \n",
       "self-employed        93          118        25       220                  168   \n",
       "services            132         2682       226       388                  218   \n",
       "student              26          357        13        99                   43   \n",
       "technician           58          873        87       384                 3320   \n",
       "unemployed          112          259        34       186                  142   \n",
       "unknown              52           37        22        31                   12   \n",
       "\n",
       "               unknown  university.degree  illiterate  \n",
       "job                                                    \n",
       "admin.             249               5753         1.0  \n",
       "blue-collar        454                 94         8.0  \n",
       "entrepreneur        57                610         2.0  \n",
       "housemaid           42                139         1.0  \n",
       "management         123               2063         0.0  \n",
       "retired             98                285         3.0  \n",
       "self-employed       29                765         3.0  \n",
       "services           150                173         0.0  \n",
       "student            167                170         0.0  \n",
       "technician         212               1809         0.0  \n",
       "unemployed          19                262         0.0  \n",
       "unknown            131                 45         0.0  "
      ]
     },
     "execution_count": 24,
     "metadata": {},
     "output_type": "execute_result"
    }
   ],
   "source": [
    "cross_tab(df,'job','education')"
   ]
  },
  {
   "cell_type": "markdown",
   "metadata": {
    "id": "56DcxO5vfZ2a"
   },
   "source": [
    "Populating the 'unknown' data with relevant information."
   ]
  },
  {
   "cell_type": "code",
   "execution_count": 26,
   "metadata": {
    "ExecuteTime": {
     "end_time": "2021-11-03T15:50:15.095675Z",
     "start_time": "2021-11-03T15:50:14.817618Z"
    },
    "executionInfo": {
     "elapsed": 40,
     "status": "ok",
     "timestamp": 1636046844043,
     "user": {
      "displayName": "Nindya Eka Apsari",
      "photoUrl": "https://lh3.googleusercontent.com/a-/AOh14GjuWqccb-wbgbvNTWLwBFx-N8yPPAwd9pHrwtbRrug=s64",
      "userId": "12206336341097363251"
     },
     "user_tz": -420
    },
    "id": "iG9VHNONfZ2a"
   },
   "outputs": [],
   "source": [
    "# If a person is older than 60 and has an 'unknown' job, assume they are 'retired'.\n",
    "df.loc[(df['age'] > 60) & (df['job'] == 'unknown'), 'job'] = 'retired'\n",
    "\n",
    "# If a person's education is 'unknown' and they have a 'management' job, assume they have a 'university degree'.\n",
    "df.loc[(df['education'] == 'unknown') & (df['job'] == 'management'), 'education'] = 'university.degree'\n",
    "\n",
    "# If a person's education is 'unknown' and they have a 'services' job, assume they have a 'high school' education.\n",
    "df.loc[(df['education'] == 'unknown') & (df['job'] == 'services'), 'education'] = 'high.school'\n",
    "\n",
    "# If a person's education is 'unknown' and they have a 'housemaid' job, assume they have a 'basic 4-year' education.\n",
    "df.loc[(df['education'] == 'unknown') & (df['job'] == 'housemaid'), 'education'] = 'basic.4y'\n",
    "\n",
    "# If a person's job is 'unknown' and their education is 'basic 4-year', assume they have a 'blue-collar' job.\n",
    "df.loc[(df['job'] == 'unknown') & (df['education'] == 'basic.4y'), 'job'] = 'blue-collar'\n",
    "\n",
    "# If a person's job is 'unknown' and their education is 'basic 6-year', assume they have a 'blue-collar' job.\n",
    "df.loc[(df['job'] == 'unknown') & (df['education'] == 'basic.6y'), 'job'] = 'blue-collar'\n",
    "\n",
    "# If a person's job is 'unknown' and their education is 'basic 9-year', assume they have a 'blue-collar' job.\n",
    "df.loc[(df['job'] == 'unknown') & (df['education'] == 'basic.9y'), 'job'] = 'blue-collar'\n",
    "\n",
    "# If a person's job is 'unknown' and their education is 'professional course', assume they have a 'technician' job.\n",
    "df.loc[(df['job'] == 'unknown') & (df['education'] == 'professional.course'), 'job'] = 'technician'\n"
   ]
  },
  {
   "cell_type": "markdown",
   "metadata": {
    "id": "gHpVWmtafZ2b"
   },
   "source": [
    "Check the data that has been filled in with cross tab"
   ]
  },
  {
   "cell_type": "code",
   "execution_count": 29,
   "metadata": {
    "ExecuteTime": {
     "end_time": "2021-11-03T15:50:16.145889Z",
     "start_time": "2021-11-03T15:50:15.992812Z"
    },
    "colab": {
     "base_uri": "https://localhost:8080/",
     "height": 418
    },
    "executionInfo": {
     "elapsed": 40,
     "status": "ok",
     "timestamp": 1636046844044,
     "user": {
      "displayName": "Nindya Eka Apsari",
      "photoUrl": "https://lh3.googleusercontent.com/a-/AOh14GjuWqccb-wbgbvNTWLwBFx-N8yPPAwd9pHrwtbRrug=s64",
      "userId": "12206336341097363251"
     },
     "user_tz": -420
    },
    "id": "-tiAg26WfZ2b",
    "outputId": "054457f1-c7ea-4589-d084-8ff1448a3620",
    "scrolled": true
   },
   "outputs": [
    {
     "data": {
      "text/html": [
       "<div>\n",
       "<style scoped>\n",
       "    .dataframe tbody tr th:only-of-type {\n",
       "        vertical-align: middle;\n",
       "    }\n",
       "\n",
       "    .dataframe tbody tr th {\n",
       "        vertical-align: top;\n",
       "    }\n",
       "\n",
       "    .dataframe thead th {\n",
       "        text-align: right;\n",
       "    }\n",
       "</style>\n",
       "<table border=\"1\" class=\"dataframe\">\n",
       "  <thead>\n",
       "    <tr style=\"text-align: right;\">\n",
       "      <th></th>\n",
       "      <th>basic.4y</th>\n",
       "      <th>high.school</th>\n",
       "      <th>basic.6y</th>\n",
       "      <th>basic.9y</th>\n",
       "      <th>professional.course</th>\n",
       "      <th>unknown</th>\n",
       "      <th>university.degree</th>\n",
       "      <th>illiterate</th>\n",
       "    </tr>\n",
       "    <tr>\n",
       "      <th>job</th>\n",
       "      <th></th>\n",
       "      <th></th>\n",
       "      <th></th>\n",
       "      <th></th>\n",
       "      <th></th>\n",
       "      <th></th>\n",
       "      <th></th>\n",
       "      <th></th>\n",
       "    </tr>\n",
       "  </thead>\n",
       "  <tbody>\n",
       "    <tr>\n",
       "      <th>admin.</th>\n",
       "      <td>77.0</td>\n",
       "      <td>3329</td>\n",
       "      <td>151.0</td>\n",
       "      <td>499.0</td>\n",
       "      <td>363.0</td>\n",
       "      <td>249.0</td>\n",
       "      <td>5753</td>\n",
       "      <td>1.0</td>\n",
       "    </tr>\n",
       "    <tr>\n",
       "      <th>blue-collar</th>\n",
       "      <td>2366.0</td>\n",
       "      <td>878</td>\n",
       "      <td>1448.0</td>\n",
       "      <td>3654.0</td>\n",
       "      <td>453.0</td>\n",
       "      <td>454.0</td>\n",
       "      <td>94</td>\n",
       "      <td>8.0</td>\n",
       "    </tr>\n",
       "    <tr>\n",
       "      <th>entrepreneur</th>\n",
       "      <td>137.0</td>\n",
       "      <td>234</td>\n",
       "      <td>71.0</td>\n",
       "      <td>210.0</td>\n",
       "      <td>135.0</td>\n",
       "      <td>57.0</td>\n",
       "      <td>610</td>\n",
       "      <td>2.0</td>\n",
       "    </tr>\n",
       "    <tr>\n",
       "      <th>housemaid</th>\n",
       "      <td>516.0</td>\n",
       "      <td>174</td>\n",
       "      <td>77.0</td>\n",
       "      <td>94.0</td>\n",
       "      <td>59.0</td>\n",
       "      <td>0.0</td>\n",
       "      <td>139</td>\n",
       "      <td>1.0</td>\n",
       "    </tr>\n",
       "    <tr>\n",
       "      <th>management</th>\n",
       "      <td>100.0</td>\n",
       "      <td>298</td>\n",
       "      <td>85.0</td>\n",
       "      <td>166.0</td>\n",
       "      <td>89.0</td>\n",
       "      <td>0.0</td>\n",
       "      <td>2186</td>\n",
       "      <td>0.0</td>\n",
       "    </tr>\n",
       "    <tr>\n",
       "      <th>retired</th>\n",
       "      <td>601.0</td>\n",
       "      <td>276</td>\n",
       "      <td>75.0</td>\n",
       "      <td>145.0</td>\n",
       "      <td>243.0</td>\n",
       "      <td>112.0</td>\n",
       "      <td>286</td>\n",
       "      <td>3.0</td>\n",
       "    </tr>\n",
       "    <tr>\n",
       "      <th>self-employed</th>\n",
       "      <td>93.0</td>\n",
       "      <td>118</td>\n",
       "      <td>25.0</td>\n",
       "      <td>220.0</td>\n",
       "      <td>168.0</td>\n",
       "      <td>29.0</td>\n",
       "      <td>765</td>\n",
       "      <td>3.0</td>\n",
       "    </tr>\n",
       "    <tr>\n",
       "      <th>services</th>\n",
       "      <td>132.0</td>\n",
       "      <td>2832</td>\n",
       "      <td>226.0</td>\n",
       "      <td>388.0</td>\n",
       "      <td>218.0</td>\n",
       "      <td>0.0</td>\n",
       "      <td>173</td>\n",
       "      <td>0.0</td>\n",
       "    </tr>\n",
       "    <tr>\n",
       "      <th>student</th>\n",
       "      <td>26.0</td>\n",
       "      <td>357</td>\n",
       "      <td>13.0</td>\n",
       "      <td>99.0</td>\n",
       "      <td>43.0</td>\n",
       "      <td>167.0</td>\n",
       "      <td>170</td>\n",
       "      <td>0.0</td>\n",
       "    </tr>\n",
       "    <tr>\n",
       "      <th>technician</th>\n",
       "      <td>58.0</td>\n",
       "      <td>873</td>\n",
       "      <td>87.0</td>\n",
       "      <td>384.0</td>\n",
       "      <td>3330.0</td>\n",
       "      <td>212.0</td>\n",
       "      <td>1809</td>\n",
       "      <td>0.0</td>\n",
       "    </tr>\n",
       "    <tr>\n",
       "      <th>unemployed</th>\n",
       "      <td>112.0</td>\n",
       "      <td>259</td>\n",
       "      <td>34.0</td>\n",
       "      <td>186.0</td>\n",
       "      <td>142.0</td>\n",
       "      <td>19.0</td>\n",
       "      <td>262</td>\n",
       "      <td>0.0</td>\n",
       "    </tr>\n",
       "    <tr>\n",
       "      <th>unknown</th>\n",
       "      <td>0.0</td>\n",
       "      <td>37</td>\n",
       "      <td>0.0</td>\n",
       "      <td>0.0</td>\n",
       "      <td>0.0</td>\n",
       "      <td>117.0</td>\n",
       "      <td>44</td>\n",
       "      <td>0.0</td>\n",
       "    </tr>\n",
       "  </tbody>\n",
       "</table>\n",
       "</div>"
      ],
      "text/plain": [
       "               basic.4y  high.school  basic.6y  basic.9y  professional.course  \\\n",
       "job                                                                             \n",
       "admin.             77.0         3329     151.0     499.0                363.0   \n",
       "blue-collar      2366.0          878    1448.0    3654.0                453.0   \n",
       "entrepreneur      137.0          234      71.0     210.0                135.0   \n",
       "housemaid         516.0          174      77.0      94.0                 59.0   \n",
       "management        100.0          298      85.0     166.0                 89.0   \n",
       "retired           601.0          276      75.0     145.0                243.0   \n",
       "self-employed      93.0          118      25.0     220.0                168.0   \n",
       "services          132.0         2832     226.0     388.0                218.0   \n",
       "student            26.0          357      13.0      99.0                 43.0   \n",
       "technician         58.0          873      87.0     384.0               3330.0   \n",
       "unemployed        112.0          259      34.0     186.0                142.0   \n",
       "unknown             0.0           37       0.0       0.0                  0.0   \n",
       "\n",
       "               unknown  university.degree  illiterate  \n",
       "job                                                    \n",
       "admin.           249.0               5753         1.0  \n",
       "blue-collar      454.0                 94         8.0  \n",
       "entrepreneur      57.0                610         2.0  \n",
       "housemaid          0.0                139         1.0  \n",
       "management         0.0               2186         0.0  \n",
       "retired          112.0                286         3.0  \n",
       "self-employed     29.0                765         3.0  \n",
       "services           0.0                173         0.0  \n",
       "student          167.0                170         0.0  \n",
       "technician       212.0               1809         0.0  \n",
       "unemployed        19.0                262         0.0  \n",
       "unknown          117.0                 44         0.0  "
      ]
     },
     "execution_count": 29,
     "metadata": {},
     "output_type": "execute_result"
    }
   ],
   "source": [
    "cross_tab(df,'job','education')"
   ]
  },
  {
   "cell_type": "markdown",
   "metadata": {
    "id": "hY1IqzTkfZ2b"
   },
   "source": [
    "Create a cross-tabulation for the 'job' and 'housing' variables"
   ]
  },
  {
   "cell_type": "code",
   "execution_count": 30,
   "metadata": {
    "ExecuteTime": {
     "end_time": "2021-11-03T15:50:18.339814Z",
     "start_time": "2021-11-03T15:50:18.219893Z"
    },
    "colab": {
     "base_uri": "https://localhost:8080/",
     "height": 450
    },
    "executionInfo": {
     "elapsed": 40,
     "status": "ok",
     "timestamp": 1636046844045,
     "user": {
      "displayName": "Nindya Eka Apsari",
      "photoUrl": "https://lh3.googleusercontent.com/a-/AOh14GjuWqccb-wbgbvNTWLwBFx-N8yPPAwd9pHrwtbRrug=s64",
      "userId": "12206336341097363251"
     },
     "user_tz": -420
    },
    "id": "w2Ai3oDyfZ2b",
    "outputId": "4746c877-b270-4965-c8de-bef19a5b6178",
    "scrolled": false
   },
   "outputs": [
    {
     "data": {
      "text/html": [
       "<div>\n",
       "<style scoped>\n",
       "    .dataframe tbody tr th:only-of-type {\n",
       "        vertical-align: middle;\n",
       "    }\n",
       "\n",
       "    .dataframe tbody tr th {\n",
       "        vertical-align: top;\n",
       "    }\n",
       "\n",
       "    .dataframe thead th {\n",
       "        text-align: right;\n",
       "    }\n",
       "</style>\n",
       "<table border=\"1\" class=\"dataframe\">\n",
       "  <thead>\n",
       "    <tr style=\"text-align: right;\">\n",
       "      <th></th>\n",
       "      <th>no</th>\n",
       "      <th>yes</th>\n",
       "      <th>unknown</th>\n",
       "    </tr>\n",
       "    <tr>\n",
       "      <th>job</th>\n",
       "      <th></th>\n",
       "      <th></th>\n",
       "      <th></th>\n",
       "    </tr>\n",
       "  </thead>\n",
       "  <tbody>\n",
       "    <tr>\n",
       "      <th>admin.</th>\n",
       "      <td>4636</td>\n",
       "      <td>5559</td>\n",
       "      <td>227</td>\n",
       "    </tr>\n",
       "    <tr>\n",
       "      <th>blue-collar</th>\n",
       "      <td>4362</td>\n",
       "      <td>4752</td>\n",
       "      <td>241</td>\n",
       "    </tr>\n",
       "    <tr>\n",
       "      <th>entrepreneur</th>\n",
       "      <td>641</td>\n",
       "      <td>779</td>\n",
       "      <td>36</td>\n",
       "    </tr>\n",
       "    <tr>\n",
       "      <th>housemaid</th>\n",
       "      <td>491</td>\n",
       "      <td>540</td>\n",
       "      <td>29</td>\n",
       "    </tr>\n",
       "    <tr>\n",
       "      <th>management</th>\n",
       "      <td>1363</td>\n",
       "      <td>1490</td>\n",
       "      <td>71</td>\n",
       "    </tr>\n",
       "    <tr>\n",
       "      <th>retired</th>\n",
       "      <td>789</td>\n",
       "      <td>908</td>\n",
       "      <td>44</td>\n",
       "    </tr>\n",
       "    <tr>\n",
       "      <th>self-employed</th>\n",
       "      <td>641</td>\n",
       "      <td>740</td>\n",
       "      <td>40</td>\n",
       "    </tr>\n",
       "    <tr>\n",
       "      <th>services</th>\n",
       "      <td>1818</td>\n",
       "      <td>2050</td>\n",
       "      <td>101</td>\n",
       "    </tr>\n",
       "    <tr>\n",
       "      <th>student</th>\n",
       "      <td>381</td>\n",
       "      <td>471</td>\n",
       "      <td>23</td>\n",
       "    </tr>\n",
       "    <tr>\n",
       "      <th>technician</th>\n",
       "      <td>2985</td>\n",
       "      <td>3621</td>\n",
       "      <td>147</td>\n",
       "    </tr>\n",
       "    <tr>\n",
       "      <th>unemployed</th>\n",
       "      <td>430</td>\n",
       "      <td>557</td>\n",
       "      <td>27</td>\n",
       "    </tr>\n",
       "    <tr>\n",
       "      <th>unknown</th>\n",
       "      <td>85</td>\n",
       "      <td>109</td>\n",
       "      <td>4</td>\n",
       "    </tr>\n",
       "  </tbody>\n",
       "</table>\n",
       "</div>"
      ],
      "text/plain": [
       "                 no   yes  unknown\n",
       "job                               \n",
       "admin.         4636  5559      227\n",
       "blue-collar    4362  4752      241\n",
       "entrepreneur    641   779       36\n",
       "housemaid       491   540       29\n",
       "management     1363  1490       71\n",
       "retired         789   908       44\n",
       "self-employed   641   740       40\n",
       "services       1818  2050      101\n",
       "student         381   471       23\n",
       "technician     2985  3621      147\n",
       "unemployed      430   557       27\n",
       "unknown          85   109        4"
      ]
     },
     "execution_count": 30,
     "metadata": {},
     "output_type": "execute_result"
    }
   ],
   "source": [
    "cross_tab(df,'job','housing')"
   ]
  },
  {
   "cell_type": "markdown",
   "metadata": {
    "id": "03UWVsHefZ2c"
   },
   "source": [
    "Due to the significant presence of 'unknown' data, we have opted to eliminate it."
   ]
  },
  {
   "cell_type": "code",
   "execution_count": 17,
   "metadata": {
    "ExecuteTime": {
     "end_time": "2021-11-03T15:50:19.989972Z",
     "start_time": "2021-11-03T15:50:19.894265Z"
    },
    "executionInfo": {
     "elapsed": 40,
     "status": "ok",
     "timestamp": 1636046844046,
     "user": {
      "displayName": "Nindya Eka Apsari",
      "photoUrl": "https://lh3.googleusercontent.com/a-/AOh14GjuWqccb-wbgbvNTWLwBFx-N8yPPAwd9pHrwtbRrug=s64",
      "userId": "12206336341097363251"
     },
     "user_tz": -420
    },
    "id": "s1P--tM0fZ2c"
   },
   "outputs": [],
   "source": [
    "df = df[df.housing != 'unknown']\n",
    "df = df[df.loan != 'unknown']\n",
    "df = df[df.default != 'unknown']\n",
    "df = df[df.job != 'unknown']\n",
    "df = df[df.marital != 'unknown']\n",
    "df = df[df.education != 'unknown']"
   ]
  },
  {
   "cell_type": "markdown",
   "metadata": {
    "id": "_gZwFZo6fZ2c"
   },
   "source": [
    "Display the shape of the dataset after preprocessing"
   ]
  },
  {
   "cell_type": "code",
   "execution_count": 33,
   "metadata": {
    "ExecuteTime": {
     "end_time": "2021-11-03T15:50:20.993324Z",
     "start_time": "2021-11-03T15:50:20.980083Z"
    },
    "colab": {
     "base_uri": "https://localhost:8080/"
    },
    "executionInfo": {
     "elapsed": 41,
     "status": "ok",
     "timestamp": 1636046844047,
     "user": {
      "displayName": "Nindya Eka Apsari",
      "photoUrl": "https://lh3.googleusercontent.com/a-/AOh14GjuWqccb-wbgbvNTWLwBFx-N8yPPAwd9pHrwtbRrug=s64",
      "userId": "12206336341097363251"
     },
     "user_tz": -420
    },
    "id": "m2a8s9zjfZ2c",
    "outputId": "c1fd22b4-6d60-4285-afb1-c454fca3564e"
   },
   "outputs": [
    {
     "name": "stdout",
     "output_type": "stream",
     "text": [
      "(41188, 21)\n"
     ]
    }
   ],
   "source": [
    "df.shape"
   ]
  },
  {
   "cell_type": "markdown",
   "metadata": {
    "id": "qtaOTw4NfZ2c"
   },
   "source": [
    "Check for missing values in the DataFrame"
   ]
  },
  {
   "cell_type": "code",
   "execution_count": 34,
   "metadata": {
    "ExecuteTime": {
     "end_time": "2021-11-03T15:50:21.995143Z",
     "start_time": "2021-11-03T15:50:21.955465Z"
    },
    "colab": {
     "base_uri": "https://localhost:8080/"
    },
    "executionInfo": {
     "elapsed": 36,
     "status": "ok",
     "timestamp": 1636046844047,
     "user": {
      "displayName": "Nindya Eka Apsari",
      "photoUrl": "https://lh3.googleusercontent.com/a-/AOh14GjuWqccb-wbgbvNTWLwBFx-N8yPPAwd9pHrwtbRrug=s64",
      "userId": "12206336341097363251"
     },
     "user_tz": -420
    },
    "id": "_-V-5OMIfZ2d",
    "outputId": "b2e9f9be-68db-42ae-aba7-203c95cfd763"
   },
   "outputs": [
    {
     "data": {
      "text/plain": [
       "age               0\n",
       "job               0\n",
       "marital           0\n",
       "education         0\n",
       "default           0\n",
       "housing           0\n",
       "loan              0\n",
       "contact           0\n",
       "month             0\n",
       "day_of_week       0\n",
       "duration          0\n",
       "campaign          0\n",
       "pdays             0\n",
       "previous          0\n",
       "poutcome          0\n",
       "emp.var.rate      0\n",
       "cons.price.idx    0\n",
       "cons.conf.idx     0\n",
       "euribor3m         0\n",
       "nr.employed       0\n",
       "y                 0\n",
       "dtype: int64"
      ]
     },
     "execution_count": 34,
     "metadata": {},
     "output_type": "execute_result"
    }
   ],
   "source": [
    "df.isnull().sum()"
   ]
  },
  {
   "cell_type": "markdown",
   "metadata": {
    "id": "yqKSBWrjfZ2d"
   },
   "source": [
    "Check for duplicate values in the DataFrame"
   ]
  },
  {
   "cell_type": "code",
   "execution_count": 37,
   "metadata": {
    "ExecuteTime": {
     "end_time": "2021-11-03T15:50:23.649037Z",
     "start_time": "2021-11-03T15:50:23.575701Z"
    },
    "colab": {
     "base_uri": "https://localhost:8080/"
    },
    "executionInfo": {
     "elapsed": 35,
     "status": "ok",
     "timestamp": 1636046844049,
     "user": {
      "displayName": "Nindya Eka Apsari",
      "photoUrl": "https://lh3.googleusercontent.com/a-/AOh14GjuWqccb-wbgbvNTWLwBFx-N8yPPAwd9pHrwtbRrug=s64",
      "userId": "12206336341097363251"
     },
     "user_tz": -420
    },
    "id": "Sq60Ue9QfZ2d",
    "outputId": "135cd121-a00e-4ec2-8873-b1c3878c0ade"
   },
   "outputs": [
    {
     "name": "stdout",
     "output_type": "stream",
     "text": [
      "Number of duplicate values: 12\n"
     ]
    }
   ],
   "source": [
    "duplicate_values = df.duplicated().sum()\n",
    "\n",
    "print(\"Number of duplicate values:\", duplicate_values)"
   ]
  },
  {
   "cell_type": "markdown",
   "metadata": {
    "id": "u1BFf8sUfZ2d"
   },
   "source": [
    "Drop duplicate rows from the DataFrame"
   ]
  },
  {
   "cell_type": "code",
   "execution_count": 39,
   "metadata": {
    "ExecuteTime": {
     "end_time": "2021-11-03T15:50:24.503293Z",
     "start_time": "2021-11-03T15:50:24.446180Z"
    },
    "executionInfo": {
     "elapsed": 31,
     "status": "ok",
     "timestamp": 1636046844050,
     "user": {
      "displayName": "Nindya Eka Apsari",
      "photoUrl": "https://lh3.googleusercontent.com/a-/AOh14GjuWqccb-wbgbvNTWLwBFx-N8yPPAwd9pHrwtbRrug=s64",
      "userId": "12206336341097363251"
     },
     "user_tz": -420
    },
    "id": "RZRLxD79fZ2d"
   },
   "outputs": [],
   "source": [
    "df = df.drop_duplicates()\n",
    "\n",
    "# Optional: Reset the index after dropping duplicates\n",
    "df = df.reset_index(drop=True)"
   ]
  },
  {
   "cell_type": "markdown",
   "metadata": {
    "id": "y6X4P5wbfZ2e"
   },
   "source": [
    "View descriptive statistics of numerical variables"
   ]
  },
  {
   "cell_type": "code",
   "execution_count": 40,
   "metadata": {
    "ExecuteTime": {
     "end_time": "2021-11-03T15:50:25.917981Z",
     "start_time": "2021-11-03T15:50:25.843603Z"
    },
    "colab": {
     "base_uri": "https://localhost:8080/",
     "height": 295
    },
    "executionInfo": {
     "elapsed": 691,
     "status": "ok",
     "timestamp": 1636046844711,
     "user": {
      "displayName": "Nindya Eka Apsari",
      "photoUrl": "https://lh3.googleusercontent.com/a-/AOh14GjuWqccb-wbgbvNTWLwBFx-N8yPPAwd9pHrwtbRrug=s64",
      "userId": "12206336341097363251"
     },
     "user_tz": -420
    },
    "id": "A2m76puifZ2e",
    "outputId": "91c5b947-03b5-4097-c361-57d455d69bf7"
   },
   "outputs": [
    {
     "data": {
      "text/html": [
       "<div>\n",
       "<style scoped>\n",
       "    .dataframe tbody tr th:only-of-type {\n",
       "        vertical-align: middle;\n",
       "    }\n",
       "\n",
       "    .dataframe tbody tr th {\n",
       "        vertical-align: top;\n",
       "    }\n",
       "\n",
       "    .dataframe thead th {\n",
       "        text-align: right;\n",
       "    }\n",
       "</style>\n",
       "<table border=\"1\" class=\"dataframe\">\n",
       "  <thead>\n",
       "    <tr style=\"text-align: right;\">\n",
       "      <th></th>\n",
       "      <th>age</th>\n",
       "      <th>campaign</th>\n",
       "      <th>pdays</th>\n",
       "      <th>previous</th>\n",
       "      <th>emp.var.rate</th>\n",
       "      <th>cons.price.idx</th>\n",
       "      <th>cons.conf.idx</th>\n",
       "      <th>euribor3m</th>\n",
       "      <th>nr.employed</th>\n",
       "    </tr>\n",
       "  </thead>\n",
       "  <tbody>\n",
       "    <tr>\n",
       "      <th>count</th>\n",
       "      <td>41176.00000</td>\n",
       "      <td>41176.000000</td>\n",
       "      <td>41176.000000</td>\n",
       "      <td>41176.000000</td>\n",
       "      <td>41176.000000</td>\n",
       "      <td>41176.000000</td>\n",
       "      <td>41176.000000</td>\n",
       "      <td>41176.000000</td>\n",
       "      <td>41176.000000</td>\n",
       "    </tr>\n",
       "    <tr>\n",
       "      <th>mean</th>\n",
       "      <td>40.02380</td>\n",
       "      <td>2.567879</td>\n",
       "      <td>962.464810</td>\n",
       "      <td>0.173013</td>\n",
       "      <td>0.081922</td>\n",
       "      <td>93.575720</td>\n",
       "      <td>-40.502863</td>\n",
       "      <td>3.621293</td>\n",
       "      <td>5167.034870</td>\n",
       "    </tr>\n",
       "    <tr>\n",
       "      <th>std</th>\n",
       "      <td>10.42068</td>\n",
       "      <td>2.770318</td>\n",
       "      <td>186.937102</td>\n",
       "      <td>0.494964</td>\n",
       "      <td>1.570883</td>\n",
       "      <td>0.578839</td>\n",
       "      <td>4.627860</td>\n",
       "      <td>1.734437</td>\n",
       "      <td>72.251364</td>\n",
       "    </tr>\n",
       "    <tr>\n",
       "      <th>min</th>\n",
       "      <td>17.00000</td>\n",
       "      <td>1.000000</td>\n",
       "      <td>0.000000</td>\n",
       "      <td>0.000000</td>\n",
       "      <td>-3.400000</td>\n",
       "      <td>92.201000</td>\n",
       "      <td>-50.800000</td>\n",
       "      <td>0.634000</td>\n",
       "      <td>4963.600000</td>\n",
       "    </tr>\n",
       "    <tr>\n",
       "      <th>25%</th>\n",
       "      <td>32.00000</td>\n",
       "      <td>1.000000</td>\n",
       "      <td>999.000000</td>\n",
       "      <td>0.000000</td>\n",
       "      <td>-1.800000</td>\n",
       "      <td>93.075000</td>\n",
       "      <td>-42.700000</td>\n",
       "      <td>1.344000</td>\n",
       "      <td>5099.100000</td>\n",
       "    </tr>\n",
       "    <tr>\n",
       "      <th>50%</th>\n",
       "      <td>38.00000</td>\n",
       "      <td>2.000000</td>\n",
       "      <td>999.000000</td>\n",
       "      <td>0.000000</td>\n",
       "      <td>1.100000</td>\n",
       "      <td>93.749000</td>\n",
       "      <td>-41.800000</td>\n",
       "      <td>4.857000</td>\n",
       "      <td>5191.000000</td>\n",
       "    </tr>\n",
       "    <tr>\n",
       "      <th>75%</th>\n",
       "      <td>47.00000</td>\n",
       "      <td>3.000000</td>\n",
       "      <td>999.000000</td>\n",
       "      <td>0.000000</td>\n",
       "      <td>1.400000</td>\n",
       "      <td>93.994000</td>\n",
       "      <td>-36.400000</td>\n",
       "      <td>4.961000</td>\n",
       "      <td>5228.100000</td>\n",
       "    </tr>\n",
       "    <tr>\n",
       "      <th>max</th>\n",
       "      <td>98.00000</td>\n",
       "      <td>56.000000</td>\n",
       "      <td>999.000000</td>\n",
       "      <td>7.000000</td>\n",
       "      <td>1.400000</td>\n",
       "      <td>94.767000</td>\n",
       "      <td>-26.900000</td>\n",
       "      <td>5.045000</td>\n",
       "      <td>5228.100000</td>\n",
       "    </tr>\n",
       "  </tbody>\n",
       "</table>\n",
       "</div>"
      ],
      "text/plain": [
       "               age      campaign         pdays      previous  emp.var.rate  \\\n",
       "count  41176.00000  41176.000000  41176.000000  41176.000000  41176.000000   \n",
       "mean      40.02380      2.567879    962.464810      0.173013      0.081922   \n",
       "std       10.42068      2.770318    186.937102      0.494964      1.570883   \n",
       "min       17.00000      1.000000      0.000000      0.000000     -3.400000   \n",
       "25%       32.00000      1.000000    999.000000      0.000000     -1.800000   \n",
       "50%       38.00000      2.000000    999.000000      0.000000      1.100000   \n",
       "75%       47.00000      3.000000    999.000000      0.000000      1.400000   \n",
       "max       98.00000     56.000000    999.000000      7.000000      1.400000   \n",
       "\n",
       "       cons.price.idx  cons.conf.idx     euribor3m   nr.employed  \n",
       "count    41176.000000   41176.000000  41176.000000  41176.000000  \n",
       "mean        93.575720     -40.502863      3.621293   5167.034870  \n",
       "std          0.578839       4.627860      1.734437     72.251364  \n",
       "min         92.201000     -50.800000      0.634000   4963.600000  \n",
       "25%         93.075000     -42.700000      1.344000   5099.100000  \n",
       "50%         93.749000     -41.800000      4.857000   5191.000000  \n",
       "75%         93.994000     -36.400000      4.961000   5228.100000  \n",
       "max         94.767000     -26.900000      5.045000   5228.100000  "
      ]
     },
     "execution_count": 40,
     "metadata": {},
     "output_type": "execute_result"
    }
   ],
   "source": [
    "numerical_variables = ['age','campaign', 'pdays', 'previous', 'emp.var.rate', 'cons.price.idx','cons.conf.idx','euribor3m',\n",
    "                      'nr.employed']\n",
    "df[numerical_variables].describe()"
   ]
  },
  {
   "cell_type": "markdown",
   "metadata": {
    "id": "qlpMskSxfZ2e"
   },
   "source": [
    "Create histogram plot for pdays with and without '999' values"
   ]
  },
  {
   "cell_type": "code",
   "execution_count": 41,
   "metadata": {
    "ExecuteTime": {
     "end_time": "2021-11-03T15:50:27.324445Z",
     "start_time": "2021-11-03T15:50:26.978276Z"
    },
    "colab": {
     "base_uri": "https://localhost:8080/",
     "height": 513
    },
    "executionInfo": {
     "elapsed": 16,
     "status": "ok",
     "timestamp": 1636046844712,
     "user": {
      "displayName": "Nindya Eka Apsari",
      "photoUrl": "https://lh3.googleusercontent.com/a-/AOh14GjuWqccb-wbgbvNTWLwBFx-N8yPPAwd9pHrwtbRrug=s64",
      "userId": "12206336341097363251"
     },
     "user_tz": -420
    },
    "id": "k_FktYZLfZ2e",
    "outputId": "6873d7c6-c2be-4af2-83a5-bc97139a1025",
    "scrolled": true
   },
   "outputs": [
    {
     "data": {
      "image/png": "[encoded data removed]",
      "text/plain": [
       "<Figure size 640x480 with 1 Axes>"
      ]
     },
     "metadata": {},
     "output_type": "display_data"
    },
    {
     "data": {
      "image/png": "[encoded data removed]",
      "text/plain": [
       "<Figure size 640x480 with 1 Axes>"
      ]
     },
     "metadata": {},
     "output_type": "display_data"
    }
   ],
   "source": [
    "def drawhist(df,feature):\n",
    "    plt.hist(df[feature])\n",
    "drawhist(df,'pdays')\n",
    "plt.show()\n",
    "\n",
    "plt.hist(df.loc[df.pdays != 999, 'pdays'])\n",
    "plt.show()"
   ]
  },
  {
   "cell_type": "markdown",
   "metadata": {
    "id": "faJjCFb-fZ2e"
   },
   "source": [
    "Obtained too much value '999', assumed the value as missing value, then changed to categorical variable"
   ]
  },
  {
   "cell_type": "code",
   "execution_count": 24,
   "metadata": {
    "ExecuteTime": {
     "end_time": "2021-11-03T15:50:29.728745Z",
     "start_time": "2021-11-03T15:50:29.693732Z"
    },
    "executionInfo": {
     "elapsed": 15,
     "status": "ok",
     "timestamp": 1636046844712,
     "user": {
      "displayName": "Nindya Eka Apsari",
      "photoUrl": "https://lh3.googleusercontent.com/a-/AOh14GjuWqccb-wbgbvNTWLwBFx-N8yPPAwd9pHrwtbRrug=s64",
      "userId": "12206336341097363251"
     },
     "user_tz": -420
    },
    "id": "MQK16werfZ2f"
   },
   "outputs": [],
   "source": [
    "df['pdays_missing'] = 0\n",
    "df['pdays_less_5'] = 0\n",
    "df['pdays_greater_15'] = 0\n",
    "df['pdays_bet_5_15'] = 0\n",
    "df['pdays_missing'][df['pdays']==999] = 1\n",
    "df['pdays_less_5'][df['pdays']<5] = 1\n",
    "df['pdays_greater_15'][(df['pdays']>15) & (df['pdays']<999)] = 1\n",
    "df['pdays_bet_5_15'][(df['pdays']>=5)&(df['pdays']<=15)]= 1"
   ]
  },
  {
   "cell_type": "markdown",
   "metadata": {
    "id": "ouo9YCrDfZ2f"
   },
   "source": [
    "Drop 'duration' and 'pdays' columns from the DataFrame"
   ]
  },
  {
   "cell_type": "code",
   "execution_count": 42,
   "metadata": {
    "ExecuteTime": {
     "end_time": "2021-11-03T15:50:30.584160Z",
     "start_time": "2021-11-03T15:50:30.550706Z"
    },
    "executionInfo": {
     "elapsed": 15,
     "status": "ok",
     "timestamp": 1636046844713,
     "user": {
      "displayName": "Nindya Eka Apsari",
      "photoUrl": "https://lh3.googleusercontent.com/a-/AOh14GjuWqccb-wbgbvNTWLwBFx-N8yPPAwd9pHrwtbRrug=s64",
      "userId": "12206336341097363251"
     },
     "user_tz": -420
    },
    "id": "RMadxYrMfZ2f"
   },
   "outputs": [],
   "source": [
    "df = df.drop(columns=['duration', 'pdays'])"
   ]
  },
  {
   "cell_type": "markdown",
   "metadata": {
    "id": "pD2sCzYhfZ2f"
   },
   "source": [
    "Display the top 5 rows of the updated dataset"
   ]
  },
  {
   "cell_type": "code",
   "execution_count": 43,
   "metadata": {
    "ExecuteTime": {
     "end_time": "2021-11-03T15:50:31.318190Z",
     "start_time": "2021-11-03T15:50:31.278854Z"
    },
    "colab": {
     "base_uri": "https://localhost:8080/",
     "height": 223
    },
    "executionInfo": {
     "elapsed": 15,
     "status": "ok",
     "timestamp": 1636046844713,
     "user": {
      "displayName": "Nindya Eka Apsari",
      "photoUrl": "https://lh3.googleusercontent.com/a-/AOh14GjuWqccb-wbgbvNTWLwBFx-N8yPPAwd9pHrwtbRrug=s64",
      "userId": "12206336341097363251"
     },
     "user_tz": -420
    },
    "id": "952VSLBRfZ2f",
    "outputId": "b5599876-ce79-4969-c980-6a0e303050be"
   },
   "outputs": [
    {
     "data": {
      "text/html": [
       "<div>\n",
       "<style scoped>\n",
       "    .dataframe tbody tr th:only-of-type {\n",
       "        vertical-align: middle;\n",
       "    }\n",
       "\n",
       "    .dataframe tbody tr th {\n",
       "        vertical-align: top;\n",
       "    }\n",
       "\n",
       "    .dataframe thead th {\n",
       "        text-align: right;\n",
       "    }\n",
       "</style>\n",
       "<table border=\"1\" class=\"dataframe\">\n",
       "  <thead>\n",
       "    <tr style=\"text-align: right;\">\n",
       "      <th></th>\n",
       "      <th>age</th>\n",
       "      <th>job</th>\n",
       "      <th>marital</th>\n",
       "      <th>education</th>\n",
       "      <th>default</th>\n",
       "      <th>housing</th>\n",
       "      <th>loan</th>\n",
       "      <th>contact</th>\n",
       "      <th>month</th>\n",
       "      <th>day_of_week</th>\n",
       "      <th>campaign</th>\n",
       "      <th>previous</th>\n",
       "      <th>poutcome</th>\n",
       "      <th>emp.var.rate</th>\n",
       "      <th>cons.price.idx</th>\n",
       "      <th>cons.conf.idx</th>\n",
       "      <th>euribor3m</th>\n",
       "      <th>nr.employed</th>\n",
       "      <th>y</th>\n",
       "    </tr>\n",
       "  </thead>\n",
       "  <tbody>\n",
       "    <tr>\n",
       "      <th>0</th>\n",
       "      <td>56</td>\n",
       "      <td>housemaid</td>\n",
       "      <td>married</td>\n",
       "      <td>basic.4y</td>\n",
       "      <td>no</td>\n",
       "      <td>no</td>\n",
       "      <td>no</td>\n",
       "      <td>telephone</td>\n",
       "      <td>may</td>\n",
       "      <td>mon</td>\n",
       "      <td>1</td>\n",
       "      <td>0</td>\n",
       "      <td>nonexistent</td>\n",
       "      <td>1.1</td>\n",
       "      <td>93.994</td>\n",
       "      <td>-36.4</td>\n",
       "      <td>4.857</td>\n",
       "      <td>5191.0</td>\n",
       "      <td>no</td>\n",
       "    </tr>\n",
       "    <tr>\n",
       "      <th>1</th>\n",
       "      <td>57</td>\n",
       "      <td>services</td>\n",
       "      <td>married</td>\n",
       "      <td>high.school</td>\n",
       "      <td>unknown</td>\n",
       "      <td>no</td>\n",
       "      <td>no</td>\n",
       "      <td>telephone</td>\n",
       "      <td>may</td>\n",
       "      <td>mon</td>\n",
       "      <td>1</td>\n",
       "      <td>0</td>\n",
       "      <td>nonexistent</td>\n",
       "      <td>1.1</td>\n",
       "      <td>93.994</td>\n",
       "      <td>-36.4</td>\n",
       "      <td>4.857</td>\n",
       "      <td>5191.0</td>\n",
       "      <td>no</td>\n",
       "    </tr>\n",
       "    <tr>\n",
       "      <th>2</th>\n",
       "      <td>37</td>\n",
       "      <td>services</td>\n",
       "      <td>married</td>\n",
       "      <td>high.school</td>\n",
       "      <td>no</td>\n",
       "      <td>yes</td>\n",
       "      <td>no</td>\n",
       "      <td>telephone</td>\n",
       "      <td>may</td>\n",
       "      <td>mon</td>\n",
       "      <td>1</td>\n",
       "      <td>0</td>\n",
       "      <td>nonexistent</td>\n",
       "      <td>1.1</td>\n",
       "      <td>93.994</td>\n",
       "      <td>-36.4</td>\n",
       "      <td>4.857</td>\n",
       "      <td>5191.0</td>\n",
       "      <td>no</td>\n",
       "    </tr>\n",
       "    <tr>\n",
       "      <th>3</th>\n",
       "      <td>40</td>\n",
       "      <td>admin.</td>\n",
       "      <td>married</td>\n",
       "      <td>basic.6y</td>\n",
       "      <td>no</td>\n",
       "      <td>no</td>\n",
       "      <td>no</td>\n",
       "      <td>telephone</td>\n",
       "      <td>may</td>\n",
       "      <td>mon</td>\n",
       "      <td>1</td>\n",
       "      <td>0</td>\n",
       "      <td>nonexistent</td>\n",
       "      <td>1.1</td>\n",
       "      <td>93.994</td>\n",
       "      <td>-36.4</td>\n",
       "      <td>4.857</td>\n",
       "      <td>5191.0</td>\n",
       "      <td>no</td>\n",
       "    </tr>\n",
       "    <tr>\n",
       "      <th>4</th>\n",
       "      <td>56</td>\n",
       "      <td>services</td>\n",
       "      <td>married</td>\n",
       "      <td>high.school</td>\n",
       "      <td>no</td>\n",
       "      <td>no</td>\n",
       "      <td>yes</td>\n",
       "      <td>telephone</td>\n",
       "      <td>may</td>\n",
       "      <td>mon</td>\n",
       "      <td>1</td>\n",
       "      <td>0</td>\n",
       "      <td>nonexistent</td>\n",
       "      <td>1.1</td>\n",
       "      <td>93.994</td>\n",
       "      <td>-36.4</td>\n",
       "      <td>4.857</td>\n",
       "      <td>5191.0</td>\n",
       "      <td>no</td>\n",
       "    </tr>\n",
       "  </tbody>\n",
       "</table>\n",
       "</div>"
      ],
      "text/plain": [
       "   age        job  marital    education  default housing loan    contact  \\\n",
       "0   56  housemaid  married     basic.4y       no      no   no  telephone   \n",
       "1   57   services  married  high.school  unknown      no   no  telephone   \n",
       "2   37   services  married  high.school       no     yes   no  telephone   \n",
       "3   40     admin.  married     basic.6y       no      no   no  telephone   \n",
       "4   56   services  married  high.school       no      no  yes  telephone   \n",
       "\n",
       "  month day_of_week  campaign  previous     poutcome  emp.var.rate  \\\n",
       "0   may         mon         1         0  nonexistent           1.1   \n",
       "1   may         mon         1         0  nonexistent           1.1   \n",
       "2   may         mon         1         0  nonexistent           1.1   \n",
       "3   may         mon         1         0  nonexistent           1.1   \n",
       "4   may         mon         1         0  nonexistent           1.1   \n",
       "\n",
       "   cons.price.idx  cons.conf.idx  euribor3m  nr.employed   y  \n",
       "0          93.994          -36.4      4.857       5191.0  no  \n",
       "1          93.994          -36.4      4.857       5191.0  no  \n",
       "2          93.994          -36.4      4.857       5191.0  no  \n",
       "3          93.994          -36.4      4.857       5191.0  no  \n",
       "4          93.994          -36.4      4.857       5191.0  no  "
      ]
     },
     "execution_count": 43,
     "metadata": {},
     "output_type": "execute_result"
    }
   ],
   "source": [
    "df.head()"
   ]
  },
  {
   "cell_type": "markdown",
   "metadata": {
    "id": "J31PXvaJfZ2g"
   },
   "source": [
    "Encode categorical variables with label encoder"
   ]
  },
  {
   "cell_type": "code",
   "execution_count": 44,
   "metadata": {
    "ExecuteTime": {
     "end_time": "2021-11-03T15:50:32.771369Z",
     "start_time": "2021-11-03T15:50:32.646232Z"
    },
    "colab": {
     "base_uri": "https://localhost:8080/",
     "height": 223
    },
    "executionInfo": {
     "elapsed": 15,
     "status": "ok",
     "timestamp": 1636046844714,
     "user": {
      "displayName": "Nindya Eka Apsari",
      "photoUrl": "https://lh3.googleusercontent.com/a-/AOh14GjuWqccb-wbgbvNTWLwBFx-N8yPPAwd9pHrwtbRrug=s64",
      "userId": "12206336341097363251"
     },
     "user_tz": -420
    },
    "id": "A45yZmP6fZ2g",
    "outputId": "96668098-374d-4a0c-851b-37cee999aa13"
   },
   "outputs": [
    {
     "data": {
      "text/html": [
       "<div>\n",
       "<style scoped>\n",
       "    .dataframe tbody tr th:only-of-type {\n",
       "        vertical-align: middle;\n",
       "    }\n",
       "\n",
       "    .dataframe tbody tr th {\n",
       "        vertical-align: top;\n",
       "    }\n",
       "\n",
       "    .dataframe thead th {\n",
       "        text-align: right;\n",
       "    }\n",
       "</style>\n",
       "<table border=\"1\" class=\"dataframe\">\n",
       "  <thead>\n",
       "    <tr style=\"text-align: right;\">\n",
       "      <th></th>\n",
       "      <th>age</th>\n",
       "      <th>job</th>\n",
       "      <th>marital</th>\n",
       "      <th>education</th>\n",
       "      <th>default</th>\n",
       "      <th>housing</th>\n",
       "      <th>loan</th>\n",
       "      <th>contact</th>\n",
       "      <th>month</th>\n",
       "      <th>day_of_week</th>\n",
       "      <th>campaign</th>\n",
       "      <th>previous</th>\n",
       "      <th>poutcome</th>\n",
       "      <th>emp.var.rate</th>\n",
       "      <th>cons.price.idx</th>\n",
       "      <th>cons.conf.idx</th>\n",
       "      <th>euribor3m</th>\n",
       "      <th>nr.employed</th>\n",
       "      <th>y</th>\n",
       "    </tr>\n",
       "  </thead>\n",
       "  <tbody>\n",
       "    <tr>\n",
       "      <th>0</th>\n",
       "      <td>56</td>\n",
       "      <td>3</td>\n",
       "      <td>1</td>\n",
       "      <td>0</td>\n",
       "      <td>0</td>\n",
       "      <td>0</td>\n",
       "      <td>0</td>\n",
       "      <td>1</td>\n",
       "      <td>6</td>\n",
       "      <td>1</td>\n",
       "      <td>1</td>\n",
       "      <td>0</td>\n",
       "      <td>1</td>\n",
       "      <td>1.1</td>\n",
       "      <td>93.994</td>\n",
       "      <td>-36.4</td>\n",
       "      <td>4.857</td>\n",
       "      <td>5191.0</td>\n",
       "      <td>0</td>\n",
       "    </tr>\n",
       "    <tr>\n",
       "      <th>1</th>\n",
       "      <td>57</td>\n",
       "      <td>7</td>\n",
       "      <td>1</td>\n",
       "      <td>3</td>\n",
       "      <td>1</td>\n",
       "      <td>0</td>\n",
       "      <td>0</td>\n",
       "      <td>1</td>\n",
       "      <td>6</td>\n",
       "      <td>1</td>\n",
       "      <td>1</td>\n",
       "      <td>0</td>\n",
       "      <td>1</td>\n",
       "      <td>1.1</td>\n",
       "      <td>93.994</td>\n",
       "      <td>-36.4</td>\n",
       "      <td>4.857</td>\n",
       "      <td>5191.0</td>\n",
       "      <td>0</td>\n",
       "    </tr>\n",
       "    <tr>\n",
       "      <th>2</th>\n",
       "      <td>37</td>\n",
       "      <td>7</td>\n",
       "      <td>1</td>\n",
       "      <td>3</td>\n",
       "      <td>0</td>\n",
       "      <td>2</td>\n",
       "      <td>0</td>\n",
       "      <td>1</td>\n",
       "      <td>6</td>\n",
       "      <td>1</td>\n",
       "      <td>1</td>\n",
       "      <td>0</td>\n",
       "      <td>1</td>\n",
       "      <td>1.1</td>\n",
       "      <td>93.994</td>\n",
       "      <td>-36.4</td>\n",
       "      <td>4.857</td>\n",
       "      <td>5191.0</td>\n",
       "      <td>0</td>\n",
       "    </tr>\n",
       "    <tr>\n",
       "      <th>3</th>\n",
       "      <td>40</td>\n",
       "      <td>0</td>\n",
       "      <td>1</td>\n",
       "      <td>1</td>\n",
       "      <td>0</td>\n",
       "      <td>0</td>\n",
       "      <td>0</td>\n",
       "      <td>1</td>\n",
       "      <td>6</td>\n",
       "      <td>1</td>\n",
       "      <td>1</td>\n",
       "      <td>0</td>\n",
       "      <td>1</td>\n",
       "      <td>1.1</td>\n",
       "      <td>93.994</td>\n",
       "      <td>-36.4</td>\n",
       "      <td>4.857</td>\n",
       "      <td>5191.0</td>\n",
       "      <td>0</td>\n",
       "    </tr>\n",
       "    <tr>\n",
       "      <th>4</th>\n",
       "      <td>56</td>\n",
       "      <td>7</td>\n",
       "      <td>1</td>\n",
       "      <td>3</td>\n",
       "      <td>0</td>\n",
       "      <td>0</td>\n",
       "      <td>2</td>\n",
       "      <td>1</td>\n",
       "      <td>6</td>\n",
       "      <td>1</td>\n",
       "      <td>1</td>\n",
       "      <td>0</td>\n",
       "      <td>1</td>\n",
       "      <td>1.1</td>\n",
       "      <td>93.994</td>\n",
       "      <td>-36.4</td>\n",
       "      <td>4.857</td>\n",
       "      <td>5191.0</td>\n",
       "      <td>0</td>\n",
       "    </tr>\n",
       "  </tbody>\n",
       "</table>\n",
       "</div>"
      ],
      "text/plain": [
       "   age  job  marital  education  default  housing  loan  contact  month  \\\n",
       "0   56    3        1          0        0        0     0        1      6   \n",
       "1   57    7        1          3        1        0     0        1      6   \n",
       "2   37    7        1          3        0        2     0        1      6   \n",
       "3   40    0        1          1        0        0     0        1      6   \n",
       "4   56    7        1          3        0        0     2        1      6   \n",
       "\n",
       "   day_of_week  campaign  previous  poutcome  emp.var.rate  cons.price.idx  \\\n",
       "0            1         1         0         1           1.1          93.994   \n",
       "1            1         1         0         1           1.1          93.994   \n",
       "2            1         1         0         1           1.1          93.994   \n",
       "3            1         1         0         1           1.1          93.994   \n",
       "4            1         1         0         1           1.1          93.994   \n",
       "\n",
       "   cons.conf.idx  euribor3m  nr.employed  y  \n",
       "0          -36.4      4.857       5191.0  0  \n",
       "1          -36.4      4.857       5191.0  0  \n",
       "2          -36.4      4.857       5191.0  0  \n",
       "3          -36.4      4.857       5191.0  0  \n",
       "4          -36.4      4.857       5191.0  0  "
      ]
     },
     "execution_count": 44,
     "metadata": {},
     "output_type": "execute_result"
    }
   ],
   "source": [
    "object_cols = ['job','marital','education','default','housing','loan','contact','month','day_of_week','poutcome','y']\n",
    "label_encoder = LabelEncoder()\n",
    "for col in object_cols:\n",
    "    df[col] = label_encoder.fit_transform(df[col])\n",
    "df.head()"
   ]
  },
  {
   "cell_type": "markdown",
   "metadata": {
    "id": "J1i_eJPcfZ2g"
   },
   "source": [
    "Display the list of column headers"
   ]
  },
  {
   "cell_type": "code",
   "execution_count": 46,
   "metadata": {
    "ExecuteTime": {
     "end_time": "2021-11-03T15:50:33.849694Z",
     "start_time": "2021-11-03T15:50:33.832835Z"
    },
    "colab": {
     "base_uri": "https://localhost:8080/"
    },
    "executionInfo": {
     "elapsed": 13,
     "status": "ok",
     "timestamp": 1636046844714,
     "user": {
      "displayName": "Nindya Eka Apsari",
      "photoUrl": "https://lh3.googleusercontent.com/a-/AOh14GjuWqccb-wbgbvNTWLwBFx-N8yPPAwd9pHrwtbRrug=s64",
      "userId": "12206336341097363251"
     },
     "user_tz": -420
    },
    "id": "fERThCChfZ2g",
    "outputId": "e893d7f0-b491-4999-ffdf-3b83ed88a7f1"
   },
   "outputs": [
    {
     "name": "stdout",
     "output_type": "stream",
     "text": [
      "['age' 'job' 'marital' 'education' 'default' 'housing' 'loan' 'contact'\n",
      " 'month' 'day_of_week' 'campaign' 'previous' 'poutcome' 'emp.var.rate'\n",
      " 'cons.price.idx' 'cons.conf.idx' 'euribor3m' 'nr.employed' 'y']\n"
     ]
    }
   ],
   "source": [
    "column_headers = df.columns.values\n",
    "print(column_headers)"
   ]
  },
  {
   "cell_type": "markdown",
   "metadata": {
    "id": "ERMGwH97fZ2g"
   },
   "source": [
    "Make def code for visualization"
   ]
  },
  {
   "cell_type": "code",
   "execution_count": 48,
   "metadata": {
    "ExecuteTime": {
     "end_time": "2021-11-03T15:50:35.229960Z",
     "start_time": "2021-11-03T15:50:35.217173Z"
    },
    "executionInfo": {
     "elapsed": 11,
     "status": "ok",
     "timestamp": 1636046844714,
     "user": {
      "displayName": "Nindya Eka Apsari",
      "photoUrl": "https://lh3.googleusercontent.com/a-/AOh14GjuWqccb-wbgbvNTWLwBFx-N8yPPAwd9pHrwtbRrug=s64",
      "userId": "12206336341097363251"
     },
     "user_tz": -420
    },
    "id": "40FUDY3PfZ2h"
   },
   "outputs": [],
   "source": [
    "def drawheatmap(df):\n",
    "    '''Builds the heat map for the given data'''\n",
    "    f, ax = plt.subplots(figsize=(15, 15))\n",
    "    sns.heatmap(df.corr(method='spearman'), annot=False, cmap='coolwarm')\n",
    "    \n",
    "def drawhist(df,feature):\n",
    "    '''Draws an histogram for a feature in a data frame (df)'''\n",
    "    plt.hist(df[feature])\n",
    "\n",
    "def functionreplace(df,fea,val1,val2):\n",
    "    '''Replaces value (val1) with value (val2) in the data frame (df) for a feature (fea)'''\n",
    "    df[fea].replace(val1,val2)\n",
    "    return df\n",
    "\n",
    "def drawbarplot(df,x,y):\n",
    "    '''Draws a bar plot for a given feature x and y in a data frame'''\n",
    "    sns.barplot(x=x, y=y, data=df)\n",
    "    "
   ]
  },
  {
   "cell_type": "markdown",
   "metadata": {
    "id": "lh_JZFRzfZ2h"
   },
   "source": [
    "Make heat map for clean data"
   ]
  },
  {
   "cell_type": "code",
   "execution_count": 49,
   "metadata": {
    "ExecuteTime": {
     "end_time": "2021-11-03T15:50:37.830301Z",
     "start_time": "2021-11-03T15:50:36.830216Z"
    },
    "colab": {
     "base_uri": "https://localhost:8080/",
     "height": 947
    },
    "executionInfo": {
     "elapsed": 1109,
     "status": "ok",
     "timestamp": 1636046845813,
     "user": {
      "displayName": "Nindya Eka Apsari",
      "photoUrl": "https://lh3.googleusercontent.com/a-/AOh14GjuWqccb-wbgbvNTWLwBFx-N8yPPAwd9pHrwtbRrug=s64",
      "userId": "12206336341097363251"
     },
     "user_tz": -420
    },
    "id": "3raV8dLNfZ2h",
    "outputId": "7edfe55b-34da-460d-b35f-22c10b27364f",
    "scrolled": true
   },
   "outputs": [
    {
     "data": {
      "image/png": "[encoded data removed]",
      "text/plain": [
       "<Figure size 1500x1500 with 2 Axes>"
      ]
     },
     "metadata": {},
     "output_type": "display_data"
    }
   ],
   "source": [
    "drawheatmap(df)"
   ]
  },
  {
   "cell_type": "markdown",
   "metadata": {
    "id": "Ya_9NKLBfZ2i"
   },
   "source": [
    "Initialize the clean data"
   ]
  },
  {
   "cell_type": "code",
   "execution_count": 52,
   "metadata": {
    "ExecuteTime": {
     "end_time": "2021-11-03T15:50:39.888798Z",
     "start_time": "2021-11-03T15:50:39.872792Z"
    },
    "executionInfo": {
     "elapsed": 9,
     "status": "ok",
     "timestamp": 1636046845814,
     "user": {
      "displayName": "Nindya Eka Apsari",
      "photoUrl": "https://lh3.googleusercontent.com/a-/AOh14GjuWqccb-wbgbvNTWLwBFx-N8yPPAwd9pHrwtbRrug=s64",
      "userId": "12206336341097363251"
     },
     "user_tz": -420
    },
    "id": "x-Qy8wD6fZ2i"
   },
   "outputs": [],
   "source": [
    "df_clean = df"
   ]
  },
  {
   "cell_type": "markdown",
   "metadata": {
    "id": "42Mv52aOfZ2j"
   },
   "source": [
    "## Data Partition & SMOTE"
   ]
  },
  {
   "cell_type": "markdown",
   "metadata": {
    "id": "AxsOdeDofZ2j"
   },
   "source": [
    "Create partition data for modelling"
   ]
  },
  {
   "cell_type": "code",
   "execution_count": 53,
   "metadata": {
    "ExecuteTime": {
     "end_time": "2021-11-03T15:50:44.258431Z",
     "start_time": "2021-11-03T15:50:44.224527Z"
    },
    "executionInfo": {
     "elapsed": 9,
     "status": "ok",
     "timestamp": 1636046845815,
     "user": {
      "displayName": "Nindya Eka Apsari",
      "photoUrl": "https://lh3.googleusercontent.com/a-/AOh14GjuWqccb-wbgbvNTWLwBFx-N8yPPAwd9pHrwtbRrug=s64",
      "userId": "12206336341097363251"
     },
     "user_tz": -420
    },
    "id": "wfo1vd1PfZ2j"
   },
   "outputs": [],
   "source": [
    "from sklearn.model_selection import train_test_split\n",
    "\n",
    "##partition data into data training and data testing\n",
    "train,test = train_test_split(df_clean,test_size = 0.20 ,random_state = 111)\n",
    "    \n",
    "##seperating dependent and independent variables on training and testing data\n",
    "train_X = train.drop(labels='y',axis=1)\n",
    "train_Y = train['y']\n",
    "test_X  = test.drop(labels='y',axis=1)\n",
    "test_Y  = test['y']"
   ]
  },
  {
   "cell_type": "markdown",
   "metadata": {
    "id": "12z6qr3LfZ2j"
   },
   "source": [
    "Overcoming data imbalance with SMOTE"
   ]
  },
  {
   "cell_type": "code",
   "execution_count": 54,
   "metadata": {
    "ExecuteTime": {
     "end_time": "2021-11-03T15:50:46.317132Z",
     "start_time": "2021-11-03T15:50:45.341962Z"
    },
    "executionInfo": {
     "elapsed": 646,
     "status": "ok",
     "timestamp": 1636046846452,
     "user": {
      "displayName": "Nindya Eka Apsari",
      "photoUrl": "https://lh3.googleusercontent.com/a-/AOh14GjuWqccb-wbgbvNTWLwBFx-N8yPPAwd9pHrwtbRrug=s64",
      "userId": "12206336341097363251"
     },
     "user_tz": -420
    },
    "id": "ra7PnJUtfZ2j",
    "scrolled": true
   },
   "outputs": [],
   "source": [
    "from imblearn.over_sampling import SMOTE\n",
    "\n",
    "#handle imbalance class using oversampling minority class with smote method\n",
    "os = SMOTE(sampling_strategy='minority',random_state = 123,k_neighbors=5)\n",
    "train_smote_X,train_smote_Y = os.fit_resample(train_X,train_Y)\n",
    "train_smote_X = pd.DataFrame(data = train_smote_X,columns=train_X.columns)\n",
    "train_smote_Y = pd.DataFrame(data = train_smote_Y)"
   ]
  },
  {
   "cell_type": "markdown",
   "metadata": {
    "id": "bXdZf8BrfZ2j"
   },
   "source": [
    "## Modelling"
   ]
  },
  {
   "cell_type": "markdown",
   "metadata": {
    "id": "WzWNrUSEnEin"
   },
   "source": [
    "To conduct modeling, we will employ six distinct algorithms to determine the most effective evaluation model. The selected algorithms include Logistic Regression, K-Nearest Neighbors, Support Vector Machine, Decision Tree, Random Forest, and Naive Bayes. The rationale behind using these algorithms is that our problem is a classification task, and these algorithms are well-suited for classification tasks in the field of machine learning."
   ]
  },
  {
   "cell_type": "markdown",
   "metadata": {
    "id": "sNUH1gxGfZ2k"
   },
   "source": [
    "Bring in the libraries that we will be using."
   ]
  },
  {
   "cell_type": "code",
   "execution_count": 55,
   "metadata": {
    "ExecuteTime": {
     "end_time": "2021-11-03T15:50:47.350741Z",
     "start_time": "2021-11-03T15:50:47.326597Z"
    },
    "executionInfo": {
     "elapsed": 18,
     "status": "ok",
     "timestamp": 1636046846453,
     "user": {
      "displayName": "Nindya Eka Apsari",
      "photoUrl": "https://lh3.googleusercontent.com/a-/AOh14GjuWqccb-wbgbvNTWLwBFx-N8yPPAwd9pHrwtbRrug=s64",
      "userId": "12206336341097363251"
     },
     "user_tz": -420
    },
    "id": "hJDphVyNfZ2k"
   },
   "outputs": [],
   "source": [
    "from sklearn.model_selection import GridSearchCV"
   ]
  },
  {
   "cell_type": "markdown",
   "metadata": {
    "id": "7N1ROjLZfZ2k"
   },
   "source": [
    "### Logistic Regression"
   ]
  },
  {
   "cell_type": "markdown",
   "metadata": {
    "id": "1NUpB9LBfZ2k"
   },
   "source": [
    "Import the libraries that we going to use."
   ]
  },
  {
   "cell_type": "code",
   "execution_count": 56,
   "metadata": {
    "ExecuteTime": {
     "end_time": "2021-11-03T15:50:48.687289Z",
     "start_time": "2021-11-03T15:50:48.679123Z"
    },
    "executionInfo": {
     "elapsed": 17,
     "status": "ok",
     "timestamp": 1636046846453,
     "user": {
      "displayName": "Nindya Eka Apsari",
      "photoUrl": "https://lh3.googleusercontent.com/a-/AOh14GjuWqccb-wbgbvNTWLwBFx-N8yPPAwd9pHrwtbRrug=s64",
      "userId": "12206336341097363251"
     },
     "user_tz": -420
    },
    "id": "zt2Mt5MPfZ2k"
   },
   "outputs": [],
   "source": [
    "from sklearn import linear_model, decomposition\n",
    "from sklearn.pipeline import Pipeline\n",
    "from sklearn.linear_model import LogisticRegression\n",
    "from sklearn.metrics import classification_report, confusion_matrix"
   ]
  },
  {
   "cell_type": "markdown",
   "metadata": {
    "id": "l__kJtF5fZ2k"
   },
   "source": [
    "Initialize parameter of LogReg model"
   ]
  },
  {
   "cell_type": "code",
   "execution_count": 57,
   "metadata": {
    "ExecuteTime": {
     "end_time": "2021-11-03T15:50:50.613984Z",
     "start_time": "2021-11-03T15:50:50.606331Z"
    },
    "executionInfo": {
     "elapsed": 17,
     "status": "ok",
     "timestamp": 1636046846453,
     "user": {
      "displayName": "Nindya Eka Apsari",
      "photoUrl": "https://lh3.googleusercontent.com/a-/AOh14GjuWqccb-wbgbvNTWLwBFx-N8yPPAwd9pHrwtbRrug=s64",
      "userId": "12206336341097363251"
     },
     "user_tz": -420
    },
    "id": "gwnz9qq-fZ2l"
   },
   "outputs": [],
   "source": [
    "model = LogisticRegression(C=1.0, class_weight=None, dual=False, fit_intercept=True,\n",
    "                   intercept_scaling=1, l1_ratio=None, max_iter=100,\n",
    "                   multi_class='auto', n_jobs=None, penalty='l2',\n",
    "                   random_state=0, solver='liblinear', tol=0.0001, verbose=0,\n",
    "                   warm_start=False)"
   ]
  },
  {
   "cell_type": "markdown",
   "metadata": {
    "id": "qv5NtZwjfZ2l"
   },
   "source": [
    "Fit the model with train smote data"
   ]
  },
  {
   "cell_type": "code",
   "execution_count": 58,
   "metadata": {
    "ExecuteTime": {
     "end_time": "2021-11-03T15:50:53.158995Z",
     "start_time": "2021-11-03T15:50:51.883631Z"
    },
    "colab": {
     "base_uri": "https://localhost:8080/"
    },
    "executionInfo": {
     "elapsed": 18,
     "status": "ok",
     "timestamp": 1636046846454,
     "user": {
      "displayName": "Nindya Eka Apsari",
      "photoUrl": "https://lh3.googleusercontent.com/a-/AOh14GjuWqccb-wbgbvNTWLwBFx-N8yPPAwd9pHrwtbRrug=s64",
      "userId": "12206336341097363251"
     },
     "user_tz": -420
    },
    "id": "8fyWGxdJfZ2l",
    "outputId": "baeb3358-ea27-45eb-f7f1-d7229999a8df",
    "scrolled": true
   },
   "outputs": [
    {
     "data": {
      "text/html": [
       "<style>#sk-container-id-1 {color: black;background-color: white;}#sk-container-id-1 pre{padding: 0;}#sk-container-id-1 div.sk-toggleable {background-color: white;}#sk-container-id-1 label.sk-toggleable__label {cursor: pointer;display: block;width: 100%;margin-bottom: 0;padding: 0.3em;box-sizing: border-box;text-align: center;}#sk-container-id-1 label.sk-toggleable__label-arrow:before {content: \"▸\";float: left;margin-right: 0.25em;color: #696969;}#sk-container-id-1 label.sk-toggleable__label-arrow:hover:before {color: black;}#sk-container-id-1 div.sk-estimator:hover label.sk-toggleable__label-arrow:before {color: black;}#sk-container-id-1 div.sk-toggleable__content {max-height: 0;max-width: 0;overflow: hidden;text-align: left;background-color: #f0f8ff;}#sk-container-id-1 div.sk-toggleable__content pre {margin: 0.2em;color: black;border-radius: 0.25em;background-color: #f0f8ff;}#sk-container-id-1 input.sk-toggleable__control:checked~div.sk-toggleable__content {max-height: 200px;max-width: 100%;overflow: auto;}#sk-container-id-1 input.sk-toggleable__control:checked~label.sk-toggleable__label-arrow:before {content: \"▾\";}#sk-container-id-1 div.sk-estimator input.sk-toggleable__control:checked~label.sk-toggleable__label {background-color: #d4ebff;}#sk-container-id-1 div.sk-label input.sk-toggleable__control:checked~label.sk-toggleable__label {background-color: #d4ebff;}#sk-container-id-1 input.sk-hidden--visually {border: 0;clip: rect(1px 1px 1px 1px);clip: rect(1px, 1px, 1px, 1px);height: 1px;margin: -1px;overflow: hidden;padding: 0;position: absolute;width: 1px;}#sk-container-id-1 div.sk-estimator {font-family: monospace;background-color: #f0f8ff;border: 1px dotted black;border-radius: 0.25em;box-sizing: border-box;margin-bottom: 0.5em;}#sk-container-id-1 div.sk-estimator:hover {background-color: #d4ebff;}#sk-container-id-1 div.sk-parallel-item::after {content: \"\";width: 100%;border-bottom: 1px solid gray;flex-grow: 1;}#sk-container-id-1 div.sk-label:hover label.sk-toggleable__label {background-color: #d4ebff;}#sk-container-id-1 div.sk-serial::before {content: \"\";position: absolute;border-left: 1px solid gray;box-sizing: border-box;top: 0;bottom: 0;left: 50%;z-index: 0;}#sk-container-id-1 div.sk-serial {display: flex;flex-direction: column;align-items: center;background-color: white;padding-right: 0.2em;padding-left: 0.2em;position: relative;}#sk-container-id-1 div.sk-item {position: relative;z-index: 1;}#sk-container-id-1 div.sk-parallel {display: flex;align-items: stretch;justify-content: center;background-color: white;position: relative;}#sk-container-id-1 div.sk-item::before, #sk-container-id-1 div.sk-parallel-item::before {content: \"\";position: absolute;border-left: 1px solid gray;box-sizing: border-box;top: 0;bottom: 0;left: 50%;z-index: -1;}#sk-container-id-1 div.sk-parallel-item {display: flex;flex-direction: column;z-index: 1;position: relative;background-color: white;}#sk-container-id-1 div.sk-parallel-item:first-child::after {align-self: flex-end;width: 50%;}#sk-container-id-1 div.sk-parallel-item:last-child::after {align-self: flex-start;width: 50%;}#sk-container-id-1 div.sk-parallel-item:only-child::after {width: 0;}#sk-container-id-1 div.sk-dashed-wrapped {border: 1px dashed gray;margin: 0 0.4em 0.5em 0.4em;box-sizing: border-box;padding-bottom: 0.4em;background-color: white;}#sk-container-id-1 div.sk-label label {font-family: monospace;font-weight: bold;display: inline-block;line-height: 1.2em;}#sk-container-id-1 div.sk-label-container {text-align: center;}#sk-container-id-1 div.sk-container {/* jupyter's `normalize.less` sets `[hidden] { display: none; }` but bootstrap.min.css set `[hidden] { display: none !important; }` so we also need the `!important` here to be able to override the default hidden behavior on the sphinx rendered scikit-learn.org. See: https://github.com/scikit-learn/scikit-learn/issues/21755 */display: inline-block !important;position: relative;}#sk-container-id-1 div.sk-text-repr-fallback {display: none;}</style><div id=\"sk-container-id-1\" class=\"sk-top-container\"><div class=\"sk-text-repr-fallback\"><pre>LogisticRegression(random_state=0, solver=&#x27;liblinear&#x27;)</pre><b>In a Jupyter environment, please rerun this cell to show the HTML representation or trust the notebook. <br />On GitHub, the HTML representation is unable to render, please try loading this page with nbviewer.org.</b></div><div class=\"sk-container\" hidden><div class=\"sk-item\"><div class=\"sk-estimator sk-toggleable\"><input class=\"sk-toggleable__control sk-hidden--visually\" id=\"sk-estimator-id-1\" type=\"checkbox\" checked><label for=\"sk-estimator-id-1\" class=\"sk-toggleable__label sk-toggleable__label-arrow\">LogisticRegression</label><div class=\"sk-toggleable__content\"><pre>LogisticRegression(random_state=0, solver=&#x27;liblinear&#x27;)</pre></div></div></div></div></div>"
      ],
      "text/plain": [
       "LogisticRegression(random_state=0, solver='liblinear')"
      ]
     },
     "execution_count": 58,
     "metadata": {},
     "output_type": "execute_result"
    }
   ],
   "source": [
    "model.fit(train_smote_X, train_smote_Y)"
   ]
  },
  {
   "cell_type": "markdown",
   "metadata": {
    "id": "0iEWpqC9fZ2l"
   },
   "source": [
    "Show intercept and coefficient of model"
   ]
  },
  {
   "cell_type": "code",
   "execution_count": 59,
   "metadata": {
    "ExecuteTime": {
     "end_time": "2021-11-03T15:50:55.936963Z",
     "start_time": "2021-11-03T15:50:55.915404Z"
    },
    "colab": {
     "base_uri": "https://localhost:8080/"
    },
    "executionInfo": {
     "elapsed": 15,
     "status": "ok",
     "timestamp": 1636046846454,
     "user": {
      "displayName": "Nindya Eka Apsari",
      "photoUrl": "https://lh3.googleusercontent.com/a-/AOh14GjuWqccb-wbgbvNTWLwBFx-N8yPPAwd9pHrwtbRrug=s64",
      "userId": "12206336341097363251"
     },
     "user_tz": -420
    },
    "id": "oikCT1bGfZ2q",
    "outputId": "560fe005-6b86-47cc-d7c4-1ff05d74166f"
   },
   "outputs": [
    {
     "name": "stdout",
     "output_type": "stream",
     "text": [
      "[-0.00816884] [[-0.01118473 -0.00848327 -0.50141049 -0.05217749 -1.30876905 -0.17294055\n",
      "  -0.35863524 -1.61648426 -0.11873713 -0.12138927 -0.15723659 -0.53742426\n",
      "   0.20740943 -0.89581949  1.03095059  0.02627701  0.91757529 -0.01857082]]\n"
     ]
    }
   ],
   "source": [
    "print(model.intercept_, model.coef_)"
   ]
  },
  {
   "cell_type": "markdown",
   "metadata": {
    "id": "dRhbRMCNfZ2q"
   },
   "source": [
    "Make prediction for test data"
   ]
  },
  {
   "cell_type": "code",
   "execution_count": 60,
   "metadata": {
    "ExecuteTime": {
     "end_time": "2021-11-03T15:50:57.536852Z",
     "start_time": "2021-11-03T15:50:57.504895Z"
    },
    "executionInfo": {
     "elapsed": 13,
     "status": "ok",
     "timestamp": 1636046846454,
     "user": {
      "displayName": "Nindya Eka Apsari",
      "photoUrl": "https://lh3.googleusercontent.com/a-/AOh14GjuWqccb-wbgbvNTWLwBFx-N8yPPAwd9pHrwtbRrug=s64",
      "userId": "12206336341097363251"
     },
     "user_tz": -420
    },
    "id": "_bvUfjhdfZ2q"
   },
   "outputs": [],
   "source": [
    "pred1 = model.predict(test_X)"
   ]
  },
  {
   "cell_type": "markdown",
   "metadata": {
    "id": "ga4hXZ1CfZ2q"
   },
   "source": [
    "Evaluate the model with confusion matrix"
   ]
  },
  {
   "cell_type": "code",
   "execution_count": 61,
   "metadata": {
    "ExecuteTime": {
     "end_time": "2021-11-03T12:10:19.194652Z",
     "start_time": "2021-11-03T12:10:19.178650Z"
    },
    "colab": {
     "base_uri": "https://localhost:8080/"
    },
    "executionInfo": {
     "elapsed": 12,
     "status": "ok",
     "timestamp": 1636046846454,
     "user": {
      "displayName": "Nindya Eka Apsari",
      "photoUrl": "https://lh3.googleusercontent.com/a-/AOh14GjuWqccb-wbgbvNTWLwBFx-N8yPPAwd9pHrwtbRrug=s64",
      "userId": "12206336341097363251"
     },
     "user_tz": -420
    },
    "id": "QmaqIqKFfZ2r",
    "outputId": "4a3d6de2-c021-4a2c-b75c-49837289c769"
   },
   "outputs": [
    {
     "data": {
      "text/plain": [
       "array([[5820, 1480],\n",
       "       [ 390,  546]], dtype=int64)"
      ]
     },
     "execution_count": 61,
     "metadata": {},
     "output_type": "execute_result"
    }
   ],
   "source": [
    "confusion_matrix(test_Y, pred1)"
   ]
  },
  {
   "cell_type": "markdown",
   "metadata": {
    "id": "2dWuGtYofZ2r"
   },
   "source": [
    "Evaluate the model with accuracy score"
   ]
  },
  {
   "cell_type": "code",
   "execution_count": 62,
   "metadata": {
    "ExecuteTime": {
     "end_time": "2021-11-03T15:50:58.697862Z",
     "start_time": "2021-11-03T15:50:58.681863Z"
    },
    "colab": {
     "base_uri": "https://localhost:8080/"
    },
    "executionInfo": {
     "elapsed": 9,
     "status": "ok",
     "timestamp": 1636046846454,
     "user": {
      "displayName": "Nindya Eka Apsari",
      "photoUrl": "https://lh3.googleusercontent.com/a-/AOh14GjuWqccb-wbgbvNTWLwBFx-N8yPPAwd9pHrwtbRrug=s64",
      "userId": "12206336341097363251"
     },
     "user_tz": -420
    },
    "id": "7T-oso8FfZ2r",
    "outputId": "afd3061e-0747-4955-ea0f-e2f5730b4da6"
   },
   "outputs": [
    {
     "name": "stdout",
     "output_type": "stream",
     "text": [
      "Accuracy for Logistic Regression:  0.7729480330257407\n"
     ]
    }
   ],
   "source": [
    "from sklearn.metrics import accuracy_score\n",
    "print(\"Accuracy for Logistic Regression: \",\n",
    "      accuracy_score(test_Y,pred1))"
   ]
  },
  {
   "cell_type": "markdown",
   "metadata": {
    "id": "-w7eWTwXfZ2r"
   },
   "source": [
    "### K-Nearest Neighbors"
   ]
  },
  {
   "cell_type": "markdown",
   "metadata": {
    "id": "EW_zfMV1fZ2r"
   },
   "source": [
    "Import the libraries that we going to use."
   ]
  },
  {
   "cell_type": "code",
   "execution_count": 63,
   "metadata": {
    "ExecuteTime": {
     "end_time": "2021-11-03T15:51:00.924612Z",
     "start_time": "2021-11-03T15:51:00.909056Z"
    },
    "executionInfo": {
     "elapsed": 8,
     "status": "ok",
     "timestamp": 1636046846455,
     "user": {
      "displayName": "Nindya Eka Apsari",
      "photoUrl": "https://lh3.googleusercontent.com/a-/AOh14GjuWqccb-wbgbvNTWLwBFx-N8yPPAwd9pHrwtbRrug=s64",
      "userId": "12206336341097363251"
     },
     "user_tz": -420
    },
    "id": "p_BEbRygfZ2s"
   },
   "outputs": [],
   "source": [
    "from sklearn.neighbors import KNeighborsClassifier\n",
    "knn = KNeighborsClassifier()"
   ]
  },
  {
   "cell_type": "markdown",
   "metadata": {
    "id": "v-MTRqjQfZ2s"
   },
   "source": [
    "Initialize the parameters for tuning hyperparameter grid search CV "
   ]
  },
  {
   "cell_type": "code",
   "execution_count": 64,
   "metadata": {
    "ExecuteTime": {
     "end_time": "2021-11-03T12:10:19.241635Z",
     "start_time": "2021-11-03T12:10:19.226658Z"
    },
    "executionInfo": {
     "elapsed": 7,
     "status": "ok",
     "timestamp": 1636046846455,
     "user": {
      "displayName": "Nindya Eka Apsari",
      "photoUrl": "https://lh3.googleusercontent.com/a-/AOh14GjuWqccb-wbgbvNTWLwBFx-N8yPPAwd9pHrwtbRrug=s64",
      "userId": "12206336341097363251"
     },
     "user_tz": -420
    },
    "id": "dQPBCj8AfZ2s"
   },
   "outputs": [],
   "source": [
    "# grid_param2 = {\n",
    "#    'n_neighbors': [5,15,35], \n",
    "#    'weights': ['uniform', 'distance'], \n",
    "#    'metric': ['euclidean','manhattan']\n",
    "#    }"
   ]
  },
  {
   "cell_type": "markdown",
   "metadata": {
    "id": "LsFMcr1mfZ2s"
   },
   "source": [
    "Fit the model with tuning hyperparameter grid search CV to get optimal parameter."
   ]
  },
  {
   "cell_type": "code",
   "execution_count": 65,
   "metadata": {
    "ExecuteTime": {
     "end_time": "2021-11-03T12:10:19.249619Z",
     "start_time": "2021-11-03T12:10:19.241635Z"
    },
    "executionInfo": {
     "elapsed": 7,
     "status": "ok",
     "timestamp": 1636046846455,
     "user": {
      "displayName": "Nindya Eka Apsari",
      "photoUrl": "https://lh3.googleusercontent.com/a-/AOh14GjuWqccb-wbgbvNTWLwBFx-N8yPPAwd9pHrwtbRrug=s64",
      "userId": "12206336341097363251"
     },
     "user_tz": -420
    },
    "id": "HEm2hvDxfZ2s"
   },
   "outputs": [],
   "source": [
    "# gs2 = GridSearchCV(estimator=knn,\n",
    "#                      param_grid=grid_param2,\n",
    "#                      scoring='accuracy',\n",
    "#                      cv=3)\n",
    "# gs2.fit(train_smote_X,train_smote_Y)\n",
    "# best_parameters2 = gs2.best_params_\n",
    "# print(best_parameters2)"
   ]
  },
  {
   "cell_type": "markdown",
   "metadata": {
    "id": "kQMJwC-AfZ2s"
   },
   "source": [
    "Found the best parameters are metric='manhattan',n_neighbors=5, weights='distance. To shorten the time, we do modeling with optimal parameters obtained earlier."
   ]
  },
  {
   "cell_type": "code",
   "execution_count": 66,
   "metadata": {
    "ExecuteTime": {
     "end_time": "2021-11-03T15:51:05.957642Z",
     "start_time": "2021-11-03T15:51:05.941843Z"
    },
    "executionInfo": {
     "elapsed": 7,
     "status": "ok",
     "timestamp": 1636046846455,
     "user": {
      "displayName": "Nindya Eka Apsari",
      "photoUrl": "https://lh3.googleusercontent.com/a-/AOh14GjuWqccb-wbgbvNTWLwBFx-N8yPPAwd9pHrwtbRrug=s64",
      "userId": "12206336341097363251"
     },
     "user_tz": -420
    },
    "id": "ENzaLoOdfZ2s"
   },
   "outputs": [],
   "source": [
    "model2 = KNeighborsClassifier(metric='manhattan',n_neighbors=5, weights='distance')"
   ]
  },
  {
   "cell_type": "markdown",
   "metadata": {
    "id": "ksdhvBmjfZ2t"
   },
   "source": [
    "Fit the model with train smote data"
   ]
  },
  {
   "cell_type": "code",
   "execution_count": 67,
   "metadata": {
    "ExecuteTime": {
     "end_time": "2021-11-03T15:51:07.149303Z",
     "start_time": "2021-11-03T15:51:07.124176Z"
    },
    "colab": {
     "base_uri": "https://localhost:8080/"
    },
    "executionInfo": {
     "elapsed": 371,
     "status": "ok",
     "timestamp": 1636046846819,
     "user": {
      "displayName": "Nindya Eka Apsari",
      "photoUrl": "https://lh3.googleusercontent.com/a-/AOh14GjuWqccb-wbgbvNTWLwBFx-N8yPPAwd9pHrwtbRrug=s64",
      "userId": "12206336341097363251"
     },
     "user_tz": -420
    },
    "id": "E3X8j5jTfZ2t",
    "outputId": "89e0d0e2-8dcb-4c8e-c9d4-901b33a9b212"
   },
   "outputs": [
    {
     "data": {
      "text/html": [
       "<style>#sk-container-id-2 {color: black;background-color: white;}#sk-container-id-2 pre{padding: 0;}#sk-container-id-2 div.sk-toggleable {background-color: white;}#sk-container-id-2 label.sk-toggleable__label {cursor: pointer;display: block;width: 100%;margin-bottom: 0;padding: 0.3em;box-sizing: border-box;text-align: center;}#sk-container-id-2 label.sk-toggleable__label-arrow:before {content: \"▸\";float: left;margin-right: 0.25em;color: #696969;}#sk-container-id-2 label.sk-toggleable__label-arrow:hover:before {color: black;}#sk-container-id-2 div.sk-estimator:hover label.sk-toggleable__label-arrow:before {color: black;}#sk-container-id-2 div.sk-toggleable__content {max-height: 0;max-width: 0;overflow: hidden;text-align: left;background-color: #f0f8ff;}#sk-container-id-2 div.sk-toggleable__content pre {margin: 0.2em;color: black;border-radius: 0.25em;background-color: #f0f8ff;}#sk-container-id-2 input.sk-toggleable__control:checked~div.sk-toggleable__content {max-height: 200px;max-width: 100%;overflow: auto;}#sk-container-id-2 input.sk-toggleable__control:checked~label.sk-toggleable__label-arrow:before {content: \"▾\";}#sk-container-id-2 div.sk-estimator input.sk-toggleable__control:checked~label.sk-toggleable__label {background-color: #d4ebff;}#sk-container-id-2 div.sk-label input.sk-toggleable__control:checked~label.sk-toggleable__label {background-color: #d4ebff;}#sk-container-id-2 input.sk-hidden--visually {border: 0;clip: rect(1px 1px 1px 1px);clip: rect(1px, 1px, 1px, 1px);height: 1px;margin: -1px;overflow: hidden;padding: 0;position: absolute;width: 1px;}#sk-container-id-2 div.sk-estimator {font-family: monospace;background-color: #f0f8ff;border: 1px dotted black;border-radius: 0.25em;box-sizing: border-box;margin-bottom: 0.5em;}#sk-container-id-2 div.sk-estimator:hover {background-color: #d4ebff;}#sk-container-id-2 div.sk-parallel-item::after {content: \"\";width: 100%;border-bottom: 1px solid gray;flex-grow: 1;}#sk-container-id-2 div.sk-label:hover label.sk-toggleable__label {background-color: #d4ebff;}#sk-container-id-2 div.sk-serial::before {content: \"\";position: absolute;border-left: 1px solid gray;box-sizing: border-box;top: 0;bottom: 0;left: 50%;z-index: 0;}#sk-container-id-2 div.sk-serial {display: flex;flex-direction: column;align-items: center;background-color: white;padding-right: 0.2em;padding-left: 0.2em;position: relative;}#sk-container-id-2 div.sk-item {position: relative;z-index: 1;}#sk-container-id-2 div.sk-parallel {display: flex;align-items: stretch;justify-content: center;background-color: white;position: relative;}#sk-container-id-2 div.sk-item::before, #sk-container-id-2 div.sk-parallel-item::before {content: \"\";position: absolute;border-left: 1px solid gray;box-sizing: border-box;top: 0;bottom: 0;left: 50%;z-index: -1;}#sk-container-id-2 div.sk-parallel-item {display: flex;flex-direction: column;z-index: 1;position: relative;background-color: white;}#sk-container-id-2 div.sk-parallel-item:first-child::after {align-self: flex-end;width: 50%;}#sk-container-id-2 div.sk-parallel-item:last-child::after {align-self: flex-start;width: 50%;}#sk-container-id-2 div.sk-parallel-item:only-child::after {width: 0;}#sk-container-id-2 div.sk-dashed-wrapped {border: 1px dashed gray;margin: 0 0.4em 0.5em 0.4em;box-sizing: border-box;padding-bottom: 0.4em;background-color: white;}#sk-container-id-2 div.sk-label label {font-family: monospace;font-weight: bold;display: inline-block;line-height: 1.2em;}#sk-container-id-2 div.sk-label-container {text-align: center;}#sk-container-id-2 div.sk-container {/* jupyter's `normalize.less` sets `[hidden] { display: none; }` but bootstrap.min.css set `[hidden] { display: none !important; }` so we also need the `!important` here to be able to override the default hidden behavior on the sphinx rendered scikit-learn.org. See: https://github.com/scikit-learn/scikit-learn/issues/21755 */display: inline-block !important;position: relative;}#sk-container-id-2 div.sk-text-repr-fallback {display: none;}</style><div id=\"sk-container-id-2\" class=\"sk-top-container\"><div class=\"sk-text-repr-fallback\"><pre>KNeighborsClassifier(metric=&#x27;manhattan&#x27;, weights=&#x27;distance&#x27;)</pre><b>In a Jupyter environment, please rerun this cell to show the HTML representation or trust the notebook. <br />On GitHub, the HTML representation is unable to render, please try loading this page with nbviewer.org.</b></div><div class=\"sk-container\" hidden><div class=\"sk-item\"><div class=\"sk-estimator sk-toggleable\"><input class=\"sk-toggleable__control sk-hidden--visually\" id=\"sk-estimator-id-2\" type=\"checkbox\" checked><label for=\"sk-estimator-id-2\" class=\"sk-toggleable__label sk-toggleable__label-arrow\">KNeighborsClassifier</label><div class=\"sk-toggleable__content\"><pre>KNeighborsClassifier(metric=&#x27;manhattan&#x27;, weights=&#x27;distance&#x27;)</pre></div></div></div></div></div>"
      ],
      "text/plain": [
       "KNeighborsClassifier(metric='manhattan', weights='distance')"
      ]
     },
     "execution_count": 67,
     "metadata": {},
     "output_type": "execute_result"
    }
   ],
   "source": [
    "model2.fit(train_smote_X, train_smote_Y)"
   ]
  },
  {
   "cell_type": "markdown",
   "metadata": {
    "id": "MqbDOUN3fZ2t"
   },
   "source": [
    "Make prediction for test data"
   ]
  },
  {
   "cell_type": "code",
   "execution_count": 68,
   "metadata": {
    "ExecuteTime": {
     "end_time": "2021-11-03T15:51:23.392578Z",
     "start_time": "2021-11-03T15:51:08.531699Z"
    },
    "executionInfo": {
     "elapsed": 995,
     "status": "ok",
     "timestamp": 1636046847812,
     "user": {
      "displayName": "Nindya Eka Apsari",
      "photoUrl": "https://lh3.googleusercontent.com/a-/AOh14GjuWqccb-wbgbvNTWLwBFx-N8yPPAwd9pHrwtbRrug=s64",
      "userId": "12206336341097363251"
     },
     "user_tz": -420
    },
    "id": "_wN9NwtKfZ2t"
   },
   "outputs": [],
   "source": [
    "pred2=model2.predict(test_X)"
   ]
  },
  {
   "cell_type": "markdown",
   "metadata": {
    "id": "-wP123wGfZ2v"
   },
   "source": [
    "Evaluate the model with accuracy score"
   ]
  },
  {
   "cell_type": "code",
   "execution_count": 69,
   "metadata": {
    "ExecuteTime": {
     "end_time": "2021-11-03T15:51:25.709092Z",
     "start_time": "2021-11-03T15:51:25.682838Z"
    },
    "colab": {
     "base_uri": "https://localhost:8080/"
    },
    "executionInfo": {
     "elapsed": 14,
     "status": "ok",
     "timestamp": 1636046847813,
     "user": {
      "displayName": "Nindya Eka Apsari",
      "photoUrl": "https://lh3.googleusercontent.com/a-/AOh14GjuWqccb-wbgbvNTWLwBFx-N8yPPAwd9pHrwtbRrug=s64",
      "userId": "12206336341097363251"
     },
     "user_tz": -420
    },
    "id": "tZB2mf4SfZ2v",
    "outputId": "238c8957-fe1f-4486-c5f2-85b2f0b9aba0"
   },
   "outputs": [
    {
     "name": "stdout",
     "output_type": "stream",
     "text": [
      "Accuracy for KNN:  0.7941962117532783\n"
     ]
    }
   ],
   "source": [
    "from sklearn.metrics import accuracy_score\n",
    "print(\"Accuracy for KNN: \",\n",
    "      accuracy_score(test_Y,pred2))"
   ]
  },
  {
   "cell_type": "markdown",
   "metadata": {
    "id": "fPtafBQIfZ2w"
   },
   "source": [
    "Evaluate the model with confusion matrix"
   ]
  },
  {
   "cell_type": "code",
   "execution_count": 70,
   "metadata": {
    "ExecuteTime": {
     "end_time": "2021-11-03T15:51:27.808975Z",
     "start_time": "2021-11-03T15:51:27.761641Z"
    },
    "colab": {
     "base_uri": "https://localhost:8080/"
    },
    "executionInfo": {
     "elapsed": 9,
     "status": "ok",
     "timestamp": 1636046847813,
     "user": {
      "displayName": "Nindya Eka Apsari",
      "photoUrl": "https://lh3.googleusercontent.com/a-/AOh14GjuWqccb-wbgbvNTWLwBFx-N8yPPAwd9pHrwtbRrug=s64",
      "userId": "12206336341097363251"
     },
     "user_tz": -420
    },
    "id": "ilx2F34-fZ2w",
    "outputId": "fde2a830-9599-40b8-fba5-f83b6d9f6d5d"
   },
   "outputs": [
    {
     "data": {
      "text/plain": [
       "array([[6049, 1251],\n",
       "       [ 444,  492]], dtype=int64)"
      ]
     },
     "execution_count": 70,
     "metadata": {},
     "output_type": "execute_result"
    }
   ],
   "source": [
    "CF2=confusion_matrix(test_Y, pred2)\n",
    "CF2"
   ]
  },
  {
   "cell_type": "markdown",
   "metadata": {
    "id": "9alky8qRfZ2w"
   },
   "source": [
    "### Support Vector Machine"
   ]
  },
  {
   "cell_type": "markdown",
   "metadata": {
    "id": "fK_4RQogfZ2w"
   },
   "source": [
    "Import the libraries that we going to use."
   ]
  },
  {
   "cell_type": "code",
   "execution_count": 71,
   "metadata": {
    "ExecuteTime": {
     "end_time": "2021-11-03T12:10:29.673138Z",
     "start_time": "2021-11-03T12:10:29.649110Z"
    },
    "executionInfo": {
     "elapsed": 6,
     "status": "ok",
     "timestamp": 1636046847813,
     "user": {
      "displayName": "Nindya Eka Apsari",
      "photoUrl": "https://lh3.googleusercontent.com/a-/AOh14GjuWqccb-wbgbvNTWLwBFx-N8yPPAwd9pHrwtbRrug=s64",
      "userId": "12206336341097363251"
     },
     "user_tz": -420
    },
    "id": "MXuTd_yafZ2w"
   },
   "outputs": [],
   "source": [
    "from sklearn.svm import SVC\n",
    "from sklearn import svm \n",
    "esviem = SVC()"
   ]
  },
  {
   "cell_type": "markdown",
   "metadata": {
    "id": "Y6gfrjo2jbjv"
   },
   "source": [
    "Initialize the model"
   ]
  },
  {
   "cell_type": "code",
   "execution_count": 72,
   "metadata": {
    "ExecuteTime": {
     "end_time": "2021-11-03T12:10:29.689431Z",
     "start_time": "2021-11-03T12:10:29.673138Z"
    },
    "executionInfo": {
     "elapsed": 7,
     "status": "ok",
     "timestamp": 1636046847814,
     "user": {
      "displayName": "Nindya Eka Apsari",
      "photoUrl": "https://lh3.googleusercontent.com/a-/AOh14GjuWqccb-wbgbvNTWLwBFx-N8yPPAwd9pHrwtbRrug=s64",
      "userId": "12206336341097363251"
     },
     "user_tz": -420
    },
    "id": "f9o1KYLMfZ2w"
   },
   "outputs": [],
   "source": [
    "clf = svm.SVC(kernel='linear')"
   ]
  },
  {
   "cell_type": "markdown",
   "metadata": {
    "id": "5uPCAmbojiN3"
   },
   "source": [
    "Fit the model with train smote data"
   ]
  },
  {
   "cell_type": "code",
   "execution_count": 73,
   "metadata": {
    "ExecuteTime": {
     "start_time": "2021-11-03T12:10:06.088Z"
    },
    "colab": {
     "base_uri": "https://localhost:8080/"
    },
    "executionInfo": {
     "elapsed": 66157,
     "status": "ok",
     "timestamp": 1636046913966,
     "user": {
      "displayName": "Nindya Eka Apsari",
      "photoUrl": "https://lh3.googleusercontent.com/a-/AOh14GjuWqccb-wbgbvNTWLwBFx-N8yPPAwd9pHrwtbRrug=s64",
      "userId": "12206336341097363251"
     },
     "user_tz": -420
    },
    "id": "1Jl6S1eAfZ2x",
    "outputId": "a14650ce-b56b-412c-b3dd-e55738bdb885"
   },
   "outputs": [
    {
     "data": {
      "text/html": [
       "<style>#sk-container-id-3 {color: black;background-color: white;}#sk-container-id-3 pre{padding: 0;}#sk-container-id-3 div.sk-toggleable {background-color: white;}#sk-container-id-3 label.sk-toggleable__label {cursor: pointer;display: block;width: 100%;margin-bottom: 0;padding: 0.3em;box-sizing: border-box;text-align: center;}#sk-container-id-3 label.sk-toggleable__label-arrow:before {content: \"▸\";float: left;margin-right: 0.25em;color: #696969;}#sk-container-id-3 label.sk-toggleable__label-arrow:hover:before {color: black;}#sk-container-id-3 div.sk-estimator:hover label.sk-toggleable__label-arrow:before {color: black;}#sk-container-id-3 div.sk-toggleable__content {max-height: 0;max-width: 0;overflow: hidden;text-align: left;background-color: #f0f8ff;}#sk-container-id-3 div.sk-toggleable__content pre {margin: 0.2em;color: black;border-radius: 0.25em;background-color: #f0f8ff;}#sk-container-id-3 input.sk-toggleable__control:checked~div.sk-toggleable__content {max-height: 200px;max-width: 100%;overflow: auto;}#sk-container-id-3 input.sk-toggleable__control:checked~label.sk-toggleable__label-arrow:before {content: \"▾\";}#sk-container-id-3 div.sk-estimator input.sk-toggleable__control:checked~label.sk-toggleable__label {background-color: #d4ebff;}#sk-container-id-3 div.sk-label input.sk-toggleable__control:checked~label.sk-toggleable__label {background-color: #d4ebff;}#sk-container-id-3 input.sk-hidden--visually {border: 0;clip: rect(1px 1px 1px 1px);clip: rect(1px, 1px, 1px, 1px);height: 1px;margin: -1px;overflow: hidden;padding: 0;position: absolute;width: 1px;}#sk-container-id-3 div.sk-estimator {font-family: monospace;background-color: #f0f8ff;border: 1px dotted black;border-radius: 0.25em;box-sizing: border-box;margin-bottom: 0.5em;}#sk-container-id-3 div.sk-estimator:hover {background-color: #d4ebff;}#sk-container-id-3 div.sk-parallel-item::after {content: \"\";width: 100%;border-bottom: 1px solid gray;flex-grow: 1;}#sk-container-id-3 div.sk-label:hover label.sk-toggleable__label {background-color: #d4ebff;}#sk-container-id-3 div.sk-serial::before {content: \"\";position: absolute;border-left: 1px solid gray;box-sizing: border-box;top: 0;bottom: 0;left: 50%;z-index: 0;}#sk-container-id-3 div.sk-serial {display: flex;flex-direction: column;align-items: center;background-color: white;padding-right: 0.2em;padding-left: 0.2em;position: relative;}#sk-container-id-3 div.sk-item {position: relative;z-index: 1;}#sk-container-id-3 div.sk-parallel {display: flex;align-items: stretch;justify-content: center;background-color: white;position: relative;}#sk-container-id-3 div.sk-item::before, #sk-container-id-3 div.sk-parallel-item::before {content: \"\";position: absolute;border-left: 1px solid gray;box-sizing: border-box;top: 0;bottom: 0;left: 50%;z-index: -1;}#sk-container-id-3 div.sk-parallel-item {display: flex;flex-direction: column;z-index: 1;position: relative;background-color: white;}#sk-container-id-3 div.sk-parallel-item:first-child::after {align-self: flex-end;width: 50%;}#sk-container-id-3 div.sk-parallel-item:last-child::after {align-self: flex-start;width: 50%;}#sk-container-id-3 div.sk-parallel-item:only-child::after {width: 0;}#sk-container-id-3 div.sk-dashed-wrapped {border: 1px dashed gray;margin: 0 0.4em 0.5em 0.4em;box-sizing: border-box;padding-bottom: 0.4em;background-color: white;}#sk-container-id-3 div.sk-label label {font-family: monospace;font-weight: bold;display: inline-block;line-height: 1.2em;}#sk-container-id-3 div.sk-label-container {text-align: center;}#sk-container-id-3 div.sk-container {/* jupyter's `normalize.less` sets `[hidden] { display: none; }` but bootstrap.min.css set `[hidden] { display: none !important; }` so we also need the `!important` here to be able to override the default hidden behavior on the sphinx rendered scikit-learn.org. See: https://github.com/scikit-learn/scikit-learn/issues/21755 */display: inline-block !important;position: relative;}#sk-container-id-3 div.sk-text-repr-fallback {display: none;}</style><div id=\"sk-container-id-3\" class=\"sk-top-container\"><div class=\"sk-text-repr-fallback\"><pre>SVC(kernel=&#x27;linear&#x27;)</pre><b>In a Jupyter environment, please rerun this cell to show the HTML representation or trust the notebook. <br />On GitHub, the HTML representation is unable to render, please try loading this page with nbviewer.org.</b></div><div class=\"sk-container\" hidden><div class=\"sk-item\"><div class=\"sk-estimator sk-toggleable\"><input class=\"sk-toggleable__control sk-hidden--visually\" id=\"sk-estimator-id-3\" type=\"checkbox\" checked><label for=\"sk-estimator-id-3\" class=\"sk-toggleable__label sk-toggleable__label-arrow\">SVC</label><div class=\"sk-toggleable__content\"><pre>SVC(kernel=&#x27;linear&#x27;)</pre></div></div></div></div></div>"
      ],
      "text/plain": [
       "SVC(kernel='linear')"
      ]
     },
     "execution_count": 73,
     "metadata": {},
     "output_type": "execute_result"
    }
   ],
   "source": [
    "clf.fit(train_smote_X,train_smote_Y)"
   ]
  },
  {
   "cell_type": "markdown",
   "metadata": {
    "id": "BxPgG4TqjliC"
   },
   "source": [
    "Make prediction for test data"
   ]
  },
  {
   "cell_type": "code",
   "execution_count": 74,
   "metadata": {
    "ExecuteTime": {
     "start_time": "2021-11-03T12:10:06.092Z"
    },
    "executionInfo": {
     "elapsed": 2710,
     "status": "ok",
     "timestamp": 1636046916670,
     "user": {
      "displayName": "Nindya Eka Apsari",
      "photoUrl": "https://lh3.googleusercontent.com/a-/AOh14GjuWqccb-wbgbvNTWLwBFx-N8yPPAwd9pHrwtbRrug=s64",
      "userId": "12206336341097363251"
     },
     "user_tz": -420
    },
    "id": "yW_J4MQ0fZ2x"
   },
   "outputs": [],
   "source": [
    "pred3=clf.predict(test_X)"
   ]
  },
  {
   "cell_type": "markdown",
   "metadata": {
    "id": "86bWmSPajoT2"
   },
   "source": [
    "Evaluate the model with confusion matrix"
   ]
  },
  {
   "cell_type": "code",
   "execution_count": 75,
   "metadata": {
    "ExecuteTime": {
     "start_time": "2021-11-03T12:10:06.098Z"
    },
    "colab": {
     "base_uri": "https://localhost:8080/"
    },
    "executionInfo": {
     "elapsed": 28,
     "status": "ok",
     "timestamp": 1636046916671,
     "user": {
      "displayName": "Nindya Eka Apsari",
      "photoUrl": "https://lh3.googleusercontent.com/a-/AOh14GjuWqccb-wbgbvNTWLwBFx-N8yPPAwd9pHrwtbRrug=s64",
      "userId": "12206336341097363251"
     },
     "user_tz": -420
    },
    "id": "IaN8AvE9fZ2x",
    "outputId": "9539332b-5a0a-4d45-ab69-ccbbe07c850d"
   },
   "outputs": [
    {
     "data": {
      "text/plain": [
       "array([[6567,  733],\n",
       "       [ 503,  433]], dtype=int64)"
      ]
     },
     "execution_count": 75,
     "metadata": {},
     "output_type": "execute_result"
    }
   ],
   "source": [
    "CF3=confusion_matrix(test_Y, pred3)\n",
    "CF3"
   ]
  },
  {
   "cell_type": "markdown",
   "metadata": {
    "id": "vAuDuvyFjruq"
   },
   "source": [
    "Evaluate the model with accuracy score"
   ]
  },
  {
   "cell_type": "code",
   "execution_count": 76,
   "metadata": {
    "ExecuteTime": {
     "start_time": "2021-11-03T12:10:06.102Z"
    },
    "colab": {
     "base_uri": "https://localhost:8080/"
    },
    "executionInfo": {
     "elapsed": 22,
     "status": "ok",
     "timestamp": 1636046916672,
     "user": {
      "displayName": "Nindya Eka Apsari",
      "photoUrl": "https://lh3.googleusercontent.com/a-/AOh14GjuWqccb-wbgbvNTWLwBFx-N8yPPAwd9pHrwtbRrug=s64",
      "userId": "12206336341097363251"
     },
     "user_tz": -420
    },
    "id": "y-lFTS4NfZ2x",
    "outputId": "1486a5db-e35a-4105-e04e-89d74cf9c988"
   },
   "outputs": [
    {
     "name": "stdout",
     "output_type": "stream",
     "text": [
      "Accuracy for SVM:  0.8499271491015056\n"
     ]
    }
   ],
   "source": [
    "print(\"Accuracy for SVM: \",\n",
    "      accuracy_score(test_Y,pred3))"
   ]
  },
  {
   "cell_type": "markdown",
   "metadata": {
    "id": "ulxJX2aTfZ2x"
   },
   "source": [
    "### Decision Tree"
   ]
  },
  {
   "cell_type": "markdown",
   "metadata": {
    "id": "YKZjGgKLjuoi"
   },
   "source": [
    "Import the libraries that we going to use."
   ]
  },
  {
   "cell_type": "code",
   "execution_count": 77,
   "metadata": {
    "ExecuteTime": {
     "end_time": "2021-11-03T15:51:31.307602Z",
     "start_time": "2021-11-03T15:51:31.277320Z"
    },
    "executionInfo": {
     "elapsed": 18,
     "status": "ok",
     "timestamp": 1636046916672,
     "user": {
      "displayName": "Nindya Eka Apsari",
      "photoUrl": "https://lh3.googleusercontent.com/a-/AOh14GjuWqccb-wbgbvNTWLwBFx-N8yPPAwd9pHrwtbRrug=s64",
      "userId": "12206336341097363251"
     },
     "user_tz": -420
    },
    "id": "oZHtxefafZ2x"
   },
   "outputs": [],
   "source": [
    "from sklearn.tree import DecisionTreeClassifier\n",
    "dec_tree = DecisionTreeClassifier()"
   ]
  },
  {
   "cell_type": "markdown",
   "metadata": {
    "id": "FnDi3D7zjwnW"
   },
   "source": [
    "Initialize the parameters for tuning hyperparameter grid search CV"
   ]
  },
  {
   "cell_type": "code",
   "execution_count": 78,
   "metadata": {
    "ExecuteTime": {
     "end_time": "2021-11-03T15:51:32.352130Z",
     "start_time": "2021-11-03T15:51:32.345462Z"
    },
    "executionInfo": {
     "elapsed": 18,
     "status": "ok",
     "timestamp": 1636046916673,
     "user": {
      "displayName": "Nindya Eka Apsari",
      "photoUrl": "https://lh3.googleusercontent.com/a-/AOh14GjuWqccb-wbgbvNTWLwBFx-N8yPPAwd9pHrwtbRrug=s64",
      "userId": "12206336341097363251"
     },
     "user_tz": -420
    },
    "id": "UG7MWSEZfZ2y"
   },
   "outputs": [],
   "source": [
    "# grid_param4 = {\n",
    "#    'max_depth': [10,20,100],  \n",
    "#    'criterion': ['gini','entropy']\n",
    "#    }"
   ]
  },
  {
   "cell_type": "markdown",
   "metadata": {
    "id": "C5LzKiZFkDpg"
   },
   "source": [
    "Fit the model with tuning hyperparameter grid search CV to get optimal parameter."
   ]
  },
  {
   "cell_type": "code",
   "execution_count": 79,
   "metadata": {
    "ExecuteTime": {
     "end_time": "2021-11-03T15:51:44.450198Z",
     "start_time": "2021-11-03T15:51:39.878688Z"
    },
    "executionInfo": {
     "elapsed": 17,
     "status": "ok",
     "timestamp": 1636046916673,
     "user": {
      "displayName": "Nindya Eka Apsari",
      "photoUrl": "https://lh3.googleusercontent.com/a-/AOh14GjuWqccb-wbgbvNTWLwBFx-N8yPPAwd9pHrwtbRrug=s64",
      "userId": "12206336341097363251"
     },
     "user_tz": -420
    },
    "id": "f9Kw6SidfZ2y"
   },
   "outputs": [],
   "source": [
    "# gs4 = GridSearchCV(estimator=dec_tree,\n",
    "#                      param_grid=grid_param4,\n",
    "#                      scoring='accuracy',\n",
    "#                      cv=3)\n",
    "# gs4.fit(train_smote_X,train_smote_Y)\n",
    "# best_parameters4 = gs4.best_params_\n",
    "# print(best_parameters4)"
   ]
  },
  {
   "cell_type": "markdown",
   "metadata": {
    "id": "gfOTbfUEkFGS"
   },
   "source": [
    "Found the best parameters are criterion='entropy',max_depth=100. To shorten the time, we do modeling with optimal parameters obtained earlier."
   ]
  },
  {
   "cell_type": "code",
   "execution_count": 80,
   "metadata": {
    "ExecuteTime": {
     "end_time": "2021-11-03T15:53:59.233243Z",
     "start_time": "2021-11-03T15:53:58.844946Z"
    },
    "colab": {
     "base_uri": "https://localhost:8080/"
    },
    "executionInfo": {
     "elapsed": 602,
     "status": "ok",
     "timestamp": 1636046917258,
     "user": {
      "displayName": "Nindya Eka Apsari",
      "photoUrl": "https://lh3.googleusercontent.com/a-/AOh14GjuWqccb-wbgbvNTWLwBFx-N8yPPAwd9pHrwtbRrug=s64",
      "userId": "12206336341097363251"
     },
     "user_tz": -420
    },
    "id": "qcdBsAI7fZ2y",
    "outputId": "83ea62fa-ed33-42f6-eec8-b87753d52989"
   },
   "outputs": [
    {
     "data": {
      "text/html": [
       "<style>#sk-container-id-4 {color: black;background-color: white;}#sk-container-id-4 pre{padding: 0;}#sk-container-id-4 div.sk-toggleable {background-color: white;}#sk-container-id-4 label.sk-toggleable__label {cursor: pointer;display: block;width: 100%;margin-bottom: 0;padding: 0.3em;box-sizing: border-box;text-align: center;}#sk-container-id-4 label.sk-toggleable__label-arrow:before {content: \"▸\";float: left;margin-right: 0.25em;color: #696969;}#sk-container-id-4 label.sk-toggleable__label-arrow:hover:before {color: black;}#sk-container-id-4 div.sk-estimator:hover label.sk-toggleable__label-arrow:before {color: black;}#sk-container-id-4 div.sk-toggleable__content {max-height: 0;max-width: 0;overflow: hidden;text-align: left;background-color: #f0f8ff;}#sk-container-id-4 div.sk-toggleable__content pre {margin: 0.2em;color: black;border-radius: 0.25em;background-color: #f0f8ff;}#sk-container-id-4 input.sk-toggleable__control:checked~div.sk-toggleable__content {max-height: 200px;max-width: 100%;overflow: auto;}#sk-container-id-4 input.sk-toggleable__control:checked~label.sk-toggleable__label-arrow:before {content: \"▾\";}#sk-container-id-4 div.sk-estimator input.sk-toggleable__control:checked~label.sk-toggleable__label {background-color: #d4ebff;}#sk-container-id-4 div.sk-label input.sk-toggleable__control:checked~label.sk-toggleable__label {background-color: #d4ebff;}#sk-container-id-4 input.sk-hidden--visually {border: 0;clip: rect(1px 1px 1px 1px);clip: rect(1px, 1px, 1px, 1px);height: 1px;margin: -1px;overflow: hidden;padding: 0;position: absolute;width: 1px;}#sk-container-id-4 div.sk-estimator {font-family: monospace;background-color: #f0f8ff;border: 1px dotted black;border-radius: 0.25em;box-sizing: border-box;margin-bottom: 0.5em;}#sk-container-id-4 div.sk-estimator:hover {background-color: #d4ebff;}#sk-container-id-4 div.sk-parallel-item::after {content: \"\";width: 100%;border-bottom: 1px solid gray;flex-grow: 1;}#sk-container-id-4 div.sk-label:hover label.sk-toggleable__label {background-color: #d4ebff;}#sk-container-id-4 div.sk-serial::before {content: \"\";position: absolute;border-left: 1px solid gray;box-sizing: border-box;top: 0;bottom: 0;left: 50%;z-index: 0;}#sk-container-id-4 div.sk-serial {display: flex;flex-direction: column;align-items: center;background-color: white;padding-right: 0.2em;padding-left: 0.2em;position: relative;}#sk-container-id-4 div.sk-item {position: relative;z-index: 1;}#sk-container-id-4 div.sk-parallel {display: flex;align-items: stretch;justify-content: center;background-color: white;position: relative;}#sk-container-id-4 div.sk-item::before, #sk-container-id-4 div.sk-parallel-item::before {content: \"\";position: absolute;border-left: 1px solid gray;box-sizing: border-box;top: 0;bottom: 0;left: 50%;z-index: -1;}#sk-container-id-4 div.sk-parallel-item {display: flex;flex-direction: column;z-index: 1;position: relative;background-color: white;}#sk-container-id-4 div.sk-parallel-item:first-child::after {align-self: flex-end;width: 50%;}#sk-container-id-4 div.sk-parallel-item:last-child::after {align-self: flex-start;width: 50%;}#sk-container-id-4 div.sk-parallel-item:only-child::after {width: 0;}#sk-container-id-4 div.sk-dashed-wrapped {border: 1px dashed gray;margin: 0 0.4em 0.5em 0.4em;box-sizing: border-box;padding-bottom: 0.4em;background-color: white;}#sk-container-id-4 div.sk-label label {font-family: monospace;font-weight: bold;display: inline-block;line-height: 1.2em;}#sk-container-id-4 div.sk-label-container {text-align: center;}#sk-container-id-4 div.sk-container {/* jupyter's `normalize.less` sets `[hidden] { display: none; }` but bootstrap.min.css set `[hidden] { display: none !important; }` so we also need the `!important` here to be able to override the default hidden behavior on the sphinx rendered scikit-learn.org. See: https://github.com/scikit-learn/scikit-learn/issues/21755 */display: inline-block !important;position: relative;}#sk-container-id-4 div.sk-text-repr-fallback {display: none;}</style><div id=\"sk-container-id-4\" class=\"sk-top-container\"><div class=\"sk-text-repr-fallback\"><pre>DecisionTreeClassifier(criterion=&#x27;entropy&#x27;, max_depth=100)</pre><b>In a Jupyter environment, please rerun this cell to show the HTML representation or trust the notebook. <br />On GitHub, the HTML representation is unable to render, please try loading this page with nbviewer.org.</b></div><div class=\"sk-container\" hidden><div class=\"sk-item\"><div class=\"sk-estimator sk-toggleable\"><input class=\"sk-toggleable__control sk-hidden--visually\" id=\"sk-estimator-id-4\" type=\"checkbox\" checked><label for=\"sk-estimator-id-4\" class=\"sk-toggleable__label sk-toggleable__label-arrow\">DecisionTreeClassifier</label><div class=\"sk-toggleable__content\"><pre>DecisionTreeClassifier(criterion=&#x27;entropy&#x27;, max_depth=100)</pre></div></div></div></div></div>"
      ],
      "text/plain": [
       "DecisionTreeClassifier(criterion='entropy', max_depth=100)"
      ]
     },
     "execution_count": 80,
     "metadata": {},
     "output_type": "execute_result"
    }
   ],
   "source": [
    "model4 = DecisionTreeClassifier(criterion='entropy',max_depth=100)\n",
    "model4.fit(train_smote_X,train_smote_Y)"
   ]
  },
  {
   "cell_type": "markdown",
   "metadata": {
    "id": "jDC7fQFUkSap"
   },
   "source": [
    "Make prediction for test data"
   ]
  },
  {
   "cell_type": "code",
   "execution_count": 81,
   "metadata": {
    "ExecuteTime": {
     "end_time": "2021-11-03T15:54:12.408881Z",
     "start_time": "2021-11-03T15:54:12.393107Z"
    },
    "executionInfo": {
     "elapsed": 17,
     "status": "ok",
     "timestamp": 1636046917259,
     "user": {
      "displayName": "Nindya Eka Apsari",
      "photoUrl": "https://lh3.googleusercontent.com/a-/AOh14GjuWqccb-wbgbvNTWLwBFx-N8yPPAwd9pHrwtbRrug=s64",
      "userId": "12206336341097363251"
     },
     "user_tz": -420
    },
    "id": "QbsWc4cMfZ2y"
   },
   "outputs": [],
   "source": [
    "pred4=model4.predict(test_X)"
   ]
  },
  {
   "cell_type": "markdown",
   "metadata": {
    "id": "P4EUtpEokU8q"
   },
   "source": [
    "Evaluate the model with accuracy score"
   ]
  },
  {
   "cell_type": "code",
   "execution_count": 82,
   "metadata": {
    "ExecuteTime": {
     "end_time": "2021-11-03T15:54:13.785632Z",
     "start_time": "2021-11-03T15:54:13.761185Z"
    },
    "colab": {
     "base_uri": "https://localhost:8080/"
    },
    "executionInfo": {
     "elapsed": 17,
     "status": "ok",
     "timestamp": 1636046917259,
     "user": {
      "displayName": "Nindya Eka Apsari",
      "photoUrl": "https://lh3.googleusercontent.com/a-/AOh14GjuWqccb-wbgbvNTWLwBFx-N8yPPAwd9pHrwtbRrug=s64",
      "userId": "12206336341097363251"
     },
     "user_tz": -420
    },
    "id": "cQpnWfiofZ2y",
    "outputId": "3060a689-6d26-419d-b578-5a5719d884dd"
   },
   "outputs": [
    {
     "name": "stdout",
     "output_type": "stream",
     "text": [
      "Accuracy for Decision Tree:  0.8228508984944147\n"
     ]
    }
   ],
   "source": [
    "print(\"Accuracy for Decision Tree: \",\n",
    "      accuracy_score(test_Y,pred4))"
   ]
  },
  {
   "cell_type": "markdown",
   "metadata": {
    "id": "lpP8OUb0kXGJ"
   },
   "source": [
    "Evaluate the model with confusion matrix"
   ]
  },
  {
   "cell_type": "code",
   "execution_count": 83,
   "metadata": {
    "ExecuteTime": {
     "end_time": "2021-11-03T15:54:15.543872Z",
     "start_time": "2021-11-03T15:54:15.518596Z"
    },
    "colab": {
     "base_uri": "https://localhost:8080/"
    },
    "executionInfo": {
     "elapsed": 12,
     "status": "ok",
     "timestamp": 1636046917259,
     "user": {
      "displayName": "Nindya Eka Apsari",
      "photoUrl": "https://lh3.googleusercontent.com/a-/AOh14GjuWqccb-wbgbvNTWLwBFx-N8yPPAwd9pHrwtbRrug=s64",
      "userId": "12206336341097363251"
     },
     "user_tz": -420
    },
    "id": "ZQoVK6h3fZ2z",
    "outputId": "1573185e-25c5-40aa-dc24-a7985c1b37db"
   },
   "outputs": [
    {
     "data": {
      "text/plain": [
       "array([[6422,  878],\n",
       "       [ 581,  355]], dtype=int64)"
      ]
     },
     "execution_count": 83,
     "metadata": {},
     "output_type": "execute_result"
    }
   ],
   "source": [
    "CF4=confusion_matrix(test_Y, pred4)\n",
    "CF4"
   ]
  },
  {
   "cell_type": "markdown",
   "metadata": {
    "id": "6tx9hmv7fZ2z"
   },
   "source": [
    "### Random Forest"
   ]
  },
  {
   "cell_type": "markdown",
   "metadata": {
    "id": "ynpDBu9ZkZ7H"
   },
   "source": [
    "Import the libraries that we going to use."
   ]
  },
  {
   "cell_type": "code",
   "execution_count": 84,
   "metadata": {
    "ExecuteTime": {
     "end_time": "2021-11-03T15:54:19.181658Z",
     "start_time": "2021-11-03T15:54:19.171052Z"
    },
    "executionInfo": {
     "elapsed": 8,
     "status": "ok",
     "timestamp": 1636046917260,
     "user": {
      "displayName": "Nindya Eka Apsari",
      "photoUrl": "https://lh3.googleusercontent.com/a-/AOh14GjuWqccb-wbgbvNTWLwBFx-N8yPPAwd9pHrwtbRrug=s64",
      "userId": "12206336341097363251"
     },
     "user_tz": -420
    },
    "id": "1yqpJh3SfZ2z"
   },
   "outputs": [],
   "source": [
    "from sklearn.ensemble import RandomForestClassifier\n",
    "rfc=RandomForestClassifier(random_state=123)"
   ]
  },
  {
   "cell_type": "markdown",
   "metadata": {
    "id": "sM06KaMMkcoT"
   },
   "source": [
    "Initialize the parameters for tuning hyperparameter grid search CV"
   ]
  },
  {
   "cell_type": "code",
   "execution_count": 85,
   "metadata": {
    "ExecuteTime": {
     "end_time": "2021-11-03T15:54:20.113018Z",
     "start_time": "2021-11-03T15:54:20.104980Z"
    },
    "executionInfo": {
     "elapsed": 7,
     "status": "ok",
     "timestamp": 1636046917260,
     "user": {
      "displayName": "Nindya Eka Apsari",
      "photoUrl": "https://lh3.googleusercontent.com/a-/AOh14GjuWqccb-wbgbvNTWLwBFx-N8yPPAwd9pHrwtbRrug=s64",
      "userId": "12206336341097363251"
     },
     "user_tz": -420
    },
    "id": "KdCZoC8gfZ20"
   },
   "outputs": [],
   "source": [
    "# param_grid = { \n",
    "#     'n_estimators': [200, 1000],\n",
    "#     'max_features': ['auto','log2'],\n",
    "#     'criterion' :['entropy','gini']\n",
    "# }"
   ]
  },
  {
   "cell_type": "markdown",
   "metadata": {
    "id": "ZOD1CGhgkfxI"
   },
   "source": [
    "Fit the model with tuning hyperparameter grid search CV to get optimal parameter."
   ]
  },
  {
   "cell_type": "code",
   "execution_count": 86,
   "metadata": {
    "ExecuteTime": {
     "end_time": "2021-11-03T16:02:15.004259Z",
     "start_time": "2021-11-03T15:54:23.905336Z"
    },
    "executionInfo": {
     "elapsed": 8,
     "status": "ok",
     "timestamp": 1636046917261,
     "user": {
      "displayName": "Nindya Eka Apsari",
      "photoUrl": "https://lh3.googleusercontent.com/a-/AOh14GjuWqccb-wbgbvNTWLwBFx-N8yPPAwd9pHrwtbRrug=s64",
      "userId": "12206336341097363251"
     },
     "user_tz": -420
    },
    "id": "b2CYf46lfZ20"
   },
   "outputs": [],
   "source": [
    "# CV_rfc = GridSearchCV(estimator=rfc, \n",
    "#                       param_grid=param_grid, \n",
    "#                       cv= 3)\n",
    "# CV_rfc.fit(train_smote_X, train_smote_Y)\n",
    "# best_parameters5 = CV_rfc.best_params_\n",
    "# print(best_parameters5)"
   ]
  },
  {
   "cell_type": "markdown",
   "metadata": {
    "id": "oV0qIlczkhe8"
   },
   "source": [
    "Found the best parameters are criterion='entropy',max_features='auto',n_estimators=1000. To shorten the time, we do modeling with optimal parameters obtained earlier."
   ]
  },
  {
   "cell_type": "code",
   "execution_count": 87,
   "metadata": {
    "ExecuteTime": {
     "end_time": "2021-11-03T16:05:22.060819Z",
     "start_time": "2021-11-03T16:04:31.923783Z"
    },
    "colab": {
     "base_uri": "https://localhost:8080/"
    },
    "executionInfo": {
     "elapsed": 72746,
     "status": "ok",
     "timestamp": 1636046989999,
     "user": {
      "displayName": "Nindya Eka Apsari",
      "photoUrl": "https://lh3.googleusercontent.com/a-/AOh14GjuWqccb-wbgbvNTWLwBFx-N8yPPAwd9pHrwtbRrug=s64",
      "userId": "12206336341097363251"
     },
     "user_tz": -420
    },
    "id": "gHZDYHEcfZ20",
    "outputId": "6f0d7ba2-4a3b-46db-ee22-5eb764982905"
   },
   "outputs": [
    {
     "data": {
      "text/html": [
       "<style>#sk-container-id-5 {color: black;background-color: white;}#sk-container-id-5 pre{padding: 0;}#sk-container-id-5 div.sk-toggleable {background-color: white;}#sk-container-id-5 label.sk-toggleable__label {cursor: pointer;display: block;width: 100%;margin-bottom: 0;padding: 0.3em;box-sizing: border-box;text-align: center;}#sk-container-id-5 label.sk-toggleable__label-arrow:before {content: \"▸\";float: left;margin-right: 0.25em;color: #696969;}#sk-container-id-5 label.sk-toggleable__label-arrow:hover:before {color: black;}#sk-container-id-5 div.sk-estimator:hover label.sk-toggleable__label-arrow:before {color: black;}#sk-container-id-5 div.sk-toggleable__content {max-height: 0;max-width: 0;overflow: hidden;text-align: left;background-color: #f0f8ff;}#sk-container-id-5 div.sk-toggleable__content pre {margin: 0.2em;color: black;border-radius: 0.25em;background-color: #f0f8ff;}#sk-container-id-5 input.sk-toggleable__control:checked~div.sk-toggleable__content {max-height: 200px;max-width: 100%;overflow: auto;}#sk-container-id-5 input.sk-toggleable__control:checked~label.sk-toggleable__label-arrow:before {content: \"▾\";}#sk-container-id-5 div.sk-estimator input.sk-toggleable__control:checked~label.sk-toggleable__label {background-color: #d4ebff;}#sk-container-id-5 div.sk-label input.sk-toggleable__control:checked~label.sk-toggleable__label {background-color: #d4ebff;}#sk-container-id-5 input.sk-hidden--visually {border: 0;clip: rect(1px 1px 1px 1px);clip: rect(1px, 1px, 1px, 1px);height: 1px;margin: -1px;overflow: hidden;padding: 0;position: absolute;width: 1px;}#sk-container-id-5 div.sk-estimator {font-family: monospace;background-color: #f0f8ff;border: 1px dotted black;border-radius: 0.25em;box-sizing: border-box;margin-bottom: 0.5em;}#sk-container-id-5 div.sk-estimator:hover {background-color: #d4ebff;}#sk-container-id-5 div.sk-parallel-item::after {content: \"\";width: 100%;border-bottom: 1px solid gray;flex-grow: 1;}#sk-container-id-5 div.sk-label:hover label.sk-toggleable__label {background-color: #d4ebff;}#sk-container-id-5 div.sk-serial::before {content: \"\";position: absolute;border-left: 1px solid gray;box-sizing: border-box;top: 0;bottom: 0;left: 50%;z-index: 0;}#sk-container-id-5 div.sk-serial {display: flex;flex-direction: column;align-items: center;background-color: white;padding-right: 0.2em;padding-left: 0.2em;position: relative;}#sk-container-id-5 div.sk-item {position: relative;z-index: 1;}#sk-container-id-5 div.sk-parallel {display: flex;align-items: stretch;justify-content: center;background-color: white;position: relative;}#sk-container-id-5 div.sk-item::before, #sk-container-id-5 div.sk-parallel-item::before {content: \"\";position: absolute;border-left: 1px solid gray;box-sizing: border-box;top: 0;bottom: 0;left: 50%;z-index: -1;}#sk-container-id-5 div.sk-parallel-item {display: flex;flex-direction: column;z-index: 1;position: relative;background-color: white;}#sk-container-id-5 div.sk-parallel-item:first-child::after {align-self: flex-end;width: 50%;}#sk-container-id-5 div.sk-parallel-item:last-child::after {align-self: flex-start;width: 50%;}#sk-container-id-5 div.sk-parallel-item:only-child::after {width: 0;}#sk-container-id-5 div.sk-dashed-wrapped {border: 1px dashed gray;margin: 0 0.4em 0.5em 0.4em;box-sizing: border-box;padding-bottom: 0.4em;background-color: white;}#sk-container-id-5 div.sk-label label {font-family: monospace;font-weight: bold;display: inline-block;line-height: 1.2em;}#sk-container-id-5 div.sk-label-container {text-align: center;}#sk-container-id-5 div.sk-container {/* jupyter's `normalize.less` sets `[hidden] { display: none; }` but bootstrap.min.css set `[hidden] { display: none !important; }` so we also need the `!important` here to be able to override the default hidden behavior on the sphinx rendered scikit-learn.org. See: https://github.com/scikit-learn/scikit-learn/issues/21755 */display: inline-block !important;position: relative;}#sk-container-id-5 div.sk-text-repr-fallback {display: none;}</style><div id=\"sk-container-id-5\" class=\"sk-top-container\"><div class=\"sk-text-repr-fallback\"><pre>RandomForestClassifier(criterion=&#x27;entropy&#x27;, max_features=&#x27;auto&#x27;,\n",
       "                       n_estimators=1000)</pre><b>In a Jupyter environment, please rerun this cell to show the HTML representation or trust the notebook. <br />On GitHub, the HTML representation is unable to render, please try loading this page with nbviewer.org.</b></div><div class=\"sk-container\" hidden><div class=\"sk-item\"><div class=\"sk-estimator sk-toggleable\"><input class=\"sk-toggleable__control sk-hidden--visually\" id=\"sk-estimator-id-5\" type=\"checkbox\" checked><label for=\"sk-estimator-id-5\" class=\"sk-toggleable__label sk-toggleable__label-arrow\">RandomForestClassifier</label><div class=\"sk-toggleable__content\"><pre>RandomForestClassifier(criterion=&#x27;entropy&#x27;, max_features=&#x27;auto&#x27;,\n",
       "                       n_estimators=1000)</pre></div></div></div></div></div>"
      ],
      "text/plain": [
       "RandomForestClassifier(criterion='entropy', max_features='auto',\n",
       "                       n_estimators=1000)"
      ]
     },
     "execution_count": 87,
     "metadata": {},
     "output_type": "execute_result"
    }
   ],
   "source": [
    "model5 = RandomForestClassifier(criterion='entropy',max_features='auto',n_estimators=1000)\n",
    "model5.fit(train_smote_X,train_smote_Y)"
   ]
  },
  {
   "cell_type": "markdown",
   "metadata": {
    "id": "EqyJBaH3kpSq"
   },
   "source": [
    "Make prediction for test data"
   ]
  },
  {
   "cell_type": "code",
   "execution_count": 67,
   "metadata": {
    "ExecuteTime": {
     "end_time": "2021-11-03T16:05:28.712886Z",
     "start_time": "2021-11-03T16:05:26.143844Z"
    },
    "executionInfo": {
     "elapsed": 1788,
     "status": "ok",
     "timestamp": 1636046991781,
     "user": {
      "displayName": "Nindya Eka Apsari",
      "photoUrl": "https://lh3.googleusercontent.com/a-/AOh14GjuWqccb-wbgbvNTWLwBFx-N8yPPAwd9pHrwtbRrug=s64",
      "userId": "12206336341097363251"
     },
     "user_tz": -420
    },
    "id": "lOiLCF5-fZ20"
   },
   "outputs": [],
   "source": [
    "pred5=model5.predict(test_X)"
   ]
  },
  {
   "cell_type": "markdown",
   "metadata": {
    "id": "9-NUz5OZkrQo"
   },
   "source": [
    "Evaluate the model with accuracy score"
   ]
  },
  {
   "cell_type": "code",
   "execution_count": 68,
   "metadata": {
    "ExecuteTime": {
     "end_time": "2021-11-03T16:05:30.712135Z",
     "start_time": "2021-11-03T16:05:30.703661Z"
    },
    "colab": {
     "base_uri": "https://localhost:8080/"
    },
    "executionInfo": {
     "elapsed": 33,
     "status": "ok",
     "timestamp": 1636046991781,
     "user": {
      "displayName": "Nindya Eka Apsari",
      "photoUrl": "https://lh3.googleusercontent.com/a-/AOh14GjuWqccb-wbgbvNTWLwBFx-N8yPPAwd9pHrwtbRrug=s64",
      "userId": "12206336341097363251"
     },
     "user_tz": -420
    },
    "id": "ylVHEYmkfZ21",
    "outputId": "875f3525-eb29-4467-9da7-ff398ddc4d56"
   },
   "outputs": [
    {
     "name": "stdout",
     "output_type": "stream",
     "text": [
      "Accuracy for Random Forest:  0.8577229170050349\n"
     ]
    }
   ],
   "source": [
    "from sklearn.metrics import accuracy_score\n",
    "print(\"Accuracy for Random Forest: \",accuracy_score(test_Y,pred5))"
   ]
  },
  {
   "cell_type": "markdown",
   "metadata": {
    "id": "p5QIlq_wku19"
   },
   "source": [
    "Evaluate the model with confusion matrix"
   ]
  },
  {
   "cell_type": "code",
   "execution_count": 69,
   "metadata": {
    "ExecuteTime": {
     "end_time": "2021-11-03T16:05:39.303593Z",
     "start_time": "2021-11-03T16:05:39.281993Z"
    },
    "colab": {
     "base_uri": "https://localhost:8080/"
    },
    "executionInfo": {
     "elapsed": 31,
     "status": "ok",
     "timestamp": 1636046991782,
     "user": {
      "displayName": "Nindya Eka Apsari",
      "photoUrl": "https://lh3.googleusercontent.com/a-/AOh14GjuWqccb-wbgbvNTWLwBFx-N8yPPAwd9pHrwtbRrug=s64",
      "userId": "12206336341097363251"
     },
     "user_tz": -420
    },
    "id": "bUi4hIhxfZ21",
    "outputId": "23726117-6007-46d0-a8f4-e9e9b0c4b76a"
   },
   "outputs": [
    {
     "data": {
      "text/plain": [
       "array([[4933,  404],\n",
       "       [ 472,  348]], dtype=int64)"
      ]
     },
     "execution_count": 69,
     "metadata": {},
     "output_type": "execute_result"
    }
   ],
   "source": [
    "from sklearn.metrics import confusion_matrix\n",
    "CF=confusion_matrix(test_Y, pred5)\n",
    "CF"
   ]
  },
  {
   "cell_type": "markdown",
   "metadata": {
    "id": "7IJdSDdJfZ21"
   },
   "source": [
    "### Naive Bayes"
   ]
  },
  {
   "cell_type": "markdown",
   "metadata": {
    "id": "FwmOT4d5k591"
   },
   "source": [
    "Import the libraries that we going to use."
   ]
  },
  {
   "cell_type": "code",
   "execution_count": 70,
   "metadata": {
    "ExecuteTime": {
     "end_time": "2021-11-03T16:06:54.077631Z",
     "start_time": "2021-11-03T16:06:54.047655Z"
    },
    "executionInfo": {
     "elapsed": 26,
     "status": "ok",
     "timestamp": 1636046991782,
     "user": {
      "displayName": "Nindya Eka Apsari",
      "photoUrl": "https://lh3.googleusercontent.com/a-/AOh14GjuWqccb-wbgbvNTWLwBFx-N8yPPAwd9pHrwtbRrug=s64",
      "userId": "12206336341097363251"
     },
     "user_tz": -420
    },
    "id": "oDQAb9vdfZ21"
   },
   "outputs": [],
   "source": [
    "from sklearn.naive_bayes import GaussianNB\n",
    "gnb = GaussianNB()"
   ]
  },
  {
   "cell_type": "markdown",
   "metadata": {
    "id": "jeWp8gkuk72Y"
   },
   "source": [
    "Fit the model with train smote data"
   ]
  },
  {
   "cell_type": "code",
   "execution_count": 71,
   "metadata": {
    "ExecuteTime": {
     "end_time": "2021-11-03T16:06:55.778792Z",
     "start_time": "2021-11-03T16:06:55.708731Z"
    },
    "colab": {
     "base_uri": "https://localhost:8080/"
    },
    "executionInfo": {
     "elapsed": 27,
     "status": "ok",
     "timestamp": 1636046991783,
     "user": {
      "displayName": "Nindya Eka Apsari",
      "photoUrl": "https://lh3.googleusercontent.com/a-/AOh14GjuWqccb-wbgbvNTWLwBFx-N8yPPAwd9pHrwtbRrug=s64",
      "userId": "12206336341097363251"
     },
     "user_tz": -420
    },
    "id": "4bY0gnCefZ21",
    "outputId": "92312860-b201-41b7-bd4a-f7feb6601357"
   },
   "outputs": [
    {
     "data": {
      "text/html": [
       "<style>#sk-container-id-6 {color: black;background-color: white;}#sk-container-id-6 pre{padding: 0;}#sk-container-id-6 div.sk-toggleable {background-color: white;}#sk-container-id-6 label.sk-toggleable__label {cursor: pointer;display: block;width: 100%;margin-bottom: 0;padding: 0.3em;box-sizing: border-box;text-align: center;}#sk-container-id-6 label.sk-toggleable__label-arrow:before {content: \"▸\";float: left;margin-right: 0.25em;color: #696969;}#sk-container-id-6 label.sk-toggleable__label-arrow:hover:before {color: black;}#sk-container-id-6 div.sk-estimator:hover label.sk-toggleable__label-arrow:before {color: black;}#sk-container-id-6 div.sk-toggleable__content {max-height: 0;max-width: 0;overflow: hidden;text-align: left;background-color: #f0f8ff;}#sk-container-id-6 div.sk-toggleable__content pre {margin: 0.2em;color: black;border-radius: 0.25em;background-color: #f0f8ff;}#sk-container-id-6 input.sk-toggleable__control:checked~div.sk-toggleable__content {max-height: 200px;max-width: 100%;overflow: auto;}#sk-container-id-6 input.sk-toggleable__control:checked~label.sk-toggleable__label-arrow:before {content: \"▾\";}#sk-container-id-6 div.sk-estimator input.sk-toggleable__control:checked~label.sk-toggleable__label {background-color: #d4ebff;}#sk-container-id-6 div.sk-label input.sk-toggleable__control:checked~label.sk-toggleable__label {background-color: #d4ebff;}#sk-container-id-6 input.sk-hidden--visually {border: 0;clip: rect(1px 1px 1px 1px);clip: rect(1px, 1px, 1px, 1px);height: 1px;margin: -1px;overflow: hidden;padding: 0;position: absolute;width: 1px;}#sk-container-id-6 div.sk-estimator {font-family: monospace;background-color: #f0f8ff;border: 1px dotted black;border-radius: 0.25em;box-sizing: border-box;margin-bottom: 0.5em;}#sk-container-id-6 div.sk-estimator:hover {background-color: #d4ebff;}#sk-container-id-6 div.sk-parallel-item::after {content: \"\";width: 100%;border-bottom: 1px solid gray;flex-grow: 1;}#sk-container-id-6 div.sk-label:hover label.sk-toggleable__label {background-color: #d4ebff;}#sk-container-id-6 div.sk-serial::before {content: \"\";position: absolute;border-left: 1px solid gray;box-sizing: border-box;top: 0;bottom: 0;left: 50%;z-index: 0;}#sk-container-id-6 div.sk-serial {display: flex;flex-direction: column;align-items: center;background-color: white;padding-right: 0.2em;padding-left: 0.2em;position: relative;}#sk-container-id-6 div.sk-item {position: relative;z-index: 1;}#sk-container-id-6 div.sk-parallel {display: flex;align-items: stretch;justify-content: center;background-color: white;position: relative;}#sk-container-id-6 div.sk-item::before, #sk-container-id-6 div.sk-parallel-item::before {content: \"\";position: absolute;border-left: 1px solid gray;box-sizing: border-box;top: 0;bottom: 0;left: 50%;z-index: -1;}#sk-container-id-6 div.sk-parallel-item {display: flex;flex-direction: column;z-index: 1;position: relative;background-color: white;}#sk-container-id-6 div.sk-parallel-item:first-child::after {align-self: flex-end;width: 50%;}#sk-container-id-6 div.sk-parallel-item:last-child::after {align-self: flex-start;width: 50%;}#sk-container-id-6 div.sk-parallel-item:only-child::after {width: 0;}#sk-container-id-6 div.sk-dashed-wrapped {border: 1px dashed gray;margin: 0 0.4em 0.5em 0.4em;box-sizing: border-box;padding-bottom: 0.4em;background-color: white;}#sk-container-id-6 div.sk-label label {font-family: monospace;font-weight: bold;display: inline-block;line-height: 1.2em;}#sk-container-id-6 div.sk-label-container {text-align: center;}#sk-container-id-6 div.sk-container {/* jupyter's `normalize.less` sets `[hidden] { display: none; }` but bootstrap.min.css set `[hidden] { display: none !important; }` so we also need the `!important` here to be able to override the default hidden behavior on the sphinx rendered scikit-learn.org. See: https://github.com/scikit-learn/scikit-learn/issues/21755 */display: inline-block !important;position: relative;}#sk-container-id-6 div.sk-text-repr-fallback {display: none;}</style><div id=\"sk-container-id-6\" class=\"sk-top-container\"><div class=\"sk-text-repr-fallback\"><pre>GaussianNB()</pre><b>In a Jupyter environment, please rerun this cell to show the HTML representation or trust the notebook. <br />On GitHub, the HTML representation is unable to render, please try loading this page with nbviewer.org.</b></div><div class=\"sk-container\" hidden><div class=\"sk-item\"><div class=\"sk-estimator sk-toggleable\"><input class=\"sk-toggleable__control sk-hidden--visually\" id=\"sk-estimator-id-6\" type=\"checkbox\" checked><label for=\"sk-estimator-id-6\" class=\"sk-toggleable__label sk-toggleable__label-arrow\">GaussianNB</label><div class=\"sk-toggleable__content\"><pre>GaussianNB()</pre></div></div></div></div></div>"
      ],
      "text/plain": [
       "GaussianNB()"
      ]
     },
     "execution_count": 71,
     "metadata": {},
     "output_type": "execute_result"
    }
   ],
   "source": [
    "gnb.fit(train_smote_X, train_smote_Y)"
   ]
  },
  {
   "cell_type": "markdown",
   "metadata": {
    "id": "expiL-QmlHpI"
   },
   "source": [
    "Make prediction for test data"
   ]
  },
  {
   "cell_type": "code",
   "execution_count": 72,
   "metadata": {
    "ExecuteTime": {
     "end_time": "2021-11-03T16:06:57.733665Z",
     "start_time": "2021-11-03T16:06:57.700814Z"
    },
    "executionInfo": {
     "elapsed": 23,
     "status": "ok",
     "timestamp": 1636046991783,
     "user": {
      "displayName": "Nindya Eka Apsari",
      "photoUrl": "https://lh3.googleusercontent.com/a-/AOh14GjuWqccb-wbgbvNTWLwBFx-N8yPPAwd9pHrwtbRrug=s64",
      "userId": "12206336341097363251"
     },
     "user_tz": -420
    },
    "id": "Wyici4onfZ22"
   },
   "outputs": [],
   "source": [
    "pred6 = gnb.predict(test_X)"
   ]
  },
  {
   "cell_type": "markdown",
   "metadata": {
    "id": "Xm7gDoWIlK2O"
   },
   "source": [
    "Evaluate the model with accuracy score"
   ]
  },
  {
   "cell_type": "code",
   "execution_count": 73,
   "metadata": {
    "ExecuteTime": {
     "end_time": "2021-11-03T16:07:23.055958Z",
     "start_time": "2021-11-03T16:07:23.038195Z"
    },
    "colab": {
     "base_uri": "https://localhost:8080/"
    },
    "executionInfo": {
     "elapsed": 24,
     "status": "ok",
     "timestamp": 1636046991784,
     "user": {
      "displayName": "Nindya Eka Apsari",
      "photoUrl": "https://lh3.googleusercontent.com/a-/AOh14GjuWqccb-wbgbvNTWLwBFx-N8yPPAwd9pHrwtbRrug=s64",
      "userId": "12206336341097363251"
     },
     "user_tz": -420
    },
    "id": "078D30nRfZ22",
    "outputId": "3b062f32-5246-478c-b493-d2eb74a8404c"
   },
   "outputs": [
    {
     "name": "stdout",
     "output_type": "stream",
     "text": [
      "Accuracy for Naive Bayes: 0.7485788533376645\n"
     ]
    }
   ],
   "source": [
    "#Import scikit-learn metrics module for accuracy calculation\n",
    "from sklearn import metrics\n",
    "\n",
    "# Model Accuracy, how often is the classifier correct?\n",
    "print(\"Accuracy for Naive Bayes:\",metrics.accuracy_score(test_Y, pred6))"
   ]
  },
  {
   "cell_type": "markdown",
   "metadata": {
    "id": "W-bCztGilSz1"
   },
   "source": [
    "Evaluate the model with confusion matrix"
   ]
  },
  {
   "cell_type": "code",
   "execution_count": 74,
   "metadata": {
    "colab": {
     "base_uri": "https://localhost:8080/"
    },
    "executionInfo": {
     "elapsed": 20,
     "status": "ok",
     "timestamp": 1636046991784,
     "user": {
      "displayName": "Nindya Eka Apsari",
      "photoUrl": "https://lh3.googleusercontent.com/a-/AOh14GjuWqccb-wbgbvNTWLwBFx-N8yPPAwd9pHrwtbRrug=s64",
      "userId": "12206336341097363251"
     },
     "user_tz": -420
    },
    "id": "SkFxQb7DlVxT",
    "outputId": "c33bf8f4-d201-4ed3-af45-ae1775556d8a"
   },
   "outputs": [
    {
     "data": {
      "text/plain": [
       "array([[4073, 1264],\n",
       "       [ 284,  536]], dtype=int64)"
      ]
     },
     "execution_count": 74,
     "metadata": {},
     "output_type": "execute_result"
    }
   ],
   "source": [
    "from sklearn.metrics import confusion_matrix\n",
    "CF6=confusion_matrix(test_Y, pred6)\n",
    "CF6"
   ]
  },
  {
   "cell_type": "markdown",
   "metadata": {
    "id": "ei3NRCPJfZ22"
   },
   "source": [
    "## Conclusions"
   ]
  },
  {
   "cell_type": "code",
   "execution_count": 77,
   "metadata": {
    "ExecuteTime": {
     "end_time": "2021-11-03T16:07:34.600964Z",
     "start_time": "2021-11-03T16:07:34.581039Z"
    },
    "colab": {
     "base_uri": "https://localhost:8080/"
    },
    "executionInfo": {
     "elapsed": 18,
     "status": "ok",
     "timestamp": 1636046991785,
     "user": {
      "displayName": "Nindya Eka Apsari",
      "photoUrl": "https://lh3.googleusercontent.com/a-/AOh14GjuWqccb-wbgbvNTWLwBFx-N8yPPAwd9pHrwtbRrug=s64",
      "userId": "12206336341097363251"
     },
     "user_tz": -420
    },
    "id": "rQQ2Ty1afZ22",
    "outputId": "3a4ba513-27a1-4568-85fb-109a693a8a63"
   },
   "outputs": [
    {
     "name": "stdout",
     "output_type": "stream",
     "text": [
      "Accuracy for Logistic Regression:  0.7914568783498457\n",
      "Accuracy for KNN:  0.7747279519246386\n",
      "Accuracy for SVM:  0.8676303394510313\n",
      "Accuracy for Decision Tree:  0.8085106382978723\n",
      "Accuracy for Random Forest:  0.8577229170050349\n",
      "Accuracy for Naive Bayes: 0.7485788533376645\n"
     ]
    }
   ],
   "source": [
    "print(\"Accuracy for Logistic Regression: \",\n",
    "      accuracy_score(test_Y,pred1))\n",
    "print(\"Accuracy for KNN: \",\n",
    "      accuracy_score(test_Y,pred2))\n",
    "print(\"Accuracy for SVM: \",\n",
    "       accuracy_score(test_Y,pred3))\n",
    "print(\"Accuracy for Decision Tree: \",\n",
    "      accuracy_score(test_Y,pred4))\n",
    "print(\"Accuracy for Random Forest: \",\n",
    "      accuracy_score(test_Y,pred5))\n",
    "print(\"Accuracy for Naive Bayes:\",\n",
    "      metrics.accuracy_score(test_Y, pred6))"
   ]
  },
  {
   "cell_type": "markdown",
   "metadata": {
    "id": "RqEEtdX3fZ22"
   },
   "source": [
    "We get the best accuration model is SVM model. So for deployment, I recommend to use SVM model to predict customer bank in the future."
   ]
  }
 ],
 "metadata": {
  "colab": {
   "collapsed_sections": [],
   "name": "PYTN_Assign 3_002_Nindya Eka Apsari.ipynb",
   "provenance": []
  },
  "kernelspec": {
   "display_name": "Python 3 (ipykernel)",
   "language": "python",
   "name": "python3"
  },
  "language_info": {
   "codemirror_mode": {
    "name": "ipython",
    "version": 3
   },
   "file_extension": ".py",
   "mimetype": "text/x-python",
   "name": "python",
   "nbconvert_exporter": "python",
   "pygments_lexer": "ipython3",
   "version": "3.11.5"
  },
  "toc": {
   "base_numbering": 1,
   "nav_menu": {},
   "number_sections": true,
   "sideBar": true,
   "skip_h1_title": true,
   "title_cell": "Table of Contents",
   "title_sidebar": "Contents",
   "toc_cell": false,
   "toc_position": {
    "height": "701.778px",
    "left": "621px",
    "top": "180px",
    "width": "326.75px"
   },
   "toc_section_display": true,
   "toc_window_display": true
  }
 },
 "nbformat": 4,
 "nbformat_minor": 1
}
