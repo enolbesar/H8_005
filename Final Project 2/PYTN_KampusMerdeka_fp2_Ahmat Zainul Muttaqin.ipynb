{
 "cells": [
  {
   "cell_type": "markdown",
   "metadata": {},
   "source": [
    "<h1 align=\"center\"><font size=\"7\"><strong>Final Project 2</strong></font></h1>\n",
    "\n",
    "------------------------------------------------\n",
    "\n",
    "# Kelompok 2 - PYTN KS 019\n",
    "Ahmat Zainul Muttaqin"
   ]
  },
  {
   "cell_type": "markdown",
   "metadata": {},
   "source": [
    "## 1. Overview (Perkenalan)\n",
    "#### **Latar Belakang**\n",
    "Keadaan alam, khususnya cuaca, memiliki dampak signifikan pada kehidupan manusia. Banyak aktivitas sehari-hari yang sangat bergantung pada kondisi cuaca, dan prakiraan cuaca menjadi penting untuk melaksanakan kegiatan dengan efisien. Beberapa faktor cuaca yang memengaruhi termasuk suhu, kelembaban, tekanan udara, kecepatan angin, dan lain sebagainya. Hujan menjadi fenomena penting yang dipengaruhi oleh faktor cuaca ini. Oleh karena itu, diperlukan analisis dan model prediktif untuk memproyeksikan kemungkinan hujan, memungkinkan masyarakat untuk merencanakan aktivitas mereka dengan lebih baik.\n",
    "\n",
    "#### **Dataset**\n",
    "Dataset yang digunakan untuk analisis ini adalah \"Rain in Australia,\" diunduh dari Kaggle [di sini](https://www.kaggle.com/jsphyg/weather-dataset-rattle-package).\n",
    "\n",
    "Dataset ini berisi observasi harian prediksi hujan di seluruh Australia selama 10 tahun. Dataset ini terdiri dari 23 atribut dan 145.460 baris. Variabel targetnya adalah RainTomorrow, yang menunjukkan \"No\" (tidak hujan besok) dan \"Yes\" (hujan besok dengan 1mm atau lebih).\n",
    "\n",
    "#### **Objective yang Ingin Dicapai**\n",
    "Objective yang ingin dicapai dalam analisis ini yaitu:\n",
    "\n",
    "- Dapat mengetahui faktor-faktor yang berpengaruh signifikan dalam memprediksi turunnya hujan\n",
    "\n",
    "- Dapat memprediksi hujan tidaknya suatu tempat berdasarkan faktor-faktor yang mempengaruhinya menggunakan metode Regresi Logistik dan SVM"
   ]
  },
  {
   "cell_type": "markdown",
   "metadata": {},
   "source": [
    "## 2. Import Pustaka yang Dibutuhkan"
   ]
  },
  {
   "cell_type": "code",
   "execution_count": null,
   "metadata": {},
   "outputs": [],
   "source": [
    "%matplotlib inline\n",
    "import pandas as pd\n",
    "import numpy as np\n",
    "import matplotlib.pyplot as plt\n",
    "import seaborn as sns\n",
    "\n",
    "from sklearn import metrics\n",
    "from sklearn.metrics import accuracy_score,f1_score, precision_score, recall_score\n",
    "from sklearn.metrics import confusion_matrix\n",
    "from sklearn.metrics import classification_report\n",
    "\n",
    "from sklearn.preprocessing import LabelEncoder\n",
    "from sklearn.model_selection import train_test_split\n",
    "from sklearn import metrics\n",
    "from sklearn.feature_selection import SelectKBest\n",
    "from sklearn.feature_selection import f_regression\n",
    "from sklearn.linear_model import LogisticRegression\n",
    "from sklearn.svm import SVC\n",
    "\n",
    "import pickle"
   ]
  },
  {
   "cell_type": "markdown",
   "metadata": {},
   "source": [
    "## 3. Data Loading\n",
    "Bagian ini berisi proses data loading yang kemudian dilanjutkan dengan explorasi data secara sederhana.\n",
    "\n",
    "a. Melakukan loading data dengan menggunakan library pandas"
   ]
  },
  {
   "cell_type": "code",
   "execution_count": null,
   "metadata": {},
   "outputs": [],
   "source": [
    "df = pd.read_csv('weatherAUS.csv')"
   ]
  },
  {
   "cell_type": "markdown",
   "metadata": {},
   "source": [
    "b. Melakukan setting untuk menampilkan semua kolom pada dataframe"
   ]
  },
  {
   "cell_type": "code",
   "execution_count": null,
   "metadata": {},
   "outputs": [],
   "source": [
    "pd.set_option(\"display.max_columns\", None)"
   ]
  },
  {
   "cell_type": "markdown",
   "metadata": {},
   "source": [
    "c. Melihat 5 baris teratas pada dataset"
   ]
  },
  {
   "cell_type": "code",
   "execution_count": null,
   "metadata": {},
   "outputs": [],
   "source": [
    "df.head()"
   ]
  },
  {
   "cell_type": "markdown",
   "metadata": {},
   "source": [
    "d. Melihat 5 baris terakhir dari dataset"
   ]
  },
  {
   "cell_type": "code",
   "execution_count": null,
   "metadata": {},
   "outputs": [],
   "source": [
    "df.tail()"
   ]
  },
  {
   "cell_type": "markdown",
   "metadata": {},
   "source": [
    "e. melihat dimensi dataset"
   ]
  },
  {
   "cell_type": "code",
   "execution_count": null,
   "metadata": {},
   "outputs": [],
   "source": [
    "df.shape"
   ]
  },
  {
   "cell_type": "markdown",
   "metadata": {},
   "source": [
    "dapat dilihat dataset memiliki dimensi 23 kolom/atribut dan 145460 baris\n",
    "\n",
    "f. melihat informasi (kolom, baris, tipe data) pada dataset"
   ]
  },
  {
   "cell_type": "code",
   "execution_count": null,
   "metadata": {},
   "outputs": [],
   "source": [
    "df.info()"
   ]
  },
  {
   "cell_type": "markdown",
   "metadata": {},
   "source": [
    "dapat dilihat dataset memiliki 57 atribut dengan tipe data float64 sebanyak 16, dan tipe data object sebanyak 7.\n",
    "\n",
    "g. Melihat rincian nama kolom pada dataset"
   ]
  },
  {
   "cell_type": "code",
   "execution_count": null,
   "metadata": {},
   "outputs": [],
   "source": [
    "df.columns"
   ]
  },
  {
   "cell_type": "markdown",
   "metadata": {},
   "source": [
    "h. Mengecek apakah pada dataset terdapat missing value"
   ]
  },
  {
   "cell_type": "code",
   "execution_count": null,
   "metadata": {},
   "outputs": [],
   "source": [
    "df.isnull().values.any()"
   ]
  },
  {
   "cell_type": "markdown",
   "metadata": {},
   "source": [
    "output menunjukkan 'True' yang berarti pada dataset masih terdapat missing value\n",
    "\n",
    "i. Melihat statistik deskriptif dari masing-masing atribut yang bertipe numeric"
   ]
  },
  {
   "cell_type": "code",
   "execution_count": null,
   "metadata": {},
   "outputs": [],
   "source": [
    "df.describe()"
   ]
  },
  {
   "cell_type": "markdown",
   "metadata": {},
   "source": [
    "j. Melihat statistik deskriptif dari masing-masing atribut yang bertipe object"
   ]
  },
  {
   "cell_type": "code",
   "execution_count": null,
   "metadata": {},
   "outputs": [],
   "source": [
    "df.describe(include='O')"
   ]
  },
  {
   "cell_type": "markdown",
   "metadata": {},
   "source": [
    "k. Melihat banyaknya unique values pada masing-masing atribut"
   ]
  },
  {
   "cell_type": "code",
   "execution_count": null,
   "metadata": {},
   "outputs": [],
   "source": [
    "for col in df.columns:\n",
    "    print(col,':', df[col].nunique())"
   ]
  },
  {
   "cell_type": "markdown",
   "metadata": {},
   "source": [
    "l. Mencoba melihat unique values pada kolom Location"
   ]
  },
  {
   "cell_type": "code",
   "execution_count": null,
   "metadata": {
    "scrolled": true
   },
   "outputs": [],
   "source": [
    "df['Location'].unique()"
   ]
  },
  {
   "cell_type": "code",
   "execution_count": null,
   "metadata": {},
   "outputs": [],
   "source": [
    "print(df['RainTomorrow'].value_counts())"
   ]
  },
  {
   "cell_type": "markdown",
   "metadata": {},
   "source": [
    "## 4. Data Cleaning\n",
    "Bagian ini mencakup langkah-langkah persiapan data sebelum melanjutkan eksplorasi lebih lanjut. Tahap pembersihan data melibatkan tindakan-tindakan seperti memberikan nama baru pada setiap kolom, menangani nilai yang hilang, menghilangkan kolom yang tidak relevan, dan langkah-langkah lain untuk memastikan kebersihan dan keteraturan data sebelum dilakukan analisis lebih lanjut.\n",
    "\n",
    "a. Melihat apakah terdapat duplikasi data pada dataset"
   ]
  },
  {
   "cell_type": "code",
   "execution_count": null,
   "metadata": {},
   "outputs": [],
   "source": [
    "df.duplicated().sum()"
   ]
  },
  {
   "cell_type": "markdown",
   "metadata": {},
   "source": [
    "dapat dilihat tidak ada duplikasi data pada dataset\n",
    "\n",
    "b. Melihat apakah terdapat _missing values_ / nilai yang hilang pada tiap kolom"
   ]
  },
  {
   "cell_type": "code",
   "execution_count": null,
   "metadata": {},
   "outputs": [],
   "source": [
    "df.isnull().sum()"
   ]
  },
  {
   "cell_type": "markdown",
   "metadata": {},
   "source": [
    "dari hasil diketahui terdapat missing value pada beberapa kolom dengan jumlah yang berbeda - beda\n",
    "\n",
    "c. Melihat berapa persen missing value pada setiap kolom"
   ]
  },
  {
   "cell_type": "code",
   "execution_count": null,
   "metadata": {},
   "outputs": [],
   "source": [
    "missing_value = df.apply(lambda x: f'{((x.isnull().sum()/df.shape[0])*100).round(2)} %')\n",
    "missing_value"
   ]
  },
  {
   "cell_type": "markdown",
   "metadata": {},
   "source": [
    "d. membuat visualisasi banyaknya missing value"
   ]
  },
  {
   "cell_type": "code",
   "execution_count": null,
   "metadata": {},
   "outputs": [],
   "source": [
    "df.isnull().sum().plot.bar()\n",
    "plt.show()"
   ]
  },
  {
   "cell_type": "markdown",
   "metadata": {},
   "source": [
    "dapat dilihat kolom Sunshine, Evaporation, Cloud9am dan Cloud3am memiliki banyak missing value\n",
    "\n",
    "e. Melakukan penghapusan kolom yang tidak diperlukan\n",
    "\n",
    "disini kami hanya akan menggunakan kolom `Location`, `MaxTemp`, `MinTemp`, `Rainfall`, `Evaporation`, `Sunshine`, `WindGustSpeed`, `Humidity9am`, `Humidity3am`, `Cloud9am`, `Cloud3am`, `RainToday`, dan `RainTomorrow` untuk melakukan prediksi dan menghapus kolom selain itu"
   ]
  },
  {
   "cell_type": "code",
   "execution_count": null,
   "metadata": {},
   "outputs": [],
   "source": [
    "drop_cols = [\"Date\", \"WindGustDir\", \"WindDir9am\", \"WindDir3pm\", \"WindSpeed9am\", \"WindSpeed3pm\", \"Pressure9am\", \"Pressure3pm\", \n",
    "             \"Temp9am\", \"Temp3pm\"]"
   ]
  },
  {
   "cell_type": "markdown",
   "metadata": {},
   "source": [
    "Melakukan penghapusan atribut dengan .drop"
   ]
  },
  {
   "cell_type": "code",
   "execution_count": null,
   "metadata": {},
   "outputs": [],
   "source": [
    "df = df.drop(drop_cols, axis=1)\n",
    "df.head()"
   ]
  },
  {
   "cell_type": "markdown",
   "metadata": {},
   "source": [
    "f. Mengisi missing values pada kolom numerical dan categorical\n",
    "- menangani missing value pada atribut target (RainTomorrow) dengan melakukan penghapusan / drop baris"
   ]
  },
  {
   "cell_type": "code",
   "execution_count": null,
   "metadata": {},
   "outputs": [],
   "source": [
    "df = df.drop(df[df['RainTomorrow'].isnull()].index)\n",
    "df.shape"
   ]
  },
  {
   "cell_type": "markdown",
   "metadata": {},
   "source": [
    "- pada kolom categorical ditangani dengan modus"
   ]
  },
  {
   "cell_type": "code",
   "execution_count": null,
   "metadata": {},
   "outputs": [],
   "source": [
    "categorical = [i for i in df.columns if df[i].dtypes == 'O']\n",
    "\n",
    "for cat_col in categorical:\n",
    "    df[cat_col].fillna(df[cat_col].mode()[0],inplace=True)\n",
    "    \n",
    "df[categorical].isnull().sum()"
   ]
  },
  {
   "cell_type": "markdown",
   "metadata": {},
   "source": [
    "- pada kolom numerical ditangani dengan median"
   ]
  },
  {
   "cell_type": "code",
   "execution_count": null,
   "metadata": {},
   "outputs": [],
   "source": [
    "numerical = [i for i in df.columns if i not in categorical]\n",
    "\n",
    "for num_col in numerical:\n",
    "    df[num_col].fillna(df[num_col].median(),inplace=True)\n",
    "    \n",
    "df[numerical].isnull().sum()"
   ]
  },
  {
   "cell_type": "code",
   "execution_count": null,
   "metadata": {},
   "outputs": [],
   "source": [
    "df.isnull().values.any()"
   ]
  },
  {
   "cell_type": "markdown",
   "metadata": {},
   "source": [
    "setelah dilakukan penanganan missing value didapakan sudah tidak ada missing value lagi pada dataset\n",
    "\n",
    "f. Memberikan nama baru pada untuk setiap kolom atau atribut"
   ]
  },
  {
   "cell_type": "code",
   "execution_count": null,
   "metadata": {},
   "outputs": [],
   "source": [
    "df = df.rename(columns={\n",
    "    'Location':'Lokasi',\n",
    "    'MinTemp':'TempMin',\n",
    "    'MaxTemp':'TempMax',\n",
    "    'Rainfall':'CurahHujan', \n",
    "    'Evaporation':'Evaporasi',\n",
    "    'Sunshine':'SinarMatahari',\n",
    "    'WindGustSpeed':'KecepatanAngin',\n",
    "    'Humidity9am':'Kelembapan9am',\n",
    "    'Humidity3pm':'Kelembapan3pm',\n",
    "    'Cloud9am':'Awan9am', \n",
    "    'Cloud3pm':'Awan3pm', \n",
    "    'RainToday':'HujanHariIni', \n",
    "    'RainTomorrow':'HujanBesok'})\n",
    "\n",
    "df.head()"
   ]
  },
  {
   "cell_type": "code",
   "execution_count": null,
   "metadata": {},
   "outputs": [],
   "source": [
    "df.columns"
   ]
  },
  {
   "cell_type": "markdown",
   "metadata": {},
   "source": [
    "g. Melihat banyaknya nilai dari masing-masing atribut"
   ]
  },
  {
   "cell_type": "code",
   "execution_count": null,
   "metadata": {},
   "outputs": [],
   "source": [
    "for col in df.columns:\n",
    "    print(col, ': ')\n",
    "    print(df[col].value_counts())\n",
    "    print('\\n','#'*60,'\\n')"
   ]
  },
  {
   "cell_type": "markdown",
   "metadata": {},
   "source": [
    "h. Membuat atribut atau kolom baru\n",
    "\n",
    "disini kami membuat atribut atau kolom baru yaitu `SelisihTemp`, yang didapatkan dengan menghitung `TempMax` dikurang dengan `TempMin`"
   ]
  },
  {
   "cell_type": "code",
   "execution_count": null,
   "metadata": {},
   "outputs": [],
   "source": [
    "df['SelisihTemp'] = df['TempMax'] - df['TempMin']\n",
    "\n",
    "# melihat data setelah ditambahkan atribut / kolom baru\n",
    "df.head()"
   ]
  },
  {
   "cell_type": "markdown",
   "metadata": {},
   "source": [
    "## 5. Eksplorasi Data\n",
    "Bagian ini berisi explorasi data pada dataset diatas dengan menggunakan query, grouping, visualisasi sederhana, dan lain sebagainya.\n",
    "\n",
    "a. Mencari Curah hujan tertinggi dan terendah untuk lokasi Albury"
   ]
  },
  {
   "cell_type": "code",
   "execution_count": null,
   "metadata": {},
   "outputs": [],
   "source": [
    "df.loc[df['Lokasi'] == 'Albury', 'CurahHujan'].agg(('min', 'max'))"
   ]
  },
  {
   "cell_type": "markdown",
   "metadata": {},
   "source": [
    "Dari hasil dketahui untuk lokasi Albury curah hujan terendah yaitu 0.0 dan curah hujan tertinggi yaitu 104.2\n",
    "\n",
    "b. Mencari waktu terlama dan tercepat hari cerah selama 24 jam. (`CahayaMatahari`)"
   ]
  },
  {
   "cell_type": "code",
   "execution_count": null,
   "metadata": {},
   "outputs": [],
   "source": [
    "df.max(axis=0)['SinarMatahari']"
   ]
  },
  {
   "cell_type": "code",
   "execution_count": null,
   "metadata": {},
   "outputs": [],
   "source": [
    "df.min(axis=0)['SinarMatahari']"
   ]
  },
  {
   "cell_type": "markdown",
   "metadata": {},
   "source": [
    "Didapatkan waktu terlama sinar matahari muncul dalam 24 jam dengan lama **14.5 jam**, dan waktu tercepat dengan lama **0 jam**.\n",
    "\n",
    "c. Mencari nilai tertinggi dan terendah pada kecepatan angin."
   ]
  },
  {
   "cell_type": "code",
   "execution_count": null,
   "metadata": {},
   "outputs": [],
   "source": [
    "df.max(axis=0)['KecepatanAngin']"
   ]
  },
  {
   "cell_type": "code",
   "execution_count": null,
   "metadata": {},
   "outputs": [],
   "source": [
    "df.min(axis=0)['KecepatanAngin']"
   ]
  },
  {
   "cell_type": "markdown",
   "metadata": {},
   "source": [
    "Didapatkan kecepatan angin tertinggi dengan nilai **135km/jam**. Sedangkan untuk kecepatan angin terendah didapat dengan nilai **0km/jam**."
   ]
  },
  {
   "cell_type": "markdown",
   "metadata": {},
   "source": [
    "d. Melihat proporsi data pada kolom Lokasi dan HujanHariIni dengan menggunakan crosstab"
   ]
  },
  {
   "cell_type": "code",
   "execution_count": null,
   "metadata": {},
   "outputs": [],
   "source": [
    "pd.crosstab(df.HujanHariIni, df.Lokasi)"
   ]
  },
  {
   "cell_type": "markdown",
   "metadata": {},
   "source": [
    "Pengamatan menunjukkan bahwa secara umum, sebagian besar lokasi cenderung jarang mengalami hujan setiap harinya. Portland, di sisi lain, menonjol karena perbedaan yang cukup tipis antara hari yang mengalami hujan dan tidak. Sebaliknya, lokasi Uluru cenderung jarang mengalami hujan.\n",
    "\n",
    "e. Mengidentifikasi rata-rata (mean) curah hujan dengan melakukan grouping berdasarkan lokasi."
   ]
  },
  {
   "cell_type": "code",
   "execution_count": null,
   "metadata": {},
   "outputs": [],
   "source": [
    "df_mean = df[['Lokasi','CurahHujan']].groupby('Lokasi').mean().sort_values(by='CurahHujan', ascending=False)\n",
    "df_mean.T"
   ]
  },
  {
   "cell_type": "markdown",
   "metadata": {},
   "source": [
    "Dapat diamati bahwa daerah Cairns memiliki rata-rata curah hujan tertinggi dengan nilai sebesar 5.76 mm. Di sisi lain, Woomera mencatat nilai terendah dengan curah hujan rata-rata sebesar 0.48 mm.\n",
    "\n",
    "f. Untuk melihat data histori top 5 record berdasarkan kriteria berikut:\n",
    "- Lokasi berada di daerah Richmond.\n",
    "- Hari di mana hujan turun.\n",
    "- Kecepatan angin 30 km/jam atau lebih."
   ]
  },
  {
   "cell_type": "code",
   "execution_count": null,
   "metadata": {},
   "outputs": [],
   "source": [
    "df[\n",
    "    (df['Lokasi'] == 'Richmond') &\n",
    "    (df['HujanHariIni'] == 'Yes') &\n",
    "    (df['KecepatanAngin'] >= 30) \n",
    "].head()"
   ]
  },
  {
   "cell_type": "markdown",
   "metadata": {},
   "source": [
    "g. Melihat statistik deskriptif pada data numerik"
   ]
  },
  {
   "cell_type": "code",
   "execution_count": null,
   "metadata": {},
   "outputs": [],
   "source": [
    "df.describe()"
   ]
  },
  {
   "cell_type": "markdown",
   "metadata": {},
   "source": [
    "Dari hasil observasi, beberapa informasi kunci dapat diidentifikasi:\n",
    "\n",
    "- Rata-rata curah hujan adalah 2.33 mm.\n",
    "- Rata-rata tingkat evaporasi adalah 5.18.\n",
    "- Rata-rata durasi sinar matahari adalah 8.04 jam.\n",
    "- Suhu terendah dicapai pada kolom TempMin sebesar -8.50 derajat Celsius.\n",
    "- Suhu tertinggi tercatat pada kolom TempMax dengan nilai 48.10 derajat Celsius.\n",
    "\n",
    "Informasi ini memberikan gambaran umum tentang kondisi cuaca berdasarkan dataset yang digunakan.\n",
    "\n",
    "h. Melihat statistik deskritif pada data kategorik"
   ]
  },
  {
   "cell_type": "code",
   "execution_count": null,
   "metadata": {},
   "outputs": [],
   "source": [
    "df.describe(include=\"O\")"
   ]
  },
  {
   "cell_type": "markdown",
   "metadata": {},
   "source": [
    "dari hasil kita dapat melhat beberapa informasi seperti:\n",
    "- Terdapat 49 lokasi dengan lokasi paling banyak terletak di Canberra\n",
    "- Tidak hujan (No) lebih dominan pada atribut Hari_ini_Hujan dan Hari_besok_Hujan\n",
    "\n",
    "i. Visualisasi line plot korelasi antara kecepatan angin dan dengan tinggi curah hujan."
   ]
  },
  {
   "cell_type": "code",
   "execution_count": null,
   "metadata": {},
   "outputs": [],
   "source": [
    "sns.lineplot(x='KecepatanAngin', y='CurahHujan', data=df)\n",
    "plt.show()"
   ]
  },
  {
   "cell_type": "markdown",
   "metadata": {},
   "source": [
    "Dapat diambil kesimpulan bahwa tinggi curah hujan cenderung berkorelasi dengan laju angin, meskipun tidak secara signifikan. Terdapat anomali pada nilai laju angin, terutama pada rentang 100-120 km/jam dan 120-140 km/jam. Perlu diperhatikan bahwa anomali ini dapat menjadi fokus lebih lanjut dalam analisis untuk memahami penyebab dan dampaknya pada kondisi cuaca.\n",
    "\n",
    "j. Melihat persebaran data pada atribut HujanHariIni dan atribut target HujanBesok"
   ]
  },
  {
   "cell_type": "code",
   "execution_count": null,
   "metadata": {},
   "outputs": [],
   "source": [
    "# Plot untuk 'HujanBesok'\n",
    "plt.subplot(1, 2, 1)\n",
    "df['HujanBesok'].value_counts().plot.bar(color='skyblue')\n",
    "plt.title('Persebaran Hujan Besok')\n",
    "plt.xlabel('Hujan Besok')\n",
    "plt.ylabel('Jumlah')\n",
    "\n",
    "# Plot untuk 'HujanHariIni'\n",
    "plt.subplot(1, 2, 2)\n",
    "df['HujanHariIni'].value_counts().plot.bar(color='purple')\n",
    "plt.title('Persebaran Hujan Hari Ini')\n",
    "plt.xlabel('Hujan Hari Ini')\n",
    "plt.ylabel('Jumlah')\n",
    "\n",
    "plt.tight_layout()\n",
    "plt.show()\n"
   ]
  },
  {
   "cell_type": "markdown",
   "metadata": {},
   "source": [
    "Terlihat kedua histogram menunjukkan proporsi yang sama. Pada atribut target HujanBesok, terdapat perbedaan yang cukup signifikan antara nilai No dan Yes\n",
    "\n",
    "k. Melihat intensitas HujanBesok di setiap lokasi"
   ]
  },
  {
   "cell_type": "code",
   "execution_count": null,
   "metadata": {},
   "outputs": [],
   "source": [
    "plt.figure(figsize=(20, 10))\n",
    "ax = sns.countplot(x=\"Lokasi\", hue=\"HujanBesok\", data=df)\n",
    "plt.title('Count Plot: Hujan Besok berdasarkan Lokasi')\n",
    "plt.xlabel('Lokasi')\n",
    "plt.ylabel('Jumlah')\n",
    "plt.show()"
   ]
  },
  {
   "cell_type": "markdown",
   "metadata": {},
   "source": [
    "Terlihat bahwa HujanBesok mempunyai intensitas yang berbeda-beda di setiap lokasi.\n",
    "\n",
    "l. Visualisasi pie chart 8 lokasi dengan rata-rata curah hujan tertinggi"
   ]
  },
  {
   "cell_type": "code",
   "execution_count": null,
   "metadata": {},
   "outputs": [],
   "source": [
    "df_mean_top8 = df_mean.head(8)\n",
    "df_area = df_mean_top8.groupby(['Lokasi']).sum()['CurahHujan'].sort_values(ascending=False)\n",
    "df_area.plot(kind='pie', figsize=(22,8), autopct='%1.0f%%')\n",
    "\n",
    "plt.title(\"Pie Chart 8 Lokasi dengan Rata-Rata Curah Hujan Tertinggi\")\n",
    "plt.show()"
   ]
  },
  {
   "cell_type": "markdown",
   "metadata": {},
   "source": [
    "dari hasil yang didapatkan dengan beberapa kecepatan angin yang ada histori terjadinya hujan hari ini di beberapa waktu hanya 24% dan tidak terjadinya hujan 76%\n",
    "\n",
    "k. Visualisasi boxplot perbandingan HujanBesok berdasarkan TempMax"
   ]
  },
  {
   "cell_type": "code",
   "execution_count": null,
   "metadata": {},
   "outputs": [],
   "source": [
    "fig, ax = plt.subplots(figsize=(9, 5))\n",
    "\n",
    "sns.boxplot(x='HujanBesok', y='TempMax', data=df, palette=\"pastel\")\n",
    "ax.set_xticklabels(['Tidak Hujan', 'Hujan'])\n",
    "plt.xlabel(\"Hujan Besok\", fontsize=12)\n",
    "plt.ylabel(\"Suhu Maksimum\", fontsize=12)\n",
    "plt.title(\"Hujan Besok vs Suhu Maksimum\", fontsize=15)\n",
    "\n",
    "plt.show()\n"
   ]
  },
  {
   "cell_type": "markdown",
   "metadata": {},
   "source": [
    "## 6. Data Preprocessing\n",
    "Bagian ini berisi proses penyiapan data untuk proses pelatihan model, seperti pembagian data menjadi train-dev-test, transformasi data (normalisasi, encoding, dll.), dan proses-proses lain yang dibutuhkan.\n",
    "\n",
    "a. Melakukan inisialisasi variabel X dan y\n",
    "\n",
    "Disini kami mendefinisikan untuk variabel X nya yaitu kolom selain `HujanBesok` dan `SelisihTemp`, sedangkan untuk variabel y yaitu `HujanBesok`"
   ]
  },
  {
   "cell_type": "code",
   "execution_count": null,
   "metadata": {},
   "outputs": [],
   "source": [
    "X = df.drop(['HujanBesok', 'SelisihTemp'], axis=1)\n",
    "y = df['HujanBesok']\n",
    "\n",
    "print(\"Dimensi X:\", X.shape)\n",
    "print(\"Dimensi y:\", y.shape)"
   ]
  },
  {
   "cell_type": "markdown",
   "metadata": {},
   "source": [
    "b. Encoding atribut kategorik menggunakan replace function pada atribut HujanBesok ,HujanHariIni, dan Lokasi"
   ]
  },
  {
   "cell_type": "code",
   "execution_count": null,
   "metadata": {},
   "outputs": [],
   "source": [
    "# Encoding pada atribut HujanBesok dan HujanHariIni\n",
    "\n",
    "df['HujanHariIni'].replace({'No':0, 'Yes': 1}, inplace = True)\n",
    "df['HujanBesok'].replace({'No':0, 'Yes': 1}, inplace = True)"
   ]
  },
  {
   "cell_type": "code",
   "execution_count": null,
   "metadata": {},
   "outputs": [],
   "source": [
    "# Encoding pada atribut Lokasi\n",
    "def encode_data(feature_name):\n",
    "     \n",
    "    mapping_dict = {}\n",
    "    unique_values = list(df[feature_name].unique())\n",
    "    for idx in range(len(unique_values)):\n",
    "        mapping_dict[unique_values[idx]] = idx\n",
    "    print(mapping_dict)\n",
    "    return mapping_dict\n",
    "\n",
    "df['Lokasi'].replace(encode_data('Lokasi'), inplace = True)"
   ]
  },
  {
   "cell_type": "code",
   "execution_count": null,
   "metadata": {},
   "outputs": [],
   "source": [
    "# Melihat 5 baris teratas dataset yang telah dilakukan encoding\n",
    "df.head()"
   ]
  },
  {
   "cell_type": "markdown",
   "metadata": {},
   "source": [
    "c. Melakukan inisialisasi ulang variabel X dan y setelah dilakukan encoding"
   ]
  },
  {
   "cell_type": "code",
   "execution_count": null,
   "metadata": {
    "scrolled": true
   },
   "outputs": [],
   "source": [
    "X_transform = df.drop(['HujanBesok', 'SelisihTemp'], axis=1)\n",
    "y = df['HujanBesok']\n",
    "\n",
    "print(X_transform.shape)\n",
    "print(y.shape)"
   ]
  },
  {
   "cell_type": "markdown",
   "metadata": {},
   "source": [
    "d. Mengecek ulang korelasi"
   ]
  },
  {
   "cell_type": "code",
   "execution_count": null,
   "metadata": {},
   "outputs": [],
   "source": [
    "plt.figure(figsize=(16, 9))\n",
    "sns.heatmap(df.corr(), annot=True)\n",
    "plt.show()"
   ]
  },
  {
   "cell_type": "markdown",
   "metadata": {},
   "source": [
    "Dari hasil matriks korelasi, beberapa temuan menarik dapat diidentifikasi:\n",
    "\n",
    "- Atribut seperti Lokasi, TempMax, Evaporasi, SinarMatahari, dan SelisihTemp menunjukkan korelasi negatif dengan atribut target HujanBesok. Ini dapat menunjukkan bahwa lokasi tertentu, suhu maksimum harian, evaporasi, durasi sinar matahari, dan selisih suhu memiliki pengaruh negatif terhadap kemungkinan hujan besok.\n",
    "\n",
    "- Sebaliknya, atribut lainnya menunjukkan korelasi positif dengan HujanBesok, menunjukkan bahwa kelembaban pada pukul 3 sore (Kelembaban3pm), kondisi awan pada pukul 3 sore (Awan3pm), dan apakah hujan terjadi hari ini (HujanHariIni) memiliki pengaruh positif terhadap kemungkinan hujan besok.\n",
    "\n",
    "- Terdapat atribut-atribut tertentu yang memiliki korelasi cukup tinggi dengan HujanBesok, yaitu Kelembaban3pm, Awan3pm, dan HujanHariIni. Korelasi yang tinggi antara atribut-atribut ini dan HujanBesok menunjukkan adanya hubungan kuat antara faktor-faktor ini dengan prediksi hujan besok.\n",
    "\n",
    "\n",
    "e. Melakukan feature selection menggunakan library F regression dengan k=12"
   ]
  },
  {
   "cell_type": "code",
   "execution_count": null,
   "metadata": {},
   "outputs": [],
   "source": [
    "topFeatures = SelectKBest(f_regression, k=12)\n",
    "fit = topFeatures.fit(X_transform, y)\n",
    "dfscores = pd.DataFrame(fit.scores_)\n",
    "dfcolumns = pd.DataFrame(X_transform.columns)\n",
    " \n",
    "featureScores = pd.concat([dfcolumns, dfscores],axis=1)\n",
    "featureScores.columns = ['Features', 'Score']\n",
    "\n",
    "print(\"Top 12 Features yang Berpengaruh\")\n",
    "print(featureScores.nlargest(12, 'Score'))"
   ]
  },
  {
   "cell_type": "markdown",
   "metadata": {},
   "source": [
    "dengan menggunakan library F regression juga didapatkan bahwa 12 feature yang paling berpengaruh dalam model yaitu `Kelembapan3pm`, `SinarMatahari`, `HujanHariIni`, `Awan3pm`, `Kelembapan9am`, `Awan9am`, `CurahHujan`, `KecepatanAngin`, `TempMax`, `Evaporasi`, `TempMin`, dan `Lokasi`\n",
    "\n",
    "f. Memasukkan hasil dari feature seletion ke dalam variabel X_fit untuk selanjutnya dilakukan pemodelan"
   ]
  },
  {
   "cell_type": "code",
   "execution_count": null,
   "metadata": {},
   "outputs": [],
   "source": [
    "X_fit = df[['Kelembapan3pm', 'SinarMatahari', 'HujanHariIni', 'Awan3pm', 'Kelembapan9am', 'Awan9am', 'CurahHujan', \n",
    "            'KecepatanAngin', 'TempMax', 'Evaporasi', 'TempMin', 'Lokasi']]"
   ]
  },
  {
   "cell_type": "markdown",
   "metadata": {},
   "source": [
    "g. Melihat 5 baris teratas dataframe X_fit"
   ]
  },
  {
   "cell_type": "code",
   "execution_count": null,
   "metadata": {},
   "outputs": [],
   "source": [
    "X_fit.head()"
   ]
  },
  {
   "cell_type": "markdown",
   "metadata": {},
   "source": [
    "h. melihat informasi (kolom, baris, tipe data) dan dimensi pada dataframe X_fit"
   ]
  },
  {
   "cell_type": "code",
   "execution_count": null,
   "metadata": {},
   "outputs": [],
   "source": [
    "X_fit.info()\n",
    "\n",
    "X_fit.shape"
   ]
  },
  {
   "cell_type": "markdown",
   "metadata": {},
   "source": [
    "i. Membagi data menjadi Training dan Testing pada kolom atau atribut yang sudah diperoleh. Untuk proporsi Training data sebesar 70% (0.70) dan Testing data sebesar 30% (0.30)"
   ]
  },
  {
   "cell_type": "code",
   "execution_count": null,
   "metadata": {},
   "outputs": [],
   "source": [
    "X_train, X_test, y_train, y_test = train_test_split(X_fit, y, test_size=0.30, random_state=13)"
   ]
  },
  {
   "cell_type": "code",
   "execution_count": null,
   "metadata": {},
   "outputs": [],
   "source": [
    "from sklearn import preprocessing\n",
    "X_train = preprocessing.scale(X_train)\n",
    "X_test = preprocessing.scale(X_test)"
   ]
  },
  {
   "cell_type": "code",
   "execution_count": null,
   "metadata": {},
   "outputs": [],
   "source": [
    "print(X_train.shape)\n",
    "print(X_test.shape)"
   ]
  },
  {
   "cell_type": "markdown",
   "metadata": {},
   "source": [
    "Berdasarkan pembagian proporsi training data/data latih dan testing data/data uji, didapatkan jumlah **data training dari keseluruhan data sebanyak 99535 data**, serta **data testing sebanyak 42658 data**."
   ]
  },
  {
   "cell_type": "markdown",
   "metadata": {},
   "source": [
    "##  7. Pendefinisian Model\n",
    "Pendefinisian Model Logistic Regression pada bagian ini dilakukan dengan menggunakan metode regresi logistik. Pemilihan metode ini didasarkan pada fakta bahwa regresi logistik cocok untuk masalah klasifikasi biner, seperti yang dihadapi dalam prediksi cuaca (hujan atau tidak hujan).\n",
    "\n",
    "**a. Model Logistic Regression**\n",
    "\n",
    "Alasan penggunaan metode ini mencakup kemampuannya menghitung probabilitas untuk setiap kelas, yang kemudian digunakan untuk membuat keputusan akhir dengan mengambil probabilitas tertinggi. Model Logistic Regression ini diharapkan dapat memberikan pemahaman yang baik tentang faktor-faktor yang mempengaruhi prediksi cuaca dan memberikan kinerja yang memadai dalam kasus klasifikasi biner ini."
   ]
  },
  {
   "cell_type": "code",
   "execution_count": null,
   "metadata": {},
   "outputs": [],
   "source": [
    "logreg = LogisticRegression(solver='liblinear', random_state=0)"
   ]
  },
  {
   "cell_type": "markdown",
   "metadata": {},
   "source": [
    "**b. Model Support Vector Machines (SVM)**\n",
    "\n",
    "Model pengujian kedua yakni model SVM. Model ini digunakan sebagai pembanding model logistic regression. Alasan menggunakan model SVM karena SVM mampu mengolah data berdimensi tinggi tanpa mengalami penurunan performa yang signifikan."
   ]
  },
  {
   "cell_type": "code",
   "execution_count": null,
   "metadata": {},
   "outputs": [],
   "source": [
    "svm_model = SVC(kernel='linear') #linear kernel"
   ]
  },
  {
   "cell_type": "markdown",
   "metadata": {},
   "source": [
    "linear kernel dapat digunakan sebagai dot product pada dua pengamatan yang diberikan.\n",
    "\n",
    "## 8. Pelatihan Model\n",
    "Cell pada bagian ini hanya berisi code untuk melatih model dan output yang dihasilkan.\n",
    "\n",
    "**a. Model Logistic Regression**"
   ]
  },
  {
   "cell_type": "code",
   "execution_count": null,
   "metadata": {},
   "outputs": [],
   "source": [
    "logreg = logreg.fit(X_train, y_train)\n",
    "logreg"
   ]
  },
  {
   "cell_type": "markdown",
   "metadata": {},
   "source": [
    "**b. Model Support Vector Machines (SVM)**"
   ]
  },
  {
   "cell_type": "code",
   "execution_count": null,
   "metadata": {},
   "outputs": [],
   "source": [
    "modelsvm = svm_model.fit(X_train, y_train)\n",
    "modelsvm"
   ]
  },
  {
   "cell_type": "markdown",
   "metadata": {},
   "source": [
    "## 9. Evaluasi Model\n",
    "Pada bagian ini, dilakukan evaluasi model yang harus menunjukkan bagaimana performa model berdasarkan metrics yang dipilih. Hal ini harus dibuktikan dengan visualisasi tren performa dan/atau tingkat kesalahan model.\n",
    "\n",
    "**a. Model Logistic Regression**\n",
    "- memeriksa performa dengan .predict_proba() yang mengembalikan matriks probabilitas bahwa keluaran yang diprediksi sama dengan nol / satu"
   ]
  },
  {
   "cell_type": "code",
   "execution_count": null,
   "metadata": {},
   "outputs": [],
   "source": [
    "logreg.predict_proba(X_test)"
   ]
  },
  {
   "cell_type": "markdown",
   "metadata": {},
   "source": [
    "- melihat predicted outputs dengan .predict()"
   ]
  },
  {
   "cell_type": "code",
   "execution_count": null,
   "metadata": {},
   "outputs": [],
   "source": [
    "y_pred_logreg = logreg.predict(X_test)\n",
    "y_pred_logreg"
   ]
  },
  {
   "cell_type": "markdown",
   "metadata": {},
   "source": [
    "- melihat nilai akurasi dengan .score"
   ]
  },
  {
   "cell_type": "code",
   "execution_count": null,
   "metadata": {},
   "outputs": [],
   "source": [
    "print(\"Test score:\", logreg.score(X_test, y_test))\n",
    "print(\"Train score:\", logreg.score(X_train, y_train))"
   ]
  },
  {
   "cell_type": "markdown",
   "metadata": {},
   "source": [
    "didapatkan hasil nilai akurasi untus test data / pengujian data yaitu 84% (0.840), sedangkan jika dibandingkan dengan train data /pelatihan data nilai akurasinnnya 83% (0.835)\n",
    "\n",
    "- Melihat confussion matrix dan classification report dari model"
   ]
  },
  {
   "cell_type": "code",
   "execution_count": null,
   "metadata": {},
   "outputs": [],
   "source": [
    "confusion_matrix(y_test, y_pred_logreg)"
   ]
  },
  {
   "cell_type": "code",
   "execution_count": null,
   "metadata": {},
   "outputs": [],
   "source": [
    "cm_logreg = confusion_matrix(y_test, y_pred_logreg)\n",
    "sns.heatmap(cm_logreg, annot=True, fmt=\"d\", linewidths=.5, cmap = 'Greys')\n",
    "plt.show()\n",
    "print(classification_report(y_test, y_pred_logreg))"
   ]
  },
  {
   "cell_type": "markdown",
   "metadata": {},
   "source": [
    "berdasarkan hasil confusion matrix diketahui banyaknya nilai TP (True Positive) adalah 31388, FP (False Positive) adalah 1748, FN (False Negative) adalah 5041, dan TN (True Negative) adalah 4481\n",
    "\n",
    "- Melihat summary dari evaluasi model Logistic Regression"
   ]
  },
  {
   "cell_type": "code",
   "execution_count": null,
   "metadata": {},
   "outputs": [],
   "source": [
    "print('Ringkasan Evaluasi Model')\n",
    "print('Akurasi :', accuracy_score(y_test, y_pred_logreg))\n",
    "print('Presisi :', precision_score(y_test,y_pred_logreg))\n",
    "print('Recall :', recall_score(y_test,y_pred_logreg))\n",
    "print('F1 Score :', f1_score(y_test,y_pred_logreg))"
   ]
  },
  {
   "cell_type": "markdown",
   "metadata": {},
   "source": [
    "**b. Model Support Vector Machines (SVM)**\n",
    "- melihat predicted outputs dengan .predict()"
   ]
  },
  {
   "cell_type": "code",
   "execution_count": null,
   "metadata": {},
   "outputs": [],
   "source": [
    "y_pred_svm = modelsvm.predict(X_test)\n",
    "y_pred_svm"
   ]
  },
  {
   "cell_type": "markdown",
   "metadata": {},
   "source": [
    "- melihat nilai akurasi dengan .score"
   ]
  },
  {
   "cell_type": "code",
   "execution_count": null,
   "metadata": {},
   "outputs": [],
   "source": [
    "print(\"Test score:\", modelsvm.score(X_test, y_test))\n",
    "print(\"Train score:\", modelsvm.score(X_train, y_train))"
   ]
  },
  {
   "cell_type": "markdown",
   "metadata": {},
   "source": [
    "didapatkan hasil nilai akurasi untuk test data / pengujian data yaitu 84% (0.840), sedangkan jika dibandingkan dengan train data / pelatihan data nilai akurasinnnya 83% (0.834)\n",
    "\n",
    "- Melihat confussion matrix dan classification report dari model"
   ]
  },
  {
   "cell_type": "code",
   "execution_count": null,
   "metadata": {},
   "outputs": [],
   "source": [
    "confusion_matrix(y_test, y_pred_svm)"
   ]
  },
  {
   "cell_type": "code",
   "execution_count": null,
   "metadata": {},
   "outputs": [],
   "source": [
    "cm_svm = confusion_matrix(y_test, y_pred_svm)\n",
    "sns.heatmap(cm_svm, annot=True, fmt=\"d\", linewidths=.5, cmap = 'twilight')\n",
    "plt.show()\n",
    "print(classification_report(y_test, y_pred_svm))"
   ]
  },
  {
   "cell_type": "markdown",
   "metadata": {},
   "source": [
    "berdasarkan hasil confusion matrix diketahui banyaknya nilai TP (True Positive) adalah 31737, FP (False Positive) adalah 1399, FN (False Negative) adalah 5408, dan TN (True Negative) adalah 4114\n",
    "\n",
    "- Melihat summary dari evaluasi model SVM"
   ]
  },
  {
   "cell_type": "code",
   "execution_count": null,
   "metadata": {},
   "outputs": [],
   "source": [
    "print('Ringkasan Evaluasi Model')\n",
    "print('Akurasi :', accuracy_score(y_test, y_pred_svm))\n",
    "print('Presisi :', precision_score(y_test,y_pred_svm))\n",
    "print('Recall :', recall_score(y_test,y_pred_svm))\n",
    "print('F1 Score :', f1_score(y_test,y_pred_svm))"
   ]
  },
  {
   "cell_type": "markdown",
   "metadata": {},
   "source": [
    "**Dari proses evaluasi 2 model kita dapat mengetahui bahwa:**\n",
    "- Nilai akurasi dari model regresi logistik dan SVM hampir sama, keduanya mencapai akurasi sebesar 84%, yang menunjukkan bahwa keduanya dapat digunakan untuk melakukan prediksi hujan di Australia dengan baik.\n",
    "- Model SVM menunjukkan kinerja lebih baik dalam hal recall dibandingkan dengan model logistic regression. Ini berarti model SVM lebih baik dalam mengidentifikasi kasus positif yang sebenarnya, yaitu ketika hujan benar-benar terjadi.\n",
    "- Sebaliknya, model logistic regression memiliki nilai presisi dan F1 score yang lebih tinggi dibandingkan dengan model SVM. Hal ini menunjukkan bahwa model logistic regression lebih baik dalam meminimalkan jumlah kesalahan positif palsu, sehingga memberikan prediksi yang lebih akurat dalam mengidentifikasi kondisi hujan."
   ]
  },
  {
   "cell_type": "markdown",
   "metadata": {},
   "source": [
    "## 10. Model Inference\n",
    "Dalam bagian ini, model inference dilakukan untuk menguji kinerja model pada data baru yang tidak termasuk dalam data train. Data yang digunakan untuk pengujian ini dapat berasal dari sumber eksternal seperti data buatan oleh pengguna atau data yang ditemukan di internet. Proses inferensi ini bertujuan untuk mengevaluasi sejauh mana model dapat memberikan prediksi yang akurat dan konsisten pada data baru yang belum pernah dilihat sebelumnya.\n",
    "\n",
    "**Petunjuk Pengisian :**\n",
    "- Silahkan masukkan lokasi yang ingin untuk dilakukan prediksi\n",
    "- Untuk Hujan Hari Ini masukkan pilihan Yes atau No\n",
    "- Untuk kolom lain silahkan masukkan sesuai dengan data yang ingin di prediksi dengan bertipe data float"
   ]
  },
  {
   "cell_type": "code",
   "execution_count": null,
   "metadata": {},
   "outputs": [],
   "source": [
    "Lokasi = input(\"Lokasi : \")\n",
    "TempMin = float(input(\"Suhu Minimal : \"))\n",
    "TempMax = float(input(\"Suhu Maksimal : \"))\n",
    "CurahHujan = float(input(\"Curah Hujan : \"))\n",
    "Evaporasi = float(input(\"Evaporasi : \"))\n",
    "SinarMatahari = float(input(\"Sinar Matahari : \"))\n",
    "KecepatanAngin = float(input(\"Kecepatan Angin : \"))\n",
    "Kelembapan9am = float(input(\"Kelembapan Pukul 9 am : \"))\n",
    "Kelembapan3pm = float(input(\"Kelembapan Pukul 3 pm : \"))\n",
    "Awan9am = float(input(\"Awan Pukul 9 am : \"))\n",
    "Awan3pm = float(input(\"Awan Pukul 3 pm : \"))\n",
    "HujanHariIni = input(\"Hari ini Hujan? (Yes/No) : \")\n",
    "\n",
    "val = [TempMin, TempMax, CurahHujan, Evaporasi, SinarMatahari, KecepatanAngin, Kelembapan9am, Kelembapan3pm, Awan9am, Awan3pm]\n",
    "\n",
    "loc = {'Albury': 0, 'BadgerysCreek': 1, 'Cobar': 2, 'CoffsHarbour': 3, 'Moree': 4, 'Newcastle': 5, 'NorahHead': 6, \n",
    "       'NorfolkIsland': 7, 'Penrith': 8, 'Richmond': 9, 'Sydney': 10, 'SydneyAirport': 11, 'WaggaWagga': 12, 'Williamtown': 13, \n",
    "       'Wollongong': 14, 'Canberra': 15, 'Tuggeranong': 16, 'MountGinini': 17, 'Ballarat': 18, 'Bendigo': 19, 'Sale': 20, \n",
    "       'MelbourneAirport': 21, 'Melbourne': 22, 'Mildura': 23, 'Nhil': 24, 'Portland': 25, 'Watsonia': 26, 'Dartmoor': 27, \n",
    "       'Brisbane': 28, 'Cairns': 29, 'GoldCoast': 30, 'Townsville': 31, 'Adelaide': 32, 'MountGambier': 33, 'Nuriootpa': 34, \n",
    "       'Woomera': 35, 'Albany': 36, 'Witchcliffe': 37, 'PearceRAAF': 38, 'PerthAirport': 39, 'Perth': 40, 'SalmonGums': 41, \n",
    "       'Walpole': 42, 'Hobart': 43, 'Launceston': 44, 'AliceSprings': 45, 'Darwin': 46, 'Katherine': 47, 'Uluru': 48}\n",
    "\n",
    "for i in range(0,48):\n",
    "    if loc[Lokasi]==i:\n",
    "        val.append(1.0)\n",
    "    else:\n",
    "        next\n",
    "\n",
    "hujan = {'No':0, 'Yes': 1}\n",
    "\n",
    "for i in range(0,2):\n",
    "    if hujan[HujanHariIni]==i:\n",
    "        val.append(1.0)\n",
    "    else:\n",
    "        next\n",
    "        \n",
    "print(val)\n",
    "\n",
    "predict_logreg = logreg.predict([val])\n",
    "predict_svm = modelsvm.predict([val])\n",
    "\n",
    "if predict_logreg == 0 : \n",
    "    print(\"Berdasarkan prediksi menggunakan Logistic regression Maka Besok tidak hujan\")\n",
    "else: \n",
    "    print(\"Berdasarkan prediksi menggunakan Logistic regression Maka Besok hujan\")\n",
    "    \n",
    "if predict_svm == 0 :\n",
    "    print(\"Berdasarkan prediksi menggunakan SVM Maka Maka Besok tidak hujan\")\n",
    "else: \n",
    "    print(\"Berdasarkan prediksi menggunakan SVM Maka Maka Besok hujan\")"
   ]
  },
  {
   "cell_type": "markdown",
   "metadata": {},
   "source": [
    "### Save and Finalize Model\n",
    "Menggunakan operasi Pickle untuk menyimpan format serialized ke sebuah file dan menggunakannya untuk membuat prediksi baru"
   ]
  },
  {
   "cell_type": "code",
   "execution_count": null,
   "metadata": {},
   "outputs": [],
   "source": [
    "pickle.dump(logreg, open('model_logreg_FP2.pkl', 'wb'))\n",
    "pickle.dump(modelsvm, open('model_svm_FP2.pkl', 'wb'))"
   ]
  },
  {
   "cell_type": "markdown",
   "metadata": {},
   "source": [
    "## 11. Pengambilan Kesimpulan\n",
    "\n",
    "Dari analisis yang telah kami lakukan, kami dapat menyimpulkan beberapa poin kunci:\n",
    "\n",
    "1. **Faktor-Faktor Berpengaruh:** Dari 23 atribut pada dataset, kami menemukan bahwa hanya 12 atribut yang menjadi faktor kuat yang paling mempengaruhi prediksi hujan di Australia. Atribut tersebut adalah `Lokasi`, `TempMin`, `TempMax`, `CurahHujan`, `Evaporasi`, `SinarMatahari`, `KecepatanAngin`, `Kelembapan9am`, `Kelembapan3pm`, `Awan9am`, `Awan3pm`, dan `HujanHariIni`.\n",
    "\n",
    "2. **Penanganan Missing Value:** Kami mengatasi nilai yang hilang dengan mengisi missing value menggunakan median untuk atribut bertipe numerik dan modus untuk atribut bertipe kategorikal.\n",
    "\n",
    "3. **Visualisasi Data:** Kami menggunakan berbagai jenis visualisasi data, seperti lineplot, boxplot, histogram, pie chart, dan matriks korelasi (heatmap). Kami juga melakukan contoh penggunaan groupby dan query untuk menganalisis data.\n",
    "\n",
    "4. **Variabel Dependan dan Independen:** Variabel dependen atau target yang digunakan adalah `HujanBesok`, sementara variabel independen yang digunakan melibatkan atribut seperti `Lokasi`, `TempMin`, `TempMax`, `CurahHujan`, `Evaporasi`, `SinarMatahari`, `KecepatanAngin`, `Kelembapan9am`, `Kelembapan3pm`, `Awan9am`, `Awan3pm`, dan `HujanHariIni`.\n",
    "\n",
    "5. **Transformasi Data:** Kami mengubah variabel kategorikal menjadi numerik menggunakan library Label Encoder.\n",
    "\n",
    "6. **Feature Selection:** Proses feature selection dilakukan dengan menggunakan library F regression, di mana kami memilih 12 atribut yang paling berpengaruh.\n",
    "\n",
    "7. **Pembagian Data:** Data dibagi menjadi training dan testing dengan proporsi 70% untuk training data dan 30% untuk testing data.\n",
    "\n",
    "8. **Model Pengujian:** Kami menggunakan model logistic regression dan model SVM untuk prediksi. Hasil evaluasi model menunjukkan bahwa keduanya memiliki akurasi sekitar 84%, dengan perbedaan dalam nilai presisi, recall, dan F1 score.\n",
    "\n",
    "9. **Kesimpulan Model:** Meskipun nilai akurasi antara model logistic regression dan SVM tidak berbeda jauh, kami memilih model logistic regression untuk deployment karena memiliki nilai presisi dan F1 score yang lebih tinggi."
   ]
  }
 ],
 "metadata": {
  "kernelspec": {
   "display_name": "Python 3 (ipykernel)",
   "language": "python",
   "name": "python3"
  },
  "language_info": {
   "codemirror_mode": {
    "name": "ipython",
    "version": 3
   },
   "file_extension": ".py",
   "mimetype": "text/x-python",
   "name": "python",
   "nbconvert_exporter": "python",
   "pygments_lexer": "ipython3",
   "version": "3.11.5"
  },
  "toc": {
   "base_numbering": 1,
   "nav_menu": {},
   "number_sections": true,
   "sideBar": true,
   "skip_h1_title": false,
   "title_cell": "Table of Contents",
   "title_sidebar": "Contents",
   "toc_cell": false,
   "toc_position": {},
   "toc_section_display": true,
   "toc_window_display": false
  }
 },
 "nbformat": 4,
 "nbformat_minor": 4
}
