{
 "cells": [
  {
   "cell_type": "markdown",
   "metadata": {},
   "source": [
    "## 1. Overview (Perkenalan)\n",
    "#### **Latar Belakang**\n",
    "Cuaca merupakan salah satu faktor alam yang sangat mempengaruhi kehidupan sehari-hari. Berbagai aktivitas manusia bergantung pada kondisi cuaca di hari itu. Oleh karena itu, prediksi cuaca menjadi penting untuk memahami kondisi cuaca pada hari tersebut agar manusia dapat merencanakan dan menjalankan aktivitasnya dengan baik. Faktor-faktor seperti suhu, kelembaban, tekanan udara, kecepatan angin, dan lain-lain dapat memengaruhi kondisi cuaca. Salah satu fenomena cuaca yang penting adalah hujan. Berdasarkan tantangan tersebut, analisis dengan model prediktif diperlukan untuk meramalkan hujan, memungkinkan masyarakat merencanakan aktivitas mereka dengan lebih efektif.\n",
    "\n",
    "#### **Dataset**\n",
    "Dataset yang digunakan untuk analisis ini adalah \"Rain in Australia,\" diunduh dari Kaggle [di sini](https://www.kaggle.com/jsphyg/weather-dataset-rattle-package).\n",
    "\n",
    "Dataset ini berisi observasi harian prediksi hujan di seluruh Australia selama 10 tahun. Dataset ini terdiri dari 23 atribut dan 145.460 baris. Variabel targetnya adalah RainTomorrow, yang menunjukkan \"No\" (tidak hujan besok) dan \"Yes\" (hujan besok dengan 1mm atau lebih).\n",
    "\n",
    "#### **Objective yang Ingin Dicapai**\n",
    "Objective yang ingin dicapai dalam analisis ini yaitu:\n",
    "\n",
    "Memahami konsep klasifikasi dengan menggunakan regresi logistik dan SVM, serta mempersiapkan data untuk digunakan dalam model regresi logistik dan SVM.\n",
    "\n",
    "Mengimplementasikan regresi logistik dan SVM untuk membuat prediksi cuaca besok berdasarkan faktor-faktor yang signifikan.\n",
    "\n",
    "Mengetahui faktor-faktor yang berpengaruh signifikan dalam memprediksi kondisi cuaca untuk hari esok."
   ]
  },
  {
   "cell_type": "markdown",
   "metadata": {},
   "source": [
    "## 2. Import Pustaka yang Dibutuhkan"
   ]
  },
  {
   "cell_type": "code",
   "execution_count": 1,
   "metadata": {},
   "outputs": [],
   "source": [
    "%matplotlib inline\n",
    "import pandas as pd\n",
    "import numpy as np\n",
    "import matplotlib.pyplot as plt\n",
    "import seaborn as sns\n",
    "\n",
    "\n",
    "from sklearn.preprocessing import LabelEncoder\n",
    "from sklearn.model_selection import train_test_split\n",
    "from sklearn import metrics\n",
    "from sklearn.feature_selection import SelectKBest\n",
    "from sklearn.feature_selection import f_regression\n",
    "from sklearn.linear_model import LogisticRegression\n",
    "from sklearn.svm import SVC\n",
    "\n",
    "from sklearn import metrics\n",
    "from sklearn.metrics import accuracy_score,f1_score, precision_score, recall_score\n",
    "from sklearn.metrics import confusion_matrix\n",
    "from sklearn.metrics import classification_report\n",
    "\n",
    "import pickle"
   ]
  },
  {
   "cell_type": "markdown",
   "metadata": {},
   "source": [
    "## 3. Data Loading\n",
    "Bagian ini berisi proses data loading yang kemudian dilanjutkan dengan explorasi data secara sederhana.\n",
    "\n",
    "a. Melakukan loading data dengan menggunakan pandas"
   ]
  },
  {
   "cell_type": "code",
   "execution_count": 2,
   "metadata": {},
   "outputs": [],
   "source": [
    "df = pd.read_csv('weatherAUS.csv')"
   ]
  },
  {
   "cell_type": "markdown",
   "metadata": {},
   "source": [
    "b. Melakukan setting untuk menampilkan semua kolom pada dataframe"
   ]
  },
  {
   "cell_type": "code",
   "execution_count": 3,
   "metadata": {},
   "outputs": [],
   "source": [
    "pd.set_option(\"display.max_columns\", None)"
   ]
  },
  {
   "cell_type": "markdown",
   "metadata": {},
   "source": [
    "c. Melihat 5 baris teratas pada dataset"
   ]
  },
  {
   "cell_type": "code",
   "execution_count": 4,
   "metadata": {},
   "outputs": [
    {
     "data": {
      "text/html": [
       "<div>\n",
       "<style scoped>\n",
       "    .dataframe tbody tr th:only-of-type {\n",
       "        vertical-align: middle;\n",
       "    }\n",
       "\n",
       "    .dataframe tbody tr th {\n",
       "        vertical-align: top;\n",
       "    }\n",
       "\n",
       "    .dataframe thead th {\n",
       "        text-align: right;\n",
       "    }\n",
       "</style>\n",
       "<table border=\"1\" class=\"dataframe\">\n",
       "  <thead>\n",
       "    <tr style=\"text-align: right;\">\n",
       "      <th></th>\n",
       "      <th>Date</th>\n",
       "      <th>Location</th>\n",
       "      <th>MinTemp</th>\n",
       "      <th>MaxTemp</th>\n",
       "      <th>Rainfall</th>\n",
       "      <th>Evaporation</th>\n",
       "      <th>Sunshine</th>\n",
       "      <th>WindGustDir</th>\n",
       "      <th>WindGustSpeed</th>\n",
       "      <th>WindDir9am</th>\n",
       "      <th>WindDir3pm</th>\n",
       "      <th>WindSpeed9am</th>\n",
       "      <th>WindSpeed3pm</th>\n",
       "      <th>Humidity9am</th>\n",
       "      <th>Humidity3pm</th>\n",
       "      <th>Pressure9am</th>\n",
       "      <th>Pressure3pm</th>\n",
       "      <th>Cloud9am</th>\n",
       "      <th>Cloud3pm</th>\n",
       "      <th>Temp9am</th>\n",
       "      <th>Temp3pm</th>\n",
       "      <th>RainToday</th>\n",
       "      <th>RainTomorrow</th>\n",
       "    </tr>\n",
       "  </thead>\n",
       "  <tbody>\n",
       "    <tr>\n",
       "      <th>0</th>\n",
       "      <td>2008-12-01</td>\n",
       "      <td>Albury</td>\n",
       "      <td>13.4</td>\n",
       "      <td>22.9</td>\n",
       "      <td>0.6</td>\n",
       "      <td>NaN</td>\n",
       "      <td>NaN</td>\n",
       "      <td>W</td>\n",
       "      <td>44.0</td>\n",
       "      <td>W</td>\n",
       "      <td>WNW</td>\n",
       "      <td>20.0</td>\n",
       "      <td>24.0</td>\n",
       "      <td>71.0</td>\n",
       "      <td>22.0</td>\n",
       "      <td>1007.7</td>\n",
       "      <td>1007.1</td>\n",
       "      <td>8.0</td>\n",
       "      <td>NaN</td>\n",
       "      <td>16.9</td>\n",
       "      <td>21.8</td>\n",
       "      <td>No</td>\n",
       "      <td>No</td>\n",
       "    </tr>\n",
       "    <tr>\n",
       "      <th>1</th>\n",
       "      <td>2008-12-02</td>\n",
       "      <td>Albury</td>\n",
       "      <td>7.4</td>\n",
       "      <td>25.1</td>\n",
       "      <td>0.0</td>\n",
       "      <td>NaN</td>\n",
       "      <td>NaN</td>\n",
       "      <td>WNW</td>\n",
       "      <td>44.0</td>\n",
       "      <td>NNW</td>\n",
       "      <td>WSW</td>\n",
       "      <td>4.0</td>\n",
       "      <td>22.0</td>\n",
       "      <td>44.0</td>\n",
       "      <td>25.0</td>\n",
       "      <td>1010.6</td>\n",
       "      <td>1007.8</td>\n",
       "      <td>NaN</td>\n",
       "      <td>NaN</td>\n",
       "      <td>17.2</td>\n",
       "      <td>24.3</td>\n",
       "      <td>No</td>\n",
       "      <td>No</td>\n",
       "    </tr>\n",
       "    <tr>\n",
       "      <th>2</th>\n",
       "      <td>2008-12-03</td>\n",
       "      <td>Albury</td>\n",
       "      <td>12.9</td>\n",
       "      <td>25.7</td>\n",
       "      <td>0.0</td>\n",
       "      <td>NaN</td>\n",
       "      <td>NaN</td>\n",
       "      <td>WSW</td>\n",
       "      <td>46.0</td>\n",
       "      <td>W</td>\n",
       "      <td>WSW</td>\n",
       "      <td>19.0</td>\n",
       "      <td>26.0</td>\n",
       "      <td>38.0</td>\n",
       "      <td>30.0</td>\n",
       "      <td>1007.6</td>\n",
       "      <td>1008.7</td>\n",
       "      <td>NaN</td>\n",
       "      <td>2.0</td>\n",
       "      <td>21.0</td>\n",
       "      <td>23.2</td>\n",
       "      <td>No</td>\n",
       "      <td>No</td>\n",
       "    </tr>\n",
       "    <tr>\n",
       "      <th>3</th>\n",
       "      <td>2008-12-04</td>\n",
       "      <td>Albury</td>\n",
       "      <td>9.2</td>\n",
       "      <td>28.0</td>\n",
       "      <td>0.0</td>\n",
       "      <td>NaN</td>\n",
       "      <td>NaN</td>\n",
       "      <td>NE</td>\n",
       "      <td>24.0</td>\n",
       "      <td>SE</td>\n",
       "      <td>E</td>\n",
       "      <td>11.0</td>\n",
       "      <td>9.0</td>\n",
       "      <td>45.0</td>\n",
       "      <td>16.0</td>\n",
       "      <td>1017.6</td>\n",
       "      <td>1012.8</td>\n",
       "      <td>NaN</td>\n",
       "      <td>NaN</td>\n",
       "      <td>18.1</td>\n",
       "      <td>26.5</td>\n",
       "      <td>No</td>\n",
       "      <td>No</td>\n",
       "    </tr>\n",
       "    <tr>\n",
       "      <th>4</th>\n",
       "      <td>2008-12-05</td>\n",
       "      <td>Albury</td>\n",
       "      <td>17.5</td>\n",
       "      <td>32.3</td>\n",
       "      <td>1.0</td>\n",
       "      <td>NaN</td>\n",
       "      <td>NaN</td>\n",
       "      <td>W</td>\n",
       "      <td>41.0</td>\n",
       "      <td>ENE</td>\n",
       "      <td>NW</td>\n",
       "      <td>7.0</td>\n",
       "      <td>20.0</td>\n",
       "      <td>82.0</td>\n",
       "      <td>33.0</td>\n",
       "      <td>1010.8</td>\n",
       "      <td>1006.0</td>\n",
       "      <td>7.0</td>\n",
       "      <td>8.0</td>\n",
       "      <td>17.8</td>\n",
       "      <td>29.7</td>\n",
       "      <td>No</td>\n",
       "      <td>No</td>\n",
       "    </tr>\n",
       "  </tbody>\n",
       "</table>\n",
       "</div>"
      ],
      "text/plain": [
       "         Date Location  MinTemp  MaxTemp  Rainfall  Evaporation  Sunshine  \\\n",
       "0  2008-12-01   Albury     13.4     22.9       0.6          NaN       NaN   \n",
       "1  2008-12-02   Albury      7.4     25.1       0.0          NaN       NaN   \n",
       "2  2008-12-03   Albury     12.9     25.7       0.0          NaN       NaN   \n",
       "3  2008-12-04   Albury      9.2     28.0       0.0          NaN       NaN   \n",
       "4  2008-12-05   Albury     17.5     32.3       1.0          NaN       NaN   \n",
       "\n",
       "  WindGustDir  WindGustSpeed WindDir9am WindDir3pm  WindSpeed9am  \\\n",
       "0           W           44.0          W        WNW          20.0   \n",
       "1         WNW           44.0        NNW        WSW           4.0   \n",
       "2         WSW           46.0          W        WSW          19.0   \n",
       "3          NE           24.0         SE          E          11.0   \n",
       "4           W           41.0        ENE         NW           7.0   \n",
       "\n",
       "   WindSpeed3pm  Humidity9am  Humidity3pm  Pressure9am  Pressure3pm  Cloud9am  \\\n",
       "0          24.0         71.0         22.0       1007.7       1007.1       8.0   \n",
       "1          22.0         44.0         25.0       1010.6       1007.8       NaN   \n",
       "2          26.0         38.0         30.0       1007.6       1008.7       NaN   \n",
       "3           9.0         45.0         16.0       1017.6       1012.8       NaN   \n",
       "4          20.0         82.0         33.0       1010.8       1006.0       7.0   \n",
       "\n",
       "   Cloud3pm  Temp9am  Temp3pm RainToday RainTomorrow  \n",
       "0       NaN     16.9     21.8        No           No  \n",
       "1       NaN     17.2     24.3        No           No  \n",
       "2       2.0     21.0     23.2        No           No  \n",
       "3       NaN     18.1     26.5        No           No  \n",
       "4       8.0     17.8     29.7        No           No  "
      ]
     },
     "execution_count": 4,
     "metadata": {},
     "output_type": "execute_result"
    }
   ],
   "source": [
    "df.head()"
   ]
  },
  {
   "cell_type": "markdown",
   "metadata": {},
   "source": [
    "d. Melihat 5 baris terbawah dari dataset"
   ]
  },
  {
   "cell_type": "code",
   "execution_count": 5,
   "metadata": {},
   "outputs": [
    {
     "data": {
      "text/html": [
       "<div>\n",
       "<style scoped>\n",
       "    .dataframe tbody tr th:only-of-type {\n",
       "        vertical-align: middle;\n",
       "    }\n",
       "\n",
       "    .dataframe tbody tr th {\n",
       "        vertical-align: top;\n",
       "    }\n",
       "\n",
       "    .dataframe thead th {\n",
       "        text-align: right;\n",
       "    }\n",
       "</style>\n",
       "<table border=\"1\" class=\"dataframe\">\n",
       "  <thead>\n",
       "    <tr style=\"text-align: right;\">\n",
       "      <th></th>\n",
       "      <th>Date</th>\n",
       "      <th>Location</th>\n",
       "      <th>MinTemp</th>\n",
       "      <th>MaxTemp</th>\n",
       "      <th>Rainfall</th>\n",
       "      <th>Evaporation</th>\n",
       "      <th>Sunshine</th>\n",
       "      <th>WindGustDir</th>\n",
       "      <th>WindGustSpeed</th>\n",
       "      <th>WindDir9am</th>\n",
       "      <th>WindDir3pm</th>\n",
       "      <th>WindSpeed9am</th>\n",
       "      <th>WindSpeed3pm</th>\n",
       "      <th>Humidity9am</th>\n",
       "      <th>Humidity3pm</th>\n",
       "      <th>Pressure9am</th>\n",
       "      <th>Pressure3pm</th>\n",
       "      <th>Cloud9am</th>\n",
       "      <th>Cloud3pm</th>\n",
       "      <th>Temp9am</th>\n",
       "      <th>Temp3pm</th>\n",
       "      <th>RainToday</th>\n",
       "      <th>RainTomorrow</th>\n",
       "    </tr>\n",
       "  </thead>\n",
       "  <tbody>\n",
       "    <tr>\n",
       "      <th>145455</th>\n",
       "      <td>2017-06-21</td>\n",
       "      <td>Uluru</td>\n",
       "      <td>2.8</td>\n",
       "      <td>23.4</td>\n",
       "      <td>0.0</td>\n",
       "      <td>NaN</td>\n",
       "      <td>NaN</td>\n",
       "      <td>E</td>\n",
       "      <td>31.0</td>\n",
       "      <td>SE</td>\n",
       "      <td>ENE</td>\n",
       "      <td>13.0</td>\n",
       "      <td>11.0</td>\n",
       "      <td>51.0</td>\n",
       "      <td>24.0</td>\n",
       "      <td>1024.6</td>\n",
       "      <td>1020.3</td>\n",
       "      <td>NaN</td>\n",
       "      <td>NaN</td>\n",
       "      <td>10.1</td>\n",
       "      <td>22.4</td>\n",
       "      <td>No</td>\n",
       "      <td>No</td>\n",
       "    </tr>\n",
       "    <tr>\n",
       "      <th>145456</th>\n",
       "      <td>2017-06-22</td>\n",
       "      <td>Uluru</td>\n",
       "      <td>3.6</td>\n",
       "      <td>25.3</td>\n",
       "      <td>0.0</td>\n",
       "      <td>NaN</td>\n",
       "      <td>NaN</td>\n",
       "      <td>NNW</td>\n",
       "      <td>22.0</td>\n",
       "      <td>SE</td>\n",
       "      <td>N</td>\n",
       "      <td>13.0</td>\n",
       "      <td>9.0</td>\n",
       "      <td>56.0</td>\n",
       "      <td>21.0</td>\n",
       "      <td>1023.5</td>\n",
       "      <td>1019.1</td>\n",
       "      <td>NaN</td>\n",
       "      <td>NaN</td>\n",
       "      <td>10.9</td>\n",
       "      <td>24.5</td>\n",
       "      <td>No</td>\n",
       "      <td>No</td>\n",
       "    </tr>\n",
       "    <tr>\n",
       "      <th>145457</th>\n",
       "      <td>2017-06-23</td>\n",
       "      <td>Uluru</td>\n",
       "      <td>5.4</td>\n",
       "      <td>26.9</td>\n",
       "      <td>0.0</td>\n",
       "      <td>NaN</td>\n",
       "      <td>NaN</td>\n",
       "      <td>N</td>\n",
       "      <td>37.0</td>\n",
       "      <td>SE</td>\n",
       "      <td>WNW</td>\n",
       "      <td>9.0</td>\n",
       "      <td>9.0</td>\n",
       "      <td>53.0</td>\n",
       "      <td>24.0</td>\n",
       "      <td>1021.0</td>\n",
       "      <td>1016.8</td>\n",
       "      <td>NaN</td>\n",
       "      <td>NaN</td>\n",
       "      <td>12.5</td>\n",
       "      <td>26.1</td>\n",
       "      <td>No</td>\n",
       "      <td>No</td>\n",
       "    </tr>\n",
       "    <tr>\n",
       "      <th>145458</th>\n",
       "      <td>2017-06-24</td>\n",
       "      <td>Uluru</td>\n",
       "      <td>7.8</td>\n",
       "      <td>27.0</td>\n",
       "      <td>0.0</td>\n",
       "      <td>NaN</td>\n",
       "      <td>NaN</td>\n",
       "      <td>SE</td>\n",
       "      <td>28.0</td>\n",
       "      <td>SSE</td>\n",
       "      <td>N</td>\n",
       "      <td>13.0</td>\n",
       "      <td>7.0</td>\n",
       "      <td>51.0</td>\n",
       "      <td>24.0</td>\n",
       "      <td>1019.4</td>\n",
       "      <td>1016.5</td>\n",
       "      <td>3.0</td>\n",
       "      <td>2.0</td>\n",
       "      <td>15.1</td>\n",
       "      <td>26.0</td>\n",
       "      <td>No</td>\n",
       "      <td>No</td>\n",
       "    </tr>\n",
       "    <tr>\n",
       "      <th>145459</th>\n",
       "      <td>2017-06-25</td>\n",
       "      <td>Uluru</td>\n",
       "      <td>14.9</td>\n",
       "      <td>NaN</td>\n",
       "      <td>0.0</td>\n",
       "      <td>NaN</td>\n",
       "      <td>NaN</td>\n",
       "      <td>NaN</td>\n",
       "      <td>NaN</td>\n",
       "      <td>ESE</td>\n",
       "      <td>ESE</td>\n",
       "      <td>17.0</td>\n",
       "      <td>17.0</td>\n",
       "      <td>62.0</td>\n",
       "      <td>36.0</td>\n",
       "      <td>1020.2</td>\n",
       "      <td>1017.9</td>\n",
       "      <td>8.0</td>\n",
       "      <td>8.0</td>\n",
       "      <td>15.0</td>\n",
       "      <td>20.9</td>\n",
       "      <td>No</td>\n",
       "      <td>NaN</td>\n",
       "    </tr>\n",
       "  </tbody>\n",
       "</table>\n",
       "</div>"
      ],
      "text/plain": [
       "              Date Location  MinTemp  MaxTemp  Rainfall  Evaporation  \\\n",
       "145455  2017-06-21    Uluru      2.8     23.4       0.0          NaN   \n",
       "145456  2017-06-22    Uluru      3.6     25.3       0.0          NaN   \n",
       "145457  2017-06-23    Uluru      5.4     26.9       0.0          NaN   \n",
       "145458  2017-06-24    Uluru      7.8     27.0       0.0          NaN   \n",
       "145459  2017-06-25    Uluru     14.9      NaN       0.0          NaN   \n",
       "\n",
       "        Sunshine WindGustDir  WindGustSpeed WindDir9am WindDir3pm  \\\n",
       "145455       NaN           E           31.0         SE        ENE   \n",
       "145456       NaN         NNW           22.0         SE          N   \n",
       "145457       NaN           N           37.0         SE        WNW   \n",
       "145458       NaN          SE           28.0        SSE          N   \n",
       "145459       NaN         NaN            NaN        ESE        ESE   \n",
       "\n",
       "        WindSpeed9am  WindSpeed3pm  Humidity9am  Humidity3pm  Pressure9am  \\\n",
       "145455          13.0          11.0         51.0         24.0       1024.6   \n",
       "145456          13.0           9.0         56.0         21.0       1023.5   \n",
       "145457           9.0           9.0         53.0         24.0       1021.0   \n",
       "145458          13.0           7.0         51.0         24.0       1019.4   \n",
       "145459          17.0          17.0         62.0         36.0       1020.2   \n",
       "\n",
       "        Pressure3pm  Cloud9am  Cloud3pm  Temp9am  Temp3pm RainToday  \\\n",
       "145455       1020.3       NaN       NaN     10.1     22.4        No   \n",
       "145456       1019.1       NaN       NaN     10.9     24.5        No   \n",
       "145457       1016.8       NaN       NaN     12.5     26.1        No   \n",
       "145458       1016.5       3.0       2.0     15.1     26.0        No   \n",
       "145459       1017.9       8.0       8.0     15.0     20.9        No   \n",
       "\n",
       "       RainTomorrow  \n",
       "145455           No  \n",
       "145456           No  \n",
       "145457           No  \n",
       "145458           No  \n",
       "145459          NaN  "
      ]
     },
     "execution_count": 5,
     "metadata": {},
     "output_type": "execute_result"
    }
   ],
   "source": [
    "df.tail()"
   ]
  },
  {
   "cell_type": "markdown",
   "metadata": {},
   "source": [
    "e. melihat dimensi dataset"
   ]
  },
  {
   "cell_type": "code",
   "execution_count": 6,
   "metadata": {},
   "outputs": [
    {
     "data": {
      "text/plain": [
       "(145460, 23)"
      ]
     },
     "execution_count": 6,
     "metadata": {},
     "output_type": "execute_result"
    }
   ],
   "source": [
    "df.shape"
   ]
  },
  {
   "cell_type": "markdown",
   "metadata": {},
   "source": [
    "dapat dilihat dataset memiliki dimensi 23 kolom/atribut dan 145460 baris\n",
    "\n",
    "f. melihat informasi (kolom, baris, tipe data) pada dataset"
   ]
  },
  {
   "cell_type": "code",
   "execution_count": 7,
   "metadata": {},
   "outputs": [
    {
     "name": "stdout",
     "output_type": "stream",
     "text": [
      "<class 'pandas.core.frame.DataFrame'>\n",
      "RangeIndex: 145460 entries, 0 to 145459\n",
      "Data columns (total 23 columns):\n",
      " #   Column         Non-Null Count   Dtype  \n",
      "---  ------         --------------   -----  \n",
      " 0   Date           145460 non-null  object \n",
      " 1   Location       145460 non-null  object \n",
      " 2   MinTemp        143975 non-null  float64\n",
      " 3   MaxTemp        144199 non-null  float64\n",
      " 4   Rainfall       142199 non-null  float64\n",
      " 5   Evaporation    82670 non-null   float64\n",
      " 6   Sunshine       75625 non-null   float64\n",
      " 7   WindGustDir    135134 non-null  object \n",
      " 8   WindGustSpeed  135197 non-null  float64\n",
      " 9   WindDir9am     134894 non-null  object \n",
      " 10  WindDir3pm     141232 non-null  object \n",
      " 11  WindSpeed9am   143693 non-null  float64\n",
      " 12  WindSpeed3pm   142398 non-null  float64\n",
      " 13  Humidity9am    142806 non-null  float64\n",
      " 14  Humidity3pm    140953 non-null  float64\n",
      " 15  Pressure9am    130395 non-null  float64\n",
      " 16  Pressure3pm    130432 non-null  float64\n",
      " 17  Cloud9am       89572 non-null   float64\n",
      " 18  Cloud3pm       86102 non-null   float64\n",
      " 19  Temp9am        143693 non-null  float64\n",
      " 20  Temp3pm        141851 non-null  float64\n",
      " 21  RainToday      142199 non-null  object \n",
      " 22  RainTomorrow   142193 non-null  object \n",
      "dtypes: float64(16), object(7)\n",
      "memory usage: 25.5+ MB\n"
     ]
    }
   ],
   "source": [
    "df.info()"
   ]
  },
  {
   "cell_type": "markdown",
   "metadata": {},
   "source": [
    "dapat dilihat dataset memiliki 57 atribut dengan tipe data float64 sebanyak 16, dan tipe data object sebanyak 7.\n",
    "\n",
    "g. Melihat rincian nama kolom pada dataset"
   ]
  },
  {
   "cell_type": "code",
   "execution_count": 8,
   "metadata": {},
   "outputs": [
    {
     "data": {
      "text/plain": [
       "Index(['Date', 'Location', 'MinTemp', 'MaxTemp', 'Rainfall', 'Evaporation',\n",
       "       'Sunshine', 'WindGustDir', 'WindGustSpeed', 'WindDir9am', 'WindDir3pm',\n",
       "       'WindSpeed9am', 'WindSpeed3pm', 'Humidity9am', 'Humidity3pm',\n",
       "       'Pressure9am', 'Pressure3pm', 'Cloud9am', 'Cloud3pm', 'Temp9am',\n",
       "       'Temp3pm', 'RainToday', 'RainTomorrow'],\n",
       "      dtype='object')"
      ]
     },
     "execution_count": 8,
     "metadata": {},
     "output_type": "execute_result"
    }
   ],
   "source": [
    "df.columns"
   ]
  },
  {
   "cell_type": "markdown",
   "metadata": {},
   "source": [
    "h. Mengecek apakah pada dataset terdapat missing value"
   ]
  },
  {
   "cell_type": "code",
   "execution_count": 9,
   "metadata": {},
   "outputs": [
    {
     "data": {
      "text/plain": [
       "True"
      ]
     },
     "execution_count": 9,
     "metadata": {},
     "output_type": "execute_result"
    }
   ],
   "source": [
    "df.isnull().values.any()"
   ]
  },
  {
   "cell_type": "markdown",
   "metadata": {},
   "source": [
    "output menunjukkan 'True' yang berarti pada dataset masih terdapat missing value\n",
    "\n",
    "i. Melihat statistik deskriptif dari masing-masing atribut yang bertipe numeric"
   ]
  },
  {
   "cell_type": "code",
   "execution_count": 10,
   "metadata": {},
   "outputs": [
    {
     "data": {
      "text/html": [
       "<div>\n",
       "<style scoped>\n",
       "    .dataframe tbody tr th:only-of-type {\n",
       "        vertical-align: middle;\n",
       "    }\n",
       "\n",
       "    .dataframe tbody tr th {\n",
       "        vertical-align: top;\n",
       "    }\n",
       "\n",
       "    .dataframe thead th {\n",
       "        text-align: right;\n",
       "    }\n",
       "</style>\n",
       "<table border=\"1\" class=\"dataframe\">\n",
       "  <thead>\n",
       "    <tr style=\"text-align: right;\">\n",
       "      <th></th>\n",
       "      <th>MinTemp</th>\n",
       "      <th>MaxTemp</th>\n",
       "      <th>Rainfall</th>\n",
       "      <th>Evaporation</th>\n",
       "      <th>Sunshine</th>\n",
       "      <th>WindGustSpeed</th>\n",
       "      <th>WindSpeed9am</th>\n",
       "      <th>WindSpeed3pm</th>\n",
       "      <th>Humidity9am</th>\n",
       "      <th>Humidity3pm</th>\n",
       "      <th>Pressure9am</th>\n",
       "      <th>Pressure3pm</th>\n",
       "      <th>Cloud9am</th>\n",
       "      <th>Cloud3pm</th>\n",
       "      <th>Temp9am</th>\n",
       "      <th>Temp3pm</th>\n",
       "    </tr>\n",
       "  </thead>\n",
       "  <tbody>\n",
       "    <tr>\n",
       "      <th>count</th>\n",
       "      <td>143975.000000</td>\n",
       "      <td>144199.000000</td>\n",
       "      <td>142199.000000</td>\n",
       "      <td>82670.000000</td>\n",
       "      <td>75625.000000</td>\n",
       "      <td>135197.000000</td>\n",
       "      <td>143693.000000</td>\n",
       "      <td>142398.000000</td>\n",
       "      <td>142806.000000</td>\n",
       "      <td>140953.000000</td>\n",
       "      <td>130395.00000</td>\n",
       "      <td>130432.000000</td>\n",
       "      <td>89572.000000</td>\n",
       "      <td>86102.000000</td>\n",
       "      <td>143693.000000</td>\n",
       "      <td>141851.00000</td>\n",
       "    </tr>\n",
       "    <tr>\n",
       "      <th>mean</th>\n",
       "      <td>12.194034</td>\n",
       "      <td>23.221348</td>\n",
       "      <td>2.360918</td>\n",
       "      <td>5.468232</td>\n",
       "      <td>7.611178</td>\n",
       "      <td>40.035230</td>\n",
       "      <td>14.043426</td>\n",
       "      <td>18.662657</td>\n",
       "      <td>68.880831</td>\n",
       "      <td>51.539116</td>\n",
       "      <td>1017.64994</td>\n",
       "      <td>1015.255889</td>\n",
       "      <td>4.447461</td>\n",
       "      <td>4.509930</td>\n",
       "      <td>16.990631</td>\n",
       "      <td>21.68339</td>\n",
       "    </tr>\n",
       "    <tr>\n",
       "      <th>std</th>\n",
       "      <td>6.398495</td>\n",
       "      <td>7.119049</td>\n",
       "      <td>8.478060</td>\n",
       "      <td>4.193704</td>\n",
       "      <td>3.785483</td>\n",
       "      <td>13.607062</td>\n",
       "      <td>8.915375</td>\n",
       "      <td>8.809800</td>\n",
       "      <td>19.029164</td>\n",
       "      <td>20.795902</td>\n",
       "      <td>7.10653</td>\n",
       "      <td>7.037414</td>\n",
       "      <td>2.887159</td>\n",
       "      <td>2.720357</td>\n",
       "      <td>6.488753</td>\n",
       "      <td>6.93665</td>\n",
       "    </tr>\n",
       "    <tr>\n",
       "      <th>min</th>\n",
       "      <td>-8.500000</td>\n",
       "      <td>-4.800000</td>\n",
       "      <td>0.000000</td>\n",
       "      <td>0.000000</td>\n",
       "      <td>0.000000</td>\n",
       "      <td>6.000000</td>\n",
       "      <td>0.000000</td>\n",
       "      <td>0.000000</td>\n",
       "      <td>0.000000</td>\n",
       "      <td>0.000000</td>\n",
       "      <td>980.50000</td>\n",
       "      <td>977.100000</td>\n",
       "      <td>0.000000</td>\n",
       "      <td>0.000000</td>\n",
       "      <td>-7.200000</td>\n",
       "      <td>-5.40000</td>\n",
       "    </tr>\n",
       "    <tr>\n",
       "      <th>25%</th>\n",
       "      <td>7.600000</td>\n",
       "      <td>17.900000</td>\n",
       "      <td>0.000000</td>\n",
       "      <td>2.600000</td>\n",
       "      <td>4.800000</td>\n",
       "      <td>31.000000</td>\n",
       "      <td>7.000000</td>\n",
       "      <td>13.000000</td>\n",
       "      <td>57.000000</td>\n",
       "      <td>37.000000</td>\n",
       "      <td>1012.90000</td>\n",
       "      <td>1010.400000</td>\n",
       "      <td>1.000000</td>\n",
       "      <td>2.000000</td>\n",
       "      <td>12.300000</td>\n",
       "      <td>16.60000</td>\n",
       "    </tr>\n",
       "    <tr>\n",
       "      <th>50%</th>\n",
       "      <td>12.000000</td>\n",
       "      <td>22.600000</td>\n",
       "      <td>0.000000</td>\n",
       "      <td>4.800000</td>\n",
       "      <td>8.400000</td>\n",
       "      <td>39.000000</td>\n",
       "      <td>13.000000</td>\n",
       "      <td>19.000000</td>\n",
       "      <td>70.000000</td>\n",
       "      <td>52.000000</td>\n",
       "      <td>1017.60000</td>\n",
       "      <td>1015.200000</td>\n",
       "      <td>5.000000</td>\n",
       "      <td>5.000000</td>\n",
       "      <td>16.700000</td>\n",
       "      <td>21.10000</td>\n",
       "    </tr>\n",
       "    <tr>\n",
       "      <th>75%</th>\n",
       "      <td>16.900000</td>\n",
       "      <td>28.200000</td>\n",
       "      <td>0.800000</td>\n",
       "      <td>7.400000</td>\n",
       "      <td>10.600000</td>\n",
       "      <td>48.000000</td>\n",
       "      <td>19.000000</td>\n",
       "      <td>24.000000</td>\n",
       "      <td>83.000000</td>\n",
       "      <td>66.000000</td>\n",
       "      <td>1022.40000</td>\n",
       "      <td>1020.000000</td>\n",
       "      <td>7.000000</td>\n",
       "      <td>7.000000</td>\n",
       "      <td>21.600000</td>\n",
       "      <td>26.40000</td>\n",
       "    </tr>\n",
       "    <tr>\n",
       "      <th>max</th>\n",
       "      <td>33.900000</td>\n",
       "      <td>48.100000</td>\n",
       "      <td>371.000000</td>\n",
       "      <td>145.000000</td>\n",
       "      <td>14.500000</td>\n",
       "      <td>135.000000</td>\n",
       "      <td>130.000000</td>\n",
       "      <td>87.000000</td>\n",
       "      <td>100.000000</td>\n",
       "      <td>100.000000</td>\n",
       "      <td>1041.00000</td>\n",
       "      <td>1039.600000</td>\n",
       "      <td>9.000000</td>\n",
       "      <td>9.000000</td>\n",
       "      <td>40.200000</td>\n",
       "      <td>46.70000</td>\n",
       "    </tr>\n",
       "  </tbody>\n",
       "</table>\n",
       "</div>"
      ],
      "text/plain": [
       "             MinTemp        MaxTemp       Rainfall   Evaporation  \\\n",
       "count  143975.000000  144199.000000  142199.000000  82670.000000   \n",
       "mean       12.194034      23.221348       2.360918      5.468232   \n",
       "std         6.398495       7.119049       8.478060      4.193704   \n",
       "min        -8.500000      -4.800000       0.000000      0.000000   \n",
       "25%         7.600000      17.900000       0.000000      2.600000   \n",
       "50%        12.000000      22.600000       0.000000      4.800000   \n",
       "75%        16.900000      28.200000       0.800000      7.400000   \n",
       "max        33.900000      48.100000     371.000000    145.000000   \n",
       "\n",
       "           Sunshine  WindGustSpeed   WindSpeed9am   WindSpeed3pm  \\\n",
       "count  75625.000000  135197.000000  143693.000000  142398.000000   \n",
       "mean       7.611178      40.035230      14.043426      18.662657   \n",
       "std        3.785483      13.607062       8.915375       8.809800   \n",
       "min        0.000000       6.000000       0.000000       0.000000   \n",
       "25%        4.800000      31.000000       7.000000      13.000000   \n",
       "50%        8.400000      39.000000      13.000000      19.000000   \n",
       "75%       10.600000      48.000000      19.000000      24.000000   \n",
       "max       14.500000     135.000000     130.000000      87.000000   \n",
       "\n",
       "         Humidity9am    Humidity3pm   Pressure9am    Pressure3pm  \\\n",
       "count  142806.000000  140953.000000  130395.00000  130432.000000   \n",
       "mean       68.880831      51.539116    1017.64994    1015.255889   \n",
       "std        19.029164      20.795902       7.10653       7.037414   \n",
       "min         0.000000       0.000000     980.50000     977.100000   \n",
       "25%        57.000000      37.000000    1012.90000    1010.400000   \n",
       "50%        70.000000      52.000000    1017.60000    1015.200000   \n",
       "75%        83.000000      66.000000    1022.40000    1020.000000   \n",
       "max       100.000000     100.000000    1041.00000    1039.600000   \n",
       "\n",
       "           Cloud9am      Cloud3pm        Temp9am       Temp3pm  \n",
       "count  89572.000000  86102.000000  143693.000000  141851.00000  \n",
       "mean       4.447461      4.509930      16.990631      21.68339  \n",
       "std        2.887159      2.720357       6.488753       6.93665  \n",
       "min        0.000000      0.000000      -7.200000      -5.40000  \n",
       "25%        1.000000      2.000000      12.300000      16.60000  \n",
       "50%        5.000000      5.000000      16.700000      21.10000  \n",
       "75%        7.000000      7.000000      21.600000      26.40000  \n",
       "max        9.000000      9.000000      40.200000      46.70000  "
      ]
     },
     "execution_count": 10,
     "metadata": {},
     "output_type": "execute_result"
    }
   ],
   "source": [
    "df.describe()"
   ]
  },
  {
   "cell_type": "markdown",
   "metadata": {},
   "source": [
    "j. Melihat statistik deskriptif dari masing-masing atribut yang bertipe object"
   ]
  },
  {
   "cell_type": "code",
   "execution_count": 11,
   "metadata": {},
   "outputs": [
    {
     "data": {
      "text/html": [
       "<div>\n",
       "<style scoped>\n",
       "    .dataframe tbody tr th:only-of-type {\n",
       "        vertical-align: middle;\n",
       "    }\n",
       "\n",
       "    .dataframe tbody tr th {\n",
       "        vertical-align: top;\n",
       "    }\n",
       "\n",
       "    .dataframe thead th {\n",
       "        text-align: right;\n",
       "    }\n",
       "</style>\n",
       "<table border=\"1\" class=\"dataframe\">\n",
       "  <thead>\n",
       "    <tr style=\"text-align: right;\">\n",
       "      <th></th>\n",
       "      <th>Date</th>\n",
       "      <th>Location</th>\n",
       "      <th>WindGustDir</th>\n",
       "      <th>WindDir9am</th>\n",
       "      <th>WindDir3pm</th>\n",
       "      <th>RainToday</th>\n",
       "      <th>RainTomorrow</th>\n",
       "    </tr>\n",
       "  </thead>\n",
       "  <tbody>\n",
       "    <tr>\n",
       "      <th>count</th>\n",
       "      <td>145460</td>\n",
       "      <td>145460</td>\n",
       "      <td>135134</td>\n",
       "      <td>134894</td>\n",
       "      <td>141232</td>\n",
       "      <td>142199</td>\n",
       "      <td>142193</td>\n",
       "    </tr>\n",
       "    <tr>\n",
       "      <th>unique</th>\n",
       "      <td>3436</td>\n",
       "      <td>49</td>\n",
       "      <td>16</td>\n",
       "      <td>16</td>\n",
       "      <td>16</td>\n",
       "      <td>2</td>\n",
       "      <td>2</td>\n",
       "    </tr>\n",
       "    <tr>\n",
       "      <th>top</th>\n",
       "      <td>2013-11-12</td>\n",
       "      <td>Canberra</td>\n",
       "      <td>W</td>\n",
       "      <td>N</td>\n",
       "      <td>SE</td>\n",
       "      <td>No</td>\n",
       "      <td>No</td>\n",
       "    </tr>\n",
       "    <tr>\n",
       "      <th>freq</th>\n",
       "      <td>49</td>\n",
       "      <td>3436</td>\n",
       "      <td>9915</td>\n",
       "      <td>11758</td>\n",
       "      <td>10838</td>\n",
       "      <td>110319</td>\n",
       "      <td>110316</td>\n",
       "    </tr>\n",
       "  </tbody>\n",
       "</table>\n",
       "</div>"
      ],
      "text/plain": [
       "              Date  Location WindGustDir WindDir9am WindDir3pm RainToday  \\\n",
       "count       145460    145460      135134     134894     141232    142199   \n",
       "unique        3436        49          16         16         16         2   \n",
       "top     2013-11-12  Canberra           W          N         SE        No   \n",
       "freq            49      3436        9915      11758      10838    110319   \n",
       "\n",
       "       RainTomorrow  \n",
       "count        142193  \n",
       "unique            2  \n",
       "top              No  \n",
       "freq         110316  "
      ]
     },
     "execution_count": 11,
     "metadata": {},
     "output_type": "execute_result"
    }
   ],
   "source": [
    "df.describe(include='O')"
   ]
  },
  {
   "cell_type": "markdown",
   "metadata": {},
   "source": [
    "k. Melihat banyaknya unique values pada masing-masing atribut"
   ]
  },
  {
   "cell_type": "code",
   "execution_count": 12,
   "metadata": {},
   "outputs": [
    {
     "name": "stdout",
     "output_type": "stream",
     "text": [
      "Date : 3436\n",
      "Location : 49\n",
      "MinTemp : 389\n",
      "MaxTemp : 505\n",
      "Rainfall : 681\n",
      "Evaporation : 358\n",
      "Sunshine : 145\n",
      "WindGustDir : 16\n",
      "WindGustSpeed : 67\n",
      "WindDir9am : 16\n",
      "WindDir3pm : 16\n",
      "WindSpeed9am : 43\n",
      "WindSpeed3pm : 44\n",
      "Humidity9am : 101\n",
      "Humidity3pm : 101\n",
      "Pressure9am : 546\n",
      "Pressure3pm : 549\n",
      "Cloud9am : 10\n",
      "Cloud3pm : 10\n",
      "Temp9am : 441\n",
      "Temp3pm : 502\n",
      "RainToday : 2\n",
      "RainTomorrow : 2\n"
     ]
    }
   ],
   "source": [
    "for col in df.columns:\n",
    "    print(col,':', df[col].nunique())"
   ]
  },
  {
   "cell_type": "markdown",
   "metadata": {},
   "source": [
    "l. Mencoba melihat unique values pada kolom Location"
   ]
  },
  {
   "cell_type": "code",
   "execution_count": 13,
   "metadata": {},
   "outputs": [
    {
     "data": {
      "text/plain": [
       "array(['Albury', 'BadgerysCreek', 'Cobar', 'CoffsHarbour', 'Moree',\n",
       "       'Newcastle', 'NorahHead', 'NorfolkIsland', 'Penrith', 'Richmond',\n",
       "       'Sydney', 'SydneyAirport', 'WaggaWagga', 'Williamtown',\n",
       "       'Wollongong', 'Canberra', 'Tuggeranong', 'MountGinini', 'Ballarat',\n",
       "       'Bendigo', 'Sale', 'MelbourneAirport', 'Melbourne', 'Mildura',\n",
       "       'Nhil', 'Portland', 'Watsonia', 'Dartmoor', 'Brisbane', 'Cairns',\n",
       "       'GoldCoast', 'Townsville', 'Adelaide', 'MountGambier', 'Nuriootpa',\n",
       "       'Woomera', 'Albany', 'Witchcliffe', 'PearceRAAF', 'PerthAirport',\n",
       "       'Perth', 'SalmonGums', 'Walpole', 'Hobart', 'Launceston',\n",
       "       'AliceSprings', 'Darwin', 'Katherine', 'Uluru'], dtype=object)"
      ]
     },
     "execution_count": 13,
     "metadata": {},
     "output_type": "execute_result"
    }
   ],
   "source": [
    "df['Location'].unique()"
   ]
  },
  {
   "cell_type": "markdown",
   "metadata": {},
   "source": [
    "## 4. Data Cleaning\n",
    "Bagian ini mencakup langkah-langkah persiapan data sebelum melanjutkan eksplorasi lebih lanjut. Tahap pembersihan data melibatkan tindakan-tindakan seperti memberikan nama baru pada setiap kolom, menangani nilai yang hilang, menghilangkan kolom yang tidak relevan, dan langkah-langkah lain untuk memastikan kebersihan dan keteraturan data sebelum dilakukan analisis lebih lanjut.\n",
    "\n",
    "a. Melihat apakah terdapat duplikasi data pada dataset"
   ]
  },
  {
   "cell_type": "code",
   "execution_count": 14,
   "metadata": {},
   "outputs": [
    {
     "data": {
      "text/plain": [
       "0"
      ]
     },
     "execution_count": 14,
     "metadata": {},
     "output_type": "execute_result"
    }
   ],
   "source": [
    "df.duplicated().sum()"
   ]
  },
  {
   "cell_type": "markdown",
   "metadata": {},
   "source": [
    "dapat dilihat tidak ada duplikasi data pada dataset\n",
    "\n",
    "b. Melihat apakah terdapat _missing values_ / nilai yang hilang pada tiap kolom"
   ]
  },
  {
   "cell_type": "code",
   "execution_count": 15,
   "metadata": {},
   "outputs": [
    {
     "data": {
      "text/plain": [
       "Date                 0\n",
       "Location             0\n",
       "MinTemp           1485\n",
       "MaxTemp           1261\n",
       "Rainfall          3261\n",
       "Evaporation      62790\n",
       "Sunshine         69835\n",
       "WindGustDir      10326\n",
       "WindGustSpeed    10263\n",
       "WindDir9am       10566\n",
       "WindDir3pm        4228\n",
       "WindSpeed9am      1767\n",
       "WindSpeed3pm      3062\n",
       "Humidity9am       2654\n",
       "Humidity3pm       4507\n",
       "Pressure9am      15065\n",
       "Pressure3pm      15028\n",
       "Cloud9am         55888\n",
       "Cloud3pm         59358\n",
       "Temp9am           1767\n",
       "Temp3pm           3609\n",
       "RainToday         3261\n",
       "RainTomorrow      3267\n",
       "dtype: int64"
      ]
     },
     "execution_count": 15,
     "metadata": {},
     "output_type": "execute_result"
    }
   ],
   "source": [
    "df.isnull().sum() # NaN ada di kolom price"
   ]
  },
  {
   "cell_type": "markdown",
   "metadata": {},
   "source": [
    "dari hasil diketahui terdapat missing value pada beberapa kolom dengan jumlah yang berbeda - beda\n",
    "\n",
    "c. Melihat berapa persen missing value pada setiap kolom"
   ]
  },
  {
   "cell_type": "code",
   "execution_count": 16,
   "metadata": {},
   "outputs": [
    {
     "data": {
      "text/plain": [
       "Date               0.0 %\n",
       "Location           0.0 %\n",
       "MinTemp           1.02 %\n",
       "MaxTemp           0.87 %\n",
       "Rainfall          2.24 %\n",
       "Evaporation      43.17 %\n",
       "Sunshine         48.01 %\n",
       "WindGustDir        7.1 %\n",
       "WindGustSpeed     7.06 %\n",
       "WindDir9am        7.26 %\n",
       "WindDir3pm        2.91 %\n",
       "WindSpeed9am      1.21 %\n",
       "WindSpeed3pm      2.11 %\n",
       "Humidity9am       1.82 %\n",
       "Humidity3pm        3.1 %\n",
       "Pressure9am      10.36 %\n",
       "Pressure3pm      10.33 %\n",
       "Cloud9am         38.42 %\n",
       "Cloud3pm         40.81 %\n",
       "Temp9am           1.21 %\n",
       "Temp3pm           2.48 %\n",
       "RainToday         2.24 %\n",
       "RainTomorrow      2.25 %\n",
       "dtype: object"
      ]
     },
     "execution_count": 16,
     "metadata": {},
     "output_type": "execute_result"
    }
   ],
   "source": [
    "missing_value = df.apply(lambda x: f'{((x.isnull().sum()/df.shape[0])*100).round(2)} %')\n",
    "missing_value"
   ]
  },
  {
   "cell_type": "markdown",
   "metadata": {},
   "source": [
    "d. membuat visualisasi banyaknya missing value"
   ]
  },
  {
   "cell_type": "code",
   "execution_count": 17,
   "metadata": {},
   "outputs": [
    {
     "data": {
      "image/png": "[encoded data removed]",
      "text/plain": [
       "<Figure size 640x480 with 1 Axes>"
      ]
     },
     "metadata": {},
     "output_type": "display_data"
    }
   ],
   "source": [
    "df.isnull().sum().plot.bar()\n",
    "plt.show()"
   ]
  },
  {
   "cell_type": "markdown",
   "metadata": {},
   "source": [
    "dapat dilihat kolom Sunshine, Evaporation, Cloud9am dan Cloud3am memiliki banyak missing value\n",
    "\n",
    "e. Melakukan penghapusan kolom yang tidak diperlukan\n",
    "\n",
    "disini kami hanya akan menggunakan kolom `Location`, `MaxTemp`, `MinTemp`, `Rainfall`, `Evaporation`, `Sunshine`, `WindGustSpeed`, `Humidity9am`, `Humidity3am`, `Cloud9am`, `Cloud3am`, `RainToday`, dan `RainTomorrow` untuk melakukan prediksi dan menghapus kolom selain itu"
   ]
  },
  {
   "cell_type": "code",
   "execution_count": 18,
   "metadata": {},
   "outputs": [],
   "source": [
    "drop_cols = [\"Date\", \"WindGustDir\", \"WindDir9am\", \"WindDir3pm\", \"WindSpeed9am\", \"WindSpeed3pm\", \"Pressure9am\", \"Pressure3pm\", \n",
    "             \"Temp9am\", \"Temp3pm\"]"
   ]
  },
  {
   "cell_type": "markdown",
   "metadata": {},
   "source": [
    "Melakukan penghapusan atribut dengan .drop"
   ]
  },
  {
   "cell_type": "code",
   "execution_count": 19,
   "metadata": {},
   "outputs": [
    {
     "data": {
      "text/html": [
       "<div>\n",
       "<style scoped>\n",
       "    .dataframe tbody tr th:only-of-type {\n",
       "        vertical-align: middle;\n",
       "    }\n",
       "\n",
       "    .dataframe tbody tr th {\n",
       "        vertical-align: top;\n",
       "    }\n",
       "\n",
       "    .dataframe thead th {\n",
       "        text-align: right;\n",
       "    }\n",
       "</style>\n",
       "<table border=\"1\" class=\"dataframe\">\n",
       "  <thead>\n",
       "    <tr style=\"text-align: right;\">\n",
       "      <th></th>\n",
       "      <th>Location</th>\n",
       "      <th>MinTemp</th>\n",
       "      <th>MaxTemp</th>\n",
       "      <th>Rainfall</th>\n",
       "      <th>Evaporation</th>\n",
       "      <th>Sunshine</th>\n",
       "      <th>WindGustSpeed</th>\n",
       "      <th>Humidity9am</th>\n",
       "      <th>Humidity3pm</th>\n",
       "      <th>Cloud9am</th>\n",
       "      <th>Cloud3pm</th>\n",
       "      <th>RainToday</th>\n",
       "      <th>RainTomorrow</th>\n",
       "    </tr>\n",
       "  </thead>\n",
       "  <tbody>\n",
       "    <tr>\n",
       "      <th>0</th>\n",
       "      <td>Albury</td>\n",
       "      <td>13.4</td>\n",
       "      <td>22.9</td>\n",
       "      <td>0.6</td>\n",
       "      <td>NaN</td>\n",
       "      <td>NaN</td>\n",
       "      <td>44.0</td>\n",
       "      <td>71.0</td>\n",
       "      <td>22.0</td>\n",
       "      <td>8.0</td>\n",
       "      <td>NaN</td>\n",
       "      <td>No</td>\n",
       "      <td>No</td>\n",
       "    </tr>\n",
       "    <tr>\n",
       "      <th>1</th>\n",
       "      <td>Albury</td>\n",
       "      <td>7.4</td>\n",
       "      <td>25.1</td>\n",
       "      <td>0.0</td>\n",
       "      <td>NaN</td>\n",
       "      <td>NaN</td>\n",
       "      <td>44.0</td>\n",
       "      <td>44.0</td>\n",
       "      <td>25.0</td>\n",
       "      <td>NaN</td>\n",
       "      <td>NaN</td>\n",
       "      <td>No</td>\n",
       "      <td>No</td>\n",
       "    </tr>\n",
       "    <tr>\n",
       "      <th>2</th>\n",
       "      <td>Albury</td>\n",
       "      <td>12.9</td>\n",
       "      <td>25.7</td>\n",
       "      <td>0.0</td>\n",
       "      <td>NaN</td>\n",
       "      <td>NaN</td>\n",
       "      <td>46.0</td>\n",
       "      <td>38.0</td>\n",
       "      <td>30.0</td>\n",
       "      <td>NaN</td>\n",
       "      <td>2.0</td>\n",
       "      <td>No</td>\n",
       "      <td>No</td>\n",
       "    </tr>\n",
       "    <tr>\n",
       "      <th>3</th>\n",
       "      <td>Albury</td>\n",
       "      <td>9.2</td>\n",
       "      <td>28.0</td>\n",
       "      <td>0.0</td>\n",
       "      <td>NaN</td>\n",
       "      <td>NaN</td>\n",
       "      <td>24.0</td>\n",
       "      <td>45.0</td>\n",
       "      <td>16.0</td>\n",
       "      <td>NaN</td>\n",
       "      <td>NaN</td>\n",
       "      <td>No</td>\n",
       "      <td>No</td>\n",
       "    </tr>\n",
       "    <tr>\n",
       "      <th>4</th>\n",
       "      <td>Albury</td>\n",
       "      <td>17.5</td>\n",
       "      <td>32.3</td>\n",
       "      <td>1.0</td>\n",
       "      <td>NaN</td>\n",
       "      <td>NaN</td>\n",
       "      <td>41.0</td>\n",
       "      <td>82.0</td>\n",
       "      <td>33.0</td>\n",
       "      <td>7.0</td>\n",
       "      <td>8.0</td>\n",
       "      <td>No</td>\n",
       "      <td>No</td>\n",
       "    </tr>\n",
       "  </tbody>\n",
       "</table>\n",
       "</div>"
      ],
      "text/plain": [
       "  Location  MinTemp  MaxTemp  Rainfall  Evaporation  Sunshine  WindGustSpeed  \\\n",
       "0   Albury     13.4     22.9       0.6          NaN       NaN           44.0   \n",
       "1   Albury      7.4     25.1       0.0          NaN       NaN           44.0   \n",
       "2   Albury     12.9     25.7       0.0          NaN       NaN           46.0   \n",
       "3   Albury      9.2     28.0       0.0          NaN       NaN           24.0   \n",
       "4   Albury     17.5     32.3       1.0          NaN       NaN           41.0   \n",
       "\n",
       "   Humidity9am  Humidity3pm  Cloud9am  Cloud3pm RainToday RainTomorrow  \n",
       "0         71.0         22.0       8.0       NaN        No           No  \n",
       "1         44.0         25.0       NaN       NaN        No           No  \n",
       "2         38.0         30.0       NaN       2.0        No           No  \n",
       "3         45.0         16.0       NaN       NaN        No           No  \n",
       "4         82.0         33.0       7.0       8.0        No           No  "
      ]
     },
     "execution_count": 19,
     "metadata": {},
     "output_type": "execute_result"
    }
   ],
   "source": [
    "df = df.drop(drop_cols, axis=1)\n",
    "df.head()"
   ]
  },
  {
   "cell_type": "markdown",
   "metadata": {},
   "source": [
    "f. Mengisi missing values pada kolom numerical dan categorical\n",
    "- menangani missing value pada atribut target (RainTomorrow) dengan melakukan penghapusan / drop baris"
   ]
  },
  {
   "cell_type": "code",
   "execution_count": 20,
   "metadata": {},
   "outputs": [
    {
     "data": {
      "text/plain": [
       "(142193, 13)"
      ]
     },
     "execution_count": 20,
     "metadata": {},
     "output_type": "execute_result"
    }
   ],
   "source": [
    "df = df.drop(df[df['RainTomorrow'].isnull()].index)\n",
    "df.shape"
   ]
  },
  {
   "cell_type": "markdown",
   "metadata": {},
   "source": [
    "- pada kolom categorical ditangani dengan modus"
   ]
  },
  {
   "cell_type": "code",
   "execution_count": 21,
   "metadata": {},
   "outputs": [
    {
     "data": {
      "text/plain": [
       "Location        0\n",
       "RainToday       0\n",
       "RainTomorrow    0\n",
       "dtype: int64"
      ]
     },
     "execution_count": 21,
     "metadata": {},
     "output_type": "execute_result"
    }
   ],
   "source": [
    "categorical = [i for i in df.columns if df[i].dtypes == 'O']\n",
    "\n",
    "for cat_col in categorical:\n",
    "    df[cat_col].fillna(df[cat_col].mode()[0],inplace=True)\n",
    "    \n",
    "df[categorical].isnull().sum()"
   ]
  },
  {
   "cell_type": "markdown",
   "metadata": {},
   "source": [
    "- pada kolom numerical ditangani dengan median"
   ]
  },
  {
   "cell_type": "code",
   "execution_count": 22,
   "metadata": {},
   "outputs": [
    {
     "data": {
      "text/plain": [
       "MinTemp          0\n",
       "MaxTemp          0\n",
       "Rainfall         0\n",
       "Evaporation      0\n",
       "Sunshine         0\n",
       "WindGustSpeed    0\n",
       "Humidity9am      0\n",
       "Humidity3pm      0\n",
       "Cloud9am         0\n",
       "Cloud3pm         0\n",
       "dtype: int64"
      ]
     },
     "execution_count": 22,
     "metadata": {},
     "output_type": "execute_result"
    }
   ],
   "source": [
    "numerical = [i for i in df.columns if i not in categorical]\n",
    "\n",
    "for num_col in numerical:\n",
    "    df[num_col].fillna(df[num_col].median(),inplace=True)\n",
    "    \n",
    "df[numerical].isnull().sum()"
   ]
  },
  {
   "cell_type": "code",
   "execution_count": 23,
   "metadata": {},
   "outputs": [
    {
     "data": {
      "text/plain": [
       "False"
      ]
     },
     "execution_count": 23,
     "metadata": {},
     "output_type": "execute_result"
    }
   ],
   "source": [
    "df.isnull().values.any()"
   ]
  },
  {
   "cell_type": "markdown",
   "metadata": {},
   "source": [
    "setelah dilakukan penanganan missing value didapakan sudah tidak ada missing value lagi pada dataset\n",
    "\n",
    "f. Memberikan nama baru pada untuk setiap kolom atau atribut"
   ]
  },
  {
   "cell_type": "code",
   "execution_count": 24,
   "metadata": {},
   "outputs": [
    {
     "data": {
      "text/html": [
       "<div>\n",
       "<style scoped>\n",
       "    .dataframe tbody tr th:only-of-type {\n",
       "        vertical-align: middle;\n",
       "    }\n",
       "\n",
       "    .dataframe tbody tr th {\n",
       "        vertical-align: top;\n",
       "    }\n",
       "\n",
       "    .dataframe thead th {\n",
       "        text-align: right;\n",
       "    }\n",
       "</style>\n",
       "<table border=\"1\" class=\"dataframe\">\n",
       "  <thead>\n",
       "    <tr style=\"text-align: right;\">\n",
       "      <th></th>\n",
       "      <th>Lokasi</th>\n",
       "      <th>TempMin</th>\n",
       "      <th>TempMax</th>\n",
       "      <th>CurahHujan</th>\n",
       "      <th>Evaporasi</th>\n",
       "      <th>SinarMatahari</th>\n",
       "      <th>KecepatanAngin</th>\n",
       "      <th>Kelembapan9am</th>\n",
       "      <th>Kelembapan3pm</th>\n",
       "      <th>Awan9am</th>\n",
       "      <th>Awan3pm</th>\n",
       "      <th>HujanHariIni</th>\n",
       "      <th>HujanBesok</th>\n",
       "    </tr>\n",
       "  </thead>\n",
       "  <tbody>\n",
       "    <tr>\n",
       "      <th>0</th>\n",
       "      <td>Albury</td>\n",
       "      <td>13.4</td>\n",
       "      <td>22.9</td>\n",
       "      <td>0.6</td>\n",
       "      <td>4.8</td>\n",
       "      <td>8.5</td>\n",
       "      <td>44.0</td>\n",
       "      <td>71.0</td>\n",
       "      <td>22.0</td>\n",
       "      <td>8.0</td>\n",
       "      <td>5.0</td>\n",
       "      <td>No</td>\n",
       "      <td>No</td>\n",
       "    </tr>\n",
       "    <tr>\n",
       "      <th>1</th>\n",
       "      <td>Albury</td>\n",
       "      <td>7.4</td>\n",
       "      <td>25.1</td>\n",
       "      <td>0.0</td>\n",
       "      <td>4.8</td>\n",
       "      <td>8.5</td>\n",
       "      <td>44.0</td>\n",
       "      <td>44.0</td>\n",
       "      <td>25.0</td>\n",
       "      <td>5.0</td>\n",
       "      <td>5.0</td>\n",
       "      <td>No</td>\n",
       "      <td>No</td>\n",
       "    </tr>\n",
       "    <tr>\n",
       "      <th>2</th>\n",
       "      <td>Albury</td>\n",
       "      <td>12.9</td>\n",
       "      <td>25.7</td>\n",
       "      <td>0.0</td>\n",
       "      <td>4.8</td>\n",
       "      <td>8.5</td>\n",
       "      <td>46.0</td>\n",
       "      <td>38.0</td>\n",
       "      <td>30.0</td>\n",
       "      <td>5.0</td>\n",
       "      <td>2.0</td>\n",
       "      <td>No</td>\n",
       "      <td>No</td>\n",
       "    </tr>\n",
       "    <tr>\n",
       "      <th>3</th>\n",
       "      <td>Albury</td>\n",
       "      <td>9.2</td>\n",
       "      <td>28.0</td>\n",
       "      <td>0.0</td>\n",
       "      <td>4.8</td>\n",
       "      <td>8.5</td>\n",
       "      <td>24.0</td>\n",
       "      <td>45.0</td>\n",
       "      <td>16.0</td>\n",
       "      <td>5.0</td>\n",
       "      <td>5.0</td>\n",
       "      <td>No</td>\n",
       "      <td>No</td>\n",
       "    </tr>\n",
       "    <tr>\n",
       "      <th>4</th>\n",
       "      <td>Albury</td>\n",
       "      <td>17.5</td>\n",
       "      <td>32.3</td>\n",
       "      <td>1.0</td>\n",
       "      <td>4.8</td>\n",
       "      <td>8.5</td>\n",
       "      <td>41.0</td>\n",
       "      <td>82.0</td>\n",
       "      <td>33.0</td>\n",
       "      <td>7.0</td>\n",
       "      <td>8.0</td>\n",
       "      <td>No</td>\n",
       "      <td>No</td>\n",
       "    </tr>\n",
       "  </tbody>\n",
       "</table>\n",
       "</div>"
      ],
      "text/plain": [
       "   Lokasi  TempMin  TempMax  CurahHujan  Evaporasi  SinarMatahari  \\\n",
       "0  Albury     13.4     22.9         0.6        4.8            8.5   \n",
       "1  Albury      7.4     25.1         0.0        4.8            8.5   \n",
       "2  Albury     12.9     25.7         0.0        4.8            8.5   \n",
       "3  Albury      9.2     28.0         0.0        4.8            8.5   \n",
       "4  Albury     17.5     32.3         1.0        4.8            8.5   \n",
       "\n",
       "   KecepatanAngin  Kelembapan9am  Kelembapan3pm  Awan9am  Awan3pm  \\\n",
       "0            44.0           71.0           22.0      8.0      5.0   \n",
       "1            44.0           44.0           25.0      5.0      5.0   \n",
       "2            46.0           38.0           30.0      5.0      2.0   \n",
       "3            24.0           45.0           16.0      5.0      5.0   \n",
       "4            41.0           82.0           33.0      7.0      8.0   \n",
       "\n",
       "  HujanHariIni HujanBesok  \n",
       "0           No         No  \n",
       "1           No         No  \n",
       "2           No         No  \n",
       "3           No         No  \n",
       "4           No         No  "
      ]
     },
     "execution_count": 24,
     "metadata": {},
     "output_type": "execute_result"
    }
   ],
   "source": [
    "df = df.rename(columns={'Location':'Lokasi', 'MinTemp':'TempMin', 'MaxTemp':'TempMax', 'Rainfall':'CurahHujan', \n",
    "                        'Evaporation':'Evaporasi', 'Sunshine':'SinarMatahari', 'WindGustSpeed':'KecepatanAngin', \n",
    "                        'Humidity9am':'Kelembapan9am', 'Humidity3pm':'Kelembapan3pm', 'Cloud9am':'Awan9am', \n",
    "                        'Cloud3pm':'Awan3pm', 'RainToday':'HujanHariIni', 'RainTomorrow':'HujanBesok'})\n",
    "\n",
    "df.head()"
   ]
  },
  {
   "cell_type": "code",
   "execution_count": 25,
   "metadata": {},
   "outputs": [
    {
     "data": {
      "text/plain": [
       "Index(['Lokasi', 'TempMin', 'TempMax', 'CurahHujan', 'Evaporasi',\n",
       "       'SinarMatahari', 'KecepatanAngin', 'Kelembapan9am', 'Kelembapan3pm',\n",
       "       'Awan9am', 'Awan3pm', 'HujanHariIni', 'HujanBesok'],\n",
       "      dtype='object')"
      ]
     },
     "execution_count": 25,
     "metadata": {},
     "output_type": "execute_result"
    }
   ],
   "source": [
    "df.columns"
   ]
  },
  {
   "cell_type": "markdown",
   "metadata": {},
   "source": [
    "g. Melihat banyaknya nilai dari masing-masing atribut"
   ]
  },
  {
   "cell_type": "code",
   "execution_count": 26,
   "metadata": {},
   "outputs": [
    {
     "name": "stdout",
     "output_type": "stream",
     "text": [
      "Lokasi : \n",
      "Lokasi\n",
      "Canberra            3418\n",
      "Sydney              3337\n",
      "Perth               3193\n",
      "Darwin              3192\n",
      "Hobart              3188\n",
      "Brisbane            3161\n",
      "Adelaide            3090\n",
      "Bendigo             3034\n",
      "Townsville          3033\n",
      "AliceSprings        3031\n",
      "MountGambier        3030\n",
      "Launceston          3028\n",
      "Ballarat            3028\n",
      "Albany              3016\n",
      "Albury              3011\n",
      "PerthAirport        3009\n",
      "MelbourneAirport    3009\n",
      "Mildura             3007\n",
      "SydneyAirport       3005\n",
      "Nuriootpa           3002\n",
      "Sale                3000\n",
      "Watsonia            2999\n",
      "Tuggeranong         2998\n",
      "Portland            2996\n",
      "Woomera             2990\n",
      "Cairns              2988\n",
      "Cobar               2988\n",
      "Wollongong          2983\n",
      "GoldCoast           2980\n",
      "WaggaWagga          2976\n",
      "Penrith             2964\n",
      "NorfolkIsland       2964\n",
      "SalmonGums          2955\n",
      "Newcastle           2955\n",
      "CoffsHarbour        2953\n",
      "Witchcliffe         2952\n",
      "Richmond            2951\n",
      "Dartmoor            2943\n",
      "NorahHead           2929\n",
      "BadgerysCreek       2928\n",
      "MountGinini         2907\n",
      "Moree               2854\n",
      "Walpole             2819\n",
      "PearceRAAF          2762\n",
      "Williamtown         2553\n",
      "Melbourne           2435\n",
      "Nhil                1569\n",
      "Katherine           1559\n",
      "Uluru               1521\n",
      "Name: count, dtype: int64\n",
      "\n",
      " ############################################################ \n",
      "\n",
      "TempMin : \n",
      "TempMin\n",
      " 12.0    1487\n",
      " 11.0     883\n",
      " 9.6      883\n",
      " 10.2     880\n",
      " 10.5     867\n",
      "         ... \n",
      " 30.5       1\n",
      "-7.3        1\n",
      "-7.8        1\n",
      "-7.2        1\n",
      " 30.2       1\n",
      "Name: count, Length: 389, dtype: int64\n",
      "\n",
      " ############################################################ \n",
      "\n",
      "TempMax : \n",
      "TempMax\n",
      " 22.6    1049\n",
      " 20.0     871\n",
      " 19.8     829\n",
      " 19.0     827\n",
      " 20.4     820\n",
      "         ... \n",
      "-3.2        1\n",
      "-4.1        1\n",
      " 0.7        1\n",
      "-3.8        1\n",
      "-3.0        1\n",
      "Name: count, Length: 505, dtype: int64\n",
      "\n",
      " ############################################################ \n",
      "\n",
      "CurahHujan : \n",
      "CurahHujan\n",
      "0.0      91681\n",
      "0.2       8685\n",
      "0.4       3750\n",
      "0.6       2562\n",
      "0.8       2028\n",
      "         ...  \n",
      "134.8        1\n",
      "84.4         1\n",
      "157.6        1\n",
      "166.8        1\n",
      "69.0         1\n",
      "Name: count, Length: 679, dtype: int64\n",
      "\n",
      " ############################################################ \n",
      "\n",
      "Evaporasi : \n",
      "Evaporasi\n",
      "4.8     62460\n",
      "4.0      3282\n",
      "8.0      2574\n",
      "2.2      2057\n",
      "2.0      1996\n",
      "        ...  \n",
      "17.1        1\n",
      "19.7        1\n",
      "20.5        1\n",
      "18.1        1\n",
      "39.6        1\n",
      "Name: count, Length: 356, dtype: int64\n",
      "\n",
      " ############################################################ \n",
      "\n",
      "SinarMatahari : \n",
      "SinarMatahari\n",
      "8.5     68465\n",
      "0.0      2308\n",
      "10.7     1087\n",
      "11.0     1078\n",
      "10.8     1058\n",
      "        ...  \n",
      "14.0       15\n",
      "14.1        6\n",
      "14.3        4\n",
      "14.2        2\n",
      "14.5        1\n",
      "Name: count, Length: 145, dtype: int64\n",
      "\n",
      " ############################################################ \n",
      "\n",
      "KecepatanAngin : \n",
      "KecepatanAngin\n",
      "39.0     17926\n",
      "35.0      9070\n",
      "31.0      8310\n",
      "37.0      7903\n",
      "33.0      7814\n",
      "         ...  \n",
      "126.0        2\n",
      "122.0        2\n",
      "124.0        2\n",
      "130.0        1\n",
      "6.0          1\n",
      "Name: count, Length: 67, dtype: int64\n",
      "\n",
      " ############################################################ \n",
      "\n",
      "Kelembapan9am : \n",
      "Kelembapan9am\n",
      "70.0    4759\n",
      "99.0    3350\n",
      "69.0    2962\n",
      "68.0    2961\n",
      "65.0    2952\n",
      "        ... \n",
      "4.0       20\n",
      "3.0       10\n",
      "2.0        8\n",
      "1.0        5\n",
      "0.0        1\n",
      "Name: count, Length: 101, dtype: int64\n",
      "\n",
      " ############################################################ \n",
      "\n",
      "Kelembapan3pm : \n",
      "Kelembapan3pm\n",
      "52.0    6309\n",
      "55.0    2685\n",
      "57.0    2679\n",
      "53.0    2650\n",
      "59.0    2639\n",
      "        ... \n",
      "4.0      113\n",
      "3.0       63\n",
      "2.0       35\n",
      "1.0       26\n",
      "0.0        4\n",
      "Name: count, Length: 101, dtype: int64\n",
      "\n",
      " ############################################################ \n",
      "\n",
      "Awan9am : \n",
      "Awan9am\n",
      "5.0    59167\n",
      "7.0    19749\n",
      "1.0    15558\n",
      "8.0    14389\n",
      "0.0     8587\n",
      "6.0     8072\n",
      "2.0     6442\n",
      "3.0     5854\n",
      "4.0     4373\n",
      "9.0        2\n",
      "Name: count, dtype: int64\n",
      "\n",
      " ############################################################ \n",
      "\n",
      "Awan3pm : \n",
      "Awan3pm\n",
      "5.0    63837\n",
      "7.0    18052\n",
      "1.0    14827\n",
      "8.0    12407\n",
      "6.0     8869\n",
      "2.0     7153\n",
      "3.0     6836\n",
      "4.0     5254\n",
      "0.0     4957\n",
      "9.0        1\n",
      "Name: count, dtype: int64\n",
      "\n",
      " ############################################################ \n",
      "\n",
      "HujanHariIni : \n",
      "HujanHariIni\n",
      "No     110738\n",
      "Yes     31455\n",
      "Name: count, dtype: int64\n",
      "\n",
      " ############################################################ \n",
      "\n",
      "HujanBesok : \n",
      "HujanBesok\n",
      "No     110316\n",
      "Yes     31877\n",
      "Name: count, dtype: int64\n",
      "\n",
      " ############################################################ \n",
      "\n"
     ]
    }
   ],
   "source": [
    "for col in df.columns:\n",
    "    print(col, ': ')\n",
    "    print(df[col].value_counts())\n",
    "    print('\\n','#'*60,'\\n')"
   ]
  },
  {
   "cell_type": "markdown",
   "metadata": {},
   "source": [
    "h. Membuat atribut atau kolom baru\n",
    "\n",
    "disini kami membuat atribut atau kolom baru yaitu `SelisihTemp`, yang didapatkan dengan menghitung `TempMax` dikurang dengan `TempMin`"
   ]
  },
  {
   "cell_type": "code",
   "execution_count": 27,
   "metadata": {},
   "outputs": [
    {
     "data": {
      "text/html": [
       "<div>\n",
       "<style scoped>\n",
       "    .dataframe tbody tr th:only-of-type {\n",
       "        vertical-align: middle;\n",
       "    }\n",
       "\n",
       "    .dataframe tbody tr th {\n",
       "        vertical-align: top;\n",
       "    }\n",
       "\n",
       "    .dataframe thead th {\n",
       "        text-align: right;\n",
       "    }\n",
       "</style>\n",
       "<table border=\"1\" class=\"dataframe\">\n",
       "  <thead>\n",
       "    <tr style=\"text-align: right;\">\n",
       "      <th></th>\n",
       "      <th>Lokasi</th>\n",
       "      <th>TempMin</th>\n",
       "      <th>TempMax</th>\n",
       "      <th>CurahHujan</th>\n",
       "      <th>Evaporasi</th>\n",
       "      <th>SinarMatahari</th>\n",
       "      <th>KecepatanAngin</th>\n",
       "      <th>Kelembapan9am</th>\n",
       "      <th>Kelembapan3pm</th>\n",
       "      <th>Awan9am</th>\n",
       "      <th>Awan3pm</th>\n",
       "      <th>HujanHariIni</th>\n",
       "      <th>HujanBesok</th>\n",
       "      <th>SelisihTemp</th>\n",
       "    </tr>\n",
       "  </thead>\n",
       "  <tbody>\n",
       "    <tr>\n",
       "      <th>0</th>\n",
       "      <td>Albury</td>\n",
       "      <td>13.4</td>\n",
       "      <td>22.9</td>\n",
       "      <td>0.6</td>\n",
       "      <td>4.8</td>\n",
       "      <td>8.5</td>\n",
       "      <td>44.0</td>\n",
       "      <td>71.0</td>\n",
       "      <td>22.0</td>\n",
       "      <td>8.0</td>\n",
       "      <td>5.0</td>\n",
       "      <td>No</td>\n",
       "      <td>No</td>\n",
       "      <td>9.5</td>\n",
       "    </tr>\n",
       "    <tr>\n",
       "      <th>1</th>\n",
       "      <td>Albury</td>\n",
       "      <td>7.4</td>\n",
       "      <td>25.1</td>\n",
       "      <td>0.0</td>\n",
       "      <td>4.8</td>\n",
       "      <td>8.5</td>\n",
       "      <td>44.0</td>\n",
       "      <td>44.0</td>\n",
       "      <td>25.0</td>\n",
       "      <td>5.0</td>\n",
       "      <td>5.0</td>\n",
       "      <td>No</td>\n",
       "      <td>No</td>\n",
       "      <td>17.7</td>\n",
       "    </tr>\n",
       "    <tr>\n",
       "      <th>2</th>\n",
       "      <td>Albury</td>\n",
       "      <td>12.9</td>\n",
       "      <td>25.7</td>\n",
       "      <td>0.0</td>\n",
       "      <td>4.8</td>\n",
       "      <td>8.5</td>\n",
       "      <td>46.0</td>\n",
       "      <td>38.0</td>\n",
       "      <td>30.0</td>\n",
       "      <td>5.0</td>\n",
       "      <td>2.0</td>\n",
       "      <td>No</td>\n",
       "      <td>No</td>\n",
       "      <td>12.8</td>\n",
       "    </tr>\n",
       "    <tr>\n",
       "      <th>3</th>\n",
       "      <td>Albury</td>\n",
       "      <td>9.2</td>\n",
       "      <td>28.0</td>\n",
       "      <td>0.0</td>\n",
       "      <td>4.8</td>\n",
       "      <td>8.5</td>\n",
       "      <td>24.0</td>\n",
       "      <td>45.0</td>\n",
       "      <td>16.0</td>\n",
       "      <td>5.0</td>\n",
       "      <td>5.0</td>\n",
       "      <td>No</td>\n",
       "      <td>No</td>\n",
       "      <td>18.8</td>\n",
       "    </tr>\n",
       "    <tr>\n",
       "      <th>4</th>\n",
       "      <td>Albury</td>\n",
       "      <td>17.5</td>\n",
       "      <td>32.3</td>\n",
       "      <td>1.0</td>\n",
       "      <td>4.8</td>\n",
       "      <td>8.5</td>\n",
       "      <td>41.0</td>\n",
       "      <td>82.0</td>\n",
       "      <td>33.0</td>\n",
       "      <td>7.0</td>\n",
       "      <td>8.0</td>\n",
       "      <td>No</td>\n",
       "      <td>No</td>\n",
       "      <td>14.8</td>\n",
       "    </tr>\n",
       "  </tbody>\n",
       "</table>\n",
       "</div>"
      ],
      "text/plain": [
       "   Lokasi  TempMin  TempMax  CurahHujan  Evaporasi  SinarMatahari  \\\n",
       "0  Albury     13.4     22.9         0.6        4.8            8.5   \n",
       "1  Albury      7.4     25.1         0.0        4.8            8.5   \n",
       "2  Albury     12.9     25.7         0.0        4.8            8.5   \n",
       "3  Albury      9.2     28.0         0.0        4.8            8.5   \n",
       "4  Albury     17.5     32.3         1.0        4.8            8.5   \n",
       "\n",
       "   KecepatanAngin  Kelembapan9am  Kelembapan3pm  Awan9am  Awan3pm  \\\n",
       "0            44.0           71.0           22.0      8.0      5.0   \n",
       "1            44.0           44.0           25.0      5.0      5.0   \n",
       "2            46.0           38.0           30.0      5.0      2.0   \n",
       "3            24.0           45.0           16.0      5.0      5.0   \n",
       "4            41.0           82.0           33.0      7.0      8.0   \n",
       "\n",
       "  HujanHariIni HujanBesok  SelisihTemp  \n",
       "0           No         No          9.5  \n",
       "1           No         No         17.7  \n",
       "2           No         No         12.8  \n",
       "3           No         No         18.8  \n",
       "4           No         No         14.8  "
      ]
     },
     "execution_count": 27,
     "metadata": {},
     "output_type": "execute_result"
    }
   ],
   "source": [
    "df['SelisihTemp'] = df['TempMax'] - df['TempMin']\n",
    "\n",
    "# melihat data setelah ditambahkan atribut / kolom baru\n",
    "df.head()"
   ]
  },
  {
   "cell_type": "markdown",
   "metadata": {},
   "source": [
    "## 5. Eksplorasi Data\n",
    "Bagian ini berisi explorasi data pada dataset diatas dengan menggunakan query, grouping, visualisasi sederhana, dan lain sebagainya.\n",
    "\n",
    "a. Mencari Curah hujan tertinggi dan terendah untuk lokasi Albury"
   ]
  },
  {
   "cell_type": "code",
   "execution_count": 28,
   "metadata": {},
   "outputs": [
    {
     "data": {
      "text/plain": [
       "min      0.0\n",
       "max    104.2\n",
       "Name: CurahHujan, dtype: float64"
      ]
     },
     "execution_count": 28,
     "metadata": {},
     "output_type": "execute_result"
    }
   ],
   "source": [
    "df.loc[df['Lokasi'] == 'Albury', 'CurahHujan'].agg(('min', 'max'))"
   ]
  },
  {
   "cell_type": "markdown",
   "metadata": {},
   "source": [
    "Dari hasil dketahui untuk lokasi Albury curah hujan terendah yaitu 0.0 dan curah hujan tertinggi yaitu 104.2\n",
    "\n",
    "b. Mencari waktu terlama dan tercepat hari cerah selama 24 jam. (`CahayaMatahari`)"
   ]
  },
  {
   "cell_type": "code",
   "execution_count": 29,
   "metadata": {},
   "outputs": [
    {
     "data": {
      "text/plain": [
       "14.5"
      ]
     },
     "execution_count": 29,
     "metadata": {},
     "output_type": "execute_result"
    }
   ],
   "source": [
    "df.max(axis=0)['SinarMatahari']"
   ]
  },
  {
   "cell_type": "code",
   "execution_count": 30,
   "metadata": {},
   "outputs": [
    {
     "data": {
      "text/plain": [
       "0.0"
      ]
     },
     "execution_count": 30,
     "metadata": {},
     "output_type": "execute_result"
    }
   ],
   "source": [
    "df.min(axis=0)['SinarMatahari']"
   ]
  },
  {
   "cell_type": "markdown",
   "metadata": {},
   "source": [
    "Didapatkan waktu terlama sinar matahari muncul dalam 24 jam dengan lama **14.5 jam**, dan waktu tercepat dengan lama **0 jam**.\n",
    "\n",
    "c. Mencari nilai tertinggi dan terendah pada kecepatan angin."
   ]
  },
  {
   "cell_type": "code",
   "execution_count": 31,
   "metadata": {},
   "outputs": [
    {
     "data": {
      "text/plain": [
       "135.0"
      ]
     },
     "execution_count": 31,
     "metadata": {},
     "output_type": "execute_result"
    }
   ],
   "source": [
    "df.max(axis=0)['KecepatanAngin']"
   ]
  },
  {
   "cell_type": "code",
   "execution_count": 32,
   "metadata": {},
   "outputs": [
    {
     "data": {
      "text/plain": [
       "6.0"
      ]
     },
     "execution_count": 32,
     "metadata": {},
     "output_type": "execute_result"
    }
   ],
   "source": [
    "df.min(axis=0)['KecepatanAngin']"
   ]
  },
  {
   "cell_type": "markdown",
   "metadata": {},
   "source": [
    "Didapatkan kecepatan angin tertinggi dengan nilai **135km/jam**. Sedangkan untuk kecepatan angin terendah didapat dengan nilai **0km/jam**."
   ]
  },
  {
   "cell_type": "markdown",
   "metadata": {},
   "source": [
    "d. Melihat proporsi data pada kolom Lokasi dan HujanHariIni dengan menggunakan crosstab"
   ]
  },
  {
   "cell_type": "code",
   "execution_count": 33,
   "metadata": {},
   "outputs": [
    {
     "data": {
      "text/html": [
       "<div>\n",
       "<style scoped>\n",
       "    .dataframe tbody tr th:only-of-type {\n",
       "        vertical-align: middle;\n",
       "    }\n",
       "\n",
       "    .dataframe tbody tr th {\n",
       "        vertical-align: top;\n",
       "    }\n",
       "\n",
       "    .dataframe thead th {\n",
       "        text-align: right;\n",
       "    }\n",
       "</style>\n",
       "<table border=\"1\" class=\"dataframe\">\n",
       "  <thead>\n",
       "    <tr style=\"text-align: right;\">\n",
       "      <th>Lokasi</th>\n",
       "      <th>Adelaide</th>\n",
       "      <th>Albany</th>\n",
       "      <th>Albury</th>\n",
       "      <th>AliceSprings</th>\n",
       "      <th>BadgerysCreek</th>\n",
       "      <th>Ballarat</th>\n",
       "      <th>Bendigo</th>\n",
       "      <th>Brisbane</th>\n",
       "      <th>Cairns</th>\n",
       "      <th>Canberra</th>\n",
       "      <th>Cobar</th>\n",
       "      <th>CoffsHarbour</th>\n",
       "      <th>Dartmoor</th>\n",
       "      <th>Darwin</th>\n",
       "      <th>GoldCoast</th>\n",
       "      <th>Hobart</th>\n",
       "      <th>Katherine</th>\n",
       "      <th>Launceston</th>\n",
       "      <th>Melbourne</th>\n",
       "      <th>MelbourneAirport</th>\n",
       "      <th>Mildura</th>\n",
       "      <th>Moree</th>\n",
       "      <th>MountGambier</th>\n",
       "      <th>MountGinini</th>\n",
       "      <th>Newcastle</th>\n",
       "      <th>Nhil</th>\n",
       "      <th>NorahHead</th>\n",
       "      <th>NorfolkIsland</th>\n",
       "      <th>Nuriootpa</th>\n",
       "      <th>PearceRAAF</th>\n",
       "      <th>Penrith</th>\n",
       "      <th>Perth</th>\n",
       "      <th>PerthAirport</th>\n",
       "      <th>Portland</th>\n",
       "      <th>Richmond</th>\n",
       "      <th>Sale</th>\n",
       "      <th>SalmonGums</th>\n",
       "      <th>Sydney</th>\n",
       "      <th>SydneyAirport</th>\n",
       "      <th>Townsville</th>\n",
       "      <th>Tuggeranong</th>\n",
       "      <th>Uluru</th>\n",
       "      <th>WaggaWagga</th>\n",
       "      <th>Walpole</th>\n",
       "      <th>Watsonia</th>\n",
       "      <th>Williamtown</th>\n",
       "      <th>Witchcliffe</th>\n",
       "      <th>Wollongong</th>\n",
       "      <th>Woomera</th>\n",
       "    </tr>\n",
       "    <tr>\n",
       "      <th>HujanHariIni</th>\n",
       "      <th></th>\n",
       "      <th></th>\n",
       "      <th></th>\n",
       "      <th></th>\n",
       "      <th></th>\n",
       "      <th></th>\n",
       "      <th></th>\n",
       "      <th></th>\n",
       "      <th></th>\n",
       "      <th></th>\n",
       "      <th></th>\n",
       "      <th></th>\n",
       "      <th></th>\n",
       "      <th></th>\n",
       "      <th></th>\n",
       "      <th></th>\n",
       "      <th></th>\n",
       "      <th></th>\n",
       "      <th></th>\n",
       "      <th></th>\n",
       "      <th></th>\n",
       "      <th></th>\n",
       "      <th></th>\n",
       "      <th></th>\n",
       "      <th></th>\n",
       "      <th></th>\n",
       "      <th></th>\n",
       "      <th></th>\n",
       "      <th></th>\n",
       "      <th></th>\n",
       "      <th></th>\n",
       "      <th></th>\n",
       "      <th></th>\n",
       "      <th></th>\n",
       "      <th></th>\n",
       "      <th></th>\n",
       "      <th></th>\n",
       "      <th></th>\n",
       "      <th></th>\n",
       "      <th></th>\n",
       "      <th></th>\n",
       "      <th></th>\n",
       "      <th></th>\n",
       "      <th></th>\n",
       "      <th></th>\n",
       "      <th></th>\n",
       "      <th></th>\n",
       "      <th></th>\n",
       "      <th></th>\n",
       "    </tr>\n",
       "  </thead>\n",
       "  <tbody>\n",
       "    <tr>\n",
       "      <th>No</th>\n",
       "      <td>2414</td>\n",
       "      <td>2123</td>\n",
       "      <td>2396</td>\n",
       "      <td>2790</td>\n",
       "      <td>2356</td>\n",
       "      <td>2250</td>\n",
       "      <td>2472</td>\n",
       "      <td>2457</td>\n",
       "      <td>2047</td>\n",
       "      <td>2794</td>\n",
       "      <td>2604</td>\n",
       "      <td>2088</td>\n",
       "      <td>2022</td>\n",
       "      <td>2340</td>\n",
       "      <td>2223</td>\n",
       "      <td>2426</td>\n",
       "      <td>1302</td>\n",
       "      <td>2331</td>\n",
       "      <td>1855</td>\n",
       "      <td>2356</td>\n",
       "      <td>2681</td>\n",
       "      <td>2472</td>\n",
       "      <td>2111</td>\n",
       "      <td>2126</td>\n",
       "      <td>2234</td>\n",
       "      <td>1329</td>\n",
       "      <td>2134</td>\n",
       "      <td>2052</td>\n",
       "      <td>2414</td>\n",
       "      <td>2288</td>\n",
       "      <td>2383</td>\n",
       "      <td>2548</td>\n",
       "      <td>2442</td>\n",
       "      <td>1908</td>\n",
       "      <td>2396</td>\n",
       "      <td>2359</td>\n",
       "      <td>2486</td>\n",
       "      <td>2471</td>\n",
       "      <td>2233</td>\n",
       "      <td>2515</td>\n",
       "      <td>2436</td>\n",
       "      <td>1408</td>\n",
       "      <td>2443</td>\n",
       "      <td>1891</td>\n",
       "      <td>2265</td>\n",
       "      <td>1918</td>\n",
       "      <td>2081</td>\n",
       "      <td>2279</td>\n",
       "      <td>2789</td>\n",
       "    </tr>\n",
       "    <tr>\n",
       "      <th>Yes</th>\n",
       "      <td>676</td>\n",
       "      <td>893</td>\n",
       "      <td>615</td>\n",
       "      <td>241</td>\n",
       "      <td>572</td>\n",
       "      <td>778</td>\n",
       "      <td>562</td>\n",
       "      <td>704</td>\n",
       "      <td>941</td>\n",
       "      <td>624</td>\n",
       "      <td>384</td>\n",
       "      <td>865</td>\n",
       "      <td>921</td>\n",
       "      <td>852</td>\n",
       "      <td>757</td>\n",
       "      <td>762</td>\n",
       "      <td>257</td>\n",
       "      <td>697</td>\n",
       "      <td>580</td>\n",
       "      <td>653</td>\n",
       "      <td>326</td>\n",
       "      <td>382</td>\n",
       "      <td>919</td>\n",
       "      <td>781</td>\n",
       "      <td>721</td>\n",
       "      <td>240</td>\n",
       "      <td>795</td>\n",
       "      <td>912</td>\n",
       "      <td>588</td>\n",
       "      <td>474</td>\n",
       "      <td>581</td>\n",
       "      <td>645</td>\n",
       "      <td>567</td>\n",
       "      <td>1088</td>\n",
       "      <td>555</td>\n",
       "      <td>641</td>\n",
       "      <td>469</td>\n",
       "      <td>866</td>\n",
       "      <td>772</td>\n",
       "      <td>518</td>\n",
       "      <td>562</td>\n",
       "      <td>113</td>\n",
       "      <td>533</td>\n",
       "      <td>928</td>\n",
       "      <td>734</td>\n",
       "      <td>635</td>\n",
       "      <td>871</td>\n",
       "      <td>704</td>\n",
       "      <td>201</td>\n",
       "    </tr>\n",
       "  </tbody>\n",
       "</table>\n",
       "</div>"
      ],
      "text/plain": [
       "Lokasi        Adelaide  Albany  Albury  AliceSprings  BadgerysCreek  Ballarat  \\\n",
       "HujanHariIni                                                                    \n",
       "No                2414    2123    2396          2790           2356      2250   \n",
       "Yes                676     893     615           241            572       778   \n",
       "\n",
       "Lokasi        Bendigo  Brisbane  Cairns  Canberra  Cobar  CoffsHarbour  \\\n",
       "HujanHariIni                                                             \n",
       "No               2472      2457    2047      2794   2604          2088   \n",
       "Yes               562       704     941       624    384           865   \n",
       "\n",
       "Lokasi        Dartmoor  Darwin  GoldCoast  Hobart  Katherine  Launceston  \\\n",
       "HujanHariIni                                                               \n",
       "No                2022    2340       2223    2426       1302        2331   \n",
       "Yes                921     852        757     762        257         697   \n",
       "\n",
       "Lokasi        Melbourne  MelbourneAirport  Mildura  Moree  MountGambier  \\\n",
       "HujanHariIni                                                              \n",
       "No                 1855              2356     2681   2472          2111   \n",
       "Yes                 580               653      326    382           919   \n",
       "\n",
       "Lokasi        MountGinini  Newcastle  Nhil  NorahHead  NorfolkIsland  \\\n",
       "HujanHariIni                                                           \n",
       "No                   2126       2234  1329       2134           2052   \n",
       "Yes                   781        721   240        795            912   \n",
       "\n",
       "Lokasi        Nuriootpa  PearceRAAF  Penrith  Perth  PerthAirport  Portland  \\\n",
       "HujanHariIni                                                                  \n",
       "No                 2414        2288     2383   2548          2442      1908   \n",
       "Yes                 588         474      581    645           567      1088   \n",
       "\n",
       "Lokasi        Richmond  Sale  SalmonGums  Sydney  SydneyAirport  Townsville  \\\n",
       "HujanHariIni                                                                  \n",
       "No                2396  2359        2486    2471           2233        2515   \n",
       "Yes                555   641         469     866            772         518   \n",
       "\n",
       "Lokasi        Tuggeranong  Uluru  WaggaWagga  Walpole  Watsonia  Williamtown  \\\n",
       "HujanHariIni                                                                   \n",
       "No                   2436   1408        2443     1891      2265         1918   \n",
       "Yes                   562    113         533      928       734          635   \n",
       "\n",
       "Lokasi        Witchcliffe  Wollongong  Woomera  \n",
       "HujanHariIni                                    \n",
       "No                   2081        2279     2789  \n",
       "Yes                   871         704      201  "
      ]
     },
     "execution_count": 33,
     "metadata": {},
     "output_type": "execute_result"
    }
   ],
   "source": [
    "pd.crosstab(df.HujanHariIni, df.Lokasi)"
   ]
  },
  {
   "cell_type": "markdown",
   "metadata": {},
   "source": [
    "Pengamatan menunjukkan bahwa secara umum, sebagian besar lokasi cenderung jarang mengalami hujan setiap harinya. Portland, di sisi lain, menonjol karena perbedaan yang cukup tipis antara hari yang mengalami hujan dan tidak. Sebaliknya, lokasi Uluru cenderung jarang mengalami hujan.\n",
    "\n",
    "e. Mengidentifikasi rata-rata (mean) curah hujan dengan melakukan grouping berdasarkan lokasi."
   ]
  },
  {
   "cell_type": "code",
   "execution_count": 34,
   "metadata": {},
   "outputs": [
    {
     "data": {
      "text/html": [
       "<div>\n",
       "<style scoped>\n",
       "    .dataframe tbody tr th:only-of-type {\n",
       "        vertical-align: middle;\n",
       "    }\n",
       "\n",
       "    .dataframe tbody tr th {\n",
       "        vertical-align: top;\n",
       "    }\n",
       "\n",
       "    .dataframe thead th {\n",
       "        text-align: right;\n",
       "    }\n",
       "</style>\n",
       "<table border=\"1\" class=\"dataframe\">\n",
       "  <thead>\n",
       "    <tr style=\"text-align: right;\">\n",
       "      <th>Lokasi</th>\n",
       "      <th>Cairns</th>\n",
       "      <th>Darwin</th>\n",
       "      <th>CoffsHarbour</th>\n",
       "      <th>GoldCoast</th>\n",
       "      <th>Wollongong</th>\n",
       "      <th>Townsville</th>\n",
       "      <th>NorahHead</th>\n",
       "      <th>Sydney</th>\n",
       "      <th>Williamtown</th>\n",
       "      <th>MountGinini</th>\n",
       "      <th>Brisbane</th>\n",
       "      <th>Newcastle</th>\n",
       "      <th>NorfolkIsland</th>\n",
       "      <th>Katherine</th>\n",
       "      <th>SydneyAirport</th>\n",
       "      <th>Witchcliffe</th>\n",
       "      <th>Walpole</th>\n",
       "      <th>Portland</th>\n",
       "      <th>Albany</th>\n",
       "      <th>BadgerysCreek</th>\n",
       "      <th>Dartmoor</th>\n",
       "      <th>Tuggeranong</th>\n",
       "      <th>Richmond</th>\n",
       "      <th>Penrith</th>\n",
       "      <th>MountGambier</th>\n",
       "      <th>Launceston</th>\n",
       "      <th>Albury</th>\n",
       "      <th>Perth</th>\n",
       "      <th>Watsonia</th>\n",
       "      <th>PerthAirport</th>\n",
       "      <th>Melbourne</th>\n",
       "      <th>Canberra</th>\n",
       "      <th>WaggaWagga</th>\n",
       "      <th>Ballarat</th>\n",
       "      <th>Bendigo</th>\n",
       "      <th>Hobart</th>\n",
       "      <th>Moree</th>\n",
       "      <th>PearceRAAF</th>\n",
       "      <th>Adelaide</th>\n",
       "      <th>Sale</th>\n",
       "      <th>MelbourneAirport</th>\n",
       "      <th>Nuriootpa</th>\n",
       "      <th>Cobar</th>\n",
       "      <th>SalmonGums</th>\n",
       "      <th>Mildura</th>\n",
       "      <th>Nhil</th>\n",
       "      <th>AliceSprings</th>\n",
       "      <th>Uluru</th>\n",
       "      <th>Woomera</th>\n",
       "    </tr>\n",
       "  </thead>\n",
       "  <tbody>\n",
       "    <tr>\n",
       "      <th>CurahHujan</th>\n",
       "      <td>5.719009</td>\n",
       "      <td>5.094048</td>\n",
       "      <td>5.03234</td>\n",
       "      <td>3.658859</td>\n",
       "      <td>3.540999</td>\n",
       "      <td>3.481701</td>\n",
       "      <td>3.335131</td>\n",
       "      <td>3.324243</td>\n",
       "      <td>3.267568</td>\n",
       "      <td>3.143653</td>\n",
       "      <td>3.131541</td>\n",
       "      <td>3.125279</td>\n",
       "      <td>3.116397</td>\n",
       "      <td>3.107441</td>\n",
       "      <td>2.991348</td>\n",
       "      <td>2.872154</td>\n",
       "      <td>2.827315</td>\n",
       "      <td>2.520895</td>\n",
       "      <td>2.240119</td>\n",
       "      <td>2.169467</td>\n",
       "      <td>2.145634</td>\n",
       "      <td>2.130954</td>\n",
       "      <td>2.119756</td>\n",
       "      <td>2.096964</td>\n",
       "      <td>2.081848</td>\n",
       "      <td>2.006902</td>\n",
       "      <td>1.912919</td>\n",
       "      <td>1.906295</td>\n",
       "      <td>1.842147</td>\n",
       "      <td>1.761648</td>\n",
       "      <td>1.734374</td>\n",
       "      <td>1.726916</td>\n",
       "      <td>1.695766</td>\n",
       "      <td>1.682695</td>\n",
       "      <td>1.619314</td>\n",
       "      <td>1.601757</td>\n",
       "      <td>1.567905</td>\n",
       "      <td>1.565713</td>\n",
       "      <td>1.53657</td>\n",
       "      <td>1.508633</td>\n",
       "      <td>1.451977</td>\n",
       "      <td>1.378614</td>\n",
       "      <td>1.126238</td>\n",
       "      <td>1.027411</td>\n",
       "      <td>0.944396</td>\n",
       "      <td>0.930529</td>\n",
       "      <td>0.867634</td>\n",
       "      <td>0.698488</td>\n",
       "      <td>0.488963</td>\n",
       "    </tr>\n",
       "  </tbody>\n",
       "</table>\n",
       "</div>"
      ],
      "text/plain": [
       "Lokasi        Cairns    Darwin  CoffsHarbour  GoldCoast  Wollongong  \\\n",
       "CurahHujan  5.719009  5.094048       5.03234   3.658859    3.540999   \n",
       "\n",
       "Lokasi      Townsville  NorahHead    Sydney  Williamtown  MountGinini  \\\n",
       "CurahHujan    3.481701   3.335131  3.324243     3.267568     3.143653   \n",
       "\n",
       "Lokasi      Brisbane  Newcastle  NorfolkIsland  Katherine  SydneyAirport  \\\n",
       "CurahHujan  3.131541   3.125279       3.116397   3.107441       2.991348   \n",
       "\n",
       "Lokasi      Witchcliffe   Walpole  Portland    Albany  BadgerysCreek  \\\n",
       "CurahHujan     2.872154  2.827315  2.520895  2.240119       2.169467   \n",
       "\n",
       "Lokasi      Dartmoor  Tuggeranong  Richmond   Penrith  MountGambier  \\\n",
       "CurahHujan  2.145634     2.130954  2.119756  2.096964      2.081848   \n",
       "\n",
       "Lokasi      Launceston    Albury     Perth  Watsonia  PerthAirport  Melbourne  \\\n",
       "CurahHujan    2.006902  1.912919  1.906295  1.842147      1.761648   1.734374   \n",
       "\n",
       "Lokasi      Canberra  WaggaWagga  Ballarat   Bendigo    Hobart     Moree  \\\n",
       "CurahHujan  1.726916    1.695766  1.682695  1.619314  1.601757  1.567905   \n",
       "\n",
       "Lokasi      PearceRAAF  Adelaide      Sale  MelbourneAirport  Nuriootpa  \\\n",
       "CurahHujan    1.565713   1.53657  1.508633          1.451977   1.378614   \n",
       "\n",
       "Lokasi         Cobar  SalmonGums   Mildura      Nhil  AliceSprings     Uluru  \\\n",
       "CurahHujan  1.126238    1.027411  0.944396  0.930529      0.867634  0.698488   \n",
       "\n",
       "Lokasi       Woomera  \n",
       "CurahHujan  0.488963  "
      ]
     },
     "execution_count": 34,
     "metadata": {},
     "output_type": "execute_result"
    }
   ],
   "source": [
    "df_mean = df[['Lokasi','CurahHujan']].groupby('Lokasi').mean().sort_values(by='CurahHujan', ascending=False)\n",
    "df_mean.T"
   ]
  },
  {
   "cell_type": "markdown",
   "metadata": {},
   "source": [
    "Dapat diamati bahwa daerah Cairns memiliki rata-rata curah hujan tertinggi dengan nilai sebesar 5.76 mm. Di sisi lain, Woomera mencatat nilai terendah dengan curah hujan rata-rata sebesar 0.48 mm.\n",
    "\n",
    "f. Untuk melihat data histori top 5 record berdasarkan kriteria berikut:\n",
    "- Lokasi berada di daerah Richmond.\n",
    "- Hari di mana hujan turun.\n",
    "- Kecepatan angin 30 km/jam atau lebih."
   ]
  },
  {
   "cell_type": "code",
   "execution_count": 35,
   "metadata": {},
   "outputs": [
    {
     "data": {
      "text/html": [
       "<div>\n",
       "<style scoped>\n",
       "    .dataframe tbody tr th:only-of-type {\n",
       "        vertical-align: middle;\n",
       "    }\n",
       "\n",
       "    .dataframe tbody tr th {\n",
       "        vertical-align: top;\n",
       "    }\n",
       "\n",
       "    .dataframe thead th {\n",
       "        text-align: right;\n",
       "    }\n",
       "</style>\n",
       "<table border=\"1\" class=\"dataframe\">\n",
       "  <thead>\n",
       "    <tr style=\"text-align: right;\">\n",
       "      <th></th>\n",
       "      <th>Lokasi</th>\n",
       "      <th>TempMin</th>\n",
       "      <th>TempMax</th>\n",
       "      <th>CurahHujan</th>\n",
       "      <th>Evaporasi</th>\n",
       "      <th>SinarMatahari</th>\n",
       "      <th>KecepatanAngin</th>\n",
       "      <th>Kelembapan9am</th>\n",
       "      <th>Kelembapan3pm</th>\n",
       "      <th>Awan9am</th>\n",
       "      <th>Awan3pm</th>\n",
       "      <th>HujanHariIni</th>\n",
       "      <th>HujanBesok</th>\n",
       "      <th>SelisihTemp</th>\n",
       "    </tr>\n",
       "  </thead>\n",
       "  <tbody>\n",
       "    <tr>\n",
       "      <th>27175</th>\n",
       "      <td>Richmond</td>\n",
       "      <td>14.2</td>\n",
       "      <td>21.2</td>\n",
       "      <td>1.4</td>\n",
       "      <td>24.0</td>\n",
       "      <td>8.5</td>\n",
       "      <td>37.0</td>\n",
       "      <td>70.0</td>\n",
       "      <td>52.0</td>\n",
       "      <td>5.0</td>\n",
       "      <td>5.0</td>\n",
       "      <td>Yes</td>\n",
       "      <td>No</td>\n",
       "      <td>7.0</td>\n",
       "    </tr>\n",
       "    <tr>\n",
       "      <th>27178</th>\n",
       "      <td>Richmond</td>\n",
       "      <td>15.4</td>\n",
       "      <td>28.3</td>\n",
       "      <td>3.4</td>\n",
       "      <td>13.4</td>\n",
       "      <td>8.5</td>\n",
       "      <td>50.0</td>\n",
       "      <td>70.0</td>\n",
       "      <td>52.0</td>\n",
       "      <td>5.0</td>\n",
       "      <td>5.0</td>\n",
       "      <td>Yes</td>\n",
       "      <td>No</td>\n",
       "      <td>12.9</td>\n",
       "    </tr>\n",
       "    <tr>\n",
       "      <th>27188</th>\n",
       "      <td>Richmond</td>\n",
       "      <td>21.2</td>\n",
       "      <td>32.6</td>\n",
       "      <td>1.6</td>\n",
       "      <td>7.6</td>\n",
       "      <td>8.5</td>\n",
       "      <td>48.0</td>\n",
       "      <td>65.0</td>\n",
       "      <td>48.0</td>\n",
       "      <td>5.0</td>\n",
       "      <td>5.0</td>\n",
       "      <td>Yes</td>\n",
       "      <td>No</td>\n",
       "      <td>11.4</td>\n",
       "    </tr>\n",
       "    <tr>\n",
       "      <th>27208</th>\n",
       "      <td>Richmond</td>\n",
       "      <td>16.2</td>\n",
       "      <td>21.8</td>\n",
       "      <td>4.6</td>\n",
       "      <td>4.0</td>\n",
       "      <td>8.5</td>\n",
       "      <td>35.0</td>\n",
       "      <td>84.0</td>\n",
       "      <td>64.0</td>\n",
       "      <td>5.0</td>\n",
       "      <td>5.0</td>\n",
       "      <td>Yes</td>\n",
       "      <td>No</td>\n",
       "      <td>5.6</td>\n",
       "    </tr>\n",
       "    <tr>\n",
       "      <th>27210</th>\n",
       "      <td>Richmond</td>\n",
       "      <td>15.0</td>\n",
       "      <td>18.9</td>\n",
       "      <td>7.6</td>\n",
       "      <td>1.6</td>\n",
       "      <td>8.5</td>\n",
       "      <td>50.0</td>\n",
       "      <td>97.0</td>\n",
       "      <td>91.0</td>\n",
       "      <td>5.0</td>\n",
       "      <td>5.0</td>\n",
       "      <td>Yes</td>\n",
       "      <td>Yes</td>\n",
       "      <td>3.9</td>\n",
       "    </tr>\n",
       "  </tbody>\n",
       "</table>\n",
       "</div>"
      ],
      "text/plain": [
       "         Lokasi  TempMin  TempMax  CurahHujan  Evaporasi  SinarMatahari  \\\n",
       "27175  Richmond     14.2     21.2         1.4       24.0            8.5   \n",
       "27178  Richmond     15.4     28.3         3.4       13.4            8.5   \n",
       "27188  Richmond     21.2     32.6         1.6        7.6            8.5   \n",
       "27208  Richmond     16.2     21.8         4.6        4.0            8.5   \n",
       "27210  Richmond     15.0     18.9         7.6        1.6            8.5   \n",
       "\n",
       "       KecepatanAngin  Kelembapan9am  Kelembapan3pm  Awan9am  Awan3pm  \\\n",
       "27175            37.0           70.0           52.0      5.0      5.0   \n",
       "27178            50.0           70.0           52.0      5.0      5.0   \n",
       "27188            48.0           65.0           48.0      5.0      5.0   \n",
       "27208            35.0           84.0           64.0      5.0      5.0   \n",
       "27210            50.0           97.0           91.0      5.0      5.0   \n",
       "\n",
       "      HujanHariIni HujanBesok  SelisihTemp  \n",
       "27175          Yes         No          7.0  \n",
       "27178          Yes         No         12.9  \n",
       "27188          Yes         No         11.4  \n",
       "27208          Yes         No          5.6  \n",
       "27210          Yes        Yes          3.9  "
      ]
     },
     "execution_count": 35,
     "metadata": {},
     "output_type": "execute_result"
    }
   ],
   "source": [
    "df[\n",
    "    (df['Lokasi'] == 'Richmond') &\n",
    "    (df['HujanHariIni'] == 'Yes') &\n",
    "    (df['KecepatanAngin'] >= 30) \n",
    "].head()"
   ]
  },
  {
   "cell_type": "markdown",
   "metadata": {},
   "source": [
    "g. Melihat statistik deskriptif pada data numerik"
   ]
  },
  {
   "cell_type": "code",
   "execution_count": 36,
   "metadata": {},
   "outputs": [
    {
     "data": {
      "text/html": [
       "<div>\n",
       "<style scoped>\n",
       "    .dataframe tbody tr th:only-of-type {\n",
       "        vertical-align: middle;\n",
       "    }\n",
       "\n",
       "    .dataframe tbody tr th {\n",
       "        vertical-align: top;\n",
       "    }\n",
       "\n",
       "    .dataframe thead th {\n",
       "        text-align: right;\n",
       "    }\n",
       "</style>\n",
       "<table border=\"1\" class=\"dataframe\">\n",
       "  <thead>\n",
       "    <tr style=\"text-align: right;\">\n",
       "      <th></th>\n",
       "      <th>TempMin</th>\n",
       "      <th>TempMax</th>\n",
       "      <th>CurahHujan</th>\n",
       "      <th>Evaporasi</th>\n",
       "      <th>SinarMatahari</th>\n",
       "      <th>KecepatanAngin</th>\n",
       "      <th>Kelembapan9am</th>\n",
       "      <th>Kelembapan3pm</th>\n",
       "      <th>Awan9am</th>\n",
       "      <th>Awan3pm</th>\n",
       "      <th>SelisihTemp</th>\n",
       "    </tr>\n",
       "  </thead>\n",
       "  <tbody>\n",
       "    <tr>\n",
       "      <th>count</th>\n",
       "      <td>142193.000000</td>\n",
       "      <td>142193.000000</td>\n",
       "      <td>142193.000000</td>\n",
       "      <td>142193.000000</td>\n",
       "      <td>142193.000000</td>\n",
       "      <td>142193.000000</td>\n",
       "      <td>142193.000000</td>\n",
       "      <td>142193.000000</td>\n",
       "      <td>142193.000000</td>\n",
       "      <td>142193.000000</td>\n",
       "      <td>142193.000000</td>\n",
       "    </tr>\n",
       "    <tr>\n",
       "      <th>mean</th>\n",
       "      <td>12.185565</td>\n",
       "      <td>23.225365</td>\n",
       "      <td>2.326738</td>\n",
       "      <td>5.183213</td>\n",
       "      <td>8.042236</td>\n",
       "      <td>39.920123</td>\n",
       "      <td>68.858235</td>\n",
       "      <td>51.495742</td>\n",
       "      <td>4.649568</td>\n",
       "      <td>4.702658</td>\n",
       "      <td>11.039800</td>\n",
       "    </tr>\n",
       "    <tr>\n",
       "      <th>std</th>\n",
       "      <td>6.388936</td>\n",
       "      <td>7.109617</td>\n",
       "      <td>8.426426</td>\n",
       "      <td>3.185401</td>\n",
       "      <td>2.769638</td>\n",
       "      <td>13.140632</td>\n",
       "      <td>18.932512</td>\n",
       "      <td>20.532227</td>\n",
       "      <td>2.294357</td>\n",
       "      <td>2.118753</td>\n",
       "      <td>4.969307</td>\n",
       "    </tr>\n",
       "    <tr>\n",
       "      <th>min</th>\n",
       "      <td>-8.500000</td>\n",
       "      <td>-4.800000</td>\n",
       "      <td>0.000000</td>\n",
       "      <td>0.000000</td>\n",
       "      <td>0.000000</td>\n",
       "      <td>6.000000</td>\n",
       "      <td>0.000000</td>\n",
       "      <td>0.000000</td>\n",
       "      <td>0.000000</td>\n",
       "      <td>0.000000</td>\n",
       "      <td>-14.700000</td>\n",
       "    </tr>\n",
       "    <tr>\n",
       "      <th>25%</th>\n",
       "      <td>7.600000</td>\n",
       "      <td>17.900000</td>\n",
       "      <td>0.000000</td>\n",
       "      <td>4.000000</td>\n",
       "      <td>8.200000</td>\n",
       "      <td>31.000000</td>\n",
       "      <td>57.000000</td>\n",
       "      <td>37.000000</td>\n",
       "      <td>3.000000</td>\n",
       "      <td>4.000000</td>\n",
       "      <td>7.200000</td>\n",
       "    </tr>\n",
       "    <tr>\n",
       "      <th>50%</th>\n",
       "      <td>12.000000</td>\n",
       "      <td>22.600000</td>\n",
       "      <td>0.000000</td>\n",
       "      <td>4.800000</td>\n",
       "      <td>8.500000</td>\n",
       "      <td>39.000000</td>\n",
       "      <td>70.000000</td>\n",
       "      <td>52.000000</td>\n",
       "      <td>5.000000</td>\n",
       "      <td>5.000000</td>\n",
       "      <td>10.500000</td>\n",
       "    </tr>\n",
       "    <tr>\n",
       "      <th>75%</th>\n",
       "      <td>16.800000</td>\n",
       "      <td>28.200000</td>\n",
       "      <td>0.600000</td>\n",
       "      <td>5.400000</td>\n",
       "      <td>8.700000</td>\n",
       "      <td>46.000000</td>\n",
       "      <td>83.000000</td>\n",
       "      <td>65.000000</td>\n",
       "      <td>6.000000</td>\n",
       "      <td>6.000000</td>\n",
       "      <td>14.500000</td>\n",
       "    </tr>\n",
       "    <tr>\n",
       "      <th>max</th>\n",
       "      <td>33.900000</td>\n",
       "      <td>48.100000</td>\n",
       "      <td>371.000000</td>\n",
       "      <td>145.000000</td>\n",
       "      <td>14.500000</td>\n",
       "      <td>135.000000</td>\n",
       "      <td>100.000000</td>\n",
       "      <td>100.000000</td>\n",
       "      <td>9.000000</td>\n",
       "      <td>9.000000</td>\n",
       "      <td>31.400000</td>\n",
       "    </tr>\n",
       "  </tbody>\n",
       "</table>\n",
       "</div>"
      ],
      "text/plain": [
       "             TempMin        TempMax     CurahHujan      Evaporasi  \\\n",
       "count  142193.000000  142193.000000  142193.000000  142193.000000   \n",
       "mean       12.185565      23.225365       2.326738       5.183213   \n",
       "std         6.388936       7.109617       8.426426       3.185401   \n",
       "min        -8.500000      -4.800000       0.000000       0.000000   \n",
       "25%         7.600000      17.900000       0.000000       4.000000   \n",
       "50%        12.000000      22.600000       0.000000       4.800000   \n",
       "75%        16.800000      28.200000       0.600000       5.400000   \n",
       "max        33.900000      48.100000     371.000000     145.000000   \n",
       "\n",
       "       SinarMatahari  KecepatanAngin  Kelembapan9am  Kelembapan3pm  \\\n",
       "count  142193.000000   142193.000000  142193.000000  142193.000000   \n",
       "mean        8.042236       39.920123      68.858235      51.495742   \n",
       "std         2.769638       13.140632      18.932512      20.532227   \n",
       "min         0.000000        6.000000       0.000000       0.000000   \n",
       "25%         8.200000       31.000000      57.000000      37.000000   \n",
       "50%         8.500000       39.000000      70.000000      52.000000   \n",
       "75%         8.700000       46.000000      83.000000      65.000000   \n",
       "max        14.500000      135.000000     100.000000     100.000000   \n",
       "\n",
       "             Awan9am        Awan3pm    SelisihTemp  \n",
       "count  142193.000000  142193.000000  142193.000000  \n",
       "mean        4.649568       4.702658      11.039800  \n",
       "std         2.294357       2.118753       4.969307  \n",
       "min         0.000000       0.000000     -14.700000  \n",
       "25%         3.000000       4.000000       7.200000  \n",
       "50%         5.000000       5.000000      10.500000  \n",
       "75%         6.000000       6.000000      14.500000  \n",
       "max         9.000000       9.000000      31.400000  "
      ]
     },
     "execution_count": 36,
     "metadata": {},
     "output_type": "execute_result"
    }
   ],
   "source": [
    "df.describe()"
   ]
  },
  {
   "cell_type": "markdown",
   "metadata": {},
   "source": [
    "Dari hasil observasi, beberapa informasi kunci dapat diidentifikasi:\n",
    "\n",
    "- Rata-rata curah hujan adalah 2.33 mm.\n",
    "- Rata-rata tingkat evaporasi adalah 5.18.\n",
    "- Rata-rata durasi sinar matahari adalah 8.04 jam.\n",
    "- Suhu terendah dicapai pada kolom TempMin sebesar -8.50 derajat Celsius.\n",
    "- Suhu tertinggi tercatat pada kolom TempMax dengan nilai 48.10 derajat Celsius.\n",
    "\n",
    "Informasi ini memberikan gambaran umum tentang kondisi cuaca berdasarkan dataset yang digunakan.\n",
    "\n",
    "h. Melihat statistik deskritif pada data kategorik"
   ]
  },
  {
   "cell_type": "code",
   "execution_count": 37,
   "metadata": {},
   "outputs": [
    {
     "data": {
      "text/html": [
       "<div>\n",
       "<style scoped>\n",
       "    .dataframe tbody tr th:only-of-type {\n",
       "        vertical-align: middle;\n",
       "    }\n",
       "\n",
       "    .dataframe tbody tr th {\n",
       "        vertical-align: top;\n",
       "    }\n",
       "\n",
       "    .dataframe thead th {\n",
       "        text-align: right;\n",
       "    }\n",
       "</style>\n",
       "<table border=\"1\" class=\"dataframe\">\n",
       "  <thead>\n",
       "    <tr style=\"text-align: right;\">\n",
       "      <th></th>\n",
       "      <th>Lokasi</th>\n",
       "      <th>HujanHariIni</th>\n",
       "      <th>HujanBesok</th>\n",
       "    </tr>\n",
       "  </thead>\n",
       "  <tbody>\n",
       "    <tr>\n",
       "      <th>count</th>\n",
       "      <td>142193</td>\n",
       "      <td>142193</td>\n",
       "      <td>142193</td>\n",
       "    </tr>\n",
       "    <tr>\n",
       "      <th>unique</th>\n",
       "      <td>49</td>\n",
       "      <td>2</td>\n",
       "      <td>2</td>\n",
       "    </tr>\n",
       "    <tr>\n",
       "      <th>top</th>\n",
       "      <td>Canberra</td>\n",
       "      <td>No</td>\n",
       "      <td>No</td>\n",
       "    </tr>\n",
       "    <tr>\n",
       "      <th>freq</th>\n",
       "      <td>3418</td>\n",
       "      <td>110738</td>\n",
       "      <td>110316</td>\n",
       "    </tr>\n",
       "  </tbody>\n",
       "</table>\n",
       "</div>"
      ],
      "text/plain": [
       "          Lokasi HujanHariIni HujanBesok\n",
       "count     142193       142193     142193\n",
       "unique        49            2          2\n",
       "top     Canberra           No         No\n",
       "freq        3418       110738     110316"
      ]
     },
     "execution_count": 37,
     "metadata": {},
     "output_type": "execute_result"
    }
   ],
   "source": [
    "df.describe(include=\"O\")"
   ]
  },
  {
   "cell_type": "markdown",
   "metadata": {},
   "source": [
    "dari hasil kita dapat melhat beberapa informasi seperti:\n",
    "- Terdapat 49 lokasi dengan lokasi paling banyak terletak di Canberra\n",
    "- Tidak hujan (No) lebih dominan pada atribut Hari_ini_Hujan dan Hari_besok_Hujan\n",
    "\n",
    "i. Visualisasi line plot korelasi antara kecepatan angin dan dengan tinggi curah hujan."
   ]
  },
  {
   "cell_type": "code",
   "execution_count": 38,
   "metadata": {},
   "outputs": [
    {
     "data": {
      "image/png": "[encoded data removed]",
      "text/plain": [
       "<Figure size 640x480 with 1 Axes>"
      ]
     },
     "metadata": {},
     "output_type": "display_data"
    }
   ],
   "source": [
    "sns.lineplot(x='KecepatanAngin', y='CurahHujan', data=df)\n",
    "plt.show()"
   ]
  },
  {
   "cell_type": "markdown",
   "metadata": {},
   "source": [
    "Dapat diambil kesimpulan bahwa tinggi curah hujan cenderung berkorelasi dengan laju angin, meskipun tidak secara signifikan. Terdapat anomali pada nilai laju angin, terutama pada rentang 100-120 km/jam dan 120-140 km/jam. Perlu diperhatikan bahwa anomali ini dapat menjadi fokus lebih lanjut dalam analisis untuk memahami penyebab dan dampaknya pada kondisi cuaca.\n",
    "\n",
    "j. Melihat persebaran data pada atribut HujanHariIni dan atribut target HujanBesok"
   ]
  },
  {
   "cell_type": "code",
   "execution_count": 39,
   "metadata": {},
   "outputs": [
    {
     "data": {
      "image/png": "[encoded data removed]",
      "text/plain": [
       "<Figure size 640x480 with 2 Axes>"
      ]
     },
     "metadata": {},
     "output_type": "display_data"
    }
   ],
   "source": [
    "plt.subplot(1,2,1)\n",
    "df['HujanBesok'].value_counts().plot.bar(color='skyblue')\n",
    "plt.title('Persebaran Hujan Besok')\n",
    "\n",
    "plt.subplot(1,2,2)\n",
    "df['HujanHariIni'].value_counts().plot.bar(color='purple')\n",
    "plt.title('Persebaran Hujan Hari Ini')\n",
    "plt.show()"
   ]
  },
  {
   "cell_type": "markdown",
   "metadata": {},
   "source": [
    "Terlihat kedua histogram menunjukkan proporsi yang sama. Pada atribut target HujanBesok, terdapat perbedaan yang cukup signifikan antara nilai No dan Yes\n",
    "\n",
    "k. Melihat intensitas HujanBesok di setiap lokasi"
   ]
  },
  {
   "cell_type": "code",
   "execution_count": 40,
   "metadata": {},
   "outputs": [
    {
     "data": {
      "image/png": "[encoded data removed]",
      "text/plain": [
       "<Figure size 2000x1000 with 1 Axes>"
      ]
     },
     "metadata": {},
     "output_type": "display_data"
    }
   ],
   "source": [
    "plt.figure(figsize=(20,10))\n",
    "ax = sns.countplot(x=\"Lokasi\", hue=\"HujanBesok\", data=df)"
   ]
  },
  {
   "cell_type": "markdown",
   "metadata": {},
   "source": [
    "Terlihat bahwa HujanBesok mempunyai intensitas yang berbeda-beda di setiap lokasi.\n",
    "\n",
    "l. Visualisasi pie chart 8 lokasi dengan rata-rata curah hujan tertinggi"
   ]
  },
  {
   "cell_type": "code",
   "execution_count": 41,
   "metadata": {},
   "outputs": [
    {
     "data": {
      "image/png": "[encoded data removed]",
      "text/plain": [
       "<Figure size 2200x800 with 1 Axes>"
      ]
     },
     "metadata": {},
     "output_type": "display_data"
    }
   ],
   "source": [
    "df_mean_top8 = df_mean.head(8)\n",
    "df_area = df_mean_top8.groupby(['Lokasi']).sum()['CurahHujan'].sort_values(ascending=False)\n",
    "df_area.plot(kind='pie', figsize=(22,8), autopct='%1.0f%%')\n",
    "\n",
    "plt.title(\"Pie Chart 8 Lokasi dengan Rata-Rata Curah Hujan Tertinggi\")\n",
    "plt.show()"
   ]
  },
  {
   "cell_type": "markdown",
   "metadata": {},
   "source": [
    "dari hasil yang didapatkan dengan beberapa kecepatan angin yang ada histori terjadinya hujan hari ini di beberapa waktu hanya 24% dan tidak terjadinya hujan 76%\n",
    "\n",
    "k. Visualisasi boxplot perbandingan HujanBesok berdasarkan TempMax"
   ]
  },
  {
   "cell_type": "code",
   "execution_count": 42,
   "metadata": {},
   "outputs": [
    {
     "data": {
      "text/plain": [
       "Text(0.5, 1.0, 'Hujan Besok vs Suhu Maksimum')"
      ]
     },
     "execution_count": 42,
     "metadata": {},
     "output_type": "execute_result"
    },
    {
     "data": {
      "image/png": "[encoded data removed]",
      "text/plain": [
       "<Figure size 900x500 with 1 Axes>"
      ]
     },
     "metadata": {},
     "output_type": "display_data"
    }
   ],
   "source": [
    "fig, ax = plt.subplots(figsize=(9, 5))\n",
    "\n",
    "sns.boxplot(x='HujanBesok', y='TempMax', data=df, palette=\"pastel\")\n",
    "\n",
    "plt.xlabel(\"Hujan Besok\", fontsize= 12)\n",
    "plt.ylabel(\"Suhu Maksimum\", fontsize= 12)\n",
    "plt.title(\"Hujan Besok vs Suhu Maksimum\", fontsize= 15)"
   ]
  },
  {
   "cell_type": "markdown",
   "metadata": {},
   "source": [
    "## 6. Data Preprocessing\n",
    "Bagian ini berisi proses penyiapan data untuk proses pelatihan model, seperti pembagian data menjadi train-dev-test, transformasi data (normalisasi, encoding, dll.), dan proses-proses lain yang dibutuhkan.\n",
    "\n",
    "a. Melakukan inisialisasi variabel X dan y\n",
    "\n",
    "Disini kami mendefinisikan untuk variabel X nya yaitu kolom selain `HujanBesok` dan `SelisihTemp`, sedangkan untuk variabel y yaitu `HujanBesok`"
   ]
  },
  {
   "cell_type": "code",
   "execution_count": 43,
   "metadata": {},
   "outputs": [
    {
     "name": "stdout",
     "output_type": "stream",
     "text": [
      "(142193, 12)\n",
      "(142193,)\n"
     ]
    }
   ],
   "source": [
    "X = df.drop(['HujanBesok', 'SelisihTemp'], axis=1)\n",
    "y = df['HujanBesok']\n",
    "\n",
    "print(X.shape)\n",
    "print(y.shape)"
   ]
  },
  {
   "cell_type": "markdown",
   "metadata": {},
   "source": [
    "b. Encoding atribut kategorik menggunakan replace function pada atribut HujanBesok ,HujanHariIni, dan Lokasi"
   ]
  },
  {
   "cell_type": "code",
   "execution_count": 44,
   "metadata": {},
   "outputs": [],
   "source": [
    "# Encoding pada atribut HujanBesok dan HujanHariIni\n",
    "\n",
    "df['HujanHariIni'].replace({'No':0, 'Yes': 1}, inplace = True)\n",
    "df['HujanBesok'].replace({'No':0, 'Yes': 1}, inplace = True)"
   ]
  },
  {
   "cell_type": "code",
   "execution_count": 45,
   "metadata": {},
   "outputs": [
    {
     "name": "stdout",
     "output_type": "stream",
     "text": [
      "{'Albury': 0, 'BadgerysCreek': 1, 'Cobar': 2, 'CoffsHarbour': 3, 'Moree': 4, 'Newcastle': 5, 'NorahHead': 6, 'NorfolkIsland': 7, 'Penrith': 8, 'Richmond': 9, 'Sydney': 10, 'SydneyAirport': 11, 'WaggaWagga': 12, 'Williamtown': 13, 'Wollongong': 14, 'Canberra': 15, 'Tuggeranong': 16, 'MountGinini': 17, 'Ballarat': 18, 'Bendigo': 19, 'Sale': 20, 'MelbourneAirport': 21, 'Melbourne': 22, 'Mildura': 23, 'Nhil': 24, 'Portland': 25, 'Watsonia': 26, 'Dartmoor': 27, 'Brisbane': 28, 'Cairns': 29, 'GoldCoast': 30, 'Townsville': 31, 'Adelaide': 32, 'MountGambier': 33, 'Nuriootpa': 34, 'Woomera': 35, 'Albany': 36, 'Witchcliffe': 37, 'PearceRAAF': 38, 'PerthAirport': 39, 'Perth': 40, 'SalmonGums': 41, 'Walpole': 42, 'Hobart': 43, 'Launceston': 44, 'AliceSprings': 45, 'Darwin': 46, 'Katherine': 47, 'Uluru': 48}\n"
     ]
    }
   ],
   "source": [
    "# Encoding pada atribut Lokasi\n",
    "def encode_data(feature_name):\n",
    "     \n",
    "    mapping_dict = {}\n",
    "    unique_values = list(df[feature_name].unique())\n",
    "    for idx in range(len(unique_values)):\n",
    "        mapping_dict[unique_values[idx]] = idx\n",
    "    print(mapping_dict)\n",
    "    return mapping_dict\n",
    "\n",
    "df['Lokasi'].replace(encode_data('Lokasi'), inplace = True)"
   ]
  },
  {
   "cell_type": "code",
   "execution_count": 46,
   "metadata": {},
   "outputs": [
    {
     "data": {
      "text/html": [
       "<div>\n",
       "<style scoped>\n",
       "    .dataframe tbody tr th:only-of-type {\n",
       "        vertical-align: middle;\n",
       "    }\n",
       "\n",
       "    .dataframe tbody tr th {\n",
       "        vertical-align: top;\n",
       "    }\n",
       "\n",
       "    .dataframe thead th {\n",
       "        text-align: right;\n",
       "    }\n",
       "</style>\n",
       "<table border=\"1\" class=\"dataframe\">\n",
       "  <thead>\n",
       "    <tr style=\"text-align: right;\">\n",
       "      <th></th>\n",
       "      <th>Lokasi</th>\n",
       "      <th>TempMin</th>\n",
       "      <th>TempMax</th>\n",
       "      <th>CurahHujan</th>\n",
       "      <th>Evaporasi</th>\n",
       "      <th>SinarMatahari</th>\n",
       "      <th>KecepatanAngin</th>\n",
       "      <th>Kelembapan9am</th>\n",
       "      <th>Kelembapan3pm</th>\n",
       "      <th>Awan9am</th>\n",
       "      <th>Awan3pm</th>\n",
       "      <th>HujanHariIni</th>\n",
       "      <th>HujanBesok</th>\n",
       "      <th>SelisihTemp</th>\n",
       "    </tr>\n",
       "  </thead>\n",
       "  <tbody>\n",
       "    <tr>\n",
       "      <th>0</th>\n",
       "      <td>0</td>\n",
       "      <td>13.4</td>\n",
       "      <td>22.9</td>\n",
       "      <td>0.6</td>\n",
       "      <td>4.8</td>\n",
       "      <td>8.5</td>\n",
       "      <td>44.0</td>\n",
       "      <td>71.0</td>\n",
       "      <td>22.0</td>\n",
       "      <td>8.0</td>\n",
       "      <td>5.0</td>\n",
       "      <td>0</td>\n",
       "      <td>0</td>\n",
       "      <td>9.5</td>\n",
       "    </tr>\n",
       "    <tr>\n",
       "      <th>1</th>\n",
       "      <td>0</td>\n",
       "      <td>7.4</td>\n",
       "      <td>25.1</td>\n",
       "      <td>0.0</td>\n",
       "      <td>4.8</td>\n",
       "      <td>8.5</td>\n",
       "      <td>44.0</td>\n",
       "      <td>44.0</td>\n",
       "      <td>25.0</td>\n",
       "      <td>5.0</td>\n",
       "      <td>5.0</td>\n",
       "      <td>0</td>\n",
       "      <td>0</td>\n",
       "      <td>17.7</td>\n",
       "    </tr>\n",
       "    <tr>\n",
       "      <th>2</th>\n",
       "      <td>0</td>\n",
       "      <td>12.9</td>\n",
       "      <td>25.7</td>\n",
       "      <td>0.0</td>\n",
       "      <td>4.8</td>\n",
       "      <td>8.5</td>\n",
       "      <td>46.0</td>\n",
       "      <td>38.0</td>\n",
       "      <td>30.0</td>\n",
       "      <td>5.0</td>\n",
       "      <td>2.0</td>\n",
       "      <td>0</td>\n",
       "      <td>0</td>\n",
       "      <td>12.8</td>\n",
       "    </tr>\n",
       "    <tr>\n",
       "      <th>3</th>\n",
       "      <td>0</td>\n",
       "      <td>9.2</td>\n",
       "      <td>28.0</td>\n",
       "      <td>0.0</td>\n",
       "      <td>4.8</td>\n",
       "      <td>8.5</td>\n",
       "      <td>24.0</td>\n",
       "      <td>45.0</td>\n",
       "      <td>16.0</td>\n",
       "      <td>5.0</td>\n",
       "      <td>5.0</td>\n",
       "      <td>0</td>\n",
       "      <td>0</td>\n",
       "      <td>18.8</td>\n",
       "    </tr>\n",
       "    <tr>\n",
       "      <th>4</th>\n",
       "      <td>0</td>\n",
       "      <td>17.5</td>\n",
       "      <td>32.3</td>\n",
       "      <td>1.0</td>\n",
       "      <td>4.8</td>\n",
       "      <td>8.5</td>\n",
       "      <td>41.0</td>\n",
       "      <td>82.0</td>\n",
       "      <td>33.0</td>\n",
       "      <td>7.0</td>\n",
       "      <td>8.0</td>\n",
       "      <td>0</td>\n",
       "      <td>0</td>\n",
       "      <td>14.8</td>\n",
       "    </tr>\n",
       "  </tbody>\n",
       "</table>\n",
       "</div>"
      ],
      "text/plain": [
       "   Lokasi  TempMin  TempMax  CurahHujan  Evaporasi  SinarMatahari  \\\n",
       "0       0     13.4     22.9         0.6        4.8            8.5   \n",
       "1       0      7.4     25.1         0.0        4.8            8.5   \n",
       "2       0     12.9     25.7         0.0        4.8            8.5   \n",
       "3       0      9.2     28.0         0.0        4.8            8.5   \n",
       "4       0     17.5     32.3         1.0        4.8            8.5   \n",
       "\n",
       "   KecepatanAngin  Kelembapan9am  Kelembapan3pm  Awan9am  Awan3pm  \\\n",
       "0            44.0           71.0           22.0      8.0      5.0   \n",
       "1            44.0           44.0           25.0      5.0      5.0   \n",
       "2            46.0           38.0           30.0      5.0      2.0   \n",
       "3            24.0           45.0           16.0      5.0      5.0   \n",
       "4            41.0           82.0           33.0      7.0      8.0   \n",
       "\n",
       "   HujanHariIni  HujanBesok  SelisihTemp  \n",
       "0             0           0          9.5  \n",
       "1             0           0         17.7  \n",
       "2             0           0         12.8  \n",
       "3             0           0         18.8  \n",
       "4             0           0         14.8  "
      ]
     },
     "execution_count": 46,
     "metadata": {},
     "output_type": "execute_result"
    }
   ],
   "source": [
    "# Melihat 5 baris teratas dataset yang telah dilakukan encoding\n",
    "df.head()"
   ]
  },
  {
   "cell_type": "markdown",
   "metadata": {},
   "source": [
    "c. Melakukan inisialisasi ulang variabel X dan y setelah dilakukan encoding"
   ]
  },
  {
   "cell_type": "code",
   "execution_count": 47,
   "metadata": {},
   "outputs": [
    {
     "name": "stdout",
     "output_type": "stream",
     "text": [
      "(142193, 12)\n",
      "(142193,)\n"
     ]
    }
   ],
   "source": [
    "X_transform = df.drop(['HujanBesok', 'SelisihTemp'], axis=1)\n",
    "y = df['HujanBesok']\n",
    "\n",
    "print(X.shape)\n",
    "print(y.shape)"
   ]
  },
  {
   "cell_type": "markdown",
   "metadata": {},
   "source": [
    "d. Mengecek ulang korelasi"
   ]
  },
  {
   "cell_type": "code",
   "execution_count": 48,
   "metadata": {},
   "outputs": [
    {
     "data": {
      "image/png": "[encoded data removed]",
      "text/plain": [
       "<Figure size 1600x900 with 2 Axes>"
      ]
     },
     "metadata": {},
     "output_type": "display_data"
    }
   ],
   "source": [
    "plt.figure(figsize=(16, 9))\n",
    "sns.heatmap(df.corr(), annot=True)\n",
    "plt.show()"
   ]
  },
  {
   "cell_type": "markdown",
   "metadata": {},
   "source": [
    "Dari hasil matriks korelasi, beberapa temuan menarik dapat diidentifikasi:\n",
    "\n",
    "- Atribut seperti Lokasi, TempMax, Evaporasi, SinarMatahari, dan SelisihTemp menunjukkan korelasi negatif dengan atribut target HujanBesok. Ini dapat menunjukkan bahwa lokasi tertentu, suhu maksimum harian, evaporasi, durasi sinar matahari, dan selisih suhu memiliki pengaruh negatif terhadap kemungkinan hujan besok.\n",
    "\n",
    "- Sebaliknya, atribut lainnya menunjukkan korelasi positif dengan HujanBesok, menunjukkan bahwa kelembaban pada pukul 3 sore (Kelembaban3pm), kondisi awan pada pukul 3 sore (Awan3pm), dan apakah hujan terjadi hari ini (HujanHariIni) memiliki pengaruh positif terhadap kemungkinan hujan besok.\n",
    "\n",
    "- Terdapat atribut-atribut tertentu yang memiliki korelasi cukup tinggi dengan HujanBesok, yaitu Kelembaban3pm, Awan3pm, dan HujanHariIni. Korelasi yang tinggi antara atribut-atribut ini dan HujanBesok menunjukkan adanya hubungan kuat antara faktor-faktor ini dengan prediksi hujan besok.\n",
    "\n",
    "\n",
    "e. Melakukan feature selection menggunakan library F regression dengan k=12"
   ]
  },
  {
   "cell_type": "code",
   "execution_count": 49,
   "metadata": {},
   "outputs": [
    {
     "name": "stdout",
     "output_type": "stream",
     "text": [
      "Top 12 Features yang Berpengaruh\n",
      "          Features         Score\n",
      "8    Kelembapan3pm  34087.248170\n",
      "5    SinarMatahari  16644.506837\n",
      "11    HujanHariIni  14748.527720\n",
      "10         Awan3pm  13559.144827\n",
      "7    Kelembapan9am   9913.248954\n",
      "9          Awan9am   9384.996050\n",
      "3       CurahHujan   8318.013354\n",
      "6   KecepatanAngin   7565.670750\n",
      "2          TempMax   3690.815810\n",
      "4        Evaporasi   1171.743246\n",
      "1          TempMin   1003.207027\n",
      "0           Lokasi     13.127090\n"
     ]
    }
   ],
   "source": [
    "topFeatures = SelectKBest(f_regression, k=12)\n",
    "fit = topFeatures.fit(X_transform, y)\n",
    "dfscores = pd.DataFrame(fit.scores_)\n",
    "dfcolumns = pd.DataFrame(X_transform.columns)\n",
    " \n",
    "featureScores = pd.concat([dfcolumns, dfscores],axis=1)\n",
    "featureScores.columns = ['Features', 'Score']\n",
    "\n",
    "print(\"Top 12 Features yang Berpengaruh\")\n",
    "print(featureScores.nlargest(12, 'Score'))"
   ]
  },
  {
   "cell_type": "markdown",
   "metadata": {},
   "source": [
    "dengan menggunakan library F regression juga didapatkan bahwa 12 feature yang paling berpengaruh dalam model yaitu `Kelembapan3pm`, `SinarMatahari`, `HujanHariIni`, `Awan3pm`, `Kelembapan9am`, `Awan9am`, `CurahHujan`, `KecepatanAngin`, `TempMax`, `Evaporasi`, `TempMin`, dan `Lokasi`\n",
    "\n",
    "f. Memasukkan hasil dari feature seletion ke dalam variabel X_fit untuk selanjutnya dilakukan pemodelan"
   ]
  },
  {
   "cell_type": "code",
   "execution_count": 50,
   "metadata": {},
   "outputs": [],
   "source": [
    "X_fit = df[['Kelembapan3pm', 'SinarMatahari', 'HujanHariIni', 'Awan3pm', 'Kelembapan9am', 'Awan9am', 'CurahHujan', \n",
    "            'KecepatanAngin', 'TempMax', 'Evaporasi', 'TempMin', 'Lokasi']]"
   ]
  },
  {
   "cell_type": "markdown",
   "metadata": {},
   "source": [
    "g. Melihat 5 baris teratas dataframe X_fit"
   ]
  },
  {
   "cell_type": "code",
   "execution_count": 51,
   "metadata": {},
   "outputs": [
    {
     "data": {
      "text/html": [
       "<div>\n",
       "<style scoped>\n",
       "    .dataframe tbody tr th:only-of-type {\n",
       "        vertical-align: middle;\n",
       "    }\n",
       "\n",
       "    .dataframe tbody tr th {\n",
       "        vertical-align: top;\n",
       "    }\n",
       "\n",
       "    .dataframe thead th {\n",
       "        text-align: right;\n",
       "    }\n",
       "</style>\n",
       "<table border=\"1\" class=\"dataframe\">\n",
       "  <thead>\n",
       "    <tr style=\"text-align: right;\">\n",
       "      <th></th>\n",
       "      <th>Kelembapan3pm</th>\n",
       "      <th>SinarMatahari</th>\n",
       "      <th>HujanHariIni</th>\n",
       "      <th>Awan3pm</th>\n",
       "      <th>Kelembapan9am</th>\n",
       "      <th>Awan9am</th>\n",
       "      <th>CurahHujan</th>\n",
       "      <th>KecepatanAngin</th>\n",
       "      <th>TempMax</th>\n",
       "      <th>Evaporasi</th>\n",
       "      <th>TempMin</th>\n",
       "      <th>Lokasi</th>\n",
       "    </tr>\n",
       "  </thead>\n",
       "  <tbody>\n",
       "    <tr>\n",
       "      <th>0</th>\n",
       "      <td>22.0</td>\n",
       "      <td>8.5</td>\n",
       "      <td>0</td>\n",
       "      <td>5.0</td>\n",
       "      <td>71.0</td>\n",
       "      <td>8.0</td>\n",
       "      <td>0.6</td>\n",
       "      <td>44.0</td>\n",
       "      <td>22.9</td>\n",
       "      <td>4.8</td>\n",
       "      <td>13.4</td>\n",
       "      <td>0</td>\n",
       "    </tr>\n",
       "    <tr>\n",
       "      <th>1</th>\n",
       "      <td>25.0</td>\n",
       "      <td>8.5</td>\n",
       "      <td>0</td>\n",
       "      <td>5.0</td>\n",
       "      <td>44.0</td>\n",
       "      <td>5.0</td>\n",
       "      <td>0.0</td>\n",
       "      <td>44.0</td>\n",
       "      <td>25.1</td>\n",
       "      <td>4.8</td>\n",
       "      <td>7.4</td>\n",
       "      <td>0</td>\n",
       "    </tr>\n",
       "    <tr>\n",
       "      <th>2</th>\n",
       "      <td>30.0</td>\n",
       "      <td>8.5</td>\n",
       "      <td>0</td>\n",
       "      <td>2.0</td>\n",
       "      <td>38.0</td>\n",
       "      <td>5.0</td>\n",
       "      <td>0.0</td>\n",
       "      <td>46.0</td>\n",
       "      <td>25.7</td>\n",
       "      <td>4.8</td>\n",
       "      <td>12.9</td>\n",
       "      <td>0</td>\n",
       "    </tr>\n",
       "    <tr>\n",
       "      <th>3</th>\n",
       "      <td>16.0</td>\n",
       "      <td>8.5</td>\n",
       "      <td>0</td>\n",
       "      <td>5.0</td>\n",
       "      <td>45.0</td>\n",
       "      <td>5.0</td>\n",
       "      <td>0.0</td>\n",
       "      <td>24.0</td>\n",
       "      <td>28.0</td>\n",
       "      <td>4.8</td>\n",
       "      <td>9.2</td>\n",
       "      <td>0</td>\n",
       "    </tr>\n",
       "    <tr>\n",
       "      <th>4</th>\n",
       "      <td>33.0</td>\n",
       "      <td>8.5</td>\n",
       "      <td>0</td>\n",
       "      <td>8.0</td>\n",
       "      <td>82.0</td>\n",
       "      <td>7.0</td>\n",
       "      <td>1.0</td>\n",
       "      <td>41.0</td>\n",
       "      <td>32.3</td>\n",
       "      <td>4.8</td>\n",
       "      <td>17.5</td>\n",
       "      <td>0</td>\n",
       "    </tr>\n",
       "  </tbody>\n",
       "</table>\n",
       "</div>"
      ],
      "text/plain": [
       "   Kelembapan3pm  SinarMatahari  HujanHariIni  Awan3pm  Kelembapan9am  \\\n",
       "0           22.0            8.5             0      5.0           71.0   \n",
       "1           25.0            8.5             0      5.0           44.0   \n",
       "2           30.0            8.5             0      2.0           38.0   \n",
       "3           16.0            8.5             0      5.0           45.0   \n",
       "4           33.0            8.5             0      8.0           82.0   \n",
       "\n",
       "   Awan9am  CurahHujan  KecepatanAngin  TempMax  Evaporasi  TempMin  Lokasi  \n",
       "0      8.0         0.6            44.0     22.9        4.8     13.4       0  \n",
       "1      5.0         0.0            44.0     25.1        4.8      7.4       0  \n",
       "2      5.0         0.0            46.0     25.7        4.8     12.9       0  \n",
       "3      5.0         0.0            24.0     28.0        4.8      9.2       0  \n",
       "4      7.0         1.0            41.0     32.3        4.8     17.5       0  "
      ]
     },
     "execution_count": 51,
     "metadata": {},
     "output_type": "execute_result"
    }
   ],
   "source": [
    "X_fit.head()"
   ]
  },
  {
   "cell_type": "markdown",
   "metadata": {},
   "source": [
    "h. melihat informasi (kolom, baris, tipe data) dan dimensi pada dataframe X_fit"
   ]
  },
  {
   "cell_type": "code",
   "execution_count": 52,
   "metadata": {},
   "outputs": [
    {
     "name": "stdout",
     "output_type": "stream",
     "text": [
      "<class 'pandas.core.frame.DataFrame'>\n",
      "Index: 142193 entries, 0 to 145458\n",
      "Data columns (total 12 columns):\n",
      " #   Column          Non-Null Count   Dtype  \n",
      "---  ------          --------------   -----  \n",
      " 0   Kelembapan3pm   142193 non-null  float64\n",
      " 1   SinarMatahari   142193 non-null  float64\n",
      " 2   HujanHariIni    142193 non-null  int64  \n",
      " 3   Awan3pm         142193 non-null  float64\n",
      " 4   Kelembapan9am   142193 non-null  float64\n",
      " 5   Awan9am         142193 non-null  float64\n",
      " 6   CurahHujan      142193 non-null  float64\n",
      " 7   KecepatanAngin  142193 non-null  float64\n",
      " 8   TempMax         142193 non-null  float64\n",
      " 9   Evaporasi       142193 non-null  float64\n",
      " 10  TempMin         142193 non-null  float64\n",
      " 11  Lokasi          142193 non-null  int64  \n",
      "dtypes: float64(10), int64(2)\n",
      "memory usage: 14.1 MB\n"
     ]
    },
    {
     "data": {
      "text/plain": [
       "(142193, 12)"
      ]
     },
     "execution_count": 52,
     "metadata": {},
     "output_type": "execute_result"
    }
   ],
   "source": [
    "X_fit.info()\n",
    "\n",
    "X_fit.shape"
   ]
  },
  {
   "cell_type": "markdown",
   "metadata": {},
   "source": [
    "i. Membagi data menjadi Training dan Testing pada kolom atau atribut yang sudah diperoleh. Untuk proporsi Training data sebesar 70% (0.70) dan Testing data sebesar 30% (0.30)"
   ]
  },
  {
   "cell_type": "code",
   "execution_count": 53,
   "metadata": {},
   "outputs": [],
   "source": [
    "X_train, X_test, y_train, y_test = train_test_split(X_fit, y, test_size=0.30, random_state=13)"
   ]
  },
  {
   "cell_type": "code",
   "execution_count": 54,
   "metadata": {},
   "outputs": [],
   "source": [
    "from sklearn import preprocessing\n",
    "X_train = preprocessing.scale(X_train)\n",
    "X_test = preprocessing.scale(X_test)"
   ]
  },
  {
   "cell_type": "code",
   "execution_count": 55,
   "metadata": {},
   "outputs": [
    {
     "name": "stdout",
     "output_type": "stream",
     "text": [
      "(99535, 12)\n",
      "(42658, 12)\n"
     ]
    }
   ],
   "source": [
    "print(X_train.shape)\n",
    "print(X_test.shape)"
   ]
  },
  {
   "cell_type": "markdown",
   "metadata": {},
   "source": [
    "Berdasarkan pembagian proporsi training data/data latih dan testing data/data uji, didapatkan jumlah **data training dari keseluruhan data sebanyak 99535 data**, serta **data testing sebanyak 42658 data**."
   ]
  },
  {
   "cell_type": "markdown",
   "metadata": {},
   "source": [
    "##  7. Pendefinisian Model\n",
    "Pendefinisian Model Logistic Regression pada bagian ini dilakukan dengan menggunakan metode regresi logistik. Pemilihan metode ini didasarkan pada fakta bahwa regresi logistik cocok untuk masalah klasifikasi biner, seperti yang dihadapi dalam prediksi cuaca (hujan atau tidak hujan).\n",
    "\n",
    "**a. Model Logistic Regression**\n",
    "\n",
    "Alasan penggunaan metode ini mencakup kemampuannya menghitung probabilitas untuk setiap kelas, yang kemudian digunakan untuk membuat keputusan akhir dengan mengambil probabilitas tertinggi. Model Logistic Regression ini diharapkan dapat memberikan pemahaman yang baik tentang faktor-faktor yang mempengaruhi prediksi cuaca dan memberikan kinerja yang memadai dalam kasus klasifikasi biner ini."
   ]
  },
  {
   "cell_type": "code",
   "execution_count": 56,
   "metadata": {},
   "outputs": [],
   "source": [
    "logreg = LogisticRegression(solver='liblinear', random_state=0)"
   ]
  },
  {
   "cell_type": "markdown",
   "metadata": {},
   "source": [
    "- solver is a string ('liblinear' by default) that defines the maximum number of iterations by the solver during model fitting\n",
    "- random_state is an integer, an instance of numpy that defines what pseudo-random number generator to use\n",
    "\n",
    "**b. Model Support Vector Machines (SVM)**\n",
    "\n",
    "Model pengujian kedua yakni model SVM. Model ini digunakan sebagai pembanding model logistic regression. Alasan menggunakan model SVM karena SVM mampu mengolah data berdimensi tinggi tanpa mengalami penurunan performa yang signifikan."
   ]
  },
  {
   "cell_type": "code",
   "execution_count": 57,
   "metadata": {},
   "outputs": [],
   "source": [
    "svm_model = SVC(kernel='linear') #linear kernel"
   ]
  },
  {
   "cell_type": "markdown",
   "metadata": {},
   "source": [
    "linear kernel dapat digunakan sebagai dot product pada dua pengamatan yang diberikan.\n",
    "\n",
    "## 8. Pelatihan Model\n",
    "Cell pada bagian ini hanya berisi code untuk melatih model dan output yang dihasilkan.\n",
    "\n",
    "**a. Model Logistic Regression**"
   ]
  },
  {
   "cell_type": "code",
   "execution_count": 58,
   "metadata": {},
   "outputs": [
    {
     "data": {
      "text/html": [
       "<style>#sk-container-id-1 {color: black;background-color: white;}#sk-container-id-1 pre{padding: 0;}#sk-container-id-1 div.sk-toggleable {background-color: white;}#sk-container-id-1 label.sk-toggleable__label {cursor: pointer;display: block;width: 100%;margin-bottom: 0;padding: 0.3em;box-sizing: border-box;text-align: center;}#sk-container-id-1 label.sk-toggleable__label-arrow:before {content: \"▸\";float: left;margin-right: 0.25em;color: #696969;}#sk-container-id-1 label.sk-toggleable__label-arrow:hover:before {color: black;}#sk-container-id-1 div.sk-estimator:hover label.sk-toggleable__label-arrow:before {color: black;}#sk-container-id-1 div.sk-toggleable__content {max-height: 0;max-width: 0;overflow: hidden;text-align: left;background-color: #f0f8ff;}#sk-container-id-1 div.sk-toggleable__content pre {margin: 0.2em;color: black;border-radius: 0.25em;background-color: #f0f8ff;}#sk-container-id-1 input.sk-toggleable__control:checked~div.sk-toggleable__content {max-height: 200px;max-width: 100%;overflow: auto;}#sk-container-id-1 input.sk-toggleable__control:checked~label.sk-toggleable__label-arrow:before {content: \"▾\";}#sk-container-id-1 div.sk-estimator input.sk-toggleable__control:checked~label.sk-toggleable__label {background-color: #d4ebff;}#sk-container-id-1 div.sk-label input.sk-toggleable__control:checked~label.sk-toggleable__label {background-color: #d4ebff;}#sk-container-id-1 input.sk-hidden--visually {border: 0;clip: rect(1px 1px 1px 1px);clip: rect(1px, 1px, 1px, 1px);height: 1px;margin: -1px;overflow: hidden;padding: 0;position: absolute;width: 1px;}#sk-container-id-1 div.sk-estimator {font-family: monospace;background-color: #f0f8ff;border: 1px dotted black;border-radius: 0.25em;box-sizing: border-box;margin-bottom: 0.5em;}#sk-container-id-1 div.sk-estimator:hover {background-color: #d4ebff;}#sk-container-id-1 div.sk-parallel-item::after {content: \"\";width: 100%;border-bottom: 1px solid gray;flex-grow: 1;}#sk-container-id-1 div.sk-label:hover label.sk-toggleable__label {background-color: #d4ebff;}#sk-container-id-1 div.sk-serial::before {content: \"\";position: absolute;border-left: 1px solid gray;box-sizing: border-box;top: 0;bottom: 0;left: 50%;z-index: 0;}#sk-container-id-1 div.sk-serial {display: flex;flex-direction: column;align-items: center;background-color: white;padding-right: 0.2em;padding-left: 0.2em;position: relative;}#sk-container-id-1 div.sk-item {position: relative;z-index: 1;}#sk-container-id-1 div.sk-parallel {display: flex;align-items: stretch;justify-content: center;background-color: white;position: relative;}#sk-container-id-1 div.sk-item::before, #sk-container-id-1 div.sk-parallel-item::before {content: \"\";position: absolute;border-left: 1px solid gray;box-sizing: border-box;top: 0;bottom: 0;left: 50%;z-index: -1;}#sk-container-id-1 div.sk-parallel-item {display: flex;flex-direction: column;z-index: 1;position: relative;background-color: white;}#sk-container-id-1 div.sk-parallel-item:first-child::after {align-self: flex-end;width: 50%;}#sk-container-id-1 div.sk-parallel-item:last-child::after {align-self: flex-start;width: 50%;}#sk-container-id-1 div.sk-parallel-item:only-child::after {width: 0;}#sk-container-id-1 div.sk-dashed-wrapped {border: 1px dashed gray;margin: 0 0.4em 0.5em 0.4em;box-sizing: border-box;padding-bottom: 0.4em;background-color: white;}#sk-container-id-1 div.sk-label label {font-family: monospace;font-weight: bold;display: inline-block;line-height: 1.2em;}#sk-container-id-1 div.sk-label-container {text-align: center;}#sk-container-id-1 div.sk-container {/* jupyter's `normalize.less` sets `[hidden] { display: none; }` but bootstrap.min.css set `[hidden] { display: none !important; }` so we also need the `!important` here to be able to override the default hidden behavior on the sphinx rendered scikit-learn.org. See: https://github.com/scikit-learn/scikit-learn/issues/21755 */display: inline-block !important;position: relative;}#sk-container-id-1 div.sk-text-repr-fallback {display: none;}</style><div id=\"sk-container-id-1\" class=\"sk-top-container\"><div class=\"sk-text-repr-fallback\"><pre>LogisticRegression(random_state=0, solver=&#x27;liblinear&#x27;)</pre><b>In a Jupyter environment, please rerun this cell to show the HTML representation or trust the notebook. <br />On GitHub, the HTML representation is unable to render, please try loading this page with nbviewer.org.</b></div><div class=\"sk-container\" hidden><div class=\"sk-item\"><div class=\"sk-estimator sk-toggleable\"><input class=\"sk-toggleable__control sk-hidden--visually\" id=\"sk-estimator-id-1\" type=\"checkbox\" checked><label for=\"sk-estimator-id-1\" class=\"sk-toggleable__label sk-toggleable__label-arrow\">LogisticRegression</label><div class=\"sk-toggleable__content\"><pre>LogisticRegression(random_state=0, solver=&#x27;liblinear&#x27;)</pre></div></div></div></div></div>"
      ],
      "text/plain": [
       "LogisticRegression(random_state=0, solver='liblinear')"
      ]
     },
     "execution_count": 58,
     "metadata": {},
     "output_type": "execute_result"
    }
   ],
   "source": [
    "logreg = logreg.fit(X_train, y_train)\n",
    "logreg"
   ]
  },
  {
   "cell_type": "markdown",
   "metadata": {},
   "source": [
    "**b. Model Support Vector Machines (SVM)**"
   ]
  },
  {
   "cell_type": "code",
   "execution_count": 59,
   "metadata": {},
   "outputs": [
    {
     "data": {
      "text/html": [
       "<style>#sk-container-id-2 {color: black;background-color: white;}#sk-container-id-2 pre{padding: 0;}#sk-container-id-2 div.sk-toggleable {background-color: white;}#sk-container-id-2 label.sk-toggleable__label {cursor: pointer;display: block;width: 100%;margin-bottom: 0;padding: 0.3em;box-sizing: border-box;text-align: center;}#sk-container-id-2 label.sk-toggleable__label-arrow:before {content: \"▸\";float: left;margin-right: 0.25em;color: #696969;}#sk-container-id-2 label.sk-toggleable__label-arrow:hover:before {color: black;}#sk-container-id-2 div.sk-estimator:hover label.sk-toggleable__label-arrow:before {color: black;}#sk-container-id-2 div.sk-toggleable__content {max-height: 0;max-width: 0;overflow: hidden;text-align: left;background-color: #f0f8ff;}#sk-container-id-2 div.sk-toggleable__content pre {margin: 0.2em;color: black;border-radius: 0.25em;background-color: #f0f8ff;}#sk-container-id-2 input.sk-toggleable__control:checked~div.sk-toggleable__content {max-height: 200px;max-width: 100%;overflow: auto;}#sk-container-id-2 input.sk-toggleable__control:checked~label.sk-toggleable__label-arrow:before {content: \"▾\";}#sk-container-id-2 div.sk-estimator input.sk-toggleable__control:checked~label.sk-toggleable__label {background-color: #d4ebff;}#sk-container-id-2 div.sk-label input.sk-toggleable__control:checked~label.sk-toggleable__label {background-color: #d4ebff;}#sk-container-id-2 input.sk-hidden--visually {border: 0;clip: rect(1px 1px 1px 1px);clip: rect(1px, 1px, 1px, 1px);height: 1px;margin: -1px;overflow: hidden;padding: 0;position: absolute;width: 1px;}#sk-container-id-2 div.sk-estimator {font-family: monospace;background-color: #f0f8ff;border: 1px dotted black;border-radius: 0.25em;box-sizing: border-box;margin-bottom: 0.5em;}#sk-container-id-2 div.sk-estimator:hover {background-color: #d4ebff;}#sk-container-id-2 div.sk-parallel-item::after {content: \"\";width: 100%;border-bottom: 1px solid gray;flex-grow: 1;}#sk-container-id-2 div.sk-label:hover label.sk-toggleable__label {background-color: #d4ebff;}#sk-container-id-2 div.sk-serial::before {content: \"\";position: absolute;border-left: 1px solid gray;box-sizing: border-box;top: 0;bottom: 0;left: 50%;z-index: 0;}#sk-container-id-2 div.sk-serial {display: flex;flex-direction: column;align-items: center;background-color: white;padding-right: 0.2em;padding-left: 0.2em;position: relative;}#sk-container-id-2 div.sk-item {position: relative;z-index: 1;}#sk-container-id-2 div.sk-parallel {display: flex;align-items: stretch;justify-content: center;background-color: white;position: relative;}#sk-container-id-2 div.sk-item::before, #sk-container-id-2 div.sk-parallel-item::before {content: \"\";position: absolute;border-left: 1px solid gray;box-sizing: border-box;top: 0;bottom: 0;left: 50%;z-index: -1;}#sk-container-id-2 div.sk-parallel-item {display: flex;flex-direction: column;z-index: 1;position: relative;background-color: white;}#sk-container-id-2 div.sk-parallel-item:first-child::after {align-self: flex-end;width: 50%;}#sk-container-id-2 div.sk-parallel-item:last-child::after {align-self: flex-start;width: 50%;}#sk-container-id-2 div.sk-parallel-item:only-child::after {width: 0;}#sk-container-id-2 div.sk-dashed-wrapped {border: 1px dashed gray;margin: 0 0.4em 0.5em 0.4em;box-sizing: border-box;padding-bottom: 0.4em;background-color: white;}#sk-container-id-2 div.sk-label label {font-family: monospace;font-weight: bold;display: inline-block;line-height: 1.2em;}#sk-container-id-2 div.sk-label-container {text-align: center;}#sk-container-id-2 div.sk-container {/* jupyter's `normalize.less` sets `[hidden] { display: none; }` but bootstrap.min.css set `[hidden] { display: none !important; }` so we also need the `!important` here to be able to override the default hidden behavior on the sphinx rendered scikit-learn.org. See: https://github.com/scikit-learn/scikit-learn/issues/21755 */display: inline-block !important;position: relative;}#sk-container-id-2 div.sk-text-repr-fallback {display: none;}</style><div id=\"sk-container-id-2\" class=\"sk-top-container\"><div class=\"sk-text-repr-fallback\"><pre>SVC(kernel=&#x27;linear&#x27;)</pre><b>In a Jupyter environment, please rerun this cell to show the HTML representation or trust the notebook. <br />On GitHub, the HTML representation is unable to render, please try loading this page with nbviewer.org.</b></div><div class=\"sk-container\" hidden><div class=\"sk-item\"><div class=\"sk-estimator sk-toggleable\"><input class=\"sk-toggleable__control sk-hidden--visually\" id=\"sk-estimator-id-2\" type=\"checkbox\" checked><label for=\"sk-estimator-id-2\" class=\"sk-toggleable__label sk-toggleable__label-arrow\">SVC</label><div class=\"sk-toggleable__content\"><pre>SVC(kernel=&#x27;linear&#x27;)</pre></div></div></div></div></div>"
      ],
      "text/plain": [
       "SVC(kernel='linear')"
      ]
     },
     "execution_count": 59,
     "metadata": {},
     "output_type": "execute_result"
    }
   ],
   "source": [
    "modelsvm = svm_model.fit(X_train, y_train)\n",
    "modelsvm"
   ]
  },
  {
   "cell_type": "markdown",
   "metadata": {},
   "source": [
    "## 9. Evaluasi Model\n",
    "Pada bagian ini, dilakukan evaluasi model yang harus menunjukkan bagaimana performa model berdasarkan metrics yang dipilih. Hal ini harus dibuktikan dengan visualisasi tren performa dan/atau tingkat kesalahan model.\n",
    "\n",
    "**a. Model Logistic Regression**\n",
    "- memeriksa performa dengan .predict_proba() yang mengembalikan matriks probabilitas bahwa keluaran yang diprediksi sama dengan nol / satu"
   ]
  },
  {
   "cell_type": "code",
   "execution_count": 60,
   "metadata": {},
   "outputs": [
    {
     "data": {
      "text/plain": [
       "array([[0.61015097, 0.38984903],\n",
       "       [0.11994686, 0.88005314],\n",
       "       [0.09623863, 0.90376137],\n",
       "       ...,\n",
       "       [0.87164045, 0.12835955],\n",
       "       [0.97117812, 0.02882188],\n",
       "       [0.53907491, 0.46092509]])"
      ]
     },
     "execution_count": 60,
     "metadata": {},
     "output_type": "execute_result"
    }
   ],
   "source": [
    "logreg.predict_proba(X_test)"
   ]
  },
  {
   "cell_type": "markdown",
   "metadata": {},
   "source": [
    "- melihat predicted outputs dengan .predict()"
   ]
  },
  {
   "cell_type": "code",
   "execution_count": 61,
   "metadata": {},
   "outputs": [
    {
     "data": {
      "text/plain": [
       "array([0, 1, 1, ..., 0, 0, 0], dtype=int64)"
      ]
     },
     "execution_count": 61,
     "metadata": {},
     "output_type": "execute_result"
    }
   ],
   "source": [
    "y_pred_logreg = logreg.predict(X_test)\n",
    "y_pred_logreg"
   ]
  },
  {
   "cell_type": "markdown",
   "metadata": {},
   "source": [
    "- melihat nilai akurasi dengan .score"
   ]
  },
  {
   "cell_type": "code",
   "execution_count": 62,
   "metadata": {},
   "outputs": [
    {
     "name": "stdout",
     "output_type": "stream",
     "text": [
      "Test score: 0.8408504852548174\n",
      "Train score: 0.835585472446878\n"
     ]
    }
   ],
   "source": [
    "print(\"Test score:\", logreg.score(X_test, y_test))\n",
    "print(\"Train score:\", logreg.score(X_train, y_train))"
   ]
  },
  {
   "cell_type": "markdown",
   "metadata": {},
   "source": [
    "didapatkan hasil nilai akurasi untus test data / pengujian data yaitu 84% (0.840), sedangkan jika dibandingkan dengan train data /pelatihan data nilai akurasinnnya 83% (0.835)\n",
    "\n",
    "- Melihat confussion matrix dan classification report dari model"
   ]
  },
  {
   "cell_type": "code",
   "execution_count": 63,
   "metadata": {},
   "outputs": [
    {
     "data": {
      "text/plain": [
       "array([[31388,  1748],\n",
       "       [ 5041,  4481]], dtype=int64)"
      ]
     },
     "execution_count": 63,
     "metadata": {},
     "output_type": "execute_result"
    }
   ],
   "source": [
    "confusion_matrix(y_test, y_pred_logreg)"
   ]
  },
  {
   "cell_type": "code",
   "execution_count": 64,
   "metadata": {},
   "outputs": [
    {
     "data": {
      "image/png": "[encoded data removed]",
      "text/plain": [
       "<Figure size 640x480 with 2 Axes>"
      ]
     },
     "metadata": {},
     "output_type": "display_data"
    },
    {
     "name": "stdout",
     "output_type": "stream",
     "text": [
      "              precision    recall  f1-score   support\n",
      "\n",
      "           0       0.86      0.95      0.90     33136\n",
      "           1       0.72      0.47      0.57      9522\n",
      "\n",
      "    accuracy                           0.84     42658\n",
      "   macro avg       0.79      0.71      0.74     42658\n",
      "weighted avg       0.83      0.84      0.83     42658\n",
      "\n"
     ]
    }
   ],
   "source": [
    "cm_logreg = confusion_matrix(y_test, y_pred_logreg)\n",
    "sns.heatmap(cm_logreg, annot=True, fmt=\"d\", linewidths=.5, cmap = 'Greys')\n",
    "plt.show()\n",
    "print(classification_report(y_test, y_pred_logreg))"
   ]
  },
  {
   "cell_type": "markdown",
   "metadata": {},
   "source": [
    "berdasarkan hasil confusion matrix diketahui banyaknya nilai TP (True Positive) adalah 31388, FP (False Positive) adalah 1748, FN (False Negative) adalah 5041, dan TN (True Negative) adalah 4481\n",
    "\n",
    "- Melihat summary dari evaluasi model Logistic Regression"
   ]
  },
  {
   "cell_type": "code",
   "execution_count": 65,
   "metadata": {},
   "outputs": [
    {
     "name": "stdout",
     "output_type": "stream",
     "text": [
      "Ringkasan Evaluasi Model\n",
      "Akurasi : 0.8408504852548174\n",
      "Presisi : 0.7193771070797881\n",
      "Recall : 0.47059441293845833\n",
      "F1 Score : 0.5689797473176307\n"
     ]
    }
   ],
   "source": [
    "print('Ringkasan Evaluasi Model')\n",
    "print('Akurasi :', accuracy_score(y_test, y_pred_logreg))\n",
    "print('Presisi :', precision_score(y_test,y_pred_logreg))\n",
    "print('Recall :', recall_score(y_test,y_pred_logreg))\n",
    "print('F1 Score :', f1_score(y_test,y_pred_logreg))"
   ]
  },
  {
   "cell_type": "markdown",
   "metadata": {},
   "source": [
    "**b. Model Support Vector Machines (SVM)**\n",
    "- melihat predicted outputs dengan .predict()"
   ]
  },
  {
   "cell_type": "code",
   "execution_count": 66,
   "metadata": {},
   "outputs": [
    {
     "data": {
      "text/plain": [
       "array([0, 1, 1, ..., 0, 0, 0], dtype=int64)"
      ]
     },
     "execution_count": 66,
     "metadata": {},
     "output_type": "execute_result"
    }
   ],
   "source": [
    "y_pred_svm = modelsvm.predict(X_test)\n",
    "y_pred_svm"
   ]
  },
  {
   "cell_type": "markdown",
   "metadata": {},
   "source": [
    "- melihat nilai akurasi dengan .score"
   ]
  },
  {
   "cell_type": "code",
   "execution_count": 67,
   "metadata": {},
   "outputs": [
    {
     "name": "stdout",
     "output_type": "stream",
     "text": [
      "Test score: 0.8404519668057574\n",
      "Train score: 0.8349223891093586\n"
     ]
    }
   ],
   "source": [
    "print(\"Test score:\", modelsvm.score(X_test, y_test))\n",
    "print(\"Train score:\", modelsvm.score(X_train, y_train))"
   ]
  },
  {
   "cell_type": "markdown",
   "metadata": {},
   "source": [
    "didapatkan hasil nilai akurasi untuk test data / pengujian data yaitu 84% (0.840), sedangkan jika dibandingkan dengan train data / pelatihan data nilai akurasinnnya 83% (0.834)\n",
    "\n",
    "- Melihat confussion matrix dan classification report dari model"
   ]
  },
  {
   "cell_type": "code",
   "execution_count": 68,
   "metadata": {},
   "outputs": [
    {
     "data": {
      "text/plain": [
       "array([[31738,  1398],\n",
       "       [ 5408,  4114]], dtype=int64)"
      ]
     },
     "execution_count": 68,
     "metadata": {},
     "output_type": "execute_result"
    }
   ],
   "source": [
    "confusion_matrix(y_test, y_pred_svm)"
   ]
  },
  {
   "cell_type": "code",
   "execution_count": 69,
   "metadata": {},
   "outputs": [
    {
     "data": {
      "image/png": "[encoded data removed]",
      "text/plain": [
       "<Figure size 640x480 with 2 Axes>"
      ]
     },
     "metadata": {},
     "output_type": "display_data"
    },
    {
     "name": "stdout",
     "output_type": "stream",
     "text": [
      "              precision    recall  f1-score   support\n",
      "\n",
      "           0       0.85      0.96      0.90     33136\n",
      "           1       0.75      0.43      0.55      9522\n",
      "\n",
      "    accuracy                           0.84     42658\n",
      "   macro avg       0.80      0.69      0.73     42658\n",
      "weighted avg       0.83      0.84      0.82     42658\n",
      "\n"
     ]
    }
   ],
   "source": [
    "cm_svm = confusion_matrix(y_test, y_pred_svm)\n",
    "sns.heatmap(cm_svm, annot=True, fmt=\"d\", linewidths=.5, cmap = 'twilight')\n",
    "plt.show()\n",
    "print(classification_report(y_test, y_pred_svm))"
   ]
  },
  {
   "cell_type": "markdown",
   "metadata": {},
   "source": [
    "berdasarkan hasil confusion matrix diketahui banyaknya nilai TP (True Positive) adalah 31737, FP (False Positive) adalah 1399, FN (False Negative) adalah 5408, dan TN (True Negative) adalah 4114\n",
    "\n",
    "- Melihat summary dari evaluasi model SVM"
   ]
  },
  {
   "cell_type": "code",
   "execution_count": 70,
   "metadata": {},
   "outputs": [
    {
     "name": "stdout",
     "output_type": "stream",
     "text": [
      "Ringkasan Evaluasi Model\n",
      "Akurasi : 0.8404519668057574\n",
      "Presisi : 0.7463715529753265\n",
      "Recall : 0.43205208989708044\n",
      "F1 Score : 0.5472928029799122\n"
     ]
    }
   ],
   "source": [
    "print('Ringkasan Evaluasi Model')\n",
    "print('Akurasi :', accuracy_score(y_test, y_pred_svm))\n",
    "print('Presisi :', precision_score(y_test,y_pred_svm))\n",
    "print('Recall :', recall_score(y_test,y_pred_svm))\n",
    "print('F1 Score :', f1_score(y_test,y_pred_svm))"
   ]
  },
  {
   "cell_type": "markdown",
   "metadata": {},
   "source": [
    "**Dari proses evaluasi 2 model kita dapat mengetahui bahwa:**\n",
    "- Nilai akurasi dari model regresi logistik dan SVM hampir sama, keduanya mencapai akurasi sebesar 84%, yang menunjukkan bahwa keduanya dapat digunakan untuk melakukan prediksi hujan di Australia dengan baik.\n",
    "- Model SVM menunjukkan kinerja lebih baik dalam hal recall dibandingkan dengan model logistic regression. Ini berarti model SVM lebih baik dalam mengidentifikasi kasus positif yang sebenarnya, yaitu ketika hujan benar-benar terjadi.\n",
    "- Sebaliknya, model logistic regression memiliki nilai presisi dan F1 score yang lebih tinggi dibandingkan dengan model SVM. Hal ini menunjukkan bahwa model logistic regression lebih baik dalam meminimalkan jumlah kesalahan positif palsu, sehingga memberikan prediksi yang lebih akurat dalam mengidentifikasi kondisi hujan."
   ]
  },
  {
   "cell_type": "markdown",
   "metadata": {},
   "source": [
    "## 10. Model Inference\n",
    "Dalam bagian ini, model inference dilakukan untuk menguji kinerja model pada data baru yang tidak termasuk dalam data train. Data yang digunakan untuk pengujian ini dapat berasal dari sumber eksternal seperti data buatan oleh pengguna atau data yang ditemukan di internet. Proses inferensi ini bertujuan untuk mengevaluasi sejauh mana model dapat memberikan prediksi yang akurat dan konsisten pada data baru yang belum pernah dilihat sebelumnya.\n",
    "\n",
    "**Petunjuk Pengisian :**\n",
    "- Silahkan masukkan lokasi yang ingin untuk dilakukan prediksi\n",
    "- Untuk Hujan Hari Ini masukkan pilihan Yes atau No\n",
    "- Untuk kolom lain silahkan masukkan sesuai dengan data yang ingin di prediksi dengan bertipe data float"
   ]
  },
  {
   "cell_type": "code",
   "execution_count": 71,
   "metadata": {},
   "outputs": [
    {
     "name": "stdout",
     "output_type": "stream",
     "text": [
      "Lokasi : Albury\n",
      "Suhu Minimal : 32\n",
      "Suhu Maksimal : 40\n",
      "Curah Hujan : 3\n",
      "Evaporasi : 56\n",
      "Sinar Matahari : 45\n",
      "Kecepatan Angin : 46\n",
      "Kelembapan Pukul 9 am : 64\n",
      "Kelembapan Pukul 3 pm : 62\n",
      "Awan Pukul 9 am : 43\n",
      "Awan Pukul 3 pm : 64\n",
      "Hari ini Hujan? (Yes/No) : Yes\n",
      "[32.0, 40.0, 3.0, 56.0, 45.0, 46.0, 64.0, 62.0, 43.0, 64.0, 1.0, 1.0]\n",
      "Berdasarkan prediksi menggunakan Logistic regression Maka Besok hujan\n",
      "Berdasarkan prediksi menggunakan SVM Maka Maka Besok hujan\n"
     ]
    }
   ],
   "source": [
    "Lokasi = input(\"Lokasi : \")\n",
    "TempMin = float(input(\"Suhu Minimal : \"))\n",
    "TempMax = float(input(\"Suhu Maksimal : \"))\n",
    "CurahHujan = float(input(\"Curah Hujan : \"))\n",
    "Evaporasi = float(input(\"Evaporasi : \"))\n",
    "SinarMatahari = float(input(\"Sinar Matahari : \"))\n",
    "KecepatanAngin = float(input(\"Kecepatan Angin : \"))\n",
    "Kelembapan9am = float(input(\"Kelembapan Pukul 9 am : \"))\n",
    "Kelembapan3pm = float(input(\"Kelembapan Pukul 3 pm : \"))\n",
    "Awan9am = float(input(\"Awan Pukul 9 am : \"))\n",
    "Awan3pm = float(input(\"Awan Pukul 3 pm : \"))\n",
    "HujanHariIni = input(\"Hari ini Hujan? (Yes/No) : \")\n",
    "\n",
    "val = [TempMin, TempMax, CurahHujan, Evaporasi, SinarMatahari, KecepatanAngin, Kelembapan9am, Kelembapan3pm, Awan9am, Awan3pm]\n",
    "\n",
    "loc = {'Albury': 0, 'BadgerysCreek': 1, 'Cobar': 2, 'CoffsHarbour': 3, 'Moree': 4, 'Newcastle': 5, 'NorahHead': 6, \n",
    "       'NorfolkIsland': 7, 'Penrith': 8, 'Richmond': 9, 'Sydney': 10, 'SydneyAirport': 11, 'WaggaWagga': 12, 'Williamtown': 13, \n",
    "       'Wollongong': 14, 'Canberra': 15, 'Tuggeranong': 16, 'MountGinini': 17, 'Ballarat': 18, 'Bendigo': 19, 'Sale': 20, \n",
    "       'MelbourneAirport': 21, 'Melbourne': 22, 'Mildura': 23, 'Nhil': 24, 'Portland': 25, 'Watsonia': 26, 'Dartmoor': 27, \n",
    "       'Brisbane': 28, 'Cairns': 29, 'GoldCoast': 30, 'Townsville': 31, 'Adelaide': 32, 'MountGambier': 33, 'Nuriootpa': 34, \n",
    "       'Woomera': 35, 'Albany': 36, 'Witchcliffe': 37, 'PearceRAAF': 38, 'PerthAirport': 39, 'Perth': 40, 'SalmonGums': 41, \n",
    "       'Walpole': 42, 'Hobart': 43, 'Launceston': 44, 'AliceSprings': 45, 'Darwin': 46, 'Katherine': 47, 'Uluru': 48}\n",
    "\n",
    "for i in range(0,48):\n",
    "    if loc[Lokasi]==i:\n",
    "        val.append(1.0)\n",
    "    else:\n",
    "        next\n",
    "\n",
    "hujan = {'No':0, 'Yes': 1}\n",
    "\n",
    "for i in range(0,2):\n",
    "    if hujan[HujanHariIni]==i:\n",
    "        val.append(1.0)\n",
    "    else:\n",
    "        next\n",
    "        \n",
    "print(val)\n",
    "\n",
    "predict_logreg = logreg.predict([val])\n",
    "predict_svm = modelsvm.predict([val])\n",
    "\n",
    "if predict_logreg == 0 : \n",
    "    print(\"Berdasarkan prediksi menggunakan Logistic regression Maka Besok tidak hujan\")\n",
    "else: \n",
    "    print(\"Berdasarkan prediksi menggunakan Logistic regression Maka Besok hujan\")\n",
    "    \n",
    "if predict_svm == 0 :\n",
    "    print(\"Berdasarkan prediksi menggunakan SVM Maka Maka Besok tidak hujan\")\n",
    "else: \n",
    "    print(\"Berdasarkan prediksi menggunakan SVM Maka Maka Besok hujan\")"
   ]
  },
  {
   "cell_type": "markdown",
   "metadata": {},
   "source": [
    "### Save and Finalize Model\n",
    "Menggunakan operasi Pickle untuk menyimpan format serialized ke sebuah file dan menggunakannya untuk membuat prediksi baru"
   ]
  },
  {
   "cell_type": "code",
   "execution_count": 72,
   "metadata": {},
   "outputs": [],
   "source": [
    "pickle.dump(logreg, open('model_logreg_FP2.pkl', 'wb'))\n",
    "pickle.dump(modelsvm, open('model_svm_FP2.pkl', 'wb'))"
   ]
  },
  {
   "cell_type": "markdown",
   "metadata": {},
   "source": [
    "## 11. Pengambilan Kesimpulan\n",
    "\n",
    "Dari analisis yang telah kami lakukan, kami dapat menyimpulkan beberapa poin kunci:\n",
    "\n",
    "1. **Faktor-Faktor Berpengaruh:** Dari 23 atribut pada dataset, kami menemukan bahwa hanya 12 atribut yang menjadi faktor kuat yang paling mempengaruhi prediksi hujan di Australia. Atribut tersebut adalah `Lokasi`, `TempMin`, `TempMax`, `CurahHujan`, `Evaporasi`, `SinarMatahari`, `KecepatanAngin`, `Kelembapan9am`, `Kelembapan3pm`, `Awan9am`, `Awan3pm`, dan `HujanHariIni`.\n",
    "\n",
    "2. **Penanganan Missing Value:** Kami mengatasi nilai yang hilang dengan mengisi missing value menggunakan median untuk atribut bertipe numerik dan modus untuk atribut bertipe kategorikal.\n",
    "\n",
    "3. **Visualisasi Data:** Kami menggunakan berbagai jenis visualisasi data, seperti lineplot, boxplot, histogram, pie chart, dan matriks korelasi (heatmap). Kami juga melakukan contoh penggunaan groupby dan query untuk menganalisis data.\n",
    "\n",
    "4. **Variabel Dependan dan Independen:** Variabel dependen atau target yang digunakan adalah `HujanBesok`, sementara variabel independen yang digunakan melibatkan atribut seperti `Lokasi`, `TempMin`, `TempMax`, `CurahHujan`, `Evaporasi`, `SinarMatahari`, `KecepatanAngin`, `Kelembapan9am`, `Kelembapan3pm`, `Awan9am`, `Awan3pm`, dan `HujanHariIni`.\n",
    "\n",
    "5. **Transformasi Data:** Kami mengubah variabel kategorikal menjadi numerik menggunakan library Label Encoder.\n",
    "\n",
    "6. **Feature Selection:** Proses feature selection dilakukan dengan menggunakan library F regression, di mana kami memilih 12 atribut yang paling berpengaruh.\n",
    "\n",
    "7. **Pembagian Data:** Data dibagi menjadi training dan testing dengan proporsi 70% untuk training data dan 30% untuk testing data.\n",
    "\n",
    "8. **Model Pengujian:** Kami menggunakan model logistic regression dan model SVM untuk prediksi. Hasil evaluasi model menunjukkan bahwa keduanya memiliki akurasi sekitar 84%, dengan perbedaan dalam nilai presisi, recall, dan F1 score.\n",
    "\n",
    "9. **Kesimpulan Model:** Meskipun nilai akurasi antara model logistic regression dan SVM tidak berbeda jauh, kami memilih model logistic regression untuk deployment karena memiliki nilai presisi dan F1 score yang lebih tinggi.\n",
    "\n",
    "Analisis ini memberikan wawasan mendalam tentang faktor-faktor yang mempengaruhi prediksi hujan di Australia, serta kinerja model dalam melakukan prediksi berdasarkan atribut-atribut tersebut."
   ]
  }
 ],
 "metadata": {
  "kernelspec": {
   "display_name": "Python 3 (ipykernel)",
   "language": "python",
   "name": "python3"
  },
  "language_info": {
   "codemirror_mode": {
    "name": "ipython",
    "version": 3
   },
   "file_extension": ".py",
   "mimetype": "text/x-python",
   "name": "python",
   "nbconvert_exporter": "python",
   "pygments_lexer": "ipython3",
   "version": "3.11.5"
  },
  "toc": {
   "base_numbering": 1,
   "nav_menu": {},
   "number_sections": true,
   "sideBar": true,
   "skip_h1_title": false,
   "title_cell": "Table of Contents",
   "title_sidebar": "Contents",
   "toc_cell": false,
   "toc_position": {},
   "toc_section_display": true,
   "toc_window_display": false
  }
 },
 "nbformat": 4,
 "nbformat_minor": 4
}
